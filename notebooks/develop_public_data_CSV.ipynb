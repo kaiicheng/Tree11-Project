{
 "cells": [
  {
   "cell_type": "code",
   "execution_count": 1,
   "metadata": {},
   "outputs": [],
   "source": [
    "import pandas as pd\n",
    "import geopandas as gpd\n",
    "import pandas as pd\n",
    "from shapely.geometry import Point\n",
    "from geojson import Point, Feature, FeatureCollection, dump\n",
    "import requests\n",
    "import json\n",
    "import math\n",
    "import numpy\n",
    "import os\n",
    "import sys\n",
    "import datetime\n",
    "import numpy as np"
   ]
  },
  {
   "cell_type": "code",
   "execution_count": 2,
   "metadata": {},
   "outputs": [
    {
     "name": "stderr",
     "output_type": "stream",
     "text": [
      "/var/folders/sw/bm9l8xdn4yxdqvn80kxmq7y00000gn/T/ipykernel_26505/8784320.py:1: DtypeWarning: Columns (36) have mixed types. Specify dtype option on import or set low_memory=False.\n",
      "  FSR = pd.read_csv('./311data_2022/FSR_2022.csv')\n",
      "/var/folders/sw/bm9l8xdn4yxdqvn80kxmq7y00000gn/T/ipykernel_26505/8784320.py:3: DtypeWarning: Columns (29,30) have mixed types. Specify dtype option on import or set low_memory=False.\n",
      "  FWO = pd.read_csv('./311data_2022/FWO_2022.csv')\n"
     ]
    },
    {
     "data": {
      "text/plain": [
       "(92360, 172975, 136677, 174537)"
      ]
     },
     "execution_count": 2,
     "metadata": {},
     "output_type": "execute_result"
    }
   ],
   "source": [
    "FSR = pd.read_csv('./311data_2022/FSR_2022.csv')\n",
    "FI = pd.read_csv('./311data_2022/FI_2022.csv')\n",
    "FWO = pd.read_csv('./311data_2022/FWO_2022.csv')\n",
    "FRA = pd.read_csv('./311data_2022/FRA_2022.csv')\n",
    "\n",
    "len(FSR), len(FI), len(FWO), len(FRA)"
   ]
  },
  {
   "cell_type": "code",
   "execution_count": 3,
   "metadata": {},
   "outputs": [
    {
     "data": {
      "text/plain": [
       "Index(['OBJECTID', 'ComplaintNumber', 'SRCategory', 'SRType', 'SRPriority',\n",
       "       'SRSource', 'SRStatus', 'SRResolution', 'BoroughCode', 'CommunityBoard',\n",
       "       'BuildingNumber', 'StreetName', 'CrossStreet1', 'CrossStreet2',\n",
       "       'TaxClass', 'LocationDetails', 'ComplaintDetails', 'ParkName',\n",
       "       'ParkZone', 'NotesToCustomer', 'Postcode', 'Council District ',\n",
       "       'StateSenate', 'StateAssembly', 'Congressional', 'SanitationZone',\n",
       "       'PhysicalID', 'ServiceRequestParentGlobalID', 'Geometry', 'GlobalID',\n",
       "       'InitiatedDate', 'ClosedDate', 'CreatedDate', 'UpdatedDate',\n",
       "       'Descriptor1', 'ComplaintType', 'CallerZipCode', 'SRCallerType',\n",
       "       'CallerCity', 'CallerState', 'Latitude', 'Longitude', 'Census Tract',\n",
       "       'BIN', 'BBL', 'NTA', 'Location', 'Zip Codes 2', 'Community Districts 2',\n",
       "       'Borough Boundaries 2', 'City Council Districts 2',\n",
       "       'Police Precincts 2'],\n",
       "      dtype='object')"
      ]
     },
     "execution_count": 3,
     "metadata": {},
     "output_type": "execute_result"
    }
   ],
   "source": [
    "# FSR.head()[\"createddate\"]\n",
    "FSR.columns"
   ]
  },
  {
   "cell_type": "code",
   "execution_count": 4,
   "metadata": {},
   "outputs": [
    {
     "data": {
      "text/plain": [
       "Index(['OBJECTID', 'InspectionType', 'InspectionStatus',\n",
       "       'InspectionTPCondition', 'InspectionTPStructure', 'TreePointDBH',\n",
       "       'SWTreeConditionRating', 'SWLocationRating', 'SWClearanceRating',\n",
       "       'SWDamageRating', 'SWDamagedFlagstonesRating', 'SWRatingTotal',\n",
       "       'TreePointGlobalID', 'PlantingSpaceGlobalID', 'ServiceRequestGlobalID',\n",
       "       'Geometry', 'GlobalID', 'InspectionDate', 'ClosedDate', 'CreatedDate',\n",
       "       'UpdatedDate', 'ParentInspectionGlobalID', 'ReinspectionDate',\n",
       "       'SWTotalTrees', 'Location', 'Zip Codes 2', 'Community Districts 2',\n",
       "       'Borough Boundaries 2', 'City Council Districts 2',\n",
       "       'Police Precincts 2'],\n",
       "      dtype='object')"
      ]
     },
     "execution_count": 4,
     "metadata": {},
     "output_type": "execute_result"
    }
   ],
   "source": [
    "FI.columns"
   ]
  },
  {
   "cell_type": "code",
   "execution_count": 5,
   "metadata": {},
   "outputs": [
    {
     "data": {
      "text/plain": [
       "Index(['OBJECTID', 'WOType', 'WOStatus', 'WOPriority', 'Borough',\n",
       "       'CommunityBoard', 'BuildingNumber', 'StreetName', 'LocationDetails',\n",
       "       'ActualFinishDate', 'WOContract', 'ParkName', 'ParkZone',\n",
       "       'CancelReason', 'WOCategory', 'SanitationAssignedDate',\n",
       "       'SanitationRemovalDate', 'SanitationUpdatedDate', 'WOWoodRemains',\n",
       "       'WOEquipment', 'Postcode', 'CityCouncil', 'StateSenate',\n",
       "       'StateAssembly', 'Congressional', 'SanitationZone', 'PhysicalID',\n",
       "       'CrossStreet1', 'CrossStreet2', 'PlantingSpaceGlobalID',\n",
       "       'TreePointGlobalID', 'InspectionGlobalID', 'GlobalID', 'SidewalkDamage',\n",
       "       'WOWireConflict', 'CrewGlobalID', 'Geometry', 'ClosedDate',\n",
       "       'CancelDate', 'CreatedDate', 'UpdatedDate', 'WOEntity', 'PROJSTARTDATE',\n",
       "       'WOProject', 'RecommendedSpecies', 'Latitude', 'Longitude',\n",
       "       'Census Tract', 'BIN', 'BBL', 'NTA', 'Location', 'Zip Codes 2',\n",
       "       'Community Districts 2', 'Borough Boundaries 2',\n",
       "       'City Council Districts 2', 'Police Precincts 2'],\n",
       "      dtype='object')"
      ]
     },
     "execution_count": 5,
     "metadata": {},
     "output_type": "execute_result"
    }
   ],
   "source": [
    "FWO.columns"
   ]
  },
  {
   "cell_type": "code",
   "execution_count": 6,
   "metadata": {},
   "outputs": [
    {
     "data": {
      "text/plain": [
       "Index(['OBJECTID', 'RADefect', 'RADefectLocation', 'Failure', 'ImpactTarget',\n",
       "       'Consequence', 'RiskRating', 'InspectionGlobalID', 'GlobalID',\n",
       "       'CreatedDate', 'FailureImpact', 'WorkOrderGlobalID'],\n",
       "      dtype='object')"
      ]
     },
     "execution_count": 6,
     "metadata": {},
     "output_type": "execute_result"
    }
   ],
   "source": [
    "FRA.columns"
   ]
  },
  {
   "cell_type": "code",
   "execution_count": 3,
   "metadata": {},
   "outputs": [],
   "source": [
    "pd.set_option('display.max_rows', 500)\n",
    "pd.set_option('display.max_columns', 500)"
   ]
  },
  {
   "cell_type": "code",
   "execution_count": 4,
   "metadata": {},
   "outputs": [
    {
     "data": {
      "text/plain": [
       "4837"
      ]
     },
     "execution_count": 4,
     "metadata": {},
     "output_type": "execute_result"
    }
   ],
   "source": [
    "# FSR Global ID corresponds to FI Service Request Global ID\n",
    "len(set(FI.ServiceRequestGlobalID) - set(FSR.GlobalID)) "
   ]
  },
  {
   "cell_type": "code",
   "execution_count": 5,
   "metadata": {},
   "outputs": [
    {
     "data": {
      "text/plain": [
       "1461"
      ]
     },
     "execution_count": 5,
     "metadata": {},
     "output_type": "execute_result"
    }
   ],
   "source": [
    "# FI GLOBAL ID corresponds to FWO Inspection Global ID\n",
    "len(set(FWO.InspectionGlobalID) - set(FI.GlobalID))"
   ]
  },
  {
   "cell_type": "code",
   "execution_count": 6,
   "metadata": {},
   "outputs": [
    {
     "data": {
      "text/plain": [
       "1543"
      ]
     },
     "execution_count": 6,
     "metadata": {},
     "output_type": "execute_result"
    }
   ],
   "source": [
    "# FRA IncidentGlobalID corresponds to FI Global ID, roughly...\n",
    "len(set(FRA.InspectionGlobalID) - set(FI.GlobalID))"
   ]
  },
  {
   "cell_type": "code",
   "execution_count": 7,
   "metadata": {},
   "outputs": [],
   "source": [
    "FSR_columns = ['SRCategory', 'SRType', 'SRPriority',\n",
    "       'SRSource', 'SRStatus', 'SRResolution', 'BoroughCode', 'CommunityBoard',\n",
    "       'ServiceRequestParentGlobalID', 'GlobalID',\n",
    "       'InitiatedDate', 'ClosedDate', 'CreatedDate', 'UpdatedDate',\n",
    "       'Descriptor1', 'ComplaintType', 'CallerZipCode', 'SRCallerType',\n",
    "       'Latitude', 'Longitude', 'Census Tract', 'NTA', 'Zip Codes 2']\n",
    "\n",
    "FI_columns = ['InspectionType', 'InspectionStatus',\n",
    "       'InspectionTPCondition', 'InspectionTPStructure', 'TreePointDBH',\n",
    "       'GlobalID', 'ServiceRequestGlobalID', 'InspectionDate', 'ClosedDate', 'CreatedDate',\n",
    "       'UpdatedDate', 'ParentInspectionGlobalID', 'ReinspectionDate','Location']\n",
    "\n",
    "FWO_columns = ['WOType', 'WOStatus', 'WOPriority', 'Borough',\n",
    "       'InspectionGlobalID', 'GlobalID', 'ClosedDate',\n",
    "       'CancelDate', 'CancelReason','CreatedDate', 'UpdatedDate', 'WOEntity', \n",
    "       'PROJSTARTDATE', 'WOProject', 'WOCategory', 'RecommendedSpecies', 'Location']\n",
    "\n",
    "FRA_columns = ['RADefect', 'RADefectLocation', 'Failure', 'ImpactTarget',\n",
    "       'Consequence', 'RiskRating', 'InspectionGlobalID', 'GlobalID',\n",
    "       'CreatedDate', 'FailureImpact', 'WorkOrderGlobalID']"
   ]
  },
  {
   "attachments": {},
   "cell_type": "markdown",
   "metadata": {},
   "source": [
    "# Deal with empty return"
   ]
  },
  {
   "cell_type": "code",
   "execution_count": null,
   "metadata": {},
   "outputs": [],
   "source": [
    "# Unlikely needed as we are processing all past dataset"
   ]
  },
  {
   "cell_type": "code",
   "execution_count": null,
   "metadata": {},
   "outputs": [],
   "source": [
    "# if (len(FSR) == 0):\n",
    "#     FSR = pd.DataFrame(columns=FSR_columns)"
   ]
  },
  {
   "cell_type": "code",
   "execution_count": null,
   "metadata": {},
   "outputs": [],
   "source": [
    "# if (len(FI) == 0):\n",
    "#     FI = pd.DataFrame(columns=FI_columns)"
   ]
  },
  {
   "cell_type": "code",
   "execution_count": null,
   "metadata": {},
   "outputs": [],
   "source": [
    "# if (len(FWO) == 0):\n",
    "#     FWO = pd.DataFrame(columns=FWO_columns)"
   ]
  },
  {
   "cell_type": "code",
   "execution_count": null,
   "metadata": {},
   "outputs": [],
   "source": [
    "# if (len(FRA) == 0):\n",
    "#     FRA = pd.DataFrame(columns=FRA_columns)"
   ]
  },
  {
   "attachments": {},
   "cell_type": "markdown",
   "metadata": {},
   "source": [
    "# Only keep subset of data"
   ]
  },
  {
   "cell_type": "code",
   "execution_count": null,
   "metadata": {},
   "outputs": [],
   "source": [
    "# insert columns if not exits, unnecessary if using a large csv dataset\n",
    "# FSR = FSR.reindex(columns=FSR_columns)\n",
    "# FI = FI.reindex(columns=FI_columns)\n",
    "# FWO = FI.reindex(columns=FWO_columns).fillna('N/A')\n",
    "# FRA = FRA.reindex(columns=FRA_columns).fillna('N/A')"
   ]
  },
  {
   "cell_type": "code",
   "execution_count": 8,
   "metadata": {},
   "outputs": [],
   "source": [
    "# select subset due to memory limit\n",
    "FSR = FSR[FSR_columns]\n",
    "FI = FI[FI_columns]\n",
    "FWO = FWO[FWO_columns]\n",
    "FRA = FRA[FRA_columns]"
   ]
  },
  {
   "cell_type": "code",
   "execution_count": 10,
   "metadata": {},
   "outputs": [],
   "source": [
    "# set the globalid to its parent ID if the parentId is not NaN\n",
    "FSR.loc[:, \"GLOBAL_ID\"] = FSR.apply(lambda x:  x.GlobalID if x.ServiceRequestParentGlobalID != x.ServiceRequestParentGlobalID else x.ServiceRequestParentGlobalID, axis = 1)"
   ]
  },
  {
   "cell_type": "code",
   "execution_count": 11,
   "metadata": {},
   "outputs": [],
   "source": [
    "FSR.rename(columns={'GLOBAL_ID': 'SRGlobalID', 'ClosedDate': 'SRClosedDate', 'CreatedDate': 'SRCreatedDate', 'UpdatedDate': 'SRUpdatedDate'}, inplace=True)\n",
    "FI.rename(columns={'GlobalID': 'InsGlobalID', 'ClosedDate': 'InsClosedDate', 'CreatedDate': 'InsCreatedDate', 'UpdatedDate': 'InsUpdatedDate', 'ServiceRequestGlobalID': 'SRGlobalID'}, inplace=True)\n",
    "FWO.rename(columns={'GlobalID': 'WOGlobalID', 'ClosedDate': 'WOClosedDate', 'CreatedDate': 'WOCreatedDate', 'UpdatedDate': 'WOUpdatedDate', 'InspectionGlobalID': 'InsGlobalID'}, inplace=True)\n",
    "FRA.rename(columns={'GlobalID': 'RAGlobalID', 'CreatedDate': 'RACreatedDate', 'InspectionGlobalID': 'InsGlobalID'}, inplace=True)\n",
    "\n",
    "# not further process inspection dataset because only one inspection is needed for under-reporting measuring, but more inspections could still be used for other purposes"
   ]
  },
  {
   "cell_type": "code",
   "execution_count": 12,
   "metadata": {},
   "outputs": [],
   "source": [
    "FSR['Longitude'] = FSR['Longitude'].astype(float)\n",
    "FSR['Latitude'] = FSR['Latitude'].astype(float)"
   ]
  },
  {
   "cell_type": "code",
   "execution_count": 24,
   "metadata": {},
   "outputs": [
    {
     "data": {
      "text/plain": [
       "(7369, 7369)"
      ]
     },
     "execution_count": 24,
     "metadata": {},
     "output_type": "execute_result"
    }
   ],
   "source": [
    "#requests that have no geo-info\n",
    "# FSR.Longitude.isna().sum(), FSR.Latitude.isna().sum() "
   ]
  },
  {
   "cell_type": "code",
   "execution_count": null,
   "metadata": {},
   "outputs": [],
   "source": [
    "# # find census tract\n",
    "# geometry = [None if math.isnan(xy[0]) or math.isnan(xy[1]) else Point(xy) for xy in zip(FSR.longitude, FSR.latitude)]\n",
    "# gdf = gpd.GeoDataFrame(FSR, crs=4326, geometry=geometry)"
   ]
  },
  {
   "attachments": {},
   "cell_type": "markdown",
   "metadata": {},
   "source": [
    "# Merge Inspections"
   ]
  },
  {
   "cell_type": "code",
   "execution_count": 13,
   "metadata": {},
   "outputs": [
    {
     "data": {
      "text/plain": [
       "Index(['InspectionType', 'InspectionStatus', 'InspectionTPCondition',\n",
       "       'InspectionTPStructure', 'TreePointDBH', 'InsGlobalID', 'SRGlobalID',\n",
       "       'InspectionDate', 'InsClosedDate', 'InsCreatedDate', 'InsUpdatedDate',\n",
       "       'ParentInspectionGlobalID', 'ReinspectionDate', 'Location'],\n",
       "      dtype='object')"
      ]
     },
     "execution_count": 13,
     "metadata": {},
     "output_type": "execute_result"
    }
   ],
   "source": [
    "FI.columns"
   ]
  },
  {
   "cell_type": "code",
   "execution_count": 44,
   "metadata": {},
   "outputs": [],
   "source": [
    "# FI[\"Longitude\"] = FI.Location.copy().apply(lambda x: float(x[0])).copy()\n",
    "# FI[\"Latitude\"] = FI.Location.copy().apply(lambda x: float(x[1])).copy()"
   ]
  },
  {
   "cell_type": "code",
   "execution_count": null,
   "metadata": {},
   "outputs": [],
   "source": [
    "# geometry = [None if math.isnan(xy[0]) or math.isnan(xy[1]) else Point(xy) for xy in zip(FI.longitude, FI.latitude)]\n",
    "# g_FI = gpd.GeoDataFrame(FI, crs=4326, geometry=geometry)"
   ]
  },
  {
   "cell_type": "code",
   "execution_count": null,
   "metadata": {},
   "outputs": [],
   "source": [
    "# back to regular df\n",
    "# merge_FI = pd.DataFrame(g_FI)"
   ]
  },
  {
   "cell_type": "code",
   "execution_count": 14,
   "metadata": {},
   "outputs": [],
   "source": [
    "# merge service requests w/ inspections\n",
    "# Q: if a service request has a parent request id, is SRGlobalId in inspection dataset associated with serviceID or its parentID?\n",
    "mergeddf = pd.merge(FSR, FI, on='SRGlobalID', how='left', suffixes=('_SR', '_I'), left_index=False, right_index=False)"
   ]
  },
  {
   "cell_type": "code",
   "execution_count": 15,
   "metadata": {},
   "outputs": [
    {
     "data": {
      "text/plain": [
       "34791"
      ]
     },
     "execution_count": 15,
     "metadata": {},
     "output_type": "execute_result"
    }
   ],
   "source": [
    "#Inspections with SR\n",
    "a = FI[FI[\"SRGlobalID\"].notna()]\n",
    "len(a)\n",
    "\n",
    "##There could be many service requests with no inspections"
   ]
  },
  {
   "cell_type": "code",
   "execution_count": 16,
   "metadata": {},
   "outputs": [
    {
     "data": {
      "text/plain": [
       "Index(['SRCategory', 'SRType', 'SRPriority', 'SRSource', 'SRStatus',\n",
       "       'SRResolution', 'BoroughCode', 'CommunityBoard',\n",
       "       'ServiceRequestParentGlobalID', 'GlobalID', 'InitiatedDate',\n",
       "       'SRClosedDate', 'SRCreatedDate', 'SRUpdatedDate', 'Descriptor1',\n",
       "       'ComplaintType', 'CallerZipCode', 'SRCallerType', 'Latitude',\n",
       "       'Longitude', 'Census Tract', 'NTA', 'Zip Codes 2', 'SRGlobalID',\n",
       "       'InspectionType', 'InspectionStatus', 'InspectionTPCondition',\n",
       "       'InspectionTPStructure', 'TreePointDBH', 'InsGlobalID',\n",
       "       'InspectionDate', 'InsClosedDate', 'InsCreatedDate', 'InsUpdatedDate',\n",
       "       'ParentInspectionGlobalID', 'ReinspectionDate', 'Location'],\n",
       "      dtype='object')"
      ]
     },
     "execution_count": 16,
     "metadata": {},
     "output_type": "execute_result"
    }
   ],
   "source": [
    "mergeddf.columns"
   ]
  },
  {
   "cell_type": "code",
   "execution_count": 17,
   "metadata": {},
   "outputs": [
    {
     "data": {
      "text/plain": [
       "((92360, 24), (172975, 14), (96297, 37))"
      ]
     },
     "execution_count": 17,
     "metadata": {},
     "output_type": "execute_result"
    }
   ],
   "source": [
    "FSR.shape, FI.shape, mergeddf.shape \n",
    "# since merged > FSR, means there are some SRs with multiple inspections\n",
    "# FI.length > FSR.length, there could be inspections without service requests (no global SRID). "
   ]
  },
  {
   "cell_type": "code",
   "execution_count": 21,
   "metadata": {},
   "outputs": [
    {
     "data": {
      "text/plain": [
       "53074"
      ]
     },
     "execution_count": 21,
     "metadata": {},
     "output_type": "execute_result"
    }
   ],
   "source": [
    "#Service requests with no inspections\n",
    "len(mergeddf[mergeddf['InsGlobalID'].isna()])"
   ]
  },
  {
   "cell_type": "code",
   "execution_count": 19,
   "metadata": {},
   "outputs": [
    {
     "data": {
      "text/html": [
       "<div>\n",
       "<style scoped>\n",
       "    .dataframe tbody tr th:only-of-type {\n",
       "        vertical-align: middle;\n",
       "    }\n",
       "\n",
       "    .dataframe tbody tr th {\n",
       "        vertical-align: top;\n",
       "    }\n",
       "\n",
       "    .dataframe thead th {\n",
       "        text-align: right;\n",
       "    }\n",
       "</style>\n",
       "<table border=\"1\" class=\"dataframe\">\n",
       "  <thead>\n",
       "    <tr style=\"text-align: right;\">\n",
       "      <th></th>\n",
       "      <th>SRCategory</th>\n",
       "      <th>SRType</th>\n",
       "      <th>SRPriority</th>\n",
       "      <th>SRSource</th>\n",
       "      <th>SRStatus</th>\n",
       "      <th>SRResolution</th>\n",
       "      <th>BoroughCode</th>\n",
       "      <th>CommunityBoard</th>\n",
       "      <th>ServiceRequestParentGlobalID</th>\n",
       "      <th>GlobalID</th>\n",
       "      <th>InitiatedDate</th>\n",
       "      <th>SRClosedDate</th>\n",
       "      <th>SRCreatedDate</th>\n",
       "      <th>SRUpdatedDate</th>\n",
       "      <th>Descriptor1</th>\n",
       "      <th>ComplaintType</th>\n",
       "      <th>CallerZipCode</th>\n",
       "      <th>SRCallerType</th>\n",
       "      <th>Latitude</th>\n",
       "      <th>Longitude</th>\n",
       "      <th>Census Tract</th>\n",
       "      <th>NTA</th>\n",
       "      <th>Zip Codes 2</th>\n",
       "      <th>SRGlobalID</th>\n",
       "      <th>InspectionType</th>\n",
       "      <th>InspectionStatus</th>\n",
       "      <th>InspectionTPCondition</th>\n",
       "      <th>InspectionTPStructure</th>\n",
       "      <th>TreePointDBH</th>\n",
       "      <th>InsGlobalID</th>\n",
       "      <th>InspectionDate</th>\n",
       "      <th>InsClosedDate</th>\n",
       "      <th>InsCreatedDate</th>\n",
       "      <th>InsUpdatedDate</th>\n",
       "      <th>ParentInspectionGlobalID</th>\n",
       "      <th>ReinspectionDate</th>\n",
       "      <th>Location</th>\n",
       "    </tr>\n",
       "  </thead>\n",
       "  <tbody>\n",
       "    <tr>\n",
       "      <th>0</th>\n",
       "      <td>Plant Tree</td>\n",
       "      <td>Street Tree</td>\n",
       "      <td>Routine</td>\n",
       "      <td>3-1-1 Call Center</td>\n",
       "      <td>Open</td>\n",
       "      <td>Reviewed - Inspection Assigned</td>\n",
       "      <td>Queens</td>\n",
       "      <td>411.0</td>\n",
       "      <td>NaN</td>\n",
       "      <td>3EC81228-3DE6-4314-8339-F89A0720A9A8</td>\n",
       "      <td>2020-11-05 18:09:20.0000000</td>\n",
       "      <td>NaN</td>\n",
       "      <td>2022-07-07 15:28:00.0000000</td>\n",
       "      <td>2022-10-03 13:03:00.0000000</td>\n",
       "      <td>For One Address</td>\n",
       "      <td>New Tree Request</td>\n",
       "      <td>NaN</td>\n",
       "      <td>Business\\n\\nBusiness</td>\n",
       "      <td>40.766138</td>\n",
       "      <td>-73.745175</td>\n",
       "      <td>1479.00</td>\n",
       "      <td>Douglaston-Little Neck</td>\n",
       "      <td>14505.0</td>\n",
       "      <td>3EC81228-3DE6-4314-8339-F89A0720A9A8</td>\n",
       "      <td>NaN</td>\n",
       "      <td>NaN</td>\n",
       "      <td>NaN</td>\n",
       "      <td>NaN</td>\n",
       "      <td>NaN</td>\n",
       "      <td>NaN</td>\n",
       "      <td>NaN</td>\n",
       "      <td>NaN</td>\n",
       "      <td>NaN</td>\n",
       "      <td>NaN</td>\n",
       "      <td>NaN</td>\n",
       "      <td>NaN</td>\n",
       "      <td>NaN</td>\n",
       "    </tr>\n",
       "    <tr>\n",
       "      <th>1</th>\n",
       "      <td>Prune</td>\n",
       "      <td>Clear Building</td>\n",
       "      <td>Routine</td>\n",
       "      <td>3-1-1 Call Center</td>\n",
       "      <td>Closed</td>\n",
       "      <td>Inspected - No Work Order</td>\n",
       "      <td>Bronx</td>\n",
       "      <td>209.0</td>\n",
       "      <td>NaN</td>\n",
       "      <td>4B8D16C7-CA9C-49A8-9219-172667426BEA</td>\n",
       "      <td>2021-01-27 14:18:08.0000000</td>\n",
       "      <td>2022-09-09 13:36:28.0000000</td>\n",
       "      <td>2022-07-07 15:30:53.0000000</td>\n",
       "      <td>2022-09-09 13:36:28.0000000</td>\n",
       "      <td>Hitting Building</td>\n",
       "      <td>Overgrown Tree/Branches</td>\n",
       "      <td>NaN</td>\n",
       "      <td>NaN</td>\n",
       "      <td>40.826875</td>\n",
       "      <td>-73.846715</td>\n",
       "      <td>98.00</td>\n",
       "      <td>Castle Hill-Unionport</td>\n",
       "      <td>11611.0</td>\n",
       "      <td>4B8D16C7-CA9C-49A8-9219-172667426BEA</td>\n",
       "      <td>Level 2</td>\n",
       "      <td>Closed</td>\n",
       "      <td>Good</td>\n",
       "      <td>Full</td>\n",
       "      <td>14.0</td>\n",
       "      <td>57CF781A-0975-4BFE-9904-D6CD8A6EE5A3</td>\n",
       "      <td>2022-09-09 13:36:22.0000000</td>\n",
       "      <td>2022-09-09 13:36:22.0000000</td>\n",
       "      <td>2022-09-09 13:36:22.0000000</td>\n",
       "      <td>NaN</td>\n",
       "      <td>NaN</td>\n",
       "      <td>NaN</td>\n",
       "      <td>POINT (-73.84681453739462 40.826964362109955)</td>\n",
       "    </tr>\n",
       "    <tr>\n",
       "      <th>2</th>\n",
       "      <td>Plant Tree</td>\n",
       "      <td>Street Tree</td>\n",
       "      <td>Routine</td>\n",
       "      <td>3-1-1 Call Center</td>\n",
       "      <td>Open</td>\n",
       "      <td>Reviewed - Inspection Assigned</td>\n",
       "      <td>Staten Island</td>\n",
       "      <td>502.0</td>\n",
       "      <td>NaN</td>\n",
       "      <td>77D798B5-4687-4430-A2AE-AE693E674AB0</td>\n",
       "      <td>2021-04-13 18:09:06.0000000</td>\n",
       "      <td>NaN</td>\n",
       "      <td>2022-07-07 15:28:00.0000000</td>\n",
       "      <td>2022-10-03 13:04:00.0000000</td>\n",
       "      <td>For One Address</td>\n",
       "      <td>New Tree Request</td>\n",
       "      <td>NaN</td>\n",
       "      <td>Business\\n\\nBusiness</td>\n",
       "      <td>40.599059</td>\n",
       "      <td>-74.126842</td>\n",
       "      <td>187.03</td>\n",
       "      <td>Todt Hill-Emerson Hill-Lighthouse Hill-Manor H...</td>\n",
       "      <td>10700.0</td>\n",
       "      <td>77D798B5-4687-4430-A2AE-AE693E674AB0</td>\n",
       "      <td>NaN</td>\n",
       "      <td>NaN</td>\n",
       "      <td>NaN</td>\n",
       "      <td>NaN</td>\n",
       "      <td>NaN</td>\n",
       "      <td>NaN</td>\n",
       "      <td>NaN</td>\n",
       "      <td>NaN</td>\n",
       "      <td>NaN</td>\n",
       "      <td>NaN</td>\n",
       "      <td>NaN</td>\n",
       "      <td>NaN</td>\n",
       "      <td>NaN</td>\n",
       "    </tr>\n",
       "    <tr>\n",
       "      <th>3</th>\n",
       "      <td>Hazard</td>\n",
       "      <td>Hanging Limb Other</td>\n",
       "      <td>Routine</td>\n",
       "      <td>3-1-1 Call Center</td>\n",
       "      <td>Open</td>\n",
       "      <td>Work Priority Category - C</td>\n",
       "      <td>Queens</td>\n",
       "      <td>407.0</td>\n",
       "      <td>799570A8-71A4-4361-A6A8-464FA8AD9448</td>\n",
       "      <td>591583A7-B107-49EC-BFA7-415BE6D3EA4B</td>\n",
       "      <td>2021-07-31 20:32:57.0000000</td>\n",
       "      <td>NaN</td>\n",
       "      <td>2022-07-07 15:30:49.0000000</td>\n",
       "      <td>2022-07-08 14:13:46.0000000</td>\n",
       "      <td>Branch Cracked and Will Fall</td>\n",
       "      <td>Damaged Tree</td>\n",
       "      <td>NaN</td>\n",
       "      <td>NaN</td>\n",
       "      <td>40.769165</td>\n",
       "      <td>-73.800688</td>\n",
       "      <td>1147.00</td>\n",
       "      <td>Murray Hill-Broadway Flushing</td>\n",
       "      <td>14193.0</td>\n",
       "      <td>799570A8-71A4-4361-A6A8-464FA8AD9448</td>\n",
       "      <td>Level 2</td>\n",
       "      <td>Closed</td>\n",
       "      <td>Good</td>\n",
       "      <td>Full</td>\n",
       "      <td>33.0</td>\n",
       "      <td>BD916064-C30D-48F7-9397-F66DCF01203D</td>\n",
       "      <td>2022-06-13 04:00:00.0000000</td>\n",
       "      <td>2022-06-13 19:12:00.0000000</td>\n",
       "      <td>2022-06-13 19:09:00.0000000</td>\n",
       "      <td>2022-06-13 19:15:11.0000000</td>\n",
       "      <td>NaN</td>\n",
       "      <td>NaN</td>\n",
       "      <td>POINT (-73.80039800602839 40.7690878004193)</td>\n",
       "    </tr>\n",
       "    <tr>\n",
       "      <th>4</th>\n",
       "      <td>Root/Sewer/Sidewalk</td>\n",
       "      <td>Trees and Sidewalks</td>\n",
       "      <td>Routine</td>\n",
       "      <td>3-1-1 Call Center</td>\n",
       "      <td>Closed</td>\n",
       "      <td>T/S Inspected - Repair Pending</td>\n",
       "      <td>Brooklyn</td>\n",
       "      <td>317.0</td>\n",
       "      <td>NaN</td>\n",
       "      <td>3831B9B0-6787-4A4B-90EF-BC83CDB67735</td>\n",
       "      <td>2021-10-14 22:50:02.0000000</td>\n",
       "      <td>2022-08-05 15:40:29.0000000</td>\n",
       "      <td>2022-07-07 15:30:52.0000000</td>\n",
       "      <td>2022-08-05 15:40:29.0000000</td>\n",
       "      <td>Trees and Sidewalks Program</td>\n",
       "      <td>Root/Sewer/Sidewalk Condition</td>\n",
       "      <td>NaN</td>\n",
       "      <td>NaN</td>\n",
       "      <td>40.638333</td>\n",
       "      <td>-73.934780</td>\n",
       "      <td>836.00</td>\n",
       "      <td>East Flatbush-Farragut</td>\n",
       "      <td>16866.0</td>\n",
       "      <td>3831B9B0-6787-4A4B-90EF-BC83CDB67735</td>\n",
       "      <td>Sidewalk Rating</td>\n",
       "      <td>Closed</td>\n",
       "      <td>Good</td>\n",
       "      <td>Full</td>\n",
       "      <td>22.0</td>\n",
       "      <td>1D67BA0C-DDA6-40F2-B4BA-89F6D185AEF6</td>\n",
       "      <td>2022-08-05 15:40:07.0000000</td>\n",
       "      <td>2022-08-05 15:40:07.0000000</td>\n",
       "      <td>2022-08-05 15:40:07.0000000</td>\n",
       "      <td>NaN</td>\n",
       "      <td>NaN</td>\n",
       "      <td>NaN</td>\n",
       "      <td>POINT (-73.93487015325061 40.63845723855442)</td>\n",
       "    </tr>\n",
       "  </tbody>\n",
       "</table>\n",
       "</div>"
      ],
      "text/plain": [
       "            SRCategory               SRType SRPriority           SRSource  \\\n",
       "0           Plant Tree          Street Tree    Routine  3-1-1 Call Center   \n",
       "1                Prune       Clear Building    Routine  3-1-1 Call Center   \n",
       "2           Plant Tree          Street Tree    Routine  3-1-1 Call Center   \n",
       "3               Hazard   Hanging Limb Other    Routine  3-1-1 Call Center   \n",
       "4  Root/Sewer/Sidewalk  Trees and Sidewalks    Routine  3-1-1 Call Center   \n",
       "\n",
       "  SRStatus                    SRResolution    BoroughCode  CommunityBoard  \\\n",
       "0     Open  Reviewed - Inspection Assigned         Queens           411.0   \n",
       "1   Closed       Inspected - No Work Order          Bronx           209.0   \n",
       "2     Open  Reviewed - Inspection Assigned  Staten Island           502.0   \n",
       "3     Open      Work Priority Category - C         Queens           407.0   \n",
       "4   Closed  T/S Inspected - Repair Pending       Brooklyn           317.0   \n",
       "\n",
       "           ServiceRequestParentGlobalID                              GlobalID  \\\n",
       "0                                   NaN  3EC81228-3DE6-4314-8339-F89A0720A9A8   \n",
       "1                                   NaN  4B8D16C7-CA9C-49A8-9219-172667426BEA   \n",
       "2                                   NaN  77D798B5-4687-4430-A2AE-AE693E674AB0   \n",
       "3  799570A8-71A4-4361-A6A8-464FA8AD9448  591583A7-B107-49EC-BFA7-415BE6D3EA4B   \n",
       "4                                   NaN  3831B9B0-6787-4A4B-90EF-BC83CDB67735   \n",
       "\n",
       "                 InitiatedDate                 SRClosedDate  \\\n",
       "0  2020-11-05 18:09:20.0000000                          NaN   \n",
       "1  2021-01-27 14:18:08.0000000  2022-09-09 13:36:28.0000000   \n",
       "2  2021-04-13 18:09:06.0000000                          NaN   \n",
       "3  2021-07-31 20:32:57.0000000                          NaN   \n",
       "4  2021-10-14 22:50:02.0000000  2022-08-05 15:40:29.0000000   \n",
       "\n",
       "                 SRCreatedDate                SRUpdatedDate  \\\n",
       "0  2022-07-07 15:28:00.0000000  2022-10-03 13:03:00.0000000   \n",
       "1  2022-07-07 15:30:53.0000000  2022-09-09 13:36:28.0000000   \n",
       "2  2022-07-07 15:28:00.0000000  2022-10-03 13:04:00.0000000   \n",
       "3  2022-07-07 15:30:49.0000000  2022-07-08 14:13:46.0000000   \n",
       "4  2022-07-07 15:30:52.0000000  2022-08-05 15:40:29.0000000   \n",
       "\n",
       "                    Descriptor1                  ComplaintType CallerZipCode  \\\n",
       "0               For One Address               New Tree Request           NaN   \n",
       "1              Hitting Building        Overgrown Tree/Branches           NaN   \n",
       "2               For One Address               New Tree Request           NaN   \n",
       "3  Branch Cracked and Will Fall                   Damaged Tree           NaN   \n",
       "4   Trees and Sidewalks Program  Root/Sewer/Sidewalk Condition           NaN   \n",
       "\n",
       "           SRCallerType   Latitude  Longitude  Census Tract  \\\n",
       "0  Business\\n\\nBusiness  40.766138 -73.745175       1479.00   \n",
       "1                   NaN  40.826875 -73.846715         98.00   \n",
       "2  Business\\n\\nBusiness  40.599059 -74.126842        187.03   \n",
       "3                   NaN  40.769165 -73.800688       1147.00   \n",
       "4                   NaN  40.638333 -73.934780        836.00   \n",
       "\n",
       "                                                 NTA  Zip Codes 2  \\\n",
       "0                             Douglaston-Little Neck      14505.0   \n",
       "1                              Castle Hill-Unionport      11611.0   \n",
       "2  Todt Hill-Emerson Hill-Lighthouse Hill-Manor H...      10700.0   \n",
       "3                      Murray Hill-Broadway Flushing      14193.0   \n",
       "4                             East Flatbush-Farragut      16866.0   \n",
       "\n",
       "                             SRGlobalID   InspectionType InspectionStatus  \\\n",
       "0  3EC81228-3DE6-4314-8339-F89A0720A9A8              NaN              NaN   \n",
       "1  4B8D16C7-CA9C-49A8-9219-172667426BEA          Level 2           Closed   \n",
       "2  77D798B5-4687-4430-A2AE-AE693E674AB0              NaN              NaN   \n",
       "3  799570A8-71A4-4361-A6A8-464FA8AD9448          Level 2           Closed   \n",
       "4  3831B9B0-6787-4A4B-90EF-BC83CDB67735  Sidewalk Rating           Closed   \n",
       "\n",
       "  InspectionTPCondition InspectionTPStructure  TreePointDBH  \\\n",
       "0                   NaN                   NaN           NaN   \n",
       "1                  Good                  Full          14.0   \n",
       "2                   NaN                   NaN           NaN   \n",
       "3                  Good                  Full          33.0   \n",
       "4                  Good                  Full          22.0   \n",
       "\n",
       "                            InsGlobalID               InspectionDate  \\\n",
       "0                                   NaN                          NaN   \n",
       "1  57CF781A-0975-4BFE-9904-D6CD8A6EE5A3  2022-09-09 13:36:22.0000000   \n",
       "2                                   NaN                          NaN   \n",
       "3  BD916064-C30D-48F7-9397-F66DCF01203D  2022-06-13 04:00:00.0000000   \n",
       "4  1D67BA0C-DDA6-40F2-B4BA-89F6D185AEF6  2022-08-05 15:40:07.0000000   \n",
       "\n",
       "                 InsClosedDate               InsCreatedDate  \\\n",
       "0                          NaN                          NaN   \n",
       "1  2022-09-09 13:36:22.0000000  2022-09-09 13:36:22.0000000   \n",
       "2                          NaN                          NaN   \n",
       "3  2022-06-13 19:12:00.0000000  2022-06-13 19:09:00.0000000   \n",
       "4  2022-08-05 15:40:07.0000000  2022-08-05 15:40:07.0000000   \n",
       "\n",
       "                InsUpdatedDate ParentInspectionGlobalID ReinspectionDate  \\\n",
       "0                          NaN                      NaN              NaN   \n",
       "1                          NaN                      NaN              NaN   \n",
       "2                          NaN                      NaN              NaN   \n",
       "3  2022-06-13 19:15:11.0000000                      NaN              NaN   \n",
       "4                          NaN                      NaN              NaN   \n",
       "\n",
       "                                        Location  \n",
       "0                                            NaN  \n",
       "1  POINT (-73.84681453739462 40.826964362109955)  \n",
       "2                                            NaN  \n",
       "3    POINT (-73.80039800602839 40.7690878004193)  \n",
       "4   POINT (-73.93487015325061 40.63845723855442)  "
      ]
     },
     "execution_count": 19,
     "metadata": {},
     "output_type": "execute_result"
    }
   ],
   "source": [
    "mergeddf.head()"
   ]
  },
  {
   "cell_type": "code",
   "execution_count": 22,
   "metadata": {},
   "outputs": [],
   "source": [
    "#fill empty inspection ID \n",
    "mergeddf['InsGlobalID'].fillna('-', inplace=True)"
   ]
  },
  {
   "attachments": {},
   "cell_type": "markdown",
   "metadata": {},
   "source": [
    "# Merge Work Orders"
   ]
  },
  {
   "cell_type": "code",
   "execution_count": 23,
   "metadata": {},
   "outputs": [
    {
     "data": {
      "text/plain": [
       "Index(['WOType', 'WOStatus', 'WOPriority', 'Borough', 'InsGlobalID',\n",
       "       'WOGlobalID', 'WOClosedDate', 'CancelDate', 'CancelReason',\n",
       "       'WOCreatedDate', 'WOUpdatedDate', 'WOEntity', 'PROJSTARTDATE',\n",
       "       'WOProject', 'WOCategory', 'RecommendedSpecies', 'Location'],\n",
       "      dtype='object')"
      ]
     },
     "execution_count": 23,
     "metadata": {},
     "output_type": "execute_result"
    }
   ],
   "source": [
    "FWO.columns"
   ]
  },
  {
   "cell_type": "code",
   "execution_count": null,
   "metadata": {},
   "outputs": [],
   "source": [
    "# FWO[\"longitude\"] = FWO.location.copy().apply(lambda x: float(x['coordinates'][0])).copy()\n",
    "# FWO[\"latitude\"] = FWO.location.copy().apply(lambda x: float(x['coordinates'][1])).copy()\n",
    "\n",
    "# geometry = [None if math.isnan(xy[0]) or math.isnan(xy[1]) else Point(xy) for xy in zip(FWO.longitude, FWO.latitude)]\n",
    "# g_FWO = gpd.GeoDataFrame(FWO, crs=4326, geometry=geometry)"
   ]
  },
  {
   "cell_type": "code",
   "execution_count": null,
   "metadata": {},
   "outputs": [],
   "source": [
    "# back to regular df\n",
    "# merge_FWO = pd.DataFrame(g_FWO)"
   ]
  },
  {
   "cell_type": "code",
   "execution_count": 24,
   "metadata": {},
   "outputs": [
    {
     "data": {
      "text/plain": [
       "((136677, 17), (96368, 53))"
      ]
     },
     "execution_count": 24,
     "metadata": {},
     "output_type": "execute_result"
    }
   ],
   "source": [
    "# merge SRs+Insps w/ WOs\n",
    "mergeddf = pd.merge(mergeddf, FWO, on='InsGlobalID', how='left', suffixes=('', '_WO'))"
   ]
  },
  {
   "cell_type": "code",
   "execution_count": 25,
   "metadata": {},
   "outputs": [
    {
     "data": {
      "text/plain": [
       "((136677, 17), (96368, 53))"
      ]
     },
     "execution_count": 25,
     "metadata": {},
     "output_type": "execute_result"
    }
   ],
   "source": [
    "FWO.shape, mergeddf.shape #FWO length > mergeddf length, meaning not all work orders have inspections"
   ]
  },
  {
   "cell_type": "code",
   "execution_count": 26,
   "metadata": {},
   "outputs": [
    {
     "data": {
      "text/html": [
       "<div>\n",
       "<style scoped>\n",
       "    .dataframe tbody tr th:only-of-type {\n",
       "        vertical-align: middle;\n",
       "    }\n",
       "\n",
       "    .dataframe tbody tr th {\n",
       "        vertical-align: top;\n",
       "    }\n",
       "\n",
       "    .dataframe thead th {\n",
       "        text-align: right;\n",
       "    }\n",
       "</style>\n",
       "<table border=\"1\" class=\"dataframe\">\n",
       "  <thead>\n",
       "    <tr style=\"text-align: right;\">\n",
       "      <th></th>\n",
       "      <th>SRCategory</th>\n",
       "      <th>SRType</th>\n",
       "      <th>SRPriority</th>\n",
       "      <th>SRSource</th>\n",
       "      <th>SRStatus</th>\n",
       "      <th>SRResolution</th>\n",
       "      <th>BoroughCode</th>\n",
       "      <th>CommunityBoard</th>\n",
       "      <th>ServiceRequestParentGlobalID</th>\n",
       "      <th>GlobalID</th>\n",
       "      <th>InitiatedDate</th>\n",
       "      <th>SRClosedDate</th>\n",
       "      <th>SRCreatedDate</th>\n",
       "      <th>SRUpdatedDate</th>\n",
       "      <th>Descriptor1</th>\n",
       "      <th>ComplaintType</th>\n",
       "      <th>CallerZipCode</th>\n",
       "      <th>SRCallerType</th>\n",
       "      <th>Latitude</th>\n",
       "      <th>Longitude</th>\n",
       "      <th>Census Tract</th>\n",
       "      <th>NTA</th>\n",
       "      <th>Zip Codes 2</th>\n",
       "      <th>SRGlobalID</th>\n",
       "      <th>InspectionType</th>\n",
       "      <th>InspectionStatus</th>\n",
       "      <th>InspectionTPCondition</th>\n",
       "      <th>InspectionTPStructure</th>\n",
       "      <th>TreePointDBH</th>\n",
       "      <th>InsGlobalID</th>\n",
       "      <th>InspectionDate</th>\n",
       "      <th>InsClosedDate</th>\n",
       "      <th>InsCreatedDate</th>\n",
       "      <th>InsUpdatedDate</th>\n",
       "      <th>ParentInspectionGlobalID</th>\n",
       "      <th>ReinspectionDate</th>\n",
       "      <th>Location</th>\n",
       "      <th>WOType</th>\n",
       "      <th>WOStatus</th>\n",
       "      <th>WOPriority</th>\n",
       "      <th>Borough</th>\n",
       "      <th>WOGlobalID</th>\n",
       "      <th>WOClosedDate</th>\n",
       "      <th>CancelDate</th>\n",
       "      <th>CancelReason</th>\n",
       "      <th>WOCreatedDate</th>\n",
       "      <th>WOUpdatedDate</th>\n",
       "      <th>WOEntity</th>\n",
       "      <th>PROJSTARTDATE</th>\n",
       "      <th>WOProject</th>\n",
       "      <th>WOCategory</th>\n",
       "      <th>RecommendedSpecies</th>\n",
       "      <th>Location_WO</th>\n",
       "    </tr>\n",
       "  </thead>\n",
       "  <tbody>\n",
       "    <tr>\n",
       "      <th>0</th>\n",
       "      <td>Plant Tree</td>\n",
       "      <td>Street Tree</td>\n",
       "      <td>Routine</td>\n",
       "      <td>3-1-1 Call Center</td>\n",
       "      <td>Open</td>\n",
       "      <td>Reviewed - Inspection Assigned</td>\n",
       "      <td>Queens</td>\n",
       "      <td>411.0</td>\n",
       "      <td>NaN</td>\n",
       "      <td>3EC81228-3DE6-4314-8339-F89A0720A9A8</td>\n",
       "      <td>2020-11-05 18:09:20.0000000</td>\n",
       "      <td>NaN</td>\n",
       "      <td>2022-07-07 15:28:00.0000000</td>\n",
       "      <td>2022-10-03 13:03:00.0000000</td>\n",
       "      <td>For One Address</td>\n",
       "      <td>New Tree Request</td>\n",
       "      <td>NaN</td>\n",
       "      <td>Business\\n\\nBusiness</td>\n",
       "      <td>40.766138</td>\n",
       "      <td>-73.745175</td>\n",
       "      <td>1479.00</td>\n",
       "      <td>Douglaston-Little Neck</td>\n",
       "      <td>14505.0</td>\n",
       "      <td>3EC81228-3DE6-4314-8339-F89A0720A9A8</td>\n",
       "      <td>NaN</td>\n",
       "      <td>NaN</td>\n",
       "      <td>NaN</td>\n",
       "      <td>NaN</td>\n",
       "      <td>NaN</td>\n",
       "      <td>-</td>\n",
       "      <td>NaN</td>\n",
       "      <td>NaN</td>\n",
       "      <td>NaN</td>\n",
       "      <td>NaN</td>\n",
       "      <td>NaN</td>\n",
       "      <td>NaN</td>\n",
       "      <td>NaN</td>\n",
       "      <td>NaN</td>\n",
       "      <td>NaN</td>\n",
       "      <td>NaN</td>\n",
       "      <td>NaN</td>\n",
       "      <td>NaN</td>\n",
       "      <td>NaN</td>\n",
       "      <td>NaN</td>\n",
       "      <td>NaN</td>\n",
       "      <td>NaN</td>\n",
       "      <td>NaN</td>\n",
       "      <td>NaN</td>\n",
       "      <td>NaN</td>\n",
       "      <td>NaN</td>\n",
       "      <td>NaN</td>\n",
       "      <td>NaN</td>\n",
       "      <td>NaN</td>\n",
       "    </tr>\n",
       "    <tr>\n",
       "      <th>1</th>\n",
       "      <td>Prune</td>\n",
       "      <td>Clear Building</td>\n",
       "      <td>Routine</td>\n",
       "      <td>3-1-1 Call Center</td>\n",
       "      <td>Closed</td>\n",
       "      <td>Inspected - No Work Order</td>\n",
       "      <td>Bronx</td>\n",
       "      <td>209.0</td>\n",
       "      <td>NaN</td>\n",
       "      <td>4B8D16C7-CA9C-49A8-9219-172667426BEA</td>\n",
       "      <td>2021-01-27 14:18:08.0000000</td>\n",
       "      <td>2022-09-09 13:36:28.0000000</td>\n",
       "      <td>2022-07-07 15:30:53.0000000</td>\n",
       "      <td>2022-09-09 13:36:28.0000000</td>\n",
       "      <td>Hitting Building</td>\n",
       "      <td>Overgrown Tree/Branches</td>\n",
       "      <td>NaN</td>\n",
       "      <td>NaN</td>\n",
       "      <td>40.826875</td>\n",
       "      <td>-73.846715</td>\n",
       "      <td>98.00</td>\n",
       "      <td>Castle Hill-Unionport</td>\n",
       "      <td>11611.0</td>\n",
       "      <td>4B8D16C7-CA9C-49A8-9219-172667426BEA</td>\n",
       "      <td>Level 2</td>\n",
       "      <td>Closed</td>\n",
       "      <td>Good</td>\n",
       "      <td>Full</td>\n",
       "      <td>14.0</td>\n",
       "      <td>57CF781A-0975-4BFE-9904-D6CD8A6EE5A3</td>\n",
       "      <td>2022-09-09 13:36:22.0000000</td>\n",
       "      <td>2022-09-09 13:36:22.0000000</td>\n",
       "      <td>2022-09-09 13:36:22.0000000</td>\n",
       "      <td>NaN</td>\n",
       "      <td>NaN</td>\n",
       "      <td>NaN</td>\n",
       "      <td>POINT (-73.84681453739462 40.826964362109955)</td>\n",
       "      <td>NaN</td>\n",
       "      <td>NaN</td>\n",
       "      <td>NaN</td>\n",
       "      <td>NaN</td>\n",
       "      <td>NaN</td>\n",
       "      <td>NaN</td>\n",
       "      <td>NaN</td>\n",
       "      <td>NaN</td>\n",
       "      <td>NaN</td>\n",
       "      <td>NaN</td>\n",
       "      <td>NaN</td>\n",
       "      <td>NaN</td>\n",
       "      <td>NaN</td>\n",
       "      <td>NaN</td>\n",
       "      <td>NaN</td>\n",
       "      <td>NaN</td>\n",
       "    </tr>\n",
       "    <tr>\n",
       "      <th>2</th>\n",
       "      <td>Plant Tree</td>\n",
       "      <td>Street Tree</td>\n",
       "      <td>Routine</td>\n",
       "      <td>3-1-1 Call Center</td>\n",
       "      <td>Open</td>\n",
       "      <td>Reviewed - Inspection Assigned</td>\n",
       "      <td>Staten Island</td>\n",
       "      <td>502.0</td>\n",
       "      <td>NaN</td>\n",
       "      <td>77D798B5-4687-4430-A2AE-AE693E674AB0</td>\n",
       "      <td>2021-04-13 18:09:06.0000000</td>\n",
       "      <td>NaN</td>\n",
       "      <td>2022-07-07 15:28:00.0000000</td>\n",
       "      <td>2022-10-03 13:04:00.0000000</td>\n",
       "      <td>For One Address</td>\n",
       "      <td>New Tree Request</td>\n",
       "      <td>NaN</td>\n",
       "      <td>Business\\n\\nBusiness</td>\n",
       "      <td>40.599059</td>\n",
       "      <td>-74.126842</td>\n",
       "      <td>187.03</td>\n",
       "      <td>Todt Hill-Emerson Hill-Lighthouse Hill-Manor H...</td>\n",
       "      <td>10700.0</td>\n",
       "      <td>77D798B5-4687-4430-A2AE-AE693E674AB0</td>\n",
       "      <td>NaN</td>\n",
       "      <td>NaN</td>\n",
       "      <td>NaN</td>\n",
       "      <td>NaN</td>\n",
       "      <td>NaN</td>\n",
       "      <td>-</td>\n",
       "      <td>NaN</td>\n",
       "      <td>NaN</td>\n",
       "      <td>NaN</td>\n",
       "      <td>NaN</td>\n",
       "      <td>NaN</td>\n",
       "      <td>NaN</td>\n",
       "      <td>NaN</td>\n",
       "      <td>NaN</td>\n",
       "      <td>NaN</td>\n",
       "      <td>NaN</td>\n",
       "      <td>NaN</td>\n",
       "      <td>NaN</td>\n",
       "      <td>NaN</td>\n",
       "      <td>NaN</td>\n",
       "      <td>NaN</td>\n",
       "      <td>NaN</td>\n",
       "      <td>NaN</td>\n",
       "      <td>NaN</td>\n",
       "      <td>NaN</td>\n",
       "      <td>NaN</td>\n",
       "      <td>NaN</td>\n",
       "      <td>NaN</td>\n",
       "      <td>NaN</td>\n",
       "    </tr>\n",
       "    <tr>\n",
       "      <th>3</th>\n",
       "      <td>Hazard</td>\n",
       "      <td>Hanging Limb Other</td>\n",
       "      <td>Routine</td>\n",
       "      <td>3-1-1 Call Center</td>\n",
       "      <td>Open</td>\n",
       "      <td>Work Priority Category - C</td>\n",
       "      <td>Queens</td>\n",
       "      <td>407.0</td>\n",
       "      <td>799570A8-71A4-4361-A6A8-464FA8AD9448</td>\n",
       "      <td>591583A7-B107-49EC-BFA7-415BE6D3EA4B</td>\n",
       "      <td>2021-07-31 20:32:57.0000000</td>\n",
       "      <td>NaN</td>\n",
       "      <td>2022-07-07 15:30:49.0000000</td>\n",
       "      <td>2022-07-08 14:13:46.0000000</td>\n",
       "      <td>Branch Cracked and Will Fall</td>\n",
       "      <td>Damaged Tree</td>\n",
       "      <td>NaN</td>\n",
       "      <td>NaN</td>\n",
       "      <td>40.769165</td>\n",
       "      <td>-73.800688</td>\n",
       "      <td>1147.00</td>\n",
       "      <td>Murray Hill-Broadway Flushing</td>\n",
       "      <td>14193.0</td>\n",
       "      <td>799570A8-71A4-4361-A6A8-464FA8AD9448</td>\n",
       "      <td>Level 2</td>\n",
       "      <td>Closed</td>\n",
       "      <td>Good</td>\n",
       "      <td>Full</td>\n",
       "      <td>33.0</td>\n",
       "      <td>BD916064-C30D-48F7-9397-F66DCF01203D</td>\n",
       "      <td>2022-06-13 04:00:00.0000000</td>\n",
       "      <td>2022-06-13 19:12:00.0000000</td>\n",
       "      <td>2022-06-13 19:09:00.0000000</td>\n",
       "      <td>2022-06-13 19:15:11.0000000</td>\n",
       "      <td>NaN</td>\n",
       "      <td>NaN</td>\n",
       "      <td>POINT (-73.80039800602839 40.7690878004193)</td>\n",
       "      <td>Hanging Limb</td>\n",
       "      <td>Pending</td>\n",
       "      <td>8.0</td>\n",
       "      <td>Queens</td>\n",
       "      <td>53D63DEA-0EFE-4DB7-89CB-EE8C5CBDD728</td>\n",
       "      <td>NaN</td>\n",
       "      <td>NaN</td>\n",
       "      <td>NaN</td>\n",
       "      <td>2022-06-13 19:15:00.0000000</td>\n",
       "      <td>2022-06-13 19:15:13.0000000</td>\n",
       "      <td>Con-Ed</td>\n",
       "      <td>NaN</td>\n",
       "      <td>NaN</td>\n",
       "      <td>Risk Mitigation</td>\n",
       "      <td>NaN</td>\n",
       "      <td>POINT (-73.80039800602839 40.7690878004193)</td>\n",
       "    </tr>\n",
       "    <tr>\n",
       "      <th>4</th>\n",
       "      <td>Root/Sewer/Sidewalk</td>\n",
       "      <td>Trees and Sidewalks</td>\n",
       "      <td>Routine</td>\n",
       "      <td>3-1-1 Call Center</td>\n",
       "      <td>Closed</td>\n",
       "      <td>T/S Inspected - Repair Pending</td>\n",
       "      <td>Brooklyn</td>\n",
       "      <td>317.0</td>\n",
       "      <td>NaN</td>\n",
       "      <td>3831B9B0-6787-4A4B-90EF-BC83CDB67735</td>\n",
       "      <td>2021-10-14 22:50:02.0000000</td>\n",
       "      <td>2022-08-05 15:40:29.0000000</td>\n",
       "      <td>2022-07-07 15:30:52.0000000</td>\n",
       "      <td>2022-08-05 15:40:29.0000000</td>\n",
       "      <td>Trees and Sidewalks Program</td>\n",
       "      <td>Root/Sewer/Sidewalk Condition</td>\n",
       "      <td>NaN</td>\n",
       "      <td>NaN</td>\n",
       "      <td>40.638333</td>\n",
       "      <td>-73.934780</td>\n",
       "      <td>836.00</td>\n",
       "      <td>East Flatbush-Farragut</td>\n",
       "      <td>16866.0</td>\n",
       "      <td>3831B9B0-6787-4A4B-90EF-BC83CDB67735</td>\n",
       "      <td>Sidewalk Rating</td>\n",
       "      <td>Closed</td>\n",
       "      <td>Good</td>\n",
       "      <td>Full</td>\n",
       "      <td>22.0</td>\n",
       "      <td>1D67BA0C-DDA6-40F2-B4BA-89F6D185AEF6</td>\n",
       "      <td>2022-08-05 15:40:07.0000000</td>\n",
       "      <td>2022-08-05 15:40:07.0000000</td>\n",
       "      <td>2022-08-05 15:40:07.0000000</td>\n",
       "      <td>NaN</td>\n",
       "      <td>NaN</td>\n",
       "      <td>NaN</td>\n",
       "      <td>POINT (-73.93487015325061 40.63845723855442)</td>\n",
       "      <td>NaN</td>\n",
       "      <td>NaN</td>\n",
       "      <td>NaN</td>\n",
       "      <td>NaN</td>\n",
       "      <td>NaN</td>\n",
       "      <td>NaN</td>\n",
       "      <td>NaN</td>\n",
       "      <td>NaN</td>\n",
       "      <td>NaN</td>\n",
       "      <td>NaN</td>\n",
       "      <td>NaN</td>\n",
       "      <td>NaN</td>\n",
       "      <td>NaN</td>\n",
       "      <td>NaN</td>\n",
       "      <td>NaN</td>\n",
       "      <td>NaN</td>\n",
       "    </tr>\n",
       "  </tbody>\n",
       "</table>\n",
       "</div>"
      ],
      "text/plain": [
       "            SRCategory               SRType SRPriority           SRSource  \\\n",
       "0           Plant Tree          Street Tree    Routine  3-1-1 Call Center   \n",
       "1                Prune       Clear Building    Routine  3-1-1 Call Center   \n",
       "2           Plant Tree          Street Tree    Routine  3-1-1 Call Center   \n",
       "3               Hazard   Hanging Limb Other    Routine  3-1-1 Call Center   \n",
       "4  Root/Sewer/Sidewalk  Trees and Sidewalks    Routine  3-1-1 Call Center   \n",
       "\n",
       "  SRStatus                    SRResolution    BoroughCode  CommunityBoard  \\\n",
       "0     Open  Reviewed - Inspection Assigned         Queens           411.0   \n",
       "1   Closed       Inspected - No Work Order          Bronx           209.0   \n",
       "2     Open  Reviewed - Inspection Assigned  Staten Island           502.0   \n",
       "3     Open      Work Priority Category - C         Queens           407.0   \n",
       "4   Closed  T/S Inspected - Repair Pending       Brooklyn           317.0   \n",
       "\n",
       "           ServiceRequestParentGlobalID                              GlobalID  \\\n",
       "0                                   NaN  3EC81228-3DE6-4314-8339-F89A0720A9A8   \n",
       "1                                   NaN  4B8D16C7-CA9C-49A8-9219-172667426BEA   \n",
       "2                                   NaN  77D798B5-4687-4430-A2AE-AE693E674AB0   \n",
       "3  799570A8-71A4-4361-A6A8-464FA8AD9448  591583A7-B107-49EC-BFA7-415BE6D3EA4B   \n",
       "4                                   NaN  3831B9B0-6787-4A4B-90EF-BC83CDB67735   \n",
       "\n",
       "                 InitiatedDate                 SRClosedDate  \\\n",
       "0  2020-11-05 18:09:20.0000000                          NaN   \n",
       "1  2021-01-27 14:18:08.0000000  2022-09-09 13:36:28.0000000   \n",
       "2  2021-04-13 18:09:06.0000000                          NaN   \n",
       "3  2021-07-31 20:32:57.0000000                          NaN   \n",
       "4  2021-10-14 22:50:02.0000000  2022-08-05 15:40:29.0000000   \n",
       "\n",
       "                 SRCreatedDate                SRUpdatedDate  \\\n",
       "0  2022-07-07 15:28:00.0000000  2022-10-03 13:03:00.0000000   \n",
       "1  2022-07-07 15:30:53.0000000  2022-09-09 13:36:28.0000000   \n",
       "2  2022-07-07 15:28:00.0000000  2022-10-03 13:04:00.0000000   \n",
       "3  2022-07-07 15:30:49.0000000  2022-07-08 14:13:46.0000000   \n",
       "4  2022-07-07 15:30:52.0000000  2022-08-05 15:40:29.0000000   \n",
       "\n",
       "                    Descriptor1                  ComplaintType CallerZipCode  \\\n",
       "0               For One Address               New Tree Request           NaN   \n",
       "1              Hitting Building        Overgrown Tree/Branches           NaN   \n",
       "2               For One Address               New Tree Request           NaN   \n",
       "3  Branch Cracked and Will Fall                   Damaged Tree           NaN   \n",
       "4   Trees and Sidewalks Program  Root/Sewer/Sidewalk Condition           NaN   \n",
       "\n",
       "           SRCallerType   Latitude  Longitude  Census Tract  \\\n",
       "0  Business\\n\\nBusiness  40.766138 -73.745175       1479.00   \n",
       "1                   NaN  40.826875 -73.846715         98.00   \n",
       "2  Business\\n\\nBusiness  40.599059 -74.126842        187.03   \n",
       "3                   NaN  40.769165 -73.800688       1147.00   \n",
       "4                   NaN  40.638333 -73.934780        836.00   \n",
       "\n",
       "                                                 NTA  Zip Codes 2  \\\n",
       "0                             Douglaston-Little Neck      14505.0   \n",
       "1                              Castle Hill-Unionport      11611.0   \n",
       "2  Todt Hill-Emerson Hill-Lighthouse Hill-Manor H...      10700.0   \n",
       "3                      Murray Hill-Broadway Flushing      14193.0   \n",
       "4                             East Flatbush-Farragut      16866.0   \n",
       "\n",
       "                             SRGlobalID   InspectionType InspectionStatus  \\\n",
       "0  3EC81228-3DE6-4314-8339-F89A0720A9A8              NaN              NaN   \n",
       "1  4B8D16C7-CA9C-49A8-9219-172667426BEA          Level 2           Closed   \n",
       "2  77D798B5-4687-4430-A2AE-AE693E674AB0              NaN              NaN   \n",
       "3  799570A8-71A4-4361-A6A8-464FA8AD9448          Level 2           Closed   \n",
       "4  3831B9B0-6787-4A4B-90EF-BC83CDB67735  Sidewalk Rating           Closed   \n",
       "\n",
       "  InspectionTPCondition InspectionTPStructure  TreePointDBH  \\\n",
       "0                   NaN                   NaN           NaN   \n",
       "1                  Good                  Full          14.0   \n",
       "2                   NaN                   NaN           NaN   \n",
       "3                  Good                  Full          33.0   \n",
       "4                  Good                  Full          22.0   \n",
       "\n",
       "                            InsGlobalID               InspectionDate  \\\n",
       "0                                     -                          NaN   \n",
       "1  57CF781A-0975-4BFE-9904-D6CD8A6EE5A3  2022-09-09 13:36:22.0000000   \n",
       "2                                     -                          NaN   \n",
       "3  BD916064-C30D-48F7-9397-F66DCF01203D  2022-06-13 04:00:00.0000000   \n",
       "4  1D67BA0C-DDA6-40F2-B4BA-89F6D185AEF6  2022-08-05 15:40:07.0000000   \n",
       "\n",
       "                 InsClosedDate               InsCreatedDate  \\\n",
       "0                          NaN                          NaN   \n",
       "1  2022-09-09 13:36:22.0000000  2022-09-09 13:36:22.0000000   \n",
       "2                          NaN                          NaN   \n",
       "3  2022-06-13 19:12:00.0000000  2022-06-13 19:09:00.0000000   \n",
       "4  2022-08-05 15:40:07.0000000  2022-08-05 15:40:07.0000000   \n",
       "\n",
       "                InsUpdatedDate ParentInspectionGlobalID ReinspectionDate  \\\n",
       "0                          NaN                      NaN              NaN   \n",
       "1                          NaN                      NaN              NaN   \n",
       "2                          NaN                      NaN              NaN   \n",
       "3  2022-06-13 19:15:11.0000000                      NaN              NaN   \n",
       "4                          NaN                      NaN              NaN   \n",
       "\n",
       "                                        Location        WOType WOStatus  \\\n",
       "0                                            NaN           NaN      NaN   \n",
       "1  POINT (-73.84681453739462 40.826964362109955)           NaN      NaN   \n",
       "2                                            NaN           NaN      NaN   \n",
       "3    POINT (-73.80039800602839 40.7690878004193)  Hanging Limb  Pending   \n",
       "4   POINT (-73.93487015325061 40.63845723855442)           NaN      NaN   \n",
       "\n",
       "   WOPriority Borough                            WOGlobalID WOClosedDate  \\\n",
       "0         NaN     NaN                                   NaN          NaN   \n",
       "1         NaN     NaN                                   NaN          NaN   \n",
       "2         NaN     NaN                                   NaN          NaN   \n",
       "3         8.0  Queens  53D63DEA-0EFE-4DB7-89CB-EE8C5CBDD728          NaN   \n",
       "4         NaN     NaN                                   NaN          NaN   \n",
       "\n",
       "  CancelDate CancelReason                WOCreatedDate  \\\n",
       "0        NaN          NaN                          NaN   \n",
       "1        NaN          NaN                          NaN   \n",
       "2        NaN          NaN                          NaN   \n",
       "3        NaN          NaN  2022-06-13 19:15:00.0000000   \n",
       "4        NaN          NaN                          NaN   \n",
       "\n",
       "                 WOUpdatedDate WOEntity PROJSTARTDATE WOProject  \\\n",
       "0                          NaN      NaN           NaN       NaN   \n",
       "1                          NaN      NaN           NaN       NaN   \n",
       "2                          NaN      NaN           NaN       NaN   \n",
       "3  2022-06-13 19:15:13.0000000   Con-Ed           NaN       NaN   \n",
       "4                          NaN      NaN           NaN       NaN   \n",
       "\n",
       "        WOCategory RecommendedSpecies  \\\n",
       "0              NaN                NaN   \n",
       "1              NaN                NaN   \n",
       "2              NaN                NaN   \n",
       "3  Risk Mitigation                NaN   \n",
       "4              NaN                NaN   \n",
       "\n",
       "                                   Location_WO  \n",
       "0                                          NaN  \n",
       "1                                          NaN  \n",
       "2                                          NaN  \n",
       "3  POINT (-73.80039800602839 40.7690878004193)  \n",
       "4                                          NaN  "
      ]
     },
     "execution_count": 26,
     "metadata": {},
     "output_type": "execute_result"
    }
   ],
   "source": [
    "mergeddf.head()"
   ]
  },
  {
   "attachments": {},
   "cell_type": "markdown",
   "metadata": {},
   "source": [
    "# Merge Risk Assessments"
   ]
  },
  {
   "cell_type": "code",
   "execution_count": 27,
   "metadata": {},
   "outputs": [
    {
     "data": {
      "text/plain": [
       "((174537, 11), (107081, 63))"
      ]
     },
     "execution_count": 27,
     "metadata": {},
     "output_type": "execute_result"
    }
   ],
   "source": [
    "# merge SRs + Insps + WOs w/ Risk Assessmts\n",
    "mergeddf = pd.merge(mergeddf, FRA, on='InsGlobalID', how='left', suffixes=('', '_RA'))\n",
    "FRA.shape, mergeddf.shape"
   ]
  },
  {
   "cell_type": "code",
   "execution_count": null,
   "metadata": {},
   "outputs": [],
   "source": [
    "# drop cols with all null values, if any\n",
    "# mergeddf = mergeddf.dropna(axis=1, how='all')"
   ]
  },
  {
   "cell_type": "code",
   "execution_count": 28,
   "metadata": {},
   "outputs": [
    {
     "data": {
      "text/plain": [
       "array(['SRCategory', 'SRType', 'SRPriority', 'SRSource', 'SRStatus',\n",
       "       'SRResolution', 'BoroughCode', 'CommunityBoard',\n",
       "       'ServiceRequestParentGlobalID', 'GlobalID', 'InitiatedDate',\n",
       "       'SRClosedDate', 'SRCreatedDate', 'SRUpdatedDate', 'Descriptor1',\n",
       "       'ComplaintType', 'CallerZipCode', 'SRCallerType', 'Latitude',\n",
       "       'Longitude', 'Census Tract', 'NTA', 'Zip Codes 2', 'SRGlobalID',\n",
       "       'InspectionType', 'InspectionStatus', 'InspectionTPCondition',\n",
       "       'InspectionTPStructure', 'TreePointDBH', 'InsGlobalID',\n",
       "       'InspectionDate', 'InsClosedDate', 'InsCreatedDate',\n",
       "       'InsUpdatedDate', 'ParentInspectionGlobalID', 'ReinspectionDate',\n",
       "       'Location', 'WOType', 'WOStatus', 'WOPriority', 'Borough',\n",
       "       'WOGlobalID', 'WOClosedDate', 'CancelDate', 'CancelReason',\n",
       "       'WOCreatedDate', 'WOUpdatedDate', 'WOEntity', 'PROJSTARTDATE',\n",
       "       'WOProject', 'WOCategory', 'RecommendedSpecies', 'Location_WO',\n",
       "       'RADefect', 'RADefectLocation', 'Failure', 'ImpactTarget',\n",
       "       'Consequence', 'RiskRating', 'RAGlobalID', 'RACreatedDate',\n",
       "       'FailureImpact', 'WorkOrderGlobalID'], dtype=object)"
      ]
     },
     "execution_count": 28,
     "metadata": {},
     "output_type": "execute_result"
    }
   ],
   "source": [
    "mergeddf.columns.values # what we're working with"
   ]
  },
  {
   "attachments": {},
   "cell_type": "markdown",
   "metadata": {},
   "source": [
    "# Export joint table"
   ]
  },
  {
   "cell_type": "code",
   "execution_count": null,
   "metadata": {},
   "outputs": [],
   "source": [
    "compression_opts = dict(method='zip', archive_name='joint_public_data_2022.csv')  \n",
    "mergeddf.to_csv('joint_public_data_2022.zip', index=False, compression=compression_opts) "
   ]
  },
  {
   "attachments": {},
   "cell_type": "markdown",
   "metadata": {},
   "source": [
    "# Export to Geojson"
   ]
  },
  {
   "cell_type": "code",
   "execution_count": null,
   "metadata": {},
   "outputs": [],
   "source": [
    "#Sample Format\n",
    "{\n",
    "  \"features\": [\n",
    "    {\n",
    "      \"type\": \"Feature\",\n",
    "      \"properties\": {\n",
    "        \"title\": \"Lincoln Park\",\n",
    "        \"description\": \"A northside park that is home to the Lincoln Park Zoo\"\n",
    "      },\n",
    "      \"geometry\": {\n",
    "        \"coordinates\": [-87.637596, 41.940403],\n",
    "        \"type\": \"Point\"\n",
    "      }\n",
    "    },\n",
    "    {\n",
    "      \"type\": \"Feature\",\n",
    "      \"properties\": {\n",
    "        \"title\": \"Burnham Park\",\n",
    "        \"description\": \"A lakefront park on Chicago's south side\"\n",
    "      },\n",
    "      \"geometry\": {\n",
    "        \"coordinates\": [-87.603735, 41.829985],\n",
    "        \"type\": \"Point\"\n",
    "      }\n",
    "    },\n",
    "  ],\n",
    "  \"type\": \"FeatureCollection\"\n",
    "}"
   ]
  },
  {
   "cell_type": "code",
   "execution_count": null,
   "metadata": {},
   "outputs": [],
   "source": [
    "# adapted from https://notebook.community/captainsafia/nteract/applications/desktop/example-notebooks/pandas-to-geojson\n",
    "def df_to_geojson(df, properties, lat='latitude', lon='longitude'):\n",
    "    # create a new python dict to contain our geojson data, using geojson format\n",
    "    geojson = {'features':[], 'type':'FeatureCollection'}\n",
    "\n",
    "    # loop through each row in the dataframe and convert each row to geojson format\n",
    "    for _, row in df.iterrows():\n",
    "        # create a feature template to fill in\n",
    "        feature = {'type':'Feature',\n",
    "                   'properties':{},\n",
    "                   'geometry':{'coordinates':[],\n",
    "                               'type': 'Point'}\n",
    "                  }\n",
    "\n",
    "        # fill in the coordinates\n",
    "        feature['geometry']['coordinates'] = [row[lon],row[lat]]\n",
    "\n",
    "        # for each column, get the value and add it as a new feature property\n",
    "        for prop in properties:\n",
    "            feature['properties'][prop] = row[prop]\n",
    "        \n",
    "        # add this feature (aka, converted dataframe row) to the list of features inside our dict\n",
    "        geojson['features'].append(feature)\n",
    "    \n",
    "    return geojson"
   ]
  },
  {
   "cell_type": "code",
   "execution_count": null,
   "metadata": {},
   "outputs": [],
   "source": [
    "mergeddf.columns"
   ]
  },
  {
   "cell_type": "code",
   "execution_count": null,
   "metadata": {},
   "outputs": [],
   "source": [
    "mergeddf[\"riskrating\"]"
   ]
  },
  {
   "cell_type": "code",
   "execution_count": null,
   "metadata": {},
   "outputs": [],
   "source": [
    "cols_to_keep = ['srcategory', 'complainttype', 'srtype', 'descriptor1', 'srpriority', 'srstatus', 'srresolution', \n",
    "        'initiateddate', 'SRClosedDate', 'SRCreatedDate', 'SRUpdatedDate', 'SRGlobalID',\n",
    "        'inspectiontype', 'inspectionstatus', 'inspectiontpcondition', 'inspectiontpstructure', \n",
    "        'inspectiondate', 'InsCreatedDate', 'InsUpdatedDate',  'InsClosedDate', 'reinspectiondate', 'parentinspectionglobalid', 'InsGlobalID',\n",
    "        'WOGlobalID','wotype', 'wostatus', 'wocategory', 'woentity', 'woproject', 'wopriority',\n",
    "        'WOCreatedDate', 'WOUpdatedDate',  'WOClosedDate', 'cancelreason', 'canceldate', 'projstartdate',\n",
    "        'radefect', 'radefectlocation', 'failure', 'failureimpact', 'impacttarget', 'consequence', 'riskrating', \n",
    "        'RAGlobalID', 'RACreatedDate', 'nta', 'boroughcode', 'communityboard', 'zipcode', 'census_tract', 'latitude_SR', 'longitude_SR'] #, 'geometry_SR']"
   ]
  },
  {
   "cell_type": "code",
   "execution_count": null,
   "metadata": {},
   "outputs": [],
   "source": [
    "mergeddf.columns"
   ]
  },
  {
   "cell_type": "code",
   "execution_count": null,
   "metadata": {},
   "outputs": [],
   "source": [
    "mergeddf = mergeddf[cols_to_keep]"
   ]
  },
  {
   "cell_type": "code",
   "execution_count": null,
   "metadata": {},
   "outputs": [],
   "source": [
    "#drop rows with missing values\n",
    "# df = mergeddf.dropna()"
   ]
  },
  {
   "attachments": {},
   "cell_type": "markdown",
   "metadata": {},
   "source": [
    "# Data Aggregation"
   ]
  },
  {
   "attachments": {},
   "cell_type": "markdown",
   "metadata": {},
   "source": [
    "## Columns Inspection"
   ]
  },
  {
   "cell_type": "code",
   "execution_count": null,
   "metadata": {},
   "outputs": [],
   "source": [
    "#data are based on those with geographic data\n",
    "#sr category\n",
    "mergeddf.srcategory.unique()"
   ]
  },
  {
   "cell_type": "code",
   "execution_count": null,
   "metadata": {},
   "outputs": [],
   "source": [
    "#complait type\n",
    "mergeddf.complainttype.unique()"
   ]
  },
  {
   "cell_type": "code",
   "execution_count": null,
   "metadata": {},
   "outputs": [],
   "source": [
    "#sr type\n",
    "mergeddf.srtype.unique()"
   ]
  },
  {
   "cell_type": "code",
   "execution_count": null,
   "metadata": {},
   "outputs": [],
   "source": [
    "mergeddf.srresolution.unique()"
   ]
  },
  {
   "cell_type": "code",
   "execution_count": null,
   "metadata": {},
   "outputs": [],
   "source": [
    "mergeddf.InsCreatedDate.unique()"
   ]
  },
  {
   "cell_type": "code",
   "execution_count": null,
   "metadata": {},
   "outputs": [],
   "source": [
    "mergeddf.inspectiontype.unique()"
   ]
  },
  {
   "cell_type": "code",
   "execution_count": null,
   "metadata": {},
   "outputs": [],
   "source": [
    "len(mergeddf)"
   ]
  },
  {
   "attachments": {},
   "cell_type": "markdown",
   "metadata": {},
   "source": [
    "### Data Insights"
   ]
  },
  {
   "cell_type": "code",
   "execution_count": null,
   "metadata": {},
   "outputs": [],
   "source": [
    "len(mergeddf[(mergeddf.InsCreatedDate != \"N/A\") & (mergeddf.inspectiontype == \"N/A\")])"
   ]
  },
  {
   "cell_type": "code",
   "execution_count": null,
   "metadata": {},
   "outputs": [],
   "source": [
    "mergeddf.columns"
   ]
  },
  {
   "attachments": {},
   "cell_type": "markdown",
   "metadata": {},
   "source": [
    "## Add columns for graph & aggregation"
   ]
  },
  {
   "cell_type": "code",
   "execution_count": null,
   "metadata": {},
   "outputs": [],
   "source": [
    "mergeddf.InsGlobalID.unique()"
   ]
  },
  {
   "cell_type": "code",
   "execution_count": null,
   "metadata": {},
   "outputs": [],
   "source": [
    "mergeddf['inspection_attached'] = np.where(mergeddf['InsGlobalID']!= '0', True, False)"
   ]
  },
  {
   "cell_type": "code",
   "execution_count": null,
   "metadata": {},
   "outputs": [],
   "source": [
    "mergeddf['wo_attached'] = np.where(mergeddf['WOGlobalID'] != 'N/A', True, False)"
   ]
  },
  {
   "cell_type": "code",
   "execution_count": null,
   "metadata": {},
   "outputs": [],
   "source": [
    "mergeddf['initiateddate'] = pd.to_datetime(mergeddf['initiateddate'],errors='coerce')\n",
    "mergeddf['initiated_year'] = pd.DatetimeIndex(mergeddf['initiateddate']).year\n",
    "mergeddf['initiated_month'] = pd.DatetimeIndex(mergeddf['initiateddate']).month\n",
    "mergeddf['SRCreatedDate_datetime'] = pd.to_datetime(mergeddf['SRCreatedDate'],errors='coerce')"
   ]
  },
  {
   "attachments": {},
   "cell_type": "markdown",
   "metadata": {},
   "source": [
    "## Calculate Numbers"
   ]
  },
  {
   "attachments": {},
   "cell_type": "markdown",
   "metadata": {},
   "source": [
    "### SR Total"
   ]
  },
  {
   "cell_type": "code",
   "execution_count": null,
   "metadata": {},
   "outputs": [],
   "source": [
    "#for global\n",
    "len(mergeddf)"
   ]
  },
  {
   "cell_type": "code",
   "execution_count": null,
   "metadata": {},
   "outputs": [],
   "source": [
    "#for each month\n",
    "count_by_month = mergeddf['SRCreatedDate_datetime'].apply(lambda row: row.month)\n",
    "count_by_month = count_by_month.to_frame()\n",
    "count_by_month.rename(columns={'SRCreatedDate_datetime' : 'SRCreated_month'}, inplace = \"True\")"
   ]
  },
  {
   "cell_type": "code",
   "execution_count": null,
   "metadata": {},
   "outputs": [],
   "source": [
    "count_by_month.groupby([\"SRCreated_month\"]).size()"
   ]
  },
  {
   "attachments": {},
   "cell_type": "markdown",
   "metadata": {},
   "source": [
    "### Uninspected Service Requests"
   ]
  },
  {
   "cell_type": "code",
   "execution_count": null,
   "metadata": {},
   "outputs": [],
   "source": [
    "uninspected = mergeddf[mergeddf[\"inspection_attached\"] == False]"
   ]
  },
  {
   "cell_type": "code",
   "execution_count": null,
   "metadata": {},
   "outputs": [],
   "source": [
    "#For global\n",
    "len(uninspected)"
   ]
  },
  {
   "cell_type": "code",
   "execution_count": null,
   "metadata": {},
   "outputs": [],
   "source": [
    "#For each month\n",
    "uninspected_by_month = uninspected['SRCreatedDate_datetime'].apply(lambda row: row.month).to_frame()\n",
    "uninspected_by_month.rename(columns={'SRCreatedDate_datetime' : 'SRCreated_month'}, inplace = \"True\")\n"
   ]
  },
  {
   "cell_type": "code",
   "execution_count": null,
   "metadata": {},
   "outputs": [],
   "source": [
    "uninspected_by_month.groupby([\"SRCreated_month\"]).size()"
   ]
  },
  {
   "attachments": {},
   "cell_type": "markdown",
   "metadata": {},
   "source": [
    "# Dump data to geojson"
   ]
  },
  {
   "cell_type": "code",
   "execution_count": null,
   "metadata": {},
   "outputs": [],
   "source": [
    "#drop rows is there's no geometry info\n",
    "mergeddf = mergeddf[mergeddf['latitude_SR'].notna()]"
   ]
  },
  {
   "cell_type": "code",
   "execution_count": null,
   "metadata": {},
   "outputs": [],
   "source": [
    "mergeddf['complainttype'].fillna('None Selected', inplace=True)\n",
    "mergeddf['srtype'].fillna('None Selected', inplace=True)\n",
    "mergeddf['riskrating'].fillna(0, inplace=True)\n",
    "mergeddf.fillna('N/A', inplace = True)"
   ]
  },
  {
   "cell_type": "code",
   "execution_count": null,
   "metadata": {},
   "outputs": [],
   "source": [
    "geojson = df_to_geojson(mergeddf, cols_to_keep, lat='latitude_SR', lon='longitude_SR')"
   ]
  },
  {
   "cell_type": "code",
   "execution_count": null,
   "metadata": {},
   "outputs": [],
   "source": [
    "fileName = \"{}{}\".format(last_fetch_time, \".geojson\")\n",
    "with open(fileName, 'w') as outfile:\n",
    "    dump(geojson, outfile)"
   ]
  }
 ],
 "metadata": {
  "kernelspec": {
   "display_name": "Python 3",
   "language": "python",
   "name": "python3"
  },
  "language_info": {
   "codemirror_mode": {
    "name": "ipython",
    "version": 3
   },
   "file_extension": ".py",
   "mimetype": "text/x-python",
   "name": "python",
   "nbconvert_exporter": "python",
   "pygments_lexer": "ipython3",
   "version": "3.10.6"
  },
  "orig_nbformat": 4,
  "vscode": {
   "interpreter": {
    "hash": "aee8b7b246df8f9039afb4144a1f6fd8d2ca17a180786b69acc140d282b71a49"
   }
  }
 },
 "nbformat": 4,
 "nbformat_minor": 2
}
