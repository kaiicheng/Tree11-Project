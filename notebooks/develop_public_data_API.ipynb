{
 "cells": [
  {
   "cell_type": "code",
   "execution_count": 2,
   "metadata": {},
   "outputs": [],
   "source": [
    "import pandas as pd\n",
    "import geopandas as gpd\n",
    "import pandas as pd\n",
    "from shapely.geometry import Point\n",
    "from geojson import Point, Feature, FeatureCollection, dump\n",
    "import requests\n",
    "import json\n",
    "import math\n",
    "import numpy\n",
    "import os\n",
    "import sys\n",
    "import datetime\n",
    "import numpy as np"
   ]
  },
  {
   "cell_type": "code",
   "execution_count": 3,
   "metadata": {},
   "outputs": [],
   "source": [
    "def get_data(url):\n",
    "    api = requests.get(url)\n",
    "    print('Complete Fetch', url, \" \", api.status_code)\n",
    "    data = api.text\n",
    "    js = json.loads(data)\n",
    "    return pd.DataFrame.from_dict(js)"
   ]
  },
  {
   "cell_type": "code",
   "execution_count": 4,
   "metadata": {},
   "outputs": [],
   "source": [
    "last_fetch_time = \"'2023-01-01T12:00:00.000'\""
   ]
  },
  {
   "cell_type": "code",
   "execution_count": 5,
   "metadata": {},
   "outputs": [
    {
     "name": "stdout",
     "output_type": "stream",
     "text": [
      "Complete Fetch https://data.cityofnewyork.us/resource/mu46-p9is.json?$where=createddate>'2023-01-01T12:00:00.000'&$limit=1000000   200\n",
      "Complete Fetch https://data.cityofnewyork.us/resource/4pt5-3vv4.json?$where=createddate>'2023-01-01T12:00:00.000'&$limit=1000000   200\n",
      "Complete Fetch https://data.cityofnewyork.us/resource/bdjm-n7q4.json?$where=createddate>'2023-01-01T12:00:00.000'&$limit=1000000   200\n",
      "Complete Fetch https://data.cityofnewyork.us/resource/259a-b6s7.json?$where=createddate>'2023-01-01T12:00:00.000'&$limit=1000000   200\n"
     ]
    },
    {
     "data": {
      "text/plain": [
       "(5542, 20526, 7156, 14089)"
      ]
     },
     "execution_count": 5,
     "metadata": {},
     "output_type": "execute_result"
    }
   ],
   "source": [
    "\n",
    "FSR = get_data(\"https://data.cityofnewyork.us/resource/mu46-p9is.json?$where=createddate>\" + last_fetch_time + \"&$limit=1000000\")\n",
    "FI = get_data(\"https://data.cityofnewyork.us/resource/4pt5-3vv4.json?$where=createddate>\" + last_fetch_time + \"&$limit=1000000\")\n",
    "FWO = get_data(\"https://data.cityofnewyork.us/resource/bdjm-n7q4.json?$where=createddate>\"+ last_fetch_time + \"&$limit=1000000\")\n",
    "FRA = get_data(\"https://data.cityofnewyork.us/resource/259a-b6s7.json?$where=createddate>\" + last_fetch_time + \"&$limit=1000000\")\n",
    "# shape = gpd.read_file(\"visualize/viz_data/nycb2020.shp\") # shapefile for census tracts\n",
    "# https://www.nyc.gov/site/planning/data-maps/open-data/census-download-metadata.page this contains census blocks, used for joining the demographics\n",
    "len(FSR), len(FI), len(FWO), len(FRA)"
   ]
  },
  {
   "cell_type": "code",
   "execution_count": 6,
   "metadata": {},
   "outputs": [
    {
     "data": {
      "text/plain": [
       "Index(['objectid', 'complaintnumber', 'srcategory', 'srtype', 'srpriority',\n",
       "       'srsource', 'srstatus', 'srresolution', 'boroughcode', 'communityboard',\n",
       "       'buildingnumber', 'streetname', 'crossstreet1', 'crossstreet2',\n",
       "       'locationdetails', 'zipcode', 'citycouncil', 'statesenate',\n",
       "       'stateassembly', 'congressional', 'sanitationzone', 'physicalid',\n",
       "       'geometry', 'globalid', 'initiateddate', 'createddate', 'updateddate',\n",
       "       'descriptor1', 'complainttype', 'srcallertype', 'latitude', 'longitude',\n",
       "       'census_tract', 'bin', 'bbl', 'nta', 'location', 'complaintdetails',\n",
       "       'notestocustomer', 'servicerequestparentglobalid', 'closeddate',\n",
       "       'callerstate', 'callerzipcode', 'callercity', 'parkname', 'parkzone'],\n",
       "      dtype='object')"
      ]
     },
     "execution_count": 6,
     "metadata": {},
     "output_type": "execute_result"
    }
   ],
   "source": [
    "# FSR.head()[\"createddate\"]\n",
    "FSR.columns"
   ]
  },
  {
   "cell_type": "code",
   "execution_count": null,
   "metadata": {},
   "outputs": [],
   "source": [
    "# shape.GEOID = shape.GEOID.astype(str).str[0:12]\n",
    "# shape = shape.to_crs({'init': 'epsg:4326'}) ## convert to lat/long"
   ]
  },
  {
   "cell_type": "code",
   "execution_count": null,
   "metadata": {},
   "outputs": [],
   "source": [
    "pd.set_option('display.max_rows', 500)\n",
    "pd.set_option('display.max_columns', 500)"
   ]
  },
  {
   "cell_type": "code",
   "execution_count": null,
   "metadata": {},
   "outputs": [],
   "source": [
    "# FSR Global ID corresponds to FI Service Request Global ID\n",
    "len(set(FI.servicerequestglobalid) - set(FSR.globalid)) "
   ]
  },
  {
   "cell_type": "code",
   "execution_count": null,
   "metadata": {},
   "outputs": [],
   "source": [
    "# FI GLOBAL ID corresponds to FWO Inspection Global ID\n",
    "len(set(FWO.inspectionglobalid) - set(FI.globalid))"
   ]
  },
  {
   "cell_type": "code",
   "execution_count": null,
   "metadata": {},
   "outputs": [],
   "source": [
    "# FRA IncidentGlobalID corresponds to FI Global ID, roughly...\n",
    "len(set(FRA.inspectionglobalid) - set(FI.globalid))"
   ]
  },
  {
   "cell_type": "code",
   "execution_count": 8,
   "metadata": {},
   "outputs": [],
   "source": [
    "FSR_columns = ['srcategory', 'srtype', 'srpriority',\n",
    "       'srsource', 'srstatus', 'srresolution', 'boroughcode',\n",
    "       'servicerequestparentglobalid', 'globalid',\n",
    "       'initiateddate', 'closeddate', 'createddate', 'updateddate',\n",
    "       'descriptor1', 'complainttype', 'callerzipcode', 'srcallertype',\n",
    "       'latitude', 'longitude', 'nta', 'communityboard', 'zipcode', 'census_tract']\n",
    "\n",
    "FI_columns = ['inspectiontype', 'inspectionstatus',\n",
    "       'inspectiontpcondition', 'inspectiontpstructure', 'treepointdbh',\n",
    "       'globalid', 'servicerequestglobalid', 'inspectiondate', 'closeddate', 'createddate',\n",
    "       'updateddate', 'parentinspectionglobalid', 'reinspectiondate', 'location']\n",
    "\n",
    "FWO_columns = ['wotype', 'wostatus', 'wopriority', 'boroughcode',\n",
    "       'inspectionglobalid', 'globalid', 'closeddate',\n",
    "       'canceldate', 'cancelreason', 'createddate', 'updateddate', 'woentity',\n",
    "       'woproject', 'wocategory', 'projstartdate', 'recommendedspecies', 'location']\n",
    "\n",
    "FRA_columns = ['objectid', 'radefect', 'radefectlocation', 'failure', 'impacttarget',\n",
    "       'consequence', 'riskrating', 'inspectionglobalid', 'globalid',\n",
    "       'createddate', 'failureimpact', 'workorderglobalid']"
   ]
  },
  {
   "attachments": {},
   "cell_type": "markdown",
   "metadata": {},
   "source": [
    "# Deal with empty return"
   ]
  },
  {
   "cell_type": "code",
   "execution_count": 9,
   "metadata": {},
   "outputs": [
    {
     "data": {
      "text/plain": [
       "Index(['objectid', 'inspectiontype', 'inspectionstatus',\n",
       "       'inspectiontpcondition', 'inspectiontpstructure', 'treepointdbh',\n",
       "       'treepointglobalid', 'plantingspaceglobalid', 'servicerequestglobalid',\n",
       "       'geometry', 'globalid', 'inspectiondate', 'closeddate', 'createddate',\n",
       "       'location', 'updateddate', 'swtreeconditionrating', 'swlocationrating',\n",
       "       'swclearancerating', 'swdamagerating', 'swdamagedflagstonesrating',\n",
       "       'swratingtotal', 'swtotaltrees', 'parentinspectionglobalid',\n",
       "       'reinspectiondate'],\n",
       "      dtype='object')"
      ]
     },
     "execution_count": 9,
     "metadata": {},
     "output_type": "execute_result"
    }
   ],
   "source": [
    "FI.columns"
   ]
  },
  {
   "cell_type": "code",
   "execution_count": 10,
   "metadata": {},
   "outputs": [],
   "source": [
    "#If there's no new service requests, stop the processing\n",
    "if (len(FSR) == 0):\n",
    "    sys.exit(\"Exiting the job as there's no new service requests\")"
   ]
  },
  {
   "cell_type": "code",
   "execution_count": 11,
   "metadata": {},
   "outputs": [],
   "source": [
    "if (len(FI) == 0):\n",
    "    FI = pd.DataFrame(columns=FI_columns)"
   ]
  },
  {
   "cell_type": "code",
   "execution_count": 12,
   "metadata": {},
   "outputs": [],
   "source": [
    "if (len(FWO) == 0):\n",
    "    FWO = pd.DataFrame(columns=FWO_columns)"
   ]
  },
  {
   "cell_type": "code",
   "execution_count": 13,
   "metadata": {},
   "outputs": [],
   "source": [
    "if (len(FRA) == 0):\n",
    "    FRA = pd.DataFrame(columns=FRA_columns)"
   ]
  },
  {
   "attachments": {},
   "cell_type": "markdown",
   "metadata": {},
   "source": [
    "# Only keep subset of data"
   ]
  },
  {
   "cell_type": "code",
   "execution_count": 14,
   "metadata": {},
   "outputs": [
    {
     "data": {
      "text/plain": [
       "Index(['objectid', 'complaintnumber', 'srcategory', 'srtype', 'srpriority',\n",
       "       'srsource', 'srstatus', 'srresolution', 'boroughcode', 'communityboard',\n",
       "       'buildingnumber', 'streetname', 'crossstreet1', 'crossstreet2',\n",
       "       'locationdetails', 'zipcode', 'citycouncil', 'statesenate',\n",
       "       'stateassembly', 'congressional', 'sanitationzone', 'physicalid',\n",
       "       'geometry', 'globalid', 'initiateddate', 'createddate', 'updateddate',\n",
       "       'descriptor1', 'complainttype', 'srcallertype', 'latitude', 'longitude',\n",
       "       'census_tract', 'bin', 'bbl', 'nta', 'location', 'complaintdetails',\n",
       "       'notestocustomer', 'servicerequestparentglobalid', 'closeddate',\n",
       "       'callerstate', 'callerzipcode', 'callercity', 'parkname', 'parkzone'],\n",
       "      dtype='object')"
      ]
     },
     "execution_count": 14,
     "metadata": {},
     "output_type": "execute_result"
    }
   ],
   "source": [
    "FSR.columns"
   ]
  },
  {
   "cell_type": "code",
   "execution_count": 15,
   "metadata": {},
   "outputs": [],
   "source": [
    "# insert columns if not exits\n",
    "FSR = FSR.reindex(columns=FSR_columns)\n",
    "FI = FI.reindex(columns=FI_columns)\n",
    "FWO = FI.reindex(columns=FWO_columns).fillna('N/A')\n",
    "FRA = FRA.reindex(columns=FRA_columns).fillna('N/A')"
   ]
  },
  {
   "cell_type": "code",
   "execution_count": 16,
   "metadata": {},
   "outputs": [],
   "source": [
    "# select subset due to memory limit\n",
    "FSR = FSR[FSR_columns]\n",
    "FI = FI[FI_columns]\n",
    "FWO = FWO[FWO_columns]\n",
    "FRA = FRA[FRA_columns]"
   ]
  },
  {
   "attachments": {},
   "cell_type": "markdown",
   "metadata": {},
   "source": [
    "# transform SR df into geodf"
   ]
  },
  {
   "cell_type": "code",
   "execution_count": 17,
   "metadata": {},
   "outputs": [
    {
     "data": {
      "text/plain": [
       "23"
      ]
     },
     "execution_count": 17,
     "metadata": {},
     "output_type": "execute_result"
    }
   ],
   "source": [
    "FSR.columns\n",
    "len(FSR.columns)"
   ]
  },
  {
   "cell_type": "code",
   "execution_count": 18,
   "metadata": {},
   "outputs": [],
   "source": [
    "## incident global ID (deal with parent requests)\n",
    "FSR.loc[:, \"GLOBAL_ID\"] = FSR.apply(lambda x:  x.globalid if x.servicerequestparentglobalid!=x.servicerequestparentglobalid else x.servicerequestparentglobalid, axis = 1)"
   ]
  },
  {
   "cell_type": "code",
   "execution_count": 19,
   "metadata": {},
   "outputs": [],
   "source": [
    "FSR['longitude'] = FSR['longitude'].astype(float)\n",
    "FSR['latitude'] = FSR['latitude'].astype(float)"
   ]
  },
  {
   "cell_type": "code",
   "execution_count": 20,
   "metadata": {},
   "outputs": [
    {
     "data": {
      "text/plain": [
       "(466, 466)"
      ]
     },
     "execution_count": 20,
     "metadata": {},
     "output_type": "execute_result"
    }
   ],
   "source": [
    "#requests that have no geo-info\n",
    "FSR.longitude.isna().sum(), FSR.latitude.isna().sum() "
   ]
  },
  {
   "cell_type": "code",
   "execution_count": 21,
   "metadata": {},
   "outputs": [],
   "source": [
    "# find census tract\n",
    "geometry = [None if math.isnan(xy[0]) or math.isnan(xy[1]) else Point(xy) for xy in zip(FSR.longitude, FSR.latitude)]\n",
    "gdf = gpd.GeoDataFrame(FSR, crs=4326, geometry=geometry)"
   ]
  },
  {
   "cell_type": "code",
   "execution_count": 22,
   "metadata": {},
   "outputs": [],
   "source": [
    "FSR.rename(columns={'globalid': 'SRGlobalID', 'closeddate': 'SRClosedDate', 'createddate': 'SRCreatedDate', 'updateddate': 'SRUpdatedDate'}, inplace=True)\n",
    "FI.rename(columns={'globalid': 'InsGlobalID', 'closeddate': 'InsClosedDate', 'createddate': 'InsCreatedDate', 'updateddate': 'InsUpdatedDate', 'servicerequestglobalid': 'SRGlobalID'}, inplace=True)\n",
    "FWO.rename(columns={'globalid': 'WOGlobalID', 'closeddate': 'WOClosedDate', 'createddate': 'WOCreatedDate', 'updateddate': 'WOUpdatedDate', 'inspectionglobalid': 'InsGlobalID'}, inplace=True)\n",
    "FRA.rename(columns={'globalid': 'RAGlobalID', 'closeddate': 'RAClosedDate', 'createddate': 'RACreatedDate', 'inspectionglobalid': 'InsGlobalID'}, inplace=True)\n",
    "\n",
    "# not further process inspection dataset because only one inspection is needed for under-reporting measuring, but more inspections could still be used for other purposes"
   ]
  },
  {
   "attachments": {},
   "cell_type": "markdown",
   "metadata": {},
   "source": [
    "# Merge Inspections"
   ]
  },
  {
   "cell_type": "code",
   "execution_count": 23,
   "metadata": {},
   "outputs": [
    {
     "data": {
      "text/plain": [
       "Index(['inspectiontype', 'inspectionstatus', 'inspectiontpcondition',\n",
       "       'inspectiontpstructure', 'treepointdbh', 'InsGlobalID', 'SRGlobalID',\n",
       "       'inspectiondate', 'InsClosedDate', 'InsCreatedDate', 'InsUpdatedDate',\n",
       "       'parentinspectionglobalid', 'reinspectiondate', 'location'],\n",
       "      dtype='object')"
      ]
     },
     "execution_count": 23,
     "metadata": {},
     "output_type": "execute_result"
    }
   ],
   "source": [
    "FI.columns"
   ]
  },
  {
   "cell_type": "code",
   "execution_count": 24,
   "metadata": {},
   "outputs": [],
   "source": [
    "FI = FI[FI['location'].notna()]"
   ]
  },
  {
   "cell_type": "code",
   "execution_count": 25,
   "metadata": {},
   "outputs": [],
   "source": [
    "FI[\"longitude\"] = FI.location.copy().apply(lambda x: float(x['coordinates'][0])).copy()\n",
    "FI[\"latitude\"] = FI.location.copy().apply(lambda x: float(x['coordinates'][1])).copy()"
   ]
  },
  {
   "cell_type": "code",
   "execution_count": 26,
   "metadata": {},
   "outputs": [],
   "source": [
    "geometry = [None if math.isnan(xy[0]) or math.isnan(xy[1]) else Point(xy) for xy in zip(FI.longitude, FI.latitude)]\n",
    "g_FI = gpd.GeoDataFrame(FI, crs=4326, geometry=geometry)"
   ]
  },
  {
   "cell_type": "code",
   "execution_count": 27,
   "metadata": {},
   "outputs": [],
   "source": [
    "# back to regular df\n",
    "merge_FI = pd.DataFrame(g_FI)"
   ]
  },
  {
   "cell_type": "code",
   "execution_count": 28,
   "metadata": {},
   "outputs": [
    {
     "data": {
      "text/html": [
       "<div>\n",
       "<style scoped>\n",
       "    .dataframe tbody tr th:only-of-type {\n",
       "        vertical-align: middle;\n",
       "    }\n",
       "\n",
       "    .dataframe tbody tr th {\n",
       "        vertical-align: top;\n",
       "    }\n",
       "\n",
       "    .dataframe thead th {\n",
       "        text-align: right;\n",
       "    }\n",
       "</style>\n",
       "<table border=\"1\" class=\"dataframe\">\n",
       "  <thead>\n",
       "    <tr style=\"text-align: right;\">\n",
       "      <th></th>\n",
       "      <th>inspectiontype</th>\n",
       "      <th>inspectionstatus</th>\n",
       "      <th>inspectiontpcondition</th>\n",
       "      <th>inspectiontpstructure</th>\n",
       "      <th>treepointdbh</th>\n",
       "      <th>InsGlobalID</th>\n",
       "      <th>SRGlobalID</th>\n",
       "      <th>inspectiondate</th>\n",
       "      <th>InsClosedDate</th>\n",
       "      <th>InsCreatedDate</th>\n",
       "      <th>InsUpdatedDate</th>\n",
       "      <th>parentinspectionglobalid</th>\n",
       "      <th>reinspectiondate</th>\n",
       "      <th>location</th>\n",
       "      <th>longitude</th>\n",
       "      <th>latitude</th>\n",
       "      <th>geometry</th>\n",
       "    </tr>\n",
       "  </thead>\n",
       "  <tbody>\n",
       "    <tr>\n",
       "      <th>0</th>\n",
       "      <td>Level 2</td>\n",
       "      <td>Closed</td>\n",
       "      <td>Fair</td>\n",
       "      <td>Full</td>\n",
       "      <td>5</td>\n",
       "      <td>38CA57ED-D91B-4FA9-B00D-CB708391105F</td>\n",
       "      <td>24DA7673-7FE3-403D-A712-A8ED06E69F98</td>\n",
       "      <td>2023-01-02 14:39:26.0000000</td>\n",
       "      <td>2023-01-02 14:39:26.0000000</td>\n",
       "      <td>2023-01-02 14:39:26.0000000</td>\n",
       "      <td>NaN</td>\n",
       "      <td>NaN</td>\n",
       "      <td>NaN</td>\n",
       "      <td>{'type': 'Point', 'coordinates': [-73.91293265...</td>\n",
       "      <td>-73.912933</td>\n",
       "      <td>40.611473</td>\n",
       "      <td>POINT (-73.91293 40.61147)</td>\n",
       "    </tr>\n",
       "    <tr>\n",
       "      <th>1</th>\n",
       "      <td>Level 2</td>\n",
       "      <td>Closed</td>\n",
       "      <td>Fair</td>\n",
       "      <td>Full</td>\n",
       "      <td>5</td>\n",
       "      <td>E0171F1A-3F1F-4892-ADED-3DDDA7E76333</td>\n",
       "      <td>24DA7673-7FE3-403D-A712-A8ED06E69F98</td>\n",
       "      <td>2023-01-02 14:40:44.0000000</td>\n",
       "      <td>2023-01-02 14:40:44.0000000</td>\n",
       "      <td>2023-01-02 14:40:44.0000000</td>\n",
       "      <td>NaN</td>\n",
       "      <td>NaN</td>\n",
       "      <td>NaN</td>\n",
       "      <td>{'type': 'Point', 'coordinates': [-73.91296225...</td>\n",
       "      <td>-73.912962</td>\n",
       "      <td>40.611408</td>\n",
       "      <td>POINT (-73.91296 40.61141)</td>\n",
       "    </tr>\n",
       "    <tr>\n",
       "      <th>2</th>\n",
       "      <td>Level 1</td>\n",
       "      <td>Closed</td>\n",
       "      <td>Dead</td>\n",
       "      <td>Shaft</td>\n",
       "      <td>NaN</td>\n",
       "      <td>EB2B4CCE-AC54-41D6-B5EE-78C6004ED55F</td>\n",
       "      <td>NaN</td>\n",
       "      <td>2023-01-02 15:03:20.0000000</td>\n",
       "      <td>2023-01-02 15:03:20.0000000</td>\n",
       "      <td>2023-01-02 15:03:20.0000000</td>\n",
       "      <td>NaN</td>\n",
       "      <td>NaN</td>\n",
       "      <td>NaN</td>\n",
       "      <td>{'type': 'Point', 'coordinates': [-73.91404831...</td>\n",
       "      <td>-73.914048</td>\n",
       "      <td>40.605873</td>\n",
       "      <td>POINT (-73.91405 40.60587)</td>\n",
       "    </tr>\n",
       "    <tr>\n",
       "      <th>3</th>\n",
       "      <td>Level 1</td>\n",
       "      <td>Closed</td>\n",
       "      <td>Dead</td>\n",
       "      <td>Shaft</td>\n",
       "      <td>NaN</td>\n",
       "      <td>720EA09F-37AE-40EA-B322-E560819FDF4F</td>\n",
       "      <td>NaN</td>\n",
       "      <td>2023-01-02 15:05:05.0000000</td>\n",
       "      <td>2023-01-02 15:05:05.0000000</td>\n",
       "      <td>2023-01-02 15:05:05.0000000</td>\n",
       "      <td>NaN</td>\n",
       "      <td>NaN</td>\n",
       "      <td>NaN</td>\n",
       "      <td>{'type': 'Point', 'coordinates': [-73.90972182...</td>\n",
       "      <td>-73.909722</td>\n",
       "      <td>40.604295</td>\n",
       "      <td>POINT (-73.90972 40.60430)</td>\n",
       "    </tr>\n",
       "    <tr>\n",
       "      <th>4</th>\n",
       "      <td>Level 1</td>\n",
       "      <td>Closed</td>\n",
       "      <td>Dead</td>\n",
       "      <td>Shaft</td>\n",
       "      <td>NaN</td>\n",
       "      <td>F6F62C86-AFC7-4EB7-B303-305108E99499</td>\n",
       "      <td>NaN</td>\n",
       "      <td>2023-01-02 15:09:42.0000000</td>\n",
       "      <td>2023-01-02 15:09:42.0000000</td>\n",
       "      <td>2023-01-02 15:09:42.0000000</td>\n",
       "      <td>NaN</td>\n",
       "      <td>NaN</td>\n",
       "      <td>NaN</td>\n",
       "      <td>{'type': 'Point', 'coordinates': [-73.90891126...</td>\n",
       "      <td>-73.908911</td>\n",
       "      <td>40.610073</td>\n",
       "      <td>POINT (-73.90891 40.61007)</td>\n",
       "    </tr>\n",
       "  </tbody>\n",
       "</table>\n",
       "</div>"
      ],
      "text/plain": [
       "  inspectiontype inspectionstatus inspectiontpcondition inspectiontpstructure  \\\n",
       "0        Level 2           Closed                  Fair                  Full   \n",
       "1        Level 2           Closed                  Fair                  Full   \n",
       "2        Level 1           Closed                  Dead                 Shaft   \n",
       "3        Level 1           Closed                  Dead                 Shaft   \n",
       "4        Level 1           Closed                  Dead                 Shaft   \n",
       "\n",
       "  treepointdbh                           InsGlobalID  \\\n",
       "0            5  38CA57ED-D91B-4FA9-B00D-CB708391105F   \n",
       "1            5  E0171F1A-3F1F-4892-ADED-3DDDA7E76333   \n",
       "2          NaN  EB2B4CCE-AC54-41D6-B5EE-78C6004ED55F   \n",
       "3          NaN  720EA09F-37AE-40EA-B322-E560819FDF4F   \n",
       "4          NaN  F6F62C86-AFC7-4EB7-B303-305108E99499   \n",
       "\n",
       "                             SRGlobalID               inspectiondate  \\\n",
       "0  24DA7673-7FE3-403D-A712-A8ED06E69F98  2023-01-02 14:39:26.0000000   \n",
       "1  24DA7673-7FE3-403D-A712-A8ED06E69F98  2023-01-02 14:40:44.0000000   \n",
       "2                                   NaN  2023-01-02 15:03:20.0000000   \n",
       "3                                   NaN  2023-01-02 15:05:05.0000000   \n",
       "4                                   NaN  2023-01-02 15:09:42.0000000   \n",
       "\n",
       "                 InsClosedDate               InsCreatedDate InsUpdatedDate  \\\n",
       "0  2023-01-02 14:39:26.0000000  2023-01-02 14:39:26.0000000            NaN   \n",
       "1  2023-01-02 14:40:44.0000000  2023-01-02 14:40:44.0000000            NaN   \n",
       "2  2023-01-02 15:03:20.0000000  2023-01-02 15:03:20.0000000            NaN   \n",
       "3  2023-01-02 15:05:05.0000000  2023-01-02 15:05:05.0000000            NaN   \n",
       "4  2023-01-02 15:09:42.0000000  2023-01-02 15:09:42.0000000            NaN   \n",
       "\n",
       "  parentinspectionglobalid reinspectiondate  \\\n",
       "0                      NaN              NaN   \n",
       "1                      NaN              NaN   \n",
       "2                      NaN              NaN   \n",
       "3                      NaN              NaN   \n",
       "4                      NaN              NaN   \n",
       "\n",
       "                                            location  longitude   latitude  \\\n",
       "0  {'type': 'Point', 'coordinates': [-73.91293265... -73.912933  40.611473   \n",
       "1  {'type': 'Point', 'coordinates': [-73.91296225... -73.912962  40.611408   \n",
       "2  {'type': 'Point', 'coordinates': [-73.91404831... -73.914048  40.605873   \n",
       "3  {'type': 'Point', 'coordinates': [-73.90972182... -73.909722  40.604295   \n",
       "4  {'type': 'Point', 'coordinates': [-73.90891126... -73.908911  40.610073   \n",
       "\n",
       "                     geometry  \n",
       "0  POINT (-73.91293 40.61147)  \n",
       "1  POINT (-73.91296 40.61141)  \n",
       "2  POINT (-73.91405 40.60587)  \n",
       "3  POINT (-73.90972 40.60430)  \n",
       "4  POINT (-73.90891 40.61007)  "
      ]
     },
     "execution_count": 28,
     "metadata": {},
     "output_type": "execute_result"
    }
   ],
   "source": [
    "merge_FI.head()"
   ]
  },
  {
   "cell_type": "code",
   "execution_count": 29,
   "metadata": {},
   "outputs": [],
   "source": [
    "# merge service requests w/ inspections\n",
    "mergeddf = pd.merge(FSR, merge_FI, on='SRGlobalID', how='left', suffixes=('_SR', '_I'), left_index=False, right_index=False)"
   ]
  },
  {
   "cell_type": "code",
   "execution_count": 30,
   "metadata": {},
   "outputs": [
    {
     "name": "stdout",
     "output_type": "stream",
     "text": [
      "FI size 20526\n",
      "SR size 5542\n"
     ]
    }
   ],
   "source": [
    "#before merging\n",
    "print(\"FI size\", len(merge_FI))\n",
    "print(\"SR size\", len(FSR))"
   ]
  },
  {
   "cell_type": "code",
   "execution_count": 31,
   "metadata": {},
   "outputs": [
    {
     "name": "stdout",
     "output_type": "stream",
     "text": [
      "merged size 5680\n"
     ]
    }
   ],
   "source": [
    "#after merging\n",
    "print(\"merged size\", len(mergeddf))"
   ]
  },
  {
   "cell_type": "code",
   "execution_count": 32,
   "metadata": {},
   "outputs": [
    {
     "data": {
      "text/plain": [
       "8420"
      ]
     },
     "execution_count": 32,
     "metadata": {},
     "output_type": "execute_result"
    }
   ],
   "source": [
    "#Inspections with no SR\n",
    "a = merge_FI[merge_FI[\"SRGlobalID\"].notna()]\n",
    "len(a)\n",
    "\n",
    "##There could be inspections without service requests (no global SRID). There could be many service requests with no inspections."
   ]
  },
  {
   "cell_type": "code",
   "execution_count": 33,
   "metadata": {},
   "outputs": [
    {
     "data": {
      "text/plain": [
       "Index(['srcategory', 'srtype', 'srpriority', 'srsource', 'srstatus',\n",
       "       'srresolution', 'boroughcode', 'servicerequestparentglobalid',\n",
       "       'SRGlobalID', 'initiateddate', 'SRClosedDate', 'SRCreatedDate',\n",
       "       'SRUpdatedDate', 'descriptor1', 'complainttype', 'callerzipcode',\n",
       "       'srcallertype', 'latitude_SR', 'longitude_SR', 'nta', 'communityboard',\n",
       "       'zipcode', 'census_tract', 'GLOBAL_ID', 'geometry_SR', 'inspectiontype',\n",
       "       'inspectionstatus', 'inspectiontpcondition', 'inspectiontpstructure',\n",
       "       'treepointdbh', 'InsGlobalID', 'inspectiondate', 'InsClosedDate',\n",
       "       'InsCreatedDate', 'InsUpdatedDate', 'parentinspectionglobalid',\n",
       "       'reinspectiondate', 'location', 'longitude_I', 'latitude_I',\n",
       "       'geometry_I'],\n",
       "      dtype='object')"
      ]
     },
     "execution_count": 33,
     "metadata": {},
     "output_type": "execute_result"
    }
   ],
   "source": [
    "mergeddf.columns"
   ]
  },
  {
   "cell_type": "code",
   "execution_count": 34,
   "metadata": {},
   "outputs": [
    {
     "data": {
      "text/plain": [
       "((5542, 25), (20526, 17), (5680, 41))"
      ]
     },
     "execution_count": 34,
     "metadata": {},
     "output_type": "execute_result"
    }
   ],
   "source": [
    "FSR.shape, merge_FI.shape, mergeddf.shape # since merged > FSR, means there are some SRs with multiple inspections"
   ]
  },
  {
   "cell_type": "code",
   "execution_count": 35,
   "metadata": {},
   "outputs": [],
   "source": [
    "mergeddf['InsGlobalID'].fillna('0', inplace=True)"
   ]
  },
  {
   "attachments": {},
   "cell_type": "markdown",
   "metadata": {},
   "source": [
    "# Merge Work Orders"
   ]
  },
  {
   "cell_type": "code",
   "execution_count": 36,
   "metadata": {},
   "outputs": [
    {
     "data": {
      "text/plain": [
       "Index(['wotype', 'wostatus', 'wopriority', 'boroughcode', 'InsGlobalID',\n",
       "       'WOGlobalID', 'WOClosedDate', 'canceldate', 'cancelreason',\n",
       "       'WOCreatedDate', 'WOUpdatedDate', 'woentity', 'woproject', 'wocategory',\n",
       "       'projstartdate', 'recommendedspecies', 'location'],\n",
       "      dtype='object')"
      ]
     },
     "execution_count": 36,
     "metadata": {},
     "output_type": "execute_result"
    }
   ],
   "source": [
    "FWO.columns"
   ]
  },
  {
   "cell_type": "code",
   "execution_count": 37,
   "metadata": {},
   "outputs": [],
   "source": [
    "FWO[\"longitude\"] = FWO.location.copy().apply(lambda x: float(x['coordinates'][0])).copy()\n",
    "FWO[\"latitude\"] = FWO.location.copy().apply(lambda x: float(x['coordinates'][1])).copy()\n",
    "\n",
    "geometry = [None if math.isnan(xy[0]) or math.isnan(xy[1]) else Point(xy) for xy in zip(FWO.longitude, FWO.latitude)]\n",
    "g_FWO = gpd.GeoDataFrame(FWO, crs=4326, geometry=geometry)"
   ]
  },
  {
   "cell_type": "code",
   "execution_count": 38,
   "metadata": {},
   "outputs": [],
   "source": [
    "# back to regular df\n",
    "merge_FWO = pd.DataFrame(g_FWO)"
   ]
  },
  {
   "cell_type": "code",
   "execution_count": 39,
   "metadata": {},
   "outputs": [
    {
     "data": {
      "text/plain": [
       "((20526, 20), (5680, 60))"
      ]
     },
     "execution_count": 39,
     "metadata": {},
     "output_type": "execute_result"
    }
   ],
   "source": [
    "# merge SRs+Insps w/ WOs\n",
    "mergeddf = pd.merge(mergeddf, merge_FWO, on='InsGlobalID', how='left', suffixes=('', '_WO'))\n",
    "FWO.shape, mergeddf.shape"
   ]
  },
  {
   "cell_type": "code",
   "execution_count": 40,
   "metadata": {},
   "outputs": [
    {
     "data": {
      "text/plain": [
       "Index(['srcategory', 'srtype', 'srpriority', 'srsource', 'srstatus',\n",
       "       'srresolution', 'boroughcode', 'servicerequestparentglobalid',\n",
       "       'SRGlobalID', 'initiateddate', 'SRClosedDate', 'SRCreatedDate',\n",
       "       'SRUpdatedDate', 'descriptor1', 'complainttype', 'callerzipcode',\n",
       "       'srcallertype', 'latitude_SR', 'longitude_SR', 'nta', 'communityboard',\n",
       "       'zipcode', 'census_tract', 'GLOBAL_ID', 'geometry_SR', 'inspectiontype',\n",
       "       'inspectionstatus', 'inspectiontpcondition', 'inspectiontpstructure',\n",
       "       'treepointdbh', 'InsGlobalID', 'inspectiondate', 'InsClosedDate',\n",
       "       'InsCreatedDate', 'InsUpdatedDate', 'parentinspectionglobalid',\n",
       "       'reinspectiondate', 'location', 'longitude_I', 'latitude_I',\n",
       "       'geometry_I', 'wotype', 'wostatus', 'wopriority', 'boroughcode_WO',\n",
       "       'WOGlobalID', 'WOClosedDate', 'canceldate', 'cancelreason',\n",
       "       'WOCreatedDate', 'WOUpdatedDate', 'woentity', 'woproject', 'wocategory',\n",
       "       'projstartdate', 'recommendedspecies', 'location_WO', 'longitude',\n",
       "       'latitude', 'geometry'],\n",
       "      dtype='object')"
      ]
     },
     "execution_count": 40,
     "metadata": {},
     "output_type": "execute_result"
    }
   ],
   "source": [
    "mergeddf.columns"
   ]
  },
  {
   "attachments": {},
   "cell_type": "markdown",
   "metadata": {},
   "source": [
    "# Merge Risk Assessments"
   ]
  },
  {
   "cell_type": "code",
   "execution_count": 41,
   "metadata": {},
   "outputs": [
    {
     "data": {
      "text/plain": [
       "((14089, 12), (6176, 71))"
      ]
     },
     "execution_count": 41,
     "metadata": {},
     "output_type": "execute_result"
    }
   ],
   "source": [
    "# merge SRs + Insps + WOs w/ Risk Assessmts\n",
    "mergeddf = pd.merge(mergeddf, FRA, on='InsGlobalID', how='left', suffixes=('', '_RA'))\n",
    "FRA.shape, mergeddf.shape"
   ]
  },
  {
   "cell_type": "code",
   "execution_count": 42,
   "metadata": {},
   "outputs": [],
   "source": [
    "# drop cols with all null values, if any\n",
    "# mergeddf = mergeddf.dropna(axis=1, how='all')"
   ]
  },
  {
   "cell_type": "code",
   "execution_count": 43,
   "metadata": {},
   "outputs": [
    {
     "data": {
      "text/plain": [
       "array(['srcategory', 'srtype', 'srpriority', 'srsource', 'srstatus',\n",
       "       'srresolution', 'boroughcode', 'servicerequestparentglobalid',\n",
       "       'SRGlobalID', 'initiateddate', 'SRClosedDate', 'SRCreatedDate',\n",
       "       'SRUpdatedDate', 'descriptor1', 'complainttype', 'callerzipcode',\n",
       "       'srcallertype', 'latitude_SR', 'longitude_SR', 'nta',\n",
       "       'communityboard', 'zipcode', 'census_tract', 'GLOBAL_ID',\n",
       "       'geometry_SR', 'inspectiontype', 'inspectionstatus',\n",
       "       'inspectiontpcondition', 'inspectiontpstructure', 'treepointdbh',\n",
       "       'InsGlobalID', 'inspectiondate', 'InsClosedDate', 'InsCreatedDate',\n",
       "       'InsUpdatedDate', 'parentinspectionglobalid', 'reinspectiondate',\n",
       "       'location', 'longitude_I', 'latitude_I', 'geometry_I', 'wotype',\n",
       "       'wostatus', 'wopriority', 'boroughcode_WO', 'WOGlobalID',\n",
       "       'WOClosedDate', 'canceldate', 'cancelreason', 'WOCreatedDate',\n",
       "       'WOUpdatedDate', 'woentity', 'woproject', 'wocategory',\n",
       "       'projstartdate', 'recommendedspecies', 'location_WO', 'longitude',\n",
       "       'latitude', 'geometry', 'objectid', 'radefect', 'radefectlocation',\n",
       "       'failure', 'impacttarget', 'consequence', 'riskrating',\n",
       "       'RAGlobalID', 'RACreatedDate', 'failureimpact',\n",
       "       'workorderglobalid'], dtype=object)"
      ]
     },
     "execution_count": 43,
     "metadata": {},
     "output_type": "execute_result"
    }
   ],
   "source": [
    "mergeddf.columns.values # what we're working with"
   ]
  },
  {
   "attachments": {},
   "cell_type": "markdown",
   "metadata": {},
   "source": [
    "# Export to Geojson"
   ]
  },
  {
   "cell_type": "code",
   "execution_count": null,
   "metadata": {},
   "outputs": [],
   "source": [
    "#Sample Format\n",
    "{\n",
    "  \"features\": [\n",
    "    {\n",
    "      \"type\": \"Feature\",\n",
    "      \"properties\": {\n",
    "        \"title\": \"Lincoln Park\",\n",
    "        \"description\": \"A northside park that is home to the Lincoln Park Zoo\"\n",
    "      },\n",
    "      \"geometry\": {\n",
    "        \"coordinates\": [-87.637596, 41.940403],\n",
    "        \"type\": \"Point\"\n",
    "      }\n",
    "    },\n",
    "    {\n",
    "      \"type\": \"Feature\",\n",
    "      \"properties\": {\n",
    "        \"title\": \"Burnham Park\",\n",
    "        \"description\": \"A lakefront park on Chicago's south side\"\n",
    "      },\n",
    "      \"geometry\": {\n",
    "        \"coordinates\": [-87.603735, 41.829985],\n",
    "        \"type\": \"Point\"\n",
    "      }\n",
    "    },\n",
    "  ],\n",
    "  \"type\": \"FeatureCollection\"\n",
    "}"
   ]
  },
  {
   "cell_type": "code",
   "execution_count": null,
   "metadata": {},
   "outputs": [],
   "source": [
    "# adapted from https://notebook.community/captainsafia/nteract/applications/desktop/example-notebooks/pandas-to-geojson\n",
    "def df_to_geojson(df, properties, lat='latitude', lon='longitude'):\n",
    "    # create a new python dict to contain our geojson data, using geojson format\n",
    "    geojson = {'features':[], 'type':'FeatureCollection'}\n",
    "\n",
    "    # loop through each row in the dataframe and convert each row to geojson format\n",
    "    for _, row in df.iterrows():\n",
    "        # create a feature template to fill in\n",
    "        feature = {'type':'Feature',\n",
    "                   'properties':{},\n",
    "                   'geometry':{'coordinates':[],\n",
    "                               'type': 'Point'}\n",
    "                  }\n",
    "\n",
    "        # fill in the coordinates\n",
    "        feature['geometry']['coordinates'] = [row[lon],row[lat]]\n",
    "\n",
    "        # for each column, get the value and add it as a new feature property\n",
    "        for prop in properties:\n",
    "            feature['properties'][prop] = row[prop]\n",
    "        \n",
    "        # add this feature (aka, converted dataframe row) to the list of features inside our dict\n",
    "        geojson['features'].append(feature)\n",
    "    \n",
    "    return geojson"
   ]
  },
  {
   "cell_type": "code",
   "execution_count": 44,
   "metadata": {},
   "outputs": [
    {
     "data": {
      "text/plain": [
       "Index(['srcategory', 'srtype', 'srpriority', 'srsource', 'srstatus',\n",
       "       'srresolution', 'boroughcode', 'servicerequestparentglobalid',\n",
       "       'SRGlobalID', 'initiateddate', 'SRClosedDate', 'SRCreatedDate',\n",
       "       'SRUpdatedDate', 'descriptor1', 'complainttype', 'callerzipcode',\n",
       "       'srcallertype', 'latitude_SR', 'longitude_SR', 'nta', 'communityboard',\n",
       "       'zipcode', 'census_tract', 'GLOBAL_ID', 'geometry_SR', 'inspectiontype',\n",
       "       'inspectionstatus', 'inspectiontpcondition', 'inspectiontpstructure',\n",
       "       'treepointdbh', 'InsGlobalID', 'inspectiondate', 'InsClosedDate',\n",
       "       'InsCreatedDate', 'InsUpdatedDate', 'parentinspectionglobalid',\n",
       "       'reinspectiondate', 'location', 'longitude_I', 'latitude_I',\n",
       "       'geometry_I', 'wotype', 'wostatus', 'wopriority', 'boroughcode_WO',\n",
       "       'WOGlobalID', 'WOClosedDate', 'canceldate', 'cancelreason',\n",
       "       'WOCreatedDate', 'WOUpdatedDate', 'woentity', 'woproject', 'wocategory',\n",
       "       'projstartdate', 'recommendedspecies', 'location_WO', 'longitude',\n",
       "       'latitude', 'geometry', 'objectid', 'radefect', 'radefectlocation',\n",
       "       'failure', 'impacttarget', 'consequence', 'riskrating', 'RAGlobalID',\n",
       "       'RACreatedDate', 'failureimpact', 'workorderglobalid'],\n",
       "      dtype='object')"
      ]
     },
     "execution_count": 44,
     "metadata": {},
     "output_type": "execute_result"
    }
   ],
   "source": [
    "mergeddf.columns"
   ]
  },
  {
   "cell_type": "code",
   "execution_count": 45,
   "metadata": {},
   "outputs": [
    {
     "data": {
      "text/plain": [
       "0       NaN\n",
       "1       NaN\n",
       "2       NaN\n",
       "3       7.0\n",
       "4       7.0\n",
       "       ... \n",
       "6171    NaN\n",
       "6172    NaN\n",
       "6173    NaN\n",
       "6174    NaN\n",
       "6175    NaN\n",
       "Name: riskrating, Length: 6176, dtype: object"
      ]
     },
     "execution_count": 45,
     "metadata": {},
     "output_type": "execute_result"
    }
   ],
   "source": [
    "mergeddf[\"riskrating\"]"
   ]
  },
  {
   "cell_type": "code",
   "execution_count": 47,
   "metadata": {},
   "outputs": [],
   "source": [
    "cols_to_keep = ['srcategory', 'complainttype', 'srtype', 'descriptor1', 'srpriority', 'srstatus', 'srresolution', \n",
    "        'initiateddate', 'SRClosedDate', 'SRCreatedDate', 'SRUpdatedDate', 'SRGlobalID',\n",
    "        'inspectiontype', 'inspectionstatus', 'inspectiontpcondition', 'inspectiontpstructure', \n",
    "        'inspectiondate', 'InsCreatedDate', 'InsUpdatedDate',  'InsClosedDate', 'reinspectiondate', 'parentinspectionglobalid', 'InsGlobalID',\n",
    "        'WOGlobalID','wotype', 'wostatus', 'wocategory', 'woentity', 'woproject', 'wopriority',\n",
    "        'WOCreatedDate', 'WOUpdatedDate',  'WOClosedDate', 'cancelreason', 'canceldate', 'projstartdate',\n",
    "        'radefect', 'radefectlocation', 'failure', 'failureimpact', 'impacttarget', 'consequence', 'riskrating', \n",
    "        'RAGlobalID', 'RACreatedDate', 'nta', 'boroughcode', 'communityboard', 'zipcode', 'census_tract', 'latitude_SR', 'longitude_SR'] #, 'geometry_SR']"
   ]
  },
  {
   "cell_type": "code",
   "execution_count": 48,
   "metadata": {},
   "outputs": [
    {
     "data": {
      "text/plain": [
       "Index(['srcategory', 'srtype', 'srpriority', 'srsource', 'srstatus',\n",
       "       'srresolution', 'boroughcode', 'servicerequestparentglobalid',\n",
       "       'SRGlobalID', 'initiateddate', 'SRClosedDate', 'SRCreatedDate',\n",
       "       'SRUpdatedDate', 'descriptor1', 'complainttype', 'callerzipcode',\n",
       "       'srcallertype', 'latitude_SR', 'longitude_SR', 'nta', 'communityboard',\n",
       "       'zipcode', 'census_tract', 'GLOBAL_ID', 'inspectiontype',\n",
       "       'inspectionstatus', 'inspectiontpcondition', 'inspectiontpstructure',\n",
       "       'treepointdbh', 'InsGlobalID', 'inspectiondate', 'InsClosedDate',\n",
       "       'InsCreatedDate', 'InsUpdatedDate', 'parentinspectionglobalid',\n",
       "       'reinspectiondate', 'location', 'longitude_I', 'latitude_I', 'geometry',\n",
       "       'wotype', 'wostatus', 'wopriority', 'boroughcode_WO', 'WOGlobalID',\n",
       "       'WOClosedDate', 'canceldate', 'cancelreason', 'WOCreatedDate',\n",
       "       'WOUpdatedDate', 'woentity', 'woproject', 'wocategory', 'projstartdate',\n",
       "       'recommendedspecies', 'location_WO', 'longitude', 'latitude',\n",
       "       'geometry_WO', 'objectid', 'radefect', 'radefectlocation', 'failure',\n",
       "       'impacttarget', 'consequence', 'riskrating', 'RAGlobalID',\n",
       "       'RACreatedDate', 'failureimpact', 'workorderglobalid'],\n",
       "      dtype='object')"
      ]
     },
     "execution_count": 48,
     "metadata": {},
     "output_type": "execute_result"
    }
   ],
   "source": [
    "mergeddf.columns"
   ]
  },
  {
   "cell_type": "code",
   "execution_count": 49,
   "metadata": {},
   "outputs": [],
   "source": [
    "mergeddf = mergeddf[cols_to_keep]"
   ]
  },
  {
   "cell_type": "code",
   "execution_count": null,
   "metadata": {},
   "outputs": [],
   "source": [
    "#drop rows with missing values\n",
    "# df = mergeddf.dropna()"
   ]
  },
  {
   "attachments": {},
   "cell_type": "markdown",
   "metadata": {},
   "source": [
    "# Data Aggregation"
   ]
  },
  {
   "attachments": {},
   "cell_type": "markdown",
   "metadata": {},
   "source": [
    "## Columns Inspection"
   ]
  },
  {
   "cell_type": "code",
   "execution_count": 50,
   "metadata": {},
   "outputs": [
    {
     "data": {
      "text/plain": [
       "array(['Plant Tree', 'Hazard', 'Prune', 'Root/Sewer/Sidewalk',\n",
       "       'Illegal Tree Damage', 'Remove Tree', 'Remove Debris',\n",
       "       'Remove Stump', 'Rescue/Preservation'], dtype=object)"
      ]
     },
     "execution_count": 50,
     "metadata": {},
     "output_type": "execute_result"
    }
   ],
   "source": [
    "#data are based on those with geographic data\n",
    "#sr category\n",
    "mergeddf.srcategory.unique()"
   ]
  },
  {
   "cell_type": "code",
   "execution_count": 51,
   "metadata": {},
   "outputs": [
    {
     "data": {
      "text/plain": [
       "array(['New Tree Request', 'Damaged Tree', 'Overgrown Tree/Branches',\n",
       "       'Root/Sewer/Sidewalk Condition', 'Illegal Tree Damage', nan,\n",
       "       'Dead/Dying Tree', 'Wood Pile Remaining', 'Uprooted Stump'],\n",
       "      dtype=object)"
      ]
     },
     "execution_count": 51,
     "metadata": {},
     "output_type": "execute_result"
    }
   ],
   "source": [
    "#complait type\n",
    "mergeddf.complainttype.unique()"
   ]
  },
  {
   "cell_type": "code",
   "execution_count": 52,
   "metadata": {},
   "outputs": [
    {
     "data": {
      "text/plain": [
       "array(['Street Tree', 'Tree Leaning', 'Limb Down - Other',\n",
       "       'Prune Dead Wood', 'Clear Building', 'Trees and Sidewalks',\n",
       "       'Trunk Damaged Bicycle Chained', 'Tree Down - Street',\n",
       "       'Clear Traffic - Signal', 'Root Damage', 'Tree Down - Other',\n",
       "       'Trunk Damaged', 'Branches Damaged', 'Blocked Sewer',\n",
       "       'Limb Down - Sidewalk', 'Clear Road',\n",
       "       'Hanging Limb from other Branches', 'Hanging Limb',\n",
       "       'Dead Tree Older Than 2 Years', 'Limb Down - House',\n",
       "       'Wood Pile Remaining', 'Hanging Limb Other', 'Prune Other',\n",
       "       'Poor Condition Cracked', 'Limb Down - Car',\n",
       "       'Clear Utilities - Power Lines', 'Tree Down - Sidewalk',\n",
       "       'Tree Split', 'Tree Down - Park Passive Area',\n",
       "       'Tree Down - Park Active Area', 'Tree Uprooted',\n",
       "       'Cracked Foundation', 'Hanging Limb from Wires',\n",
       "       'Clear Utilities - Other', 'Poor Condition Hollow',\n",
       "       'Limb Down - Street', 'Unauthorized Tree Removal',\n",
       "       'Uprooted Stump', 'Limb Down - Driveway',\n",
       "       'Unauthorized Tree Pruning', 'Dead Tree Planted Within 2 Years',\n",
       "       'Clear Street Light', 'Clear Traffic - Other Sign',\n",
       "       'Limb Down - Park Passive Area', 'Stump Removal',\n",
       "       'Tree Down - House', 'Tree Removal', 'Tree Down - Playground',\n",
       "       'Poor Condition', 'Tree Down - Driveway',\n",
       "       'Tree Down - Recreation Area', 'Clear Utilities - Telephone Lines',\n",
       "       'Tree Down - Car', 'Sidewalk Consultation',\n",
       "       'Limb Down - Park Active Area', 'Limb Down - Recreation Area',\n",
       "       'Left From Tree Removal'], dtype=object)"
      ]
     },
     "execution_count": 52,
     "metadata": {},
     "output_type": "execute_result"
    }
   ],
   "source": [
    "#sr type\n",
    "mergeddf.srtype.unique()"
   ]
  },
  {
   "cell_type": "code",
   "execution_count": 53,
   "metadata": {},
   "outputs": [
    {
     "data": {
      "text/plain": [
       "array(['Reviewed - Inspection Assigned',\n",
       "       'Inspected - Tentatively Approved for Planting',\n",
       "       'Inspected - Condition Not Found', 'No Action - Jurisdiction',\n",
       "       'Inspected - No Work Order', 'Work Priority Category - D', nan,\n",
       "       'Work Priority Category - C', 'No Action - Insufficient Info',\n",
       "       'Work Completed', 'Planting Declined - Unplantable',\n",
       "       'T/S Inspected - No Repair', 'Refer to NYCHA',\n",
       "       'Reviewed - Block Pruning', 'Refer to MTA',\n",
       "       'Inspected - Utility Wk Reqd', 'T/S Inspected - Repair Pending',\n",
       "       'T/S Inspected - Ineligible', 'Work Priority Category - B',\n",
       "       'Inspected - Location Not Found', 'Planting Declined - Temp',\n",
       "       'Refer to DEP', 'Storm Debris Removal Pending',\n",
       "       'Work Priority Category - A', 'Refer to DOT',\n",
       "       'T/S No Action - Ineligible', 'T/S Inspected - Site Waitlisted',\n",
       "       'Refer to DOHMH', 'Conflicting Jurisdiction', 'Work Order Created',\n",
       "       'Work Order Created - Work Priority Category B', 'Refer to DCAS'],\n",
       "      dtype=object)"
      ]
     },
     "execution_count": 53,
     "metadata": {},
     "output_type": "execute_result"
    }
   ],
   "source": [
    "mergeddf.srresolution.unique()"
   ]
  },
  {
   "cell_type": "code",
   "execution_count": 54,
   "metadata": {},
   "outputs": [
    {
     "data": {
      "text/plain": [
       "array([nan, '2023-01-04 18:43:46.0000000', '2023-01-17 18:38:05.0000000',\n",
       "       ..., '2023-02-06 16:50:31.0000000', '2023-02-02 17:48:12.0000000',\n",
       "       '2023-02-06 17:24:01.0000000'], dtype=object)"
      ]
     },
     "execution_count": 54,
     "metadata": {},
     "output_type": "execute_result"
    }
   ],
   "source": [
    "mergeddf.InsCreatedDate.unique()"
   ]
  },
  {
   "cell_type": "code",
   "execution_count": 55,
   "metadata": {},
   "outputs": [
    {
     "data": {
      "text/plain": [
       "array([nan, 'Level 2', 'Level 1', 'Sidewalk Rating',\n",
       "       'General - Planting Space'], dtype=object)"
      ]
     },
     "execution_count": 55,
     "metadata": {},
     "output_type": "execute_result"
    }
   ],
   "source": [
    "mergeddf.inspectiontype.unique()"
   ]
  },
  {
   "cell_type": "code",
   "execution_count": 56,
   "metadata": {},
   "outputs": [
    {
     "data": {
      "text/plain": [
       "5726"
      ]
     },
     "execution_count": 56,
     "metadata": {},
     "output_type": "execute_result"
    }
   ],
   "source": [
    "len(mergeddf)"
   ]
  },
  {
   "attachments": {},
   "cell_type": "markdown",
   "metadata": {},
   "source": [
    "### Data Insights"
   ]
  },
  {
   "cell_type": "code",
   "execution_count": 57,
   "metadata": {},
   "outputs": [
    {
     "data": {
      "text/plain": [
       "0"
      ]
     },
     "execution_count": 57,
     "metadata": {},
     "output_type": "execute_result"
    }
   ],
   "source": [
    "len(mergeddf[(mergeddf.InsCreatedDate != \"N/A\") & (mergeddf.inspectiontype == \"N/A\")])"
   ]
  },
  {
   "cell_type": "code",
   "execution_count": 46,
   "metadata": {},
   "outputs": [
    {
     "data": {
      "text/plain": [
       "Index(['srcategory', 'complainttype', 'srtype', 'descriptor1', 'srpriority',\n",
       "       'srstatus', 'srresolution', 'initiateddate', 'SRClosedDate',\n",
       "       'SRCreatedDate', 'SRUpdatedDate', 'inspectiontype', 'inspectionstatus',\n",
       "       'inspectiontpcondition', 'inspectiontpstructure', 'inspectiondate',\n",
       "       'InsCreatedDate', 'InsUpdatedDate', 'InsClosedDate', 'reinspectiondate',\n",
       "       'parentinspectionglobalid', 'wotype', 'wostatus', 'wocategory',\n",
       "       'woentity', 'woproject', 'wopriority', 'WOCreatedDate', 'WOUpdatedDate',\n",
       "       'WOClosedDate', 'cancelreason', 'canceldate', 'projstartdate',\n",
       "       'radefect', 'radefectlocation', 'failure', 'failureimpact',\n",
       "       'impacttarget', 'consequence', 'riskrating', 'RACreatedDate', 'nta',\n",
       "       'boroughcode', 'communityboard', 'zipcode', 'census_tract',\n",
       "       'latitude_SR', 'longitude_SR', 'geometry_SR'],\n",
       "      dtype='object')"
      ]
     },
     "execution_count": 46,
     "metadata": {},
     "output_type": "execute_result"
    }
   ],
   "source": [
    "mergeddf.columns"
   ]
  },
  {
   "attachments": {},
   "cell_type": "markdown",
   "metadata": {},
   "source": [
    "## Add columns for graph & aggregation"
   ]
  },
  {
   "cell_type": "code",
   "execution_count": 64,
   "metadata": {},
   "outputs": [
    {
     "data": {
      "text/plain": [
       "array(['0', '9196F0A4-2CCE-4C23-A8C7-9510EAFDFED5',\n",
       "       '17E15316-3726-44F3-8ED2-22E4A766FFC5',\n",
       "       'A81039C3-27FF-4574-9C44-2CDA06DA9BB1',\n",
       "       '521D0F53-06ED-434C-A334-E3631FE3FCF8',\n",
       "       'DDE23D8B-5519-4A36-97D5-D6E151680A59',\n",
       "       '22132514-D74A-4526-8A9C-73B7FDD1A222',\n",
       "       'E52A2463-63CA-4BE6-8BCB-CF8D517696C5',\n",
       "       '567BDF1F-0754-4819-ADA7-0493CB89F5BF',\n",
       "       '60616DF9-FA9A-4DD5-9CE5-A6F83CDB4DE3',\n",
       "       'AAE4243B-CD6A-4047-8CB4-25C7AE8B7F48',\n",
       "       '5DDE3E27-DB43-4148-8903-8B02289F1E35',\n",
       "       '62117993-218B-46C6-A99E-988E5740A676',\n",
       "       '4DB5E35C-6927-40CE-BE50-F1F9B71F6B8A',\n",
       "       '2D1066B7-2106-466E-B03F-756F9E1BFE31',\n",
       "       '7EBCAA47-FA4A-4239-B422-3CFBBF37BDAE',\n",
       "       'C75DDDC7-9D18-482B-9535-D0512AC21019',\n",
       "       'DCCE4FAA-5EF0-4361-87AD-5683E0C3AE52',\n",
       "       'AA499FC4-704F-499A-8C9F-B410D895A873',\n",
       "       '5E45C2D5-DF17-405B-A0E4-14D0BEB9D211',\n",
       "       'E5916E40-FFD2-4615-87B2-C8AB62B29BD1',\n",
       "       '51C3FB22-02AB-41CC-BF48-91FF913C5769',\n",
       "       '5788B18A-40D0-48E0-8F24-CE5FC3B2126B',\n",
       "       '1E31DA7E-9683-4FA5-B945-DC1941A8A543',\n",
       "       '0C3E7974-4A58-4C21-9068-80EE04B462F1',\n",
       "       '7AFBE17E-F5D9-46F7-9B85-A6DB08B3A88B',\n",
       "       '90016643-A16F-48F3-BA5E-736FBFB1698E',\n",
       "       'D74C9611-6454-47D1-BD4A-A24434BA52AE',\n",
       "       '4BE5C90F-8218-47FB-B577-54DF4940CA09',\n",
       "       'D22077B9-D7B1-4BE5-9D38-417AE846D876',\n",
       "       'BC88A394-CF19-4682-BDB7-2CEA1160F9CB',\n",
       "       'E67B7A52-28BB-4C32-A49B-7891AAEE8893',\n",
       "       '0FC0F4E7-61C7-4177-B8BD-0FA7AEC5B6A8',\n",
       "       '3B33049E-2BF1-4A31-B620-C15F6AA51791',\n",
       "       'CB0350F5-FBDB-435E-ADCC-D59901994787',\n",
       "       '27C32B79-7547-4F44-BE06-C4C21580B512',\n",
       "       '06282414-4216-4C87-8015-DC60EAE40864',\n",
       "       'DBEEE417-6087-4ACC-9753-5D57329AB349',\n",
       "       '7D9A08E1-A059-471F-8863-E3E7975E9D0F',\n",
       "       'E8037BBE-41FE-49FB-9F43-980158179028',\n",
       "       'BB6C2B2C-9552-4D8C-AA30-BB9B8D148CBB',\n",
       "       'EE04122F-4B4D-4525-ACE9-5DFF7BAE7943',\n",
       "       'D80E3B5A-B705-460D-8B73-1B39AB0F9DAF',\n",
       "       '297ECD45-271B-4B86-B7F4-1E3102A41B76',\n",
       "       'E237AA9E-35C9-45D0-8BBD-70FE8C457AC4',\n",
       "       'AE75603C-8DAB-4710-877F-70D655446FD7',\n",
       "       'A9F7AC53-56D2-4144-903F-96A4C31B2F47',\n",
       "       'EADDEBBC-973E-4B32-8E57-40B885C3D0C0',\n",
       "       'C6B8D27D-B4A9-4E88-B45B-68498DCF9229',\n",
       "       '58F928E2-88C9-4516-9330-A8864C5C1BEF',\n",
       "       'DEFCC97F-14FA-4F93-88C4-7ECF34B608FA',\n",
       "       'FDE6FBDB-13FB-4E98-B69D-60B9CEDF37AD',\n",
       "       '575567B6-4F3B-40C7-8ED4-BE7FFD35735C',\n",
       "       '734D0743-A5AB-4DF2-9695-04104FF2A38F',\n",
       "       '40C28F96-B8B4-425B-AE49-D3D1DAD7AD62',\n",
       "       '070AC4B9-D2DC-4224-8BB4-DCE90CBF5E87',\n",
       "       '26AF1909-A6B3-479D-B16D-26571ACEE4A1',\n",
       "       '8405DBC2-065E-43BD-94C3-9D5C0618B584',\n",
       "       '6D6CECD6-F63C-4710-9DC0-6FA7C96AFAC4',\n",
       "       'D3EE94E8-918C-4569-A17C-3BDFA26463BE',\n",
       "       '6AAE3E16-EA51-418A-BC0E-28F86961CA52',\n",
       "       '80D4B939-F964-4773-9E3E-B79108FCEE50',\n",
       "       '590A30A0-53BF-4C96-9B64-92C23D745474',\n",
       "       '12B86A5F-9DE8-4D09-A835-EEF9DD5C4CA9',\n",
       "       '1F3EF71E-119E-4363-AAE6-B2301C419C43',\n",
       "       'BFFCE482-B8DF-4BAE-9194-152469C91D64',\n",
       "       'F40B809D-EEE4-40D9-B884-B8FCAF489C86',\n",
       "       '456FDBCD-BBC8-4B3E-8A94-4DF0930C6A55',\n",
       "       '513590A4-2A9D-49C1-9383-621A4DB191A0',\n",
       "       '3C8E5622-DF67-48CB-B401-8C7EA40A0853',\n",
       "       'AD795E8E-9373-4618-99FA-7A0B21C3592C',\n",
       "       'A536815C-9113-4D49-966D-A43C36BAC4A2',\n",
       "       '41FDB177-676D-4D3D-9E3E-7BCA657756CD',\n",
       "       'F1648846-B71F-4B7C-AF1B-5AFF79EA5DCE',\n",
       "       'FB9185FB-3215-42DC-81C3-DE74309ACD3B',\n",
       "       '8F527872-A53E-4324-87C5-A0DA72FAF315',\n",
       "       '87D40951-51BD-4F0F-BCA5-C51183F7CE12',\n",
       "       '29D50798-D116-4218-9C23-401DD6B4FF05',\n",
       "       'BBD895BE-3390-49FC-83A9-5A701BEBBCC2',\n",
       "       'C3A791C0-6D1E-4B46-A387-3E81ABE090A0',\n",
       "       'A20C4083-1BC2-43D5-B4F6-1191D152E38C',\n",
       "       '18E51BEC-076C-4C2A-8866-77E900BBC09B',\n",
       "       'E1DA59DF-D2EF-4862-8C3E-5ECA99F1EB84',\n",
       "       '60D5E43D-60FF-4E42-A657-C347650B4B13',\n",
       "       'B279844B-0C04-4FAE-9BDA-F986BE5A9580',\n",
       "       '095FD946-A586-41CF-AEA3-8AA002C1253F',\n",
       "       '70B57EDF-4A68-4BB4-A289-2DF609C6947A',\n",
       "       'D3BD7045-B36A-422B-950B-DD63522C3C13',\n",
       "       '030E33C6-4DBE-4D35-9F9B-EE91758768FA',\n",
       "       'C9142523-86E2-43E1-BFE4-8758828031B3',\n",
       "       '4A60E550-E47D-4F93-8BFF-51D8760D3B1B',\n",
       "       '59F9E8B6-D103-4671-8DBE-F9EEFB01F34F',\n",
       "       '3835AACF-8A34-4DA0-A23E-52BB3803953B',\n",
       "       '872FF1B9-D971-4A57-8BEA-6A2719963BC1',\n",
       "       'A830918F-9E59-4B86-BADC-DBF7B719D39D',\n",
       "       '890A8ED7-B9BC-483F-B5AA-01B7EF8E4725',\n",
       "       'EBC19493-C1AF-4DD7-BEFB-304858F556B3'], dtype=object)"
      ]
     },
     "execution_count": 64,
     "metadata": {},
     "output_type": "execute_result"
    }
   ],
   "source": [
    "mergeddf.InsGlobalID.unique()"
   ]
  },
  {
   "cell_type": "code",
   "execution_count": 58,
   "metadata": {},
   "outputs": [
    {
     "name": "stderr",
     "output_type": "stream",
     "text": [
      "/var/folders/sw/bm9l8xdn4yxdqvn80kxmq7y00000gn/T/ipykernel_19032/611471582.py:1: SettingWithCopyWarning: \n",
      "A value is trying to be set on a copy of a slice from a DataFrame.\n",
      "Try using .loc[row_indexer,col_indexer] = value instead\n",
      "\n",
      "See the caveats in the documentation: https://pandas.pydata.org/pandas-docs/stable/user_guide/indexing.html#returning-a-view-versus-a-copy\n",
      "  mergeddf['inspection_attached'] = np.where(mergeddf['InsGlobalID']!= '0', True, False)\n"
     ]
    }
   ],
   "source": [
    "mergeddf['inspection_attached'] = np.where(mergeddf['InsGlobalID']!= '0', True, False)"
   ]
  },
  {
   "cell_type": "code",
   "execution_count": 59,
   "metadata": {},
   "outputs": [
    {
     "name": "stderr",
     "output_type": "stream",
     "text": [
      "/var/folders/sw/bm9l8xdn4yxdqvn80kxmq7y00000gn/T/ipykernel_19032/310566942.py:1: SettingWithCopyWarning: \n",
      "A value is trying to be set on a copy of a slice from a DataFrame.\n",
      "Try using .loc[row_indexer,col_indexer] = value instead\n",
      "\n",
      "See the caveats in the documentation: https://pandas.pydata.org/pandas-docs/stable/user_guide/indexing.html#returning-a-view-versus-a-copy\n",
      "  mergeddf['wo_attached'] = np.where(mergeddf['WOGlobalID'] != 'N/A', True, False)\n"
     ]
    }
   ],
   "source": [
    "mergeddf['wo_attached'] = np.where(mergeddf['WOGlobalID'] != 'N/A', True, False)"
   ]
  },
  {
   "cell_type": "code",
   "execution_count": 60,
   "metadata": {},
   "outputs": [
    {
     "name": "stderr",
     "output_type": "stream",
     "text": [
      "/var/folders/sw/bm9l8xdn4yxdqvn80kxmq7y00000gn/T/ipykernel_19032/2699466242.py:1: SettingWithCopyWarning: \n",
      "A value is trying to be set on a copy of a slice from a DataFrame.\n",
      "Try using .loc[row_indexer,col_indexer] = value instead\n",
      "\n",
      "See the caveats in the documentation: https://pandas.pydata.org/pandas-docs/stable/user_guide/indexing.html#returning-a-view-versus-a-copy\n",
      "  mergeddf['initiateddate'] = pd.to_datetime(mergeddf['initiateddate'],errors='coerce')\n",
      "/var/folders/sw/bm9l8xdn4yxdqvn80kxmq7y00000gn/T/ipykernel_19032/2699466242.py:2: SettingWithCopyWarning: \n",
      "A value is trying to be set on a copy of a slice from a DataFrame.\n",
      "Try using .loc[row_indexer,col_indexer] = value instead\n",
      "\n",
      "See the caveats in the documentation: https://pandas.pydata.org/pandas-docs/stable/user_guide/indexing.html#returning-a-view-versus-a-copy\n",
      "  mergeddf['initiated_year'] = pd.DatetimeIndex(mergeddf['initiateddate']).year\n",
      "/var/folders/sw/bm9l8xdn4yxdqvn80kxmq7y00000gn/T/ipykernel_19032/2699466242.py:3: SettingWithCopyWarning: \n",
      "A value is trying to be set on a copy of a slice from a DataFrame.\n",
      "Try using .loc[row_indexer,col_indexer] = value instead\n",
      "\n",
      "See the caveats in the documentation: https://pandas.pydata.org/pandas-docs/stable/user_guide/indexing.html#returning-a-view-versus-a-copy\n",
      "  mergeddf['initiated_month'] = pd.DatetimeIndex(mergeddf['initiateddate']).month\n",
      "/var/folders/sw/bm9l8xdn4yxdqvn80kxmq7y00000gn/T/ipykernel_19032/2699466242.py:4: SettingWithCopyWarning: \n",
      "A value is trying to be set on a copy of a slice from a DataFrame.\n",
      "Try using .loc[row_indexer,col_indexer] = value instead\n",
      "\n",
      "See the caveats in the documentation: https://pandas.pydata.org/pandas-docs/stable/user_guide/indexing.html#returning-a-view-versus-a-copy\n",
      "  mergeddf['SRCreatedDate_datetime'] = pd.to_datetime(mergeddf['SRCreatedDate'],errors='coerce')\n"
     ]
    }
   ],
   "source": [
    "mergeddf['initiateddate'] = pd.to_datetime(mergeddf['initiateddate'],errors='coerce')\n",
    "mergeddf['initiated_year'] = pd.DatetimeIndex(mergeddf['initiateddate']).year\n",
    "mergeddf['initiated_month'] = pd.DatetimeIndex(mergeddf['initiateddate']).month\n",
    "mergeddf['SRCreatedDate_datetime'] = pd.to_datetime(mergeddf['SRCreatedDate'],errors='coerce')"
   ]
  },
  {
   "attachments": {},
   "cell_type": "markdown",
   "metadata": {},
   "source": [
    "## Calculate Numbers"
   ]
  },
  {
   "attachments": {},
   "cell_type": "markdown",
   "metadata": {},
   "source": [
    "### SR Total"
   ]
  },
  {
   "cell_type": "code",
   "execution_count": 61,
   "metadata": {},
   "outputs": [
    {
     "data": {
      "text/plain": [
       "5726"
      ]
     },
     "execution_count": 61,
     "metadata": {},
     "output_type": "execute_result"
    }
   ],
   "source": [
    "#for global\n",
    "len(mergeddf)"
   ]
  },
  {
   "cell_type": "code",
   "execution_count": 62,
   "metadata": {},
   "outputs": [],
   "source": [
    "#for each month\n",
    "count_by_month = mergeddf['SRCreatedDate_datetime'].apply(lambda row: row.month)\n",
    "count_by_month = count_by_month.to_frame()\n",
    "count_by_month.rename(columns={'SRCreatedDate_datetime' : 'SRCreated_month'}, inplace = \"True\")"
   ]
  },
  {
   "cell_type": "code",
   "execution_count": 63,
   "metadata": {},
   "outputs": [
    {
     "data": {
      "text/plain": [
       "SRCreated_month\n",
       "1    4366\n",
       "2    1360\n",
       "dtype: int64"
      ]
     },
     "execution_count": 63,
     "metadata": {},
     "output_type": "execute_result"
    }
   ],
   "source": [
    "count_by_month.groupby([\"SRCreated_month\"]).size()"
   ]
  },
  {
   "attachments": {},
   "cell_type": "markdown",
   "metadata": {},
   "source": [
    "### Uninspected Service Requests"
   ]
  },
  {
   "cell_type": "code",
   "execution_count": 64,
   "metadata": {},
   "outputs": [],
   "source": [
    "uninspected = mergeddf[mergeddf[\"inspection_attached\"] == False]"
   ]
  },
  {
   "cell_type": "code",
   "execution_count": 65,
   "metadata": {},
   "outputs": [
    {
     "data": {
      "text/plain": [
       "4396"
      ]
     },
     "execution_count": 65,
     "metadata": {},
     "output_type": "execute_result"
    }
   ],
   "source": [
    "#For global\n",
    "len(uninspected)"
   ]
  },
  {
   "cell_type": "code",
   "execution_count": 66,
   "metadata": {},
   "outputs": [],
   "source": [
    "#For each month\n",
    "uninspected_by_month = uninspected['SRCreatedDate_datetime'].apply(lambda row: row.month).to_frame()\n",
    "uninspected_by_month.rename(columns={'SRCreatedDate_datetime' : 'SRCreated_month'}, inplace = \"True\")\n"
   ]
  },
  {
   "cell_type": "code",
   "execution_count": 67,
   "metadata": {},
   "outputs": [
    {
     "data": {
      "text/plain": [
       "SRCreated_month\n",
       "1    3175\n",
       "2    1221\n",
       "dtype: int64"
      ]
     },
     "execution_count": 67,
     "metadata": {},
     "output_type": "execute_result"
    }
   ],
   "source": [
    "uninspected_by_month.groupby([\"SRCreated_month\"]).size()"
   ]
  },
  {
   "attachments": {},
   "cell_type": "markdown",
   "metadata": {},
   "source": [
    "# Dump data to geojson"
   ]
  },
  {
   "cell_type": "code",
   "execution_count": 62,
   "metadata": {},
   "outputs": [],
   "source": [
    "#drop rows is there's no geometry info\n",
    "mergeddf = mergeddf[mergeddf['latitude_SR'].notna()]"
   ]
  },
  {
   "cell_type": "code",
   "execution_count": 63,
   "metadata": {},
   "outputs": [],
   "source": [
    "mergeddf['complainttype'].fillna('None Selected', inplace=True)\n",
    "mergeddf['srtype'].fillna('None Selected', inplace=True)\n",
    "mergeddf['riskrating'].fillna(0, inplace=True)\n",
    "mergeddf.fillna('N/A', inplace = True)"
   ]
  },
  {
   "cell_type": "code",
   "execution_count": null,
   "metadata": {},
   "outputs": [],
   "source": [
    "geojson = df_to_geojson(mergeddf, cols_to_keep, lat='latitude_SR', lon='longitude_SR')"
   ]
  },
  {
   "cell_type": "code",
   "execution_count": null,
   "metadata": {},
   "outputs": [],
   "source": [
    "fileName = \"{}{}\".format(last_fetch_time, \".geojson\")\n",
    "with open(fileName, 'w') as outfile:\n",
    "    dump(geojson, outfile)"
   ]
  }
 ],
 "metadata": {
  "kernelspec": {
   "display_name": "Python 3",
   "language": "python",
   "name": "python3"
  },
  "language_info": {
   "codemirror_mode": {
    "name": "ipython",
    "version": 3
   },
   "file_extension": ".py",
   "mimetype": "text/x-python",
   "name": "python",
   "nbconvert_exporter": "python",
   "pygments_lexer": "ipython3",
   "version": "3.10.6"
  },
  "orig_nbformat": 4,
  "vscode": {
   "interpreter": {
    "hash": "aee8b7b246df8f9039afb4144a1f6fd8d2ca17a180786b69acc140d282b71a49"
   }
  }
 },
 "nbformat": 4,
 "nbformat_minor": 2
}
