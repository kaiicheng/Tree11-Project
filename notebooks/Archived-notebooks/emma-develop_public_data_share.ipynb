{
 "cells": [
  {
   "cell_type": "code",
   "execution_count": 1,
   "metadata": {
    "id": "umErTYFA9nxm"
   },
   "outputs": [],
   "source": [
    "import pandas as pd\n",
    "import geopandas as gpd\n",
    "import matplotlib.pyplot as plt\n",
    "from shapely.geometry import Point\n",
    "import os\n",
    "import re\n",
    "import requests\n",
    "import json\n",
    "import math\n",
    "from geojson import Point, Feature, FeatureCollection, dump\n",
    "import numpy as np\n",
    "import datetime\n",
    "\n",
    "# FSR = pd.read_csv('./data/Forestry_Service_Requests.csv') # https://data.cityofnewyork.us/Environment/Forestry-Service-Requests/mu46-p9is\n",
    "# FI = pd.read_csv('./data/Forestry_Inspections.csv')# https://data.cityofnewyork.us/Environment/Forestry-Inspections/4pt5-3vv4\n",
    "# FWO = pd.read_csv('./data/Foresty_Work_Orders.csv') # https://data.cityofnewyork.us/Environment/Forestry-Work-Orders/bdjm-n7q4\n",
    "# FRA = pd.read_csv('./data/Forestry_Risk_Assessments.csv') # https://data.cityofnewyork.us/Environment/Forestry-Risk-Assessments/259a-b6s7\n",
    "# shape = gpd.read_file(\"./data/shape_files/cb_2018_36_tract_500k.shp\") # shapefile for census tracts, not necessary for joining"
   ]
  },
  {
   "cell_type": "code",
   "execution_count": 2,
   "metadata": {
    "id": "s1ZjQdnN9nxy"
   },
   "outputs": [],
   "source": [
    "pd.set_option('display.max_rows', 500)\n",
    "pd.set_option('display.max_columns', 500)"
   ]
  },
  {
   "cell_type": "markdown",
   "metadata": {},
   "source": [
    "# get data"
   ]
  },
  {
   "cell_type": "code",
   "execution_count": 3,
   "metadata": {
    "id": "awEO21rZ-utp"
   },
   "outputs": [],
   "source": [
    "def get_data(url):\n",
    "    api = requests.get(url)\n",
    "    print(api.status_code)\n",
    "    data = api.text\n",
    "    js = json.loads(data)\n",
    "    return pd.DataFrame.from_dict(js)"
   ]
  },
  {
   "cell_type": "markdown",
   "metadata": {
    "id": "mkkDW2OiGsHF"
   },
   "source": [
    "service_requests (734K rows, created 2017): https://data.cityofnewyork.us/Environment/Forestry-Service-Requests/mu46-p9is\n",
    "\n",
    "inspections (~1.23M rows): https://data.cityofnewyork.us/Environment/Forestry-Inspections/4pt5-3vv4\n",
    "\n",
    "work_orders (~943K rows): https://data.cityofnewyork.us/Environment/Forestry-Work-Orders/bdjm-n7q4\n",
    "\n",
    "risk assessments: https://data.cityofnewyork.us/Environment/Forestry-Risk-Assessments/259a-b6s7\n",
    "\n",
    "---\n",
    "tree_points (~1M rows): https://data.cityofnewyork.us/Environment/Forestry-Tree-Points/hn5i-inap\n",
    "\n",
    "planting spaces (~1M rows): https://data.cityofnewyork.us/Environment/Forestry-Planting-Spaces/82zj-84is\n",
    "\n",
    "tasks (~151K rows): https://data.cityofnewyork.us/Environment/Forestry-Tasks/45sb-srb5\n",
    "\n",
    "tree contract work details: https://data.cityofnewyork.us/Environment/Tree-Contract-Work-Details/kcfe-uypz"
   ]
  },
  {
   "cell_type": "code",
   "execution_count": 4,
   "metadata": {
    "colab": {
     "base_uri": "https://localhost:8080/"
    },
    "id": "xCr9A8er-UlF",
    "outputId": "e965323e-5320-49d2-8025-6d1f69360195"
   },
   "outputs": [
    {
     "name": "stdout",
     "output_type": "stream",
     "text": [
      "200\n",
      "200\n",
      "200\n",
      "200\n"
     ]
    }
   ],
   "source": [
    "# requests since start of 2022\n",
    "# tree_points = get_data('https://data.cityofnewyork.us/resource/hn5i-inap.json?$limit=10000')\n",
    "FSR = get_data(\"https://data.cityofnewyork.us/resource/mu46-p9is.json?$where=createddate>'01/01/2022%2000:00:00'&$limit=1000000\")\n",
    "FI = get_data(\"https://data.cityofnewyork.us/resource/4pt5-3vv4.json?$where=createddate>'2022-01-01T00:00:00.000'&$limit=1000000\")\n",
    "FWO = get_data(\"https://data.cityofnewyork.us/resource/bdjm-n7q4.json?$where=createddate>'2022-01-01T00:00:00.000'&$limit=1000000\")\n",
    "FRA = get_data(\"https://data.cityofnewyork.us/resource/259a-b6s7.json?$where=createddate>'2022-01-01T00:00:00.000'&$limit=1000000\")\n",
    "\n",
    "# trees_API = requests.get('https://data.cityofnewyork.us/resource/hn5i-inap.json')\n",
    "# SR_API = requests.get('https://data.cityofnewyork.us/resource/mu46-p9is.json?$where=createddate%3E%2701/01/2020%2014:20:00%27')\n",
    "# inspection_API = requests.get(\"https://data.cityofnewyork.us/resource/4pt5-3vv4.json?$where=createddate%3E%272020-01-01T14:47:49.000%27\")\n",
    "# WO_API = requests.get(\"https://data.cityofnewyork.us/resource/bdjm-n7q4.json\")\n",
    "\n",
    "# show current status of how many are in each bureau and if sr has attached work order and inspection\n",
    "# breakdown of request types"
   ]
  },
  {
   "cell_type": "markdown",
   "metadata": {},
   "source": [
    "# get test data"
   ]
  },
  {
   "cell_type": "code",
   "execution_count": 5,
   "metadata": {
    "colab": {
     "base_uri": "https://localhost:8080/"
    },
    "id": "xCr9A8er-UlF",
    "outputId": "e965323e-5320-49d2-8025-6d1f69360195"
   },
   "outputs": [],
   "source": [
    "# FSR = get_data(\"https://data.cityofnewyork.us/resource/mu46-p9is.json?$where=createddate>'08/01/2022%2000:00:00'&$limit=1000000\")\n",
    "# FI = get_data(\"https://data.cityofnewyork.us/resource/4pt5-3vv4.json?$where=createddate>'2022-08-01T00:00:00.000'&$limit=1000000\")\n",
    "# FWO = get_data(\"https://data.cityofnewyork.us/resource/bdjm-n7q4.json?$where=createddate>'2022-08-01T00:00:00.000'&$limit=1000000\")\n",
    "# FRA = get_data(\"https://data.cityofnewyork.us/resource/259a-b6s7.json?$where=createddate>'2022-08-01T00:00:00.000'&$limit=1000000\")"
   ]
  },
  {
   "cell_type": "markdown",
   "metadata": {},
   "source": [
    "# import shapefile"
   ]
  },
  {
   "cell_type": "code",
   "execution_count": 6,
   "metadata": {
    "colab": {
     "base_uri": "https://localhost:8080/"
    },
    "id": "XE8eMVDrEpuR",
    "outputId": "7c30a5c9-cbd3-4465-91db-9087e054bfcd"
   },
   "outputs": [],
   "source": [
    "# from google.colab import drive\n",
    "# drive.mount('/content/drive')"
   ]
  },
  {
   "cell_type": "code",
   "execution_count": 7,
   "metadata": {
    "id": "DlAq4mm4Ekk6"
   },
   "outputs": [],
   "source": [
    "# path = \"/content/drive/MyDrive/311 Resident Crowdsourcing/Code/data/shape_files/cb_2018_36_tract_500k.shp\"\n",
    "# shape = gpd.read_file(path) # shapefile for census tracts, not necessary for joining\n",
    "\n",
    "path = \"shape_files/cb_2018_36_tract_500k.shp\"\n",
    "shape = gpd.read_file(path) # shapefile for census tracts, not necessary for joining"
   ]
  },
  {
   "cell_type": "markdown",
   "metadata": {},
   "source": [
    "## assign same crs"
   ]
  },
  {
   "cell_type": "code",
   "execution_count": 8,
   "metadata": {
    "scrolled": true
   },
   "outputs": [
    {
     "data": {
      "text/plain": [
       "<Geographic 2D CRS: EPSG:4269>\n",
       "Name: NAD83\n",
       "Axis Info [ellipsoidal]:\n",
       "- Lat[north]: Geodetic latitude (degree)\n",
       "- Lon[east]: Geodetic longitude (degree)\n",
       "Area of Use:\n",
       "- name: North America - onshore and offshore: Canada - Alberta; British Columbia; Manitoba; New Brunswick; Newfoundland and Labrador; Northwest Territories; Nova Scotia; Nunavut; Ontario; Prince Edward Island; Quebec; Saskatchewan; Yukon. Puerto Rico. United States (USA) - Alabama; Alaska; Arizona; Arkansas; California; Colorado; Connecticut; Delaware; Florida; Georgia; Hawaii; Idaho; Illinois; Indiana; Iowa; Kansas; Kentucky; Louisiana; Maine; Maryland; Massachusetts; Michigan; Minnesota; Mississippi; Missouri; Montana; Nebraska; Nevada; New Hampshire; New Jersey; New Mexico; New York; North Carolina; North Dakota; Ohio; Oklahoma; Oregon; Pennsylvania; Rhode Island; South Carolina; South Dakota; Tennessee; Texas; Utah; Vermont; Virginia; Washington; West Virginia; Wisconsin; Wyoming. US Virgin Islands. British Virgin Islands.\n",
       "- bounds: (167.65, 14.92, -47.74, 86.46)\n",
       "Datum: North American Datum 1983\n",
       "- Ellipsoid: GRS 1980\n",
       "- Prime Meridian: Greenwich"
      ]
     },
     "execution_count": 8,
     "metadata": {},
     "output_type": "execute_result"
    }
   ],
   "source": [
    "shape.crs"
   ]
  },
  {
   "cell_type": "code",
   "execution_count": 9,
   "metadata": {},
   "outputs": [],
   "source": [
    "shape = shape.to_crs(4326)"
   ]
  },
  {
   "cell_type": "code",
   "execution_count": 10,
   "metadata": {},
   "outputs": [
    {
     "data": {
      "text/plain": [
       "<Geographic 2D CRS: EPSG:4326>\n",
       "Name: WGS 84\n",
       "Axis Info [ellipsoidal]:\n",
       "- Lat[north]: Geodetic latitude (degree)\n",
       "- Lon[east]: Geodetic longitude (degree)\n",
       "Area of Use:\n",
       "- name: World.\n",
       "- bounds: (-180.0, -90.0, 180.0, 90.0)\n",
       "Datum: World Geodetic System 1984 ensemble\n",
       "- Ellipsoid: WGS 84\n",
       "- Prime Meridian: Greenwich"
      ]
     },
     "execution_count": 10,
     "metadata": {},
     "output_type": "execute_result"
    }
   ],
   "source": [
    "shape.crs"
   ]
  },
  {
   "cell_type": "code",
   "execution_count": 11,
   "metadata": {},
   "outputs": [
    {
     "data": {
      "text/html": [
       "<div>\n",
       "<style scoped>\n",
       "    .dataframe tbody tr th:only-of-type {\n",
       "        vertical-align: middle;\n",
       "    }\n",
       "\n",
       "    .dataframe tbody tr th {\n",
       "        vertical-align: top;\n",
       "    }\n",
       "\n",
       "    .dataframe thead th {\n",
       "        text-align: right;\n",
       "    }\n",
       "</style>\n",
       "<table border=\"1\" class=\"dataframe\">\n",
       "  <thead>\n",
       "    <tr style=\"text-align: right;\">\n",
       "      <th></th>\n",
       "      <th>STATEFP</th>\n",
       "      <th>COUNTYFP</th>\n",
       "      <th>TRACTCE</th>\n",
       "      <th>AFFGEOID</th>\n",
       "      <th>GEOID</th>\n",
       "      <th>NAME</th>\n",
       "      <th>LSAD</th>\n",
       "      <th>ALAND</th>\n",
       "      <th>AWATER</th>\n",
       "      <th>geometry</th>\n",
       "    </tr>\n",
       "  </thead>\n",
       "  <tbody>\n",
       "    <tr>\n",
       "      <th>0</th>\n",
       "      <td>36</td>\n",
       "      <td>019</td>\n",
       "      <td>101100</td>\n",
       "      <td>1400000US36019101100</td>\n",
       "      <td>36019101100</td>\n",
       "      <td>1011</td>\n",
       "      <td>CT</td>\n",
       "      <td>583322</td>\n",
       "      <td>57750</td>\n",
       "      <td>POLYGON ((-73.46914 44.69043, -73.46972 44.693...</td>\n",
       "    </tr>\n",
       "    <tr>\n",
       "      <th>1</th>\n",
       "      <td>36</td>\n",
       "      <td>021</td>\n",
       "      <td>000402</td>\n",
       "      <td>1400000US36021000402</td>\n",
       "      <td>36021000402</td>\n",
       "      <td>4.02</td>\n",
       "      <td>CT</td>\n",
       "      <td>42294908</td>\n",
       "      <td>1437327</td>\n",
       "      <td>POLYGON ((-73.72088 42.45322, -73.71799 42.470...</td>\n",
       "    </tr>\n",
       "    <tr>\n",
       "      <th>2</th>\n",
       "      <td>36</td>\n",
       "      <td>023</td>\n",
       "      <td>970700</td>\n",
       "      <td>1400000US36023970700</td>\n",
       "      <td>36023970700</td>\n",
       "      <td>9707</td>\n",
       "      <td>CT</td>\n",
       "      <td>2082176</td>\n",
       "      <td>0</td>\n",
       "      <td>POLYGON ((-76.20049 42.61248, -76.19596 42.612...</td>\n",
       "    </tr>\n",
       "  </tbody>\n",
       "</table>\n",
       "</div>"
      ],
      "text/plain": [
       "  STATEFP COUNTYFP TRACTCE              AFFGEOID        GEOID  NAME LSAD  \\\n",
       "0      36      019  101100  1400000US36019101100  36019101100  1011   CT   \n",
       "1      36      021  000402  1400000US36021000402  36021000402  4.02   CT   \n",
       "2      36      023  970700  1400000US36023970700  36023970700  9707   CT   \n",
       "\n",
       "      ALAND   AWATER                                           geometry  \n",
       "0    583322    57750  POLYGON ((-73.46914 44.69043, -73.46972 44.693...  \n",
       "1  42294908  1437327  POLYGON ((-73.72088 42.45322, -73.71799 42.470...  \n",
       "2   2082176        0  POLYGON ((-76.20049 42.61248, -76.19596 42.612...  "
      ]
     },
     "execution_count": 11,
     "metadata": {},
     "output_type": "execute_result"
    }
   ],
   "source": [
    "shape.head(3)"
   ]
  },
  {
   "cell_type": "code",
   "execution_count": 12,
   "metadata": {},
   "outputs": [
    {
     "data": {
      "text/plain": [
       "0       POLYGON ((-73.46914 44.69043, -73.46972 44.693...\n",
       "1       POLYGON ((-73.72088 42.45322, -73.71799 42.470...\n",
       "2       POLYGON ((-76.20049 42.61248, -76.19596 42.612...\n",
       "3       POLYGON ((-73.79203 40.71107, -73.79101 40.711...\n",
       "4       POLYGON ((-73.88799 40.74355, -73.88621 40.743...\n",
       "                              ...                        \n",
       "4901    POLYGON ((-73.94543 40.72552, -73.94357 40.725...\n",
       "4902    POLYGON ((-78.94409 42.02386, -78.93824 42.025...\n",
       "4903    POLYGON ((-79.29492 42.45567, -79.29472 42.456...\n",
       "4904    POLYGON ((-73.94188 42.82295, -73.94016 42.823...\n",
       "4905    POLYGON ((-73.24619 40.76870, -73.24617 40.778...\n",
       "Name: geometry, Length: 4906, dtype: geometry"
      ]
     },
     "execution_count": 12,
     "metadata": {},
     "output_type": "execute_result"
    }
   ],
   "source": [
    "shape.geometry"
   ]
  },
  {
   "cell_type": "markdown",
   "metadata": {},
   "source": [
    "# examine which cols are associated between dfs"
   ]
  },
  {
   "cell_type": "code",
   "execution_count": 13,
   "metadata": {
    "colab": {
     "base_uri": "https://localhost:8080/"
    },
    "id": "wwaGQZXR9nxx",
    "outputId": "dfa9a5a0-4171-4731-d60a-fb40cb8e01d6",
    "scrolled": true
   },
   "outputs": [
    {
     "data": {
      "text/plain": [
       "(733779, 136694, 108660, 167475, 4906)"
      ]
     },
     "execution_count": 13,
     "metadata": {},
     "output_type": "execute_result"
    }
   ],
   "source": [
    "len(FSR), len(FI), len(FWO), len(FRA), len(shape)"
   ]
  },
  {
   "cell_type": "code",
   "execution_count": 14,
   "metadata": {
    "colab": {
     "base_uri": "https://localhost:8080/"
    },
    "id": "GKo853Uu9nxy",
    "outputId": "c95b92e0-b345-40c4-cb79-6708a527e681"
   },
   "outputs": [
    {
     "data": {
      "text/plain": [
       "7"
      ]
     },
     "execution_count": 14,
     "metadata": {},
     "output_type": "execute_result"
    }
   ],
   "source": [
    "# FSR Global ID corresponds to FI Service Request Global ID\n",
    "len(set(FI.servicerequestglobalid) - set(FSR.globalid)) "
   ]
  },
  {
   "cell_type": "code",
   "execution_count": 15,
   "metadata": {
    "colab": {
     "base_uri": "https://localhost:8080/"
    },
    "id": "SOEpI_9D9nxy",
    "outputId": "477dab9a-04f9-460f-d302-cec92df7f9a9"
   },
   "outputs": [
    {
     "data": {
      "text/plain": [
       "1261"
      ]
     },
     "execution_count": 15,
     "metadata": {},
     "output_type": "execute_result"
    }
   ],
   "source": [
    "# FI GLOBAL ID corresponds to FWO Inspection Global ID\n",
    "len(set(FWO.inspectionglobalid) - set(FI.globalid))"
   ]
  },
  {
   "cell_type": "code",
   "execution_count": 16,
   "metadata": {
    "colab": {
     "base_uri": "https://localhost:8080/"
    },
    "id": "l0_kEcVq9nxy",
    "outputId": "48c0250c-50c1-463e-fe4d-b4293b88a78c"
   },
   "outputs": [
    {
     "data": {
      "text/plain": [
       "14023"
      ]
     },
     "execution_count": 16,
     "metadata": {},
     "output_type": "execute_result"
    }
   ],
   "source": [
    "# FRA InspectionGlobalID corresponds to FI Global ID, roughly...\n",
    "len(set(FRA.inspectionglobalid) - set(FI.globalid))"
   ]
  },
  {
   "cell_type": "code",
   "execution_count": 17,
   "metadata": {},
   "outputs": [
    {
     "data": {
      "text/plain": [
       "381"
      ]
     },
     "execution_count": 17,
     "metadata": {},
     "output_type": "execute_result"
    }
   ],
   "source": [
    "len(FI[FI.inspectionstatus == 'Open'])"
   ]
  },
  {
   "cell_type": "markdown",
   "metadata": {},
   "source": [
    "# transform SR df into geodf"
   ]
  },
  {
   "cell_type": "code",
   "execution_count": 18,
   "metadata": {
    "id": "1m9MRlsM9nxz"
   },
   "outputs": [],
   "source": [
    "## incident global ID (deal with parent requests)\n",
    "FSR.loc[:, \"GLOBAL_ID\"] = FSR.apply(lambda x:  x.globalid if x.servicerequestparentglobalid!=x.servicerequestparentglobalid else x.servicerequestparentglobalid, axis = 1)"
   ]
  },
  {
   "cell_type": "code",
   "execution_count": 19,
   "metadata": {
    "id": "VX1yF30iJPy1"
   },
   "outputs": [],
   "source": [
    "# as float\n",
    "FSR['longitude'] = FSR['longitude'].astype(float)\n",
    "FSR['latitude'] = FSR['latitude'].astype(float)"
   ]
  },
  {
   "cell_type": "code",
   "execution_count": 20,
   "metadata": {},
   "outputs": [
    {
     "data": {
      "text/plain": [
       "Index(['objectid', 'complaintnumber', 'srcategory', 'srtype', 'srpriority',\n",
       "       'srsource', 'srstatus', 'srresolution', 'boroughcode', 'communityboard',\n",
       "       'buildingnumber', 'streetname', 'crossstreet1', 'crossstreet2',\n",
       "       'taxclass', 'notestocustomer', 'zipcode', 'citycouncil', 'statesenate',\n",
       "       'stateassembly', 'congressional', 'physicalid',\n",
       "       'servicerequestparentglobalid', 'globalid', 'initiateddate',\n",
       "       'closeddate', 'createddate', 'updateddate', 'descriptor1',\n",
       "       'complainttype', 'callerzipcode', 'srcallertype', 'callercity',\n",
       "       'callerstate', 'latitude', 'longitude', 'census_tract', 'bin', 'bbl',\n",
       "       'nta', 'locationdetails', 'complaintdetails', 'parkname', 'parkzone',\n",
       "       'GLOBAL_ID'],\n",
       "      dtype='object')"
      ]
     },
     "execution_count": 20,
     "metadata": {},
     "output_type": "execute_result"
    }
   ],
   "source": [
    "FSR.columns"
   ]
  },
  {
   "cell_type": "code",
   "execution_count": 21,
   "metadata": {},
   "outputs": [
    {
     "data": {
      "text/plain": [
       "(64069, 64069)"
      ]
     },
     "execution_count": 21,
     "metadata": {},
     "output_type": "execute_result"
    }
   ],
   "source": [
    "FSR.longitude.isna().sum(), FSR.latitude.isna().sum() # hmm"
   ]
  },
  {
   "cell_type": "code",
   "execution_count": 22,
   "metadata": {
    "colab": {
     "base_uri": "https://localhost:8080/",
     "height": 731
    },
    "id": "HwfbQx8r9nxz",
    "outputId": "3228a829-9e08-438f-b4a4-1c5b190fed34"
   },
   "outputs": [],
   "source": [
    "# find census tract\n",
    "geometry = [None if math.isnan(xy[0]) or math.isnan(xy[1]) else Point(xy) for xy in zip(FSR.longitude, FSR.latitude)]\n",
    "gdf = gpd.GeoDataFrame(FSR, crs=4326, geometry=geometry)"
   ]
  },
  {
   "cell_type": "code",
   "execution_count": 23,
   "metadata": {},
   "outputs": [
    {
     "data": {
      "text/plain": [
       "Index(['objectid', 'complaintnumber', 'srcategory', 'srtype', 'srpriority',\n",
       "       'srsource', 'srstatus', 'srresolution', 'boroughcode', 'communityboard',\n",
       "       'buildingnumber', 'streetname', 'crossstreet1', 'crossstreet2',\n",
       "       'taxclass', 'notestocustomer', 'zipcode', 'citycouncil', 'statesenate',\n",
       "       'stateassembly', 'congressional', 'physicalid',\n",
       "       'servicerequestparentglobalid', 'globalid', 'initiateddate',\n",
       "       'closeddate', 'createddate', 'updateddate', 'descriptor1',\n",
       "       'complainttype', 'callerzipcode', 'srcallertype', 'callercity',\n",
       "       'callerstate', 'latitude', 'longitude', 'census_tract', 'bin', 'bbl',\n",
       "       'nta', 'locationdetails', 'complaintdetails', 'parkname', 'parkzone',\n",
       "       'GLOBAL_ID', 'geometry'],\n",
       "      dtype='object')"
      ]
     },
     "execution_count": 23,
     "metadata": {},
     "output_type": "execute_result"
    }
   ],
   "source": [
    "gdf.columns"
   ]
  },
  {
   "cell_type": "code",
   "execution_count": 24,
   "metadata": {},
   "outputs": [
    {
     "data": {
      "text/html": [
       "<div>\n",
       "<style scoped>\n",
       "    .dataframe tbody tr th:only-of-type {\n",
       "        vertical-align: middle;\n",
       "    }\n",
       "\n",
       "    .dataframe tbody tr th {\n",
       "        vertical-align: top;\n",
       "    }\n",
       "\n",
       "    .dataframe thead th {\n",
       "        text-align: right;\n",
       "    }\n",
       "</style>\n",
       "<table border=\"1\" class=\"dataframe\">\n",
       "  <thead>\n",
       "    <tr style=\"text-align: right;\">\n",
       "      <th></th>\n",
       "      <th>objectid</th>\n",
       "      <th>complaintnumber</th>\n",
       "      <th>srcategory</th>\n",
       "      <th>srtype</th>\n",
       "      <th>srpriority</th>\n",
       "      <th>srsource</th>\n",
       "      <th>srstatus</th>\n",
       "      <th>srresolution</th>\n",
       "      <th>boroughcode</th>\n",
       "      <th>communityboard</th>\n",
       "      <th>buildingnumber</th>\n",
       "      <th>streetname</th>\n",
       "      <th>crossstreet1</th>\n",
       "      <th>crossstreet2</th>\n",
       "      <th>taxclass</th>\n",
       "      <th>notestocustomer</th>\n",
       "      <th>zipcode</th>\n",
       "      <th>citycouncil</th>\n",
       "      <th>statesenate</th>\n",
       "      <th>stateassembly</th>\n",
       "      <th>congressional</th>\n",
       "      <th>physicalid</th>\n",
       "      <th>servicerequestparentglobalid</th>\n",
       "      <th>globalid</th>\n",
       "      <th>initiateddate</th>\n",
       "      <th>closeddate</th>\n",
       "      <th>createddate</th>\n",
       "      <th>updateddate</th>\n",
       "      <th>descriptor1</th>\n",
       "      <th>complainttype</th>\n",
       "      <th>callerzipcode</th>\n",
       "      <th>srcallertype</th>\n",
       "      <th>callercity</th>\n",
       "      <th>callerstate</th>\n",
       "      <th>latitude</th>\n",
       "      <th>longitude</th>\n",
       "      <th>census_tract</th>\n",
       "      <th>bin</th>\n",
       "      <th>bbl</th>\n",
       "      <th>nta</th>\n",
       "      <th>locationdetails</th>\n",
       "      <th>complaintdetails</th>\n",
       "      <th>parkname</th>\n",
       "      <th>parkzone</th>\n",
       "      <th>GLOBAL_ID</th>\n",
       "      <th>geometry</th>\n",
       "    </tr>\n",
       "  </thead>\n",
       "  <tbody>\n",
       "    <tr>\n",
       "      <th>394698</th>\n",
       "      <td>4787585</td>\n",
       "      <td>1-1-1283357250</td>\n",
       "      <td>Hazard</td>\n",
       "      <td>Limb Down - Sidewalk</td>\n",
       "      <td>Routine</td>\n",
       "      <td>3-1-1 Call Center</td>\n",
       "      <td>Closed</td>\n",
       "      <td>Work Completed</td>\n",
       "      <td>Brooklyn</td>\n",
       "      <td>317</td>\n",
       "      <td>1432</td>\n",
       "      <td>TROY AVENUE</td>\n",
       "      <td>FOSTER AVENUE</td>\n",
       "      <td>FARRAGUT ROAD</td>\n",
       "      <td>1</td>\n",
       "      <td>Tree was removed</td>\n",
       "      <td>11203</td>\n",
       "      <td>45</td>\n",
       "      <td>21</td>\n",
       "      <td>58</td>\n",
       "      <td>9</td>\n",
       "      <td>0093868</td>\n",
       "      <td>50D7BF43-EBE8-4AAF-AB63-8B43E690E195</td>\n",
       "      <td>BE0A2DA9-128F-467E-8603-058E04061D6B</td>\n",
       "      <td>07/25/2016 22:02:05</td>\n",
       "      <td>10/21/2016 19:03:33</td>\n",
       "      <td>07/25/2016 22:06:00</td>\n",
       "      <td>10/21/2016 19:03:33</td>\n",
       "      <td>Branch or Limb Has Fallen Down</td>\n",
       "      <td>Damaged Tree</td>\n",
       "      <td>11203</td>\n",
       "      <td>NaN</td>\n",
       "      <td>BROOKLYN</td>\n",
       "      <td>NY</td>\n",
       "      <td>40.637663</td>\n",
       "      <td>-73.934709</td>\n",
       "      <td>836</td>\n",
       "      <td>3113512</td>\n",
       "      <td>3049900039</td>\n",
       "      <td>East Flatbush-Farragut</td>\n",
       "      <td>IN THE FRONT OF GIVEN ADDRESS</td>\n",
       "      <td>REPORTING LARGE BRANCHES THAT HAS FALLEN TO TH...</td>\n",
       "      <td>NaN</td>\n",
       "      <td>NaN</td>\n",
       "      <td>50D7BF43-EBE8-4AAF-AB63-8B43E690E195</td>\n",
       "      <td>POINT (-73.93471 40.63766)</td>\n",
       "    </tr>\n",
       "    <tr>\n",
       "      <th>376709</th>\n",
       "      <td>6863565</td>\n",
       "      <td>1-1-1368737769</td>\n",
       "      <td>Root/Sewer/Sidewalk</td>\n",
       "      <td>Trees and Sidewalks</td>\n",
       "      <td>Routine</td>\n",
       "      <td>Department of Parks and Recreation - Public We...</td>\n",
       "      <td>Closed</td>\n",
       "      <td>NaN</td>\n",
       "      <td>Brooklyn</td>\n",
       "      <td>304</td>\n",
       "      <td>297</td>\n",
       "      <td>HIMROD STREET</td>\n",
       "      <td>IRVING AVENUE</td>\n",
       "      <td>WYCKOFF AVENUE</td>\n",
       "      <td>2</td>\n",
       "      <td>The property was ineligible for the Trees and ...</td>\n",
       "      <td>11237</td>\n",
       "      <td>37</td>\n",
       "      <td>18</td>\n",
       "      <td>53</td>\n",
       "      <td>7</td>\n",
       "      <td>0068592</td>\n",
       "      <td>NaN</td>\n",
       "      <td>7E91D9EA-9E75-4CF1-B262-8F82FFA87007</td>\n",
       "      <td>02/15/2017 22:20:20</td>\n",
       "      <td>04/09/2017 12:46:16</td>\n",
       "      <td>02/15/2017 22:20:00</td>\n",
       "      <td>04/09/2017 12:46:16</td>\n",
       "      <td>Trees and Sidewalks Program</td>\n",
       "      <td>Root/Sewer/Sidewalk Condition</td>\n",
       "      <td>na</td>\n",
       "      <td>NaN</td>\n",
       "      <td>na</td>\n",
       "      <td>NY</td>\n",
       "      <td>40.701894</td>\n",
       "      <td>-73.918106</td>\n",
       "      <td>443</td>\n",
       "      <td>3074552</td>\n",
       "      <td>3032700048</td>\n",
       "      <td>Bushwick North</td>\n",
       "      <td>NaN</td>\n",
       "      <td>Defect tree well in front of the building. Cit...</td>\n",
       "      <td>NaN</td>\n",
       "      <td>NaN</td>\n",
       "      <td>7E91D9EA-9E75-4CF1-B262-8F82FFA87007</td>\n",
       "      <td>POINT (-73.91811 40.70189)</td>\n",
       "    </tr>\n",
       "    <tr>\n",
       "      <th>322282</th>\n",
       "      <td>23304292</td>\n",
       "      <td>311-09856439</td>\n",
       "      <td>Remove Tree</td>\n",
       "      <td>Dead Tree Older Than 2 Years</td>\n",
       "      <td>Routine</td>\n",
       "      <td>DPR -Public Tree Map</td>\n",
       "      <td>Open</td>\n",
       "      <td>Reviewed - Inspection Assigned</td>\n",
       "      <td>Queens</td>\n",
       "      <td>414</td>\n",
       "      <td>326</td>\n",
       "      <td>BCH 43 ST</td>\n",
       "      <td>ROCKAWAY BEACH BOULEVARD</td>\n",
       "      <td>LIZZIE RUTH BROWN WAY</td>\n",
       "      <td>1</td>\n",
       "      <td>NaN</td>\n",
       "      <td>11691</td>\n",
       "      <td>31</td>\n",
       "      <td>10</td>\n",
       "      <td>31</td>\n",
       "      <td>5</td>\n",
       "      <td>0073239</td>\n",
       "      <td>D6E4D1C0-F8F9-468C-9F16-DDB185DBE90D</td>\n",
       "      <td>AB3C2278-3A38-45E3-AD3B-16F9C659F5E1</td>\n",
       "      <td>04/03/2022 13:10:04</td>\n",
       "      <td>NaN</td>\n",
       "      <td>04/03/2022 13:10:00</td>\n",
       "      <td>04/05/2022 13:23:26</td>\n",
       "      <td>Planted More Than 2 Years Ago</td>\n",
       "      <td>Dead/Dying Tree</td>\n",
       "      <td>NaN</td>\n",
       "      <td>Business  Business</td>\n",
       "      <td>far rockaway</td>\n",
       "      <td>ny</td>\n",
       "      <td>40.594928</td>\n",
       "      <td>-73.774667</td>\n",
       "      <td>97204</td>\n",
       "      <td>4533594</td>\n",
       "      <td>4158330013</td>\n",
       "      <td>Hammels-Arverne-Edgemere</td>\n",
       "      <td>standing dead tree</td>\n",
       "      <td>tree id = 2509438 standing dead tree</td>\n",
       "      <td>NaN</td>\n",
       "      <td>NaN</td>\n",
       "      <td>D6E4D1C0-F8F9-468C-9F16-DDB185DBE90D</td>\n",
       "      <td>POINT (-73.77467 40.59493)</td>\n",
       "    </tr>\n",
       "  </tbody>\n",
       "</table>\n",
       "</div>"
      ],
      "text/plain": [
       "        objectid complaintnumber           srcategory  \\\n",
       "394698   4787585  1-1-1283357250               Hazard   \n",
       "376709   6863565  1-1-1368737769  Root/Sewer/Sidewalk   \n",
       "322282  23304292    311-09856439          Remove Tree   \n",
       "\n",
       "                              srtype srpriority  \\\n",
       "394698          Limb Down - Sidewalk    Routine   \n",
       "376709           Trees and Sidewalks    Routine   \n",
       "322282  Dead Tree Older Than 2 Years    Routine   \n",
       "\n",
       "                                                 srsource srstatus  \\\n",
       "394698                                  3-1-1 Call Center   Closed   \n",
       "376709  Department of Parks and Recreation - Public We...   Closed   \n",
       "322282                               DPR -Public Tree Map     Open   \n",
       "\n",
       "                          srresolution boroughcode communityboard  \\\n",
       "394698                  Work Completed    Brooklyn            317   \n",
       "376709                             NaN    Brooklyn            304   \n",
       "322282  Reviewed - Inspection Assigned      Queens            414   \n",
       "\n",
       "       buildingnumber     streetname              crossstreet1  \\\n",
       "394698           1432    TROY AVENUE             FOSTER AVENUE   \n",
       "376709            297  HIMROD STREET             IRVING AVENUE   \n",
       "322282            326      BCH 43 ST  ROCKAWAY BEACH BOULEVARD   \n",
       "\n",
       "                 crossstreet2 taxclass  \\\n",
       "394698          FARRAGUT ROAD        1   \n",
       "376709         WYCKOFF AVENUE        2   \n",
       "322282  LIZZIE RUTH BROWN WAY        1   \n",
       "\n",
       "                                          notestocustomer zipcode citycouncil  \\\n",
       "394698                                   Tree was removed   11203          45   \n",
       "376709  The property was ineligible for the Trees and ...   11237          37   \n",
       "322282                                                NaN   11691          31   \n",
       "\n",
       "       statesenate stateassembly congressional physicalid  \\\n",
       "394698          21            58             9    0093868   \n",
       "376709          18            53             7    0068592   \n",
       "322282          10            31             5    0073239   \n",
       "\n",
       "                servicerequestparentglobalid  \\\n",
       "394698  50D7BF43-EBE8-4AAF-AB63-8B43E690E195   \n",
       "376709                                   NaN   \n",
       "322282  D6E4D1C0-F8F9-468C-9F16-DDB185DBE90D   \n",
       "\n",
       "                                    globalid        initiateddate  \\\n",
       "394698  BE0A2DA9-128F-467E-8603-058E04061D6B  07/25/2016 22:02:05   \n",
       "376709  7E91D9EA-9E75-4CF1-B262-8F82FFA87007  02/15/2017 22:20:20   \n",
       "322282  AB3C2278-3A38-45E3-AD3B-16F9C659F5E1  04/03/2022 13:10:04   \n",
       "\n",
       "                 closeddate          createddate          updateddate  \\\n",
       "394698  10/21/2016 19:03:33  07/25/2016 22:06:00  10/21/2016 19:03:33   \n",
       "376709  04/09/2017 12:46:16  02/15/2017 22:20:00  04/09/2017 12:46:16   \n",
       "322282                  NaN  04/03/2022 13:10:00  04/05/2022 13:23:26   \n",
       "\n",
       "                           descriptor1                  complainttype  \\\n",
       "394698  Branch or Limb Has Fallen Down                   Damaged Tree   \n",
       "376709     Trees and Sidewalks Program  Root/Sewer/Sidewalk Condition   \n",
       "322282   Planted More Than 2 Years Ago                Dead/Dying Tree   \n",
       "\n",
       "       callerzipcode        srcallertype    callercity callerstate   latitude  \\\n",
       "394698         11203                 NaN      BROOKLYN          NY  40.637663   \n",
       "376709            na                 NaN            na          NY  40.701894   \n",
       "322282           NaN  Business  Business  far rockaway          ny  40.594928   \n",
       "\n",
       "        longitude census_tract      bin         bbl                       nta  \\\n",
       "394698 -73.934709          836  3113512  3049900039    East Flatbush-Farragut   \n",
       "376709 -73.918106          443  3074552  3032700048            Bushwick North   \n",
       "322282 -73.774667        97204  4533594  4158330013  Hammels-Arverne-Edgemere   \n",
       "\n",
       "                      locationdetails  \\\n",
       "394698  IN THE FRONT OF GIVEN ADDRESS   \n",
       "376709                            NaN   \n",
       "322282             standing dead tree   \n",
       "\n",
       "                                         complaintdetails parkname parkzone  \\\n",
       "394698  REPORTING LARGE BRANCHES THAT HAS FALLEN TO TH...      NaN      NaN   \n",
       "376709  Defect tree well in front of the building. Cit...      NaN      NaN   \n",
       "322282               tree id = 2509438 standing dead tree      NaN      NaN   \n",
       "\n",
       "                                   GLOBAL_ID                    geometry  \n",
       "394698  50D7BF43-EBE8-4AAF-AB63-8B43E690E195  POINT (-73.93471 40.63766)  \n",
       "376709  7E91D9EA-9E75-4CF1-B262-8F82FFA87007  POINT (-73.91811 40.70189)  \n",
       "322282  D6E4D1C0-F8F9-468C-9F16-DDB185DBE90D  POINT (-73.77467 40.59493)  "
      ]
     },
     "execution_count": 24,
     "metadata": {},
     "output_type": "execute_result"
    }
   ],
   "source": [
    "gdf.sample(3)"
   ]
  },
  {
   "cell_type": "code",
   "execution_count": 25,
   "metadata": {},
   "outputs": [
    {
     "data": {
      "text/plain": [
       "array(['Department of Parks and Recreation - Public Web Site',\n",
       "       '3-1-1 Call Center', 'Correspondence', 'AMPS', 'DPR', 'DOT',\n",
       "       'Park Inspection Program', 'DPR -Public Tree Map', 'FDNY', 'OEM'],\n",
       "      dtype=object)"
      ]
     },
     "execution_count": 25,
     "metadata": {},
     "output_type": "execute_result"
    }
   ],
   "source": [
    "gdf.srsource.unique()"
   ]
  },
  {
   "cell_type": "code",
   "execution_count": 26,
   "metadata": {},
   "outputs": [],
   "source": [
    "# drop cols\n",
    "gdf = gdf.drop([\"complaintnumber\",\"buildingnumber\", \"streetname\", 'crossstreet1', 'crossstreet2',\n",
    "       'taxclass', 'notestocustomer', 'physicalid', 'callerzipcode', 'srcallertype', 'callercity',\n",
    "       'callerstate', 'locationdetails'], axis=1)"
   ]
  },
  {
   "cell_type": "code",
   "execution_count": 27,
   "metadata": {},
   "outputs": [
    {
     "data": {
      "text/plain": [
       "64069"
      ]
     },
     "execution_count": 27,
     "metadata": {},
     "output_type": "execute_result"
    }
   ],
   "source": [
    "gdf.geometry.isna().sum()"
   ]
  },
  {
   "cell_type": "markdown",
   "metadata": {},
   "source": [
    "# sjoin SR geodf w/ shapefile"
   ]
  },
  {
   "cell_type": "code",
   "execution_count": 28,
   "metadata": {},
   "outputs": [],
   "source": [
    "# merge service requests geodataframe with shapefile\n",
    "g_FSR = gpd.sjoin(gdf, shape, how='left', op='within', lsuffix='SR', rsuffix='shape')"
   ]
  },
  {
   "cell_type": "code",
   "execution_count": 29,
   "metadata": {
    "scrolled": true
   },
   "outputs": [
    {
     "data": {
      "text/plain": [
       "<Geographic 2D CRS: EPSG:4326>\n",
       "Name: WGS 84\n",
       "Axis Info [ellipsoidal]:\n",
       "- Lat[north]: Geodetic latitude (degree)\n",
       "- Lon[east]: Geodetic longitude (degree)\n",
       "Area of Use:\n",
       "- name: World.\n",
       "- bounds: (-180.0, -90.0, 180.0, 90.0)\n",
       "Datum: World Geodetic System 1984 ensemble\n",
       "- Ellipsoid: WGS 84\n",
       "- Prime Meridian: Greenwich"
      ]
     },
     "execution_count": 29,
     "metadata": {},
     "output_type": "execute_result"
    }
   ],
   "source": [
    "g_FSR.crs"
   ]
  },
  {
   "cell_type": "code",
   "execution_count": 30,
   "metadata": {},
   "outputs": [
    {
     "data": {
      "text/plain": [
       "Index(['STATEFP', 'COUNTYFP', 'TRACTCE', 'AFFGEOID', 'GEOID', 'NAME', 'LSAD',\n",
       "       'ALAND', 'AWATER', 'geometry'],\n",
       "      dtype='object')"
      ]
     },
     "execution_count": 30,
     "metadata": {},
     "output_type": "execute_result"
    }
   ],
   "source": [
    "shape.columns"
   ]
  },
  {
   "cell_type": "code",
   "execution_count": 31,
   "metadata": {},
   "outputs": [
    {
     "data": {
      "text/plain": [
       "0       POLYGON ((-73.46914 44.69043, -73.46972 44.693...\n",
       "1       POLYGON ((-73.72088 42.45322, -73.71799 42.470...\n",
       "2       POLYGON ((-76.20049 42.61248, -76.19596 42.612...\n",
       "3       POLYGON ((-73.79203 40.71107, -73.79101 40.711...\n",
       "4       POLYGON ((-73.88799 40.74355, -73.88621 40.743...\n",
       "                              ...                        \n",
       "4901    POLYGON ((-73.94543 40.72552, -73.94357 40.725...\n",
       "4902    POLYGON ((-78.94409 42.02386, -78.93824 42.025...\n",
       "4903    POLYGON ((-79.29492 42.45567, -79.29472 42.456...\n",
       "4904    POLYGON ((-73.94188 42.82295, -73.94016 42.823...\n",
       "4905    POLYGON ((-73.24619 40.76870, -73.24617 40.778...\n",
       "Name: geometry, Length: 4906, dtype: geometry"
      ]
     },
     "execution_count": 31,
     "metadata": {},
     "output_type": "execute_result"
    }
   ],
   "source": [
    "shape.geometry"
   ]
  },
  {
   "cell_type": "code",
   "execution_count": 32,
   "metadata": {
    "scrolled": true
   },
   "outputs": [
    {
     "data": {
      "text/plain": [
       "Index(['objectid', 'srcategory', 'srtype', 'srpriority', 'srsource',\n",
       "       'srstatus', 'srresolution', 'boroughcode', 'communityboard', 'zipcode',\n",
       "       'citycouncil', 'statesenate', 'stateassembly', 'congressional',\n",
       "       'servicerequestparentglobalid', 'globalid', 'initiateddate',\n",
       "       'closeddate', 'createddate', 'updateddate', 'descriptor1',\n",
       "       'complainttype', 'latitude', 'longitude', 'census_tract', 'bin', 'bbl',\n",
       "       'nta', 'complaintdetails', 'parkname', 'parkzone', 'GLOBAL_ID',\n",
       "       'geometry', 'index_shape', 'STATEFP', 'COUNTYFP', 'TRACTCE', 'AFFGEOID',\n",
       "       'GEOID', 'NAME', 'LSAD', 'ALAND', 'AWATER'],\n",
       "      dtype='object')"
      ]
     },
     "execution_count": 32,
     "metadata": {},
     "output_type": "execute_result"
    }
   ],
   "source": [
    "g_FSR.columns"
   ]
  },
  {
   "cell_type": "code",
   "execution_count": 33,
   "metadata": {},
   "outputs": [
    {
     "data": {
      "text/plain": [
       "0         POINT (-74.02765 40.62826)\n",
       "1                               None\n",
       "2         POINT (-73.96328 40.68590)\n",
       "3         POINT (-73.98531 40.68071)\n",
       "4         POINT (-73.98647 40.68196)\n",
       "                     ...            \n",
       "733774    POINT (-73.98320 40.67444)\n",
       "733775    POINT (-73.90697 40.70118)\n",
       "733776    POINT (-73.84455 40.67249)\n",
       "733777    POINT (-73.98029 40.63520)\n",
       "733778    POINT (-73.85439 40.84569)\n",
       "Name: geometry, Length: 733779, dtype: geometry"
      ]
     },
     "execution_count": 33,
     "metadata": {},
     "output_type": "execute_result"
    }
   ],
   "source": [
    "g_FSR.geometry"
   ]
  },
  {
   "cell_type": "code",
   "execution_count": 34,
   "metadata": {},
   "outputs": [],
   "source": [
    "# drop cols\n",
    "g_FSR = g_FSR.drop(\"index_shape\", axis=1)"
   ]
  },
  {
   "cell_type": "code",
   "execution_count": 35,
   "metadata": {},
   "outputs": [],
   "source": [
    "# back to regular df\n",
    "FSR = pd.DataFrame(g_FSR)"
   ]
  },
  {
   "cell_type": "code",
   "execution_count": 36,
   "metadata": {
    "id": "o0yucVrn9nxz"
   },
   "outputs": [],
   "source": [
    "# more specific colnames\n",
    "FSR.rename(columns={'globalid': 'SRGlobalID', 'closeddate': 'SRClosedDate', 'createddate': 'SRCreatedDate', 'updateddate': 'SRUpdatedDate'}, inplace=True)\n",
    "FI.rename(columns={'globalid': 'InsGlobalID', 'closeddate': 'InsClosedDate', 'createddate': 'InsCreatedDate', 'updateddate': 'InsUpdatedDate', 'servicerequestglobalid': 'SRGlobalID'}, inplace=True)\n",
    "FWO.rename(columns={'globalid': 'WOGlobalID', 'closeddate': 'WOClosedDate', 'createddate': 'WOCreatedDate', 'updateddate': 'WOUpdatedDate', 'inspectionglobalid': 'InsGlobalID'}, inplace=True)\n",
    "FRA.rename(columns={'globalid': 'RAGlobalID', 'closeddate': 'RAClosedDate', 'createddate': 'RACreatedDate', 'inspectionglobalid': 'InsGlobalID'}, inplace=True)"
   ]
  },
  {
   "cell_type": "markdown",
   "metadata": {},
   "source": [
    "# merge in Inspections"
   ]
  },
  {
   "cell_type": "markdown",
   "metadata": {},
   "source": [
    "## fix geometry col first - unnecessary?"
   ]
  },
  {
   "cell_type": "code",
   "execution_count": 37,
   "metadata": {},
   "outputs": [
    {
     "data": {
      "text/plain": [
       "Index(['objectid', 'inspectiontype', 'inspectionstatus',\n",
       "       'inspectiontpcondition', 'inspectiontpstructure', 'treepointdbh',\n",
       "       'treepointglobalid', 'plantingspaceglobalid', 'geometry', 'InsGlobalID',\n",
       "       'inspectiondate', 'InsClosedDate', 'InsCreatedDate', 'location',\n",
       "       'InsUpdatedDate', 'parentinspectionglobalid', 'reinspectiondate',\n",
       "       'SRGlobalID', 'swtreeconditionrating', 'swlocationrating',\n",
       "       'swclearancerating', 'swdamagerating', 'swdamagedflagstonesrating',\n",
       "       'swratingtotal', 'swtotaltrees'],\n",
       "      dtype='object')"
      ]
     },
     "execution_count": 37,
     "metadata": {},
     "output_type": "execute_result"
    }
   ],
   "source": [
    "FI.columns # geom or lon/lat from location"
   ]
  },
  {
   "cell_type": "code",
   "execution_count": 38,
   "metadata": {},
   "outputs": [
    {
     "data": {
      "text/plain": [
       "(136694, 25)"
      ]
     },
     "execution_count": 38,
     "metadata": {},
     "output_type": "execute_result"
    }
   ],
   "source": [
    "FI.shape"
   ]
  },
  {
   "cell_type": "code",
   "execution_count": 39,
   "metadata": {
    "scrolled": true
   },
   "outputs": [
    {
     "data": {
      "text/plain": [
       "114020"
      ]
     },
     "execution_count": 39,
     "metadata": {},
     "output_type": "execute_result"
    }
   ],
   "source": [
    "FI.SRGlobalID.isna().sum() # inspections that don't come from SRs"
   ]
  },
  {
   "cell_type": "code",
   "execution_count": 40,
   "metadata": {},
   "outputs": [
    {
     "data": {
      "text/plain": [
       "array(['Full', 'Shaft', nan, 'Stump', 'Liability Release',\n",
       "       'Shaft- Uprooted'], dtype=object)"
      ]
     },
     "execution_count": 40,
     "metadata": {},
     "output_type": "execute_result"
    }
   ],
   "source": [
    "FI.inspectiontpstructure.unique()"
   ]
  },
  {
   "cell_type": "code",
   "execution_count": 41,
   "metadata": {
    "scrolled": true
   },
   "outputs": [
    {
     "data": {
      "text/plain": [
       "'POINT (1034033.6218752265 229704.85104185343)'"
      ]
     },
     "execution_count": 41,
     "metadata": {},
     "output_type": "execute_result"
    }
   ],
   "source": [
    "FI.geometry[0] # different crs"
   ]
  },
  {
   "cell_type": "code",
   "execution_count": 42,
   "metadata": {},
   "outputs": [
    {
     "data": {
      "text/plain": [
       "3"
      ]
     },
     "execution_count": 42,
     "metadata": {},
     "output_type": "execute_result"
    }
   ],
   "source": [
    "FI.geometry.isna().sum()"
   ]
  },
  {
   "cell_type": "code",
   "execution_count": 43,
   "metadata": {
    "scrolled": true
   },
   "outputs": [
    {
     "data": {
      "text/plain": [
       "3"
      ]
     },
     "execution_count": 43,
     "metadata": {},
     "output_type": "execute_result"
    }
   ],
   "source": [
    "FI.location.isna().sum()"
   ]
  },
  {
   "cell_type": "code",
   "execution_count": 44,
   "metadata": {},
   "outputs": [],
   "source": [
    "# drop nulls here\n",
    "FI = FI[FI['location'].notna()]"
   ]
  },
  {
   "cell_type": "code",
   "execution_count": 45,
   "metadata": {},
   "outputs": [
    {
     "data": {
      "text/plain": [
       "(136691, 25)"
      ]
     },
     "execution_count": 45,
     "metadata": {},
     "output_type": "execute_result"
    }
   ],
   "source": [
    "FI.shape"
   ]
  },
  {
   "cell_type": "code",
   "execution_count": 46,
   "metadata": {},
   "outputs": [],
   "source": [
    "# def string_to_point(df, colname):\n",
    "#     df[colname].apply(lambda x: Point(tuple([float(s) for s in re.findall(r'\\d+\\.\\d+', str(x))])))"
   ]
  },
  {
   "cell_type": "code",
   "execution_count": 47,
   "metadata": {},
   "outputs": [],
   "source": [
    "# drop geom col since not useful\n",
    "FI = FI.drop(\"geometry\", axis=1)"
   ]
  },
  {
   "cell_type": "code",
   "execution_count": 48,
   "metadata": {
    "scrolled": true
   },
   "outputs": [
    {
     "data": {
      "text/plain": [
       "{'latitude': '40.79702253856299',\n",
       " 'longitude': '-73.82019595738045',\n",
       " 'human_address': '{\"address\": \"\", \"city\": \"\", \"state\": \"\", \"zip\": \"\"}'}"
      ]
     },
     "execution_count": 48,
     "metadata": {},
     "output_type": "execute_result"
    }
   ],
   "source": [
    "FI.location[0]"
   ]
  },
  {
   "cell_type": "code",
   "execution_count": 49,
   "metadata": {},
   "outputs": [
    {
     "data": {
      "text/plain": [
       "-73.82019595738045"
      ]
     },
     "execution_count": 49,
     "metadata": {},
     "output_type": "execute_result"
    }
   ],
   "source": [
    "float(FI.location[0]['longitude'])"
   ]
  },
  {
   "cell_type": "code",
   "execution_count": 50,
   "metadata": {},
   "outputs": [
    {
     "data": {
      "text/plain": [
       "dict"
      ]
     },
     "execution_count": 50,
     "metadata": {},
     "output_type": "execute_result"
    }
   ],
   "source": [
    "type(FI.location[0])"
   ]
  },
  {
   "cell_type": "code",
   "execution_count": 51,
   "metadata": {
    "scrolled": true
   },
   "outputs": [],
   "source": [
    "# make lat/lon cols\n",
    "FI[\"longitude\"] = FI.location.copy().apply(lambda x: float(x['longitude'])).copy()\n",
    "FI[\"latitude\"] = FI.location.copy().apply(lambda x: float(x['latitude'])).copy()"
   ]
  },
  {
   "cell_type": "code",
   "execution_count": 52,
   "metadata": {},
   "outputs": [
    {
     "data": {
      "text/plain": [
       "0        -73.820196\n",
       "1        -73.820475\n",
       "2        -73.820577\n",
       "3        -73.821059\n",
       "4        -73.821229\n",
       "            ...    \n",
       "136689   -74.004170\n",
       "136690   -74.004195\n",
       "136691   -74.004218\n",
       "136692   -74.004249\n",
       "136693   -74.004271\n",
       "Name: longitude, Length: 136691, dtype: float64"
      ]
     },
     "execution_count": 52,
     "metadata": {},
     "output_type": "execute_result"
    }
   ],
   "source": [
    "FI.longitude"
   ]
  },
  {
   "cell_type": "code",
   "execution_count": 53,
   "metadata": {},
   "outputs": [],
   "source": [
    "# set new geom\n",
    "geometry = [None if math.isnan(xy[0]) or math.isnan(xy[1]) else Point(xy) for xy in zip(FI.longitude, FI.latitude)]\n",
    "g_FI = gpd.GeoDataFrame(FI, crs=4326, geometry=geometry)"
   ]
  },
  {
   "cell_type": "code",
   "execution_count": 54,
   "metadata": {},
   "outputs": [
    {
     "data": {
      "image/svg+xml": [
       "<svg xmlns=\"http://www.w3.org/2000/svg\" xmlns:xlink=\"http://www.w3.org/1999/xlink\" width=\"100.0\" height=\"100.0\" viewBox=\"-74.820196 39.797023 2.0 2.0\" preserveAspectRatio=\"xMinYMin meet\"><g transform=\"matrix(1,0,0,-1,0,81.594046)\"><circle cx=\"-73.820196\" cy=\"40.797023\" r=\"0.06\" stroke=\"#555555\" stroke-width=\"0.02\" fill=\"#66cc99\" opacity=\"0.6\" /></g></svg>"
      ],
      "text/plain": [
       "<shapely.geometry.point.Point at 0x7fa5eb8876a0>"
      ]
     },
     "execution_count": 54,
     "metadata": {},
     "output_type": "execute_result"
    }
   ],
   "source": [
    "g_FI.geometry[0]"
   ]
  },
  {
   "cell_type": "code",
   "execution_count": 55,
   "metadata": {},
   "outputs": [
    {
     "data": {
      "text/plain": [
       "0         POINT (-73.82020 40.79702)\n",
       "1         POINT (-73.82048 40.79693)\n",
       "2         POINT (-73.82058 40.79690)\n",
       "3         POINT (-73.82106 40.79675)\n",
       "4         POINT (-73.82123 40.79670)\n",
       "                     ...            \n",
       "136689    POINT (-74.00417 40.67400)\n",
       "136690    POINT (-74.00419 40.67392)\n",
       "136691    POINT (-74.00422 40.67387)\n",
       "136692    POINT (-74.00425 40.67380)\n",
       "136693    POINT (-74.00427 40.67376)\n",
       "Name: geometry, Length: 136691, dtype: geometry"
      ]
     },
     "execution_count": 55,
     "metadata": {},
     "output_type": "execute_result"
    }
   ],
   "source": [
    "g_FI.geometry"
   ]
  },
  {
   "cell_type": "code",
   "execution_count": 56,
   "metadata": {
    "scrolled": true
   },
   "outputs": [
    {
     "data": {
      "text/html": [
       "<div>\n",
       "<style scoped>\n",
       "    .dataframe tbody tr th:only-of-type {\n",
       "        vertical-align: middle;\n",
       "    }\n",
       "\n",
       "    .dataframe tbody tr th {\n",
       "        vertical-align: top;\n",
       "    }\n",
       "\n",
       "    .dataframe thead th {\n",
       "        text-align: right;\n",
       "    }\n",
       "</style>\n",
       "<table border=\"1\" class=\"dataframe\">\n",
       "  <thead>\n",
       "    <tr style=\"text-align: right;\">\n",
       "      <th></th>\n",
       "      <th>objectid</th>\n",
       "      <th>inspectiontype</th>\n",
       "      <th>inspectionstatus</th>\n",
       "      <th>inspectiontpcondition</th>\n",
       "      <th>inspectiontpstructure</th>\n",
       "      <th>treepointdbh</th>\n",
       "      <th>treepointglobalid</th>\n",
       "      <th>plantingspaceglobalid</th>\n",
       "      <th>InsGlobalID</th>\n",
       "      <th>inspectiondate</th>\n",
       "      <th>InsClosedDate</th>\n",
       "      <th>InsCreatedDate</th>\n",
       "      <th>location</th>\n",
       "      <th>InsUpdatedDate</th>\n",
       "      <th>parentinspectionglobalid</th>\n",
       "      <th>reinspectiondate</th>\n",
       "      <th>SRGlobalID</th>\n",
       "      <th>swtreeconditionrating</th>\n",
       "      <th>swlocationrating</th>\n",
       "      <th>swclearancerating</th>\n",
       "      <th>swdamagerating</th>\n",
       "      <th>swdamagedflagstonesrating</th>\n",
       "      <th>swratingtotal</th>\n",
       "      <th>swtotaltrees</th>\n",
       "      <th>longitude</th>\n",
       "      <th>latitude</th>\n",
       "      <th>geometry</th>\n",
       "    </tr>\n",
       "  </thead>\n",
       "  <tbody>\n",
       "    <tr>\n",
       "      <th>76050</th>\n",
       "      <td>16902155</td>\n",
       "      <td>Level 2</td>\n",
       "      <td>Closed</td>\n",
       "      <td>Good</td>\n",
       "      <td>Full</td>\n",
       "      <td>12</td>\n",
       "      <td>E510AEDB-7FAD-422D-8495-214C88D330B1</td>\n",
       "      <td>73AB69AF-2F24-4FC0-B52C-23D1F9D8FFE5</td>\n",
       "      <td>C5688484-28E0-40CE-B9A4-C2011977F09C</td>\n",
       "      <td>2022-04-20T15:25:26.000</td>\n",
       "      <td>2022-04-20T15:25:26.000</td>\n",
       "      <td>2022-04-20T15:25:26.000</td>\n",
       "      <td>{'latitude': '40.773834514719624', 'longitude'...</td>\n",
       "      <td>NaN</td>\n",
       "      <td>NaN</td>\n",
       "      <td>NaN</td>\n",
       "      <td>NaN</td>\n",
       "      <td>NaN</td>\n",
       "      <td>NaN</td>\n",
       "      <td>NaN</td>\n",
       "      <td>NaN</td>\n",
       "      <td>NaN</td>\n",
       "      <td>NaN</td>\n",
       "      <td>NaN</td>\n",
       "      <td>-73.981262</td>\n",
       "      <td>40.773835</td>\n",
       "      <td>POINT (-73.98126 40.77383)</td>\n",
       "    </tr>\n",
       "    <tr>\n",
       "      <th>84588</th>\n",
       "      <td>17091482</td>\n",
       "      <td>Level 1</td>\n",
       "      <td>Closed</td>\n",
       "      <td>Dead</td>\n",
       "      <td>Shaft</td>\n",
       "      <td>6</td>\n",
       "      <td>C6BF90EE-E2FE-4DE8-BB0B-A71E90A8744E</td>\n",
       "      <td>E043110C-1532-45EE-AB68-F780E6FE038A</td>\n",
       "      <td>94049A74-87A3-44AB-902A-C5C9B806831B</td>\n",
       "      <td>2022-05-05T04:00:00.000</td>\n",
       "      <td>2022-05-10T16:56:00.000</td>\n",
       "      <td>2022-05-10T16:56:00.000</td>\n",
       "      <td>{'latitude': '40.59837877690995', 'longitude':...</td>\n",
       "      <td>2022-05-10T16:57:13.000</td>\n",
       "      <td>NaN</td>\n",
       "      <td>NaN</td>\n",
       "      <td>NaN</td>\n",
       "      <td>NaN</td>\n",
       "      <td>NaN</td>\n",
       "      <td>NaN</td>\n",
       "      <td>NaN</td>\n",
       "      <td>NaN</td>\n",
       "      <td>NaN</td>\n",
       "      <td>NaN</td>\n",
       "      <td>-74.126943</td>\n",
       "      <td>40.598379</td>\n",
       "      <td>POINT (-74.12694 40.59838)</td>\n",
       "    </tr>\n",
       "    <tr>\n",
       "      <th>120190</th>\n",
       "      <td>18010877</td>\n",
       "      <td>Level 2</td>\n",
       "      <td>Closed</td>\n",
       "      <td>Fair</td>\n",
       "      <td>Full</td>\n",
       "      <td>24</td>\n",
       "      <td>E4C8DB2C-ADBA-46AC-8937-EFF0BD8A70A2</td>\n",
       "      <td>37C1AC1B-0AFB-48C2-A2E8-D59CD441F207</td>\n",
       "      <td>C902ADF7-A22C-4747-8C98-A8C7B117D6E4</td>\n",
       "      <td>2022-07-25T04:00:00.000</td>\n",
       "      <td>2022-07-25T17:49:00.000</td>\n",
       "      <td>2022-07-25T17:48:00.000</td>\n",
       "      <td>{'latitude': '40.62481734163724', 'longitude':...</td>\n",
       "      <td>2022-07-25T17:49:23.000</td>\n",
       "      <td>NaN</td>\n",
       "      <td>NaN</td>\n",
       "      <td>97CE062B-3BF5-4F7D-A4C3-60899385B31D</td>\n",
       "      <td>NaN</td>\n",
       "      <td>NaN</td>\n",
       "      <td>NaN</td>\n",
       "      <td>NaN</td>\n",
       "      <td>NaN</td>\n",
       "      <td>NaN</td>\n",
       "      <td>NaN</td>\n",
       "      <td>-73.980917</td>\n",
       "      <td>40.624817</td>\n",
       "      <td>POINT (-73.98092 40.62482)</td>\n",
       "    </tr>\n",
       "  </tbody>\n",
       "</table>\n",
       "</div>"
      ],
      "text/plain": [
       "        objectid inspectiontype inspectionstatus inspectiontpcondition  \\\n",
       "76050   16902155        Level 2           Closed                  Good   \n",
       "84588   17091482        Level 1           Closed                  Dead   \n",
       "120190  18010877        Level 2           Closed                  Fair   \n",
       "\n",
       "       inspectiontpstructure treepointdbh  \\\n",
       "76050                   Full           12   \n",
       "84588                  Shaft            6   \n",
       "120190                  Full           24   \n",
       "\n",
       "                           treepointglobalid  \\\n",
       "76050   E510AEDB-7FAD-422D-8495-214C88D330B1   \n",
       "84588   C6BF90EE-E2FE-4DE8-BB0B-A71E90A8744E   \n",
       "120190  E4C8DB2C-ADBA-46AC-8937-EFF0BD8A70A2   \n",
       "\n",
       "                       plantingspaceglobalid  \\\n",
       "76050   73AB69AF-2F24-4FC0-B52C-23D1F9D8FFE5   \n",
       "84588   E043110C-1532-45EE-AB68-F780E6FE038A   \n",
       "120190  37C1AC1B-0AFB-48C2-A2E8-D59CD441F207   \n",
       "\n",
       "                                 InsGlobalID           inspectiondate  \\\n",
       "76050   C5688484-28E0-40CE-B9A4-C2011977F09C  2022-04-20T15:25:26.000   \n",
       "84588   94049A74-87A3-44AB-902A-C5C9B806831B  2022-05-05T04:00:00.000   \n",
       "120190  C902ADF7-A22C-4747-8C98-A8C7B117D6E4  2022-07-25T04:00:00.000   \n",
       "\n",
       "                  InsClosedDate           InsCreatedDate  \\\n",
       "76050   2022-04-20T15:25:26.000  2022-04-20T15:25:26.000   \n",
       "84588   2022-05-10T16:56:00.000  2022-05-10T16:56:00.000   \n",
       "120190  2022-07-25T17:49:00.000  2022-07-25T17:48:00.000   \n",
       "\n",
       "                                                 location  \\\n",
       "76050   {'latitude': '40.773834514719624', 'longitude'...   \n",
       "84588   {'latitude': '40.59837877690995', 'longitude':...   \n",
       "120190  {'latitude': '40.62481734163724', 'longitude':...   \n",
       "\n",
       "                 InsUpdatedDate parentinspectionglobalid reinspectiondate  \\\n",
       "76050                       NaN                      NaN              NaN   \n",
       "84588   2022-05-10T16:57:13.000                      NaN              NaN   \n",
       "120190  2022-07-25T17:49:23.000                      NaN              NaN   \n",
       "\n",
       "                                  SRGlobalID swtreeconditionrating  \\\n",
       "76050                                    NaN                   NaN   \n",
       "84588                                    NaN                   NaN   \n",
       "120190  97CE062B-3BF5-4F7D-A4C3-60899385B31D                   NaN   \n",
       "\n",
       "       swlocationrating swclearancerating swdamagerating  \\\n",
       "76050               NaN               NaN            NaN   \n",
       "84588               NaN               NaN            NaN   \n",
       "120190              NaN               NaN            NaN   \n",
       "\n",
       "       swdamagedflagstonesrating swratingtotal swtotaltrees  longitude  \\\n",
       "76050                        NaN           NaN          NaN -73.981262   \n",
       "84588                        NaN           NaN          NaN -74.126943   \n",
       "120190                       NaN           NaN          NaN -73.980917   \n",
       "\n",
       "         latitude                    geometry  \n",
       "76050   40.773835  POINT (-73.98126 40.77383)  \n",
       "84588   40.598379  POINT (-74.12694 40.59838)  \n",
       "120190  40.624817  POINT (-73.98092 40.62482)  "
      ]
     },
     "execution_count": 56,
     "metadata": {},
     "output_type": "execute_result"
    }
   ],
   "source": [
    "g_FI.sample(3)"
   ]
  },
  {
   "cell_type": "code",
   "execution_count": 57,
   "metadata": {},
   "outputs": [
    {
     "data": {
      "text/plain": [
       "Index(['objectid', 'inspectiontype', 'inspectionstatus',\n",
       "       'inspectiontpcondition', 'inspectiontpstructure', 'treepointdbh',\n",
       "       'treepointglobalid', 'plantingspaceglobalid', 'InsGlobalID',\n",
       "       'inspectiondate', 'InsClosedDate', 'InsCreatedDate', 'location',\n",
       "       'InsUpdatedDate', 'parentinspectionglobalid', 'reinspectiondate',\n",
       "       'SRGlobalID', 'swtreeconditionrating', 'swlocationrating',\n",
       "       'swclearancerating', 'swdamagerating', 'swdamagedflagstonesrating',\n",
       "       'swratingtotal', 'swtotaltrees', 'longitude', 'latitude', 'geometry'],\n",
       "      dtype='object')"
      ]
     },
     "execution_count": 57,
     "metadata": {},
     "output_type": "execute_result"
    }
   ],
   "source": [
    "g_FI.columns"
   ]
  },
  {
   "cell_type": "code",
   "execution_count": 58,
   "metadata": {},
   "outputs": [],
   "source": [
    "# don't need sidewalk info for our purposes\n",
    "g_FI = g_FI.drop(['location', 'swtreeconditionrating', 'swlocationrating', 'swclearancerating', \n",
    "                  'swdamagerating', 'swdamagedflagstonesrating', 'swratingtotal', 'swtotaltrees'],\n",
    "                axis = 1)"
   ]
  },
  {
   "cell_type": "code",
   "execution_count": 59,
   "metadata": {},
   "outputs": [],
   "source": [
    "# back to regular df\n",
    "merge_FI = pd.DataFrame(g_FI)"
   ]
  },
  {
   "cell_type": "code",
   "execution_count": 60,
   "metadata": {},
   "outputs": [],
   "source": [
    "# merge service requests w/ inspections\n",
    "mergeddf = pd.merge(FSR, merge_FI, on='SRGlobalID', how='left', suffixes=('_SR', '_I'), left_index=False, right_index=False)"
   ]
  },
  {
   "cell_type": "code",
   "execution_count": 61,
   "metadata": {
    "id": "0_eVZuRgUNSo",
    "scrolled": true
   },
   "outputs": [
    {
     "data": {
      "text/plain": [
       "((733779, 42), (136691, 19), (735845, 60))"
      ]
     },
     "execution_count": 61,
     "metadata": {},
     "output_type": "execute_result"
    }
   ],
   "source": [
    "FSR.shape, merge_FI.shape, mergeddf.shape # since merged > FSR, means there are some SRs with multiple inspections"
   ]
  },
  {
   "cell_type": "code",
   "execution_count": 62,
   "metadata": {
    "id": "2_wi-66D9nx0"
   },
   "outputs": [],
   "source": [
    "# fill nulls\n",
    "mergeddf['InsGlobalID'].fillna('0', inplace=True)"
   ]
  },
  {
   "cell_type": "code",
   "execution_count": 63,
   "metadata": {},
   "outputs": [
    {
     "data": {
      "text/plain": [
       "111"
      ]
     },
     "execution_count": 63,
     "metadata": {},
     "output_type": "execute_result"
    }
   ],
   "source": [
    "len(mergeddf[mergeddf.inspectionstatus == \"Open\"])"
   ]
  },
  {
   "cell_type": "code",
   "execution_count": 64,
   "metadata": {},
   "outputs": [
    {
     "data": {
      "text/plain": [
       "Index(['objectid_SR', 'srcategory', 'srtype', 'srpriority', 'srsource',\n",
       "       'srstatus', 'srresolution', 'boroughcode', 'communityboard', 'zipcode',\n",
       "       'citycouncil', 'statesenate', 'stateassembly', 'congressional',\n",
       "       'servicerequestparentglobalid', 'SRGlobalID', 'initiateddate',\n",
       "       'SRClosedDate', 'SRCreatedDate', 'SRUpdatedDate', 'descriptor1',\n",
       "       'complainttype', 'latitude_SR', 'longitude_SR', 'census_tract', 'bin',\n",
       "       'bbl', 'nta', 'complaintdetails', 'parkname', 'parkzone', 'GLOBAL_ID',\n",
       "       'geometry_SR', 'STATEFP', 'COUNTYFP', 'TRACTCE', 'AFFGEOID', 'GEOID',\n",
       "       'NAME', 'LSAD', 'ALAND', 'AWATER', 'objectid_I', 'inspectiontype',\n",
       "       'inspectionstatus', 'inspectiontpcondition', 'inspectiontpstructure',\n",
       "       'treepointdbh', 'treepointglobalid', 'plantingspaceglobalid',\n",
       "       'InsGlobalID', 'inspectiondate', 'InsClosedDate', 'InsCreatedDate',\n",
       "       'InsUpdatedDate', 'parentinspectionglobalid', 'reinspectiondate',\n",
       "       'longitude_I', 'latitude_I', 'geometry_I'],\n",
       "      dtype='object')"
      ]
     },
     "execution_count": 64,
     "metadata": {},
     "output_type": "execute_result"
    }
   ],
   "source": [
    "mergeddf.columns"
   ]
  },
  {
   "cell_type": "code",
   "execution_count": 65,
   "metadata": {},
   "outputs": [
    {
     "data": {
      "text/html": [
       "<div>\n",
       "<style scoped>\n",
       "    .dataframe tbody tr th:only-of-type {\n",
       "        vertical-align: middle;\n",
       "    }\n",
       "\n",
       "    .dataframe tbody tr th {\n",
       "        vertical-align: top;\n",
       "    }\n",
       "\n",
       "    .dataframe thead th {\n",
       "        text-align: right;\n",
       "    }\n",
       "</style>\n",
       "<table border=\"1\" class=\"dataframe\">\n",
       "  <thead>\n",
       "    <tr style=\"text-align: right;\">\n",
       "      <th></th>\n",
       "      <th>latitude_SR</th>\n",
       "      <th>longitude_SR</th>\n",
       "      <th>latitude_I</th>\n",
       "      <th>longitude_I</th>\n",
       "    </tr>\n",
       "  </thead>\n",
       "  <tbody>\n",
       "    <tr>\n",
       "      <th>32</th>\n",
       "      <td>40.755313</td>\n",
       "      <td>-73.768930</td>\n",
       "      <td>40.755369</td>\n",
       "      <td>-73.768912</td>\n",
       "    </tr>\n",
       "    <tr>\n",
       "      <th>47</th>\n",
       "      <td>40.896432</td>\n",
       "      <td>-73.874797</td>\n",
       "      <td>40.896579</td>\n",
       "      <td>-73.874746</td>\n",
       "    </tr>\n",
       "    <tr>\n",
       "      <th>113</th>\n",
       "      <td>40.681485</td>\n",
       "      <td>-73.823755</td>\n",
       "      <td>40.681264</td>\n",
       "      <td>-73.823592</td>\n",
       "    </tr>\n",
       "    <tr>\n",
       "      <th>149</th>\n",
       "      <td>40.728850</td>\n",
       "      <td>-73.957436</td>\n",
       "      <td>40.729028</td>\n",
       "      <td>-73.957536</td>\n",
       "    </tr>\n",
       "    <tr>\n",
       "      <th>352</th>\n",
       "      <td>40.855655</td>\n",
       "      <td>-73.854902</td>\n",
       "      <td>40.855690</td>\n",
       "      <td>-73.854897</td>\n",
       "    </tr>\n",
       "    <tr>\n",
       "      <th>...</th>\n",
       "      <td>...</td>\n",
       "      <td>...</td>\n",
       "      <td>...</td>\n",
       "      <td>...</td>\n",
       "    </tr>\n",
       "    <tr>\n",
       "      <th>637514</th>\n",
       "      <td>40.668480</td>\n",
       "      <td>-73.961159</td>\n",
       "      <td>40.668422</td>\n",
       "      <td>-73.961123</td>\n",
       "    </tr>\n",
       "    <tr>\n",
       "      <th>637515</th>\n",
       "      <td>40.668480</td>\n",
       "      <td>-73.961159</td>\n",
       "      <td>40.668386</td>\n",
       "      <td>-73.960953</td>\n",
       "    </tr>\n",
       "    <tr>\n",
       "      <th>690792</th>\n",
       "      <td>40.738972</td>\n",
       "      <td>-73.716598</td>\n",
       "      <td>40.739207</td>\n",
       "      <td>-73.716853</td>\n",
       "    </tr>\n",
       "    <tr>\n",
       "      <th>712200</th>\n",
       "      <td>40.556842</td>\n",
       "      <td>-74.199132</td>\n",
       "      <td>40.556782</td>\n",
       "      <td>-74.199155</td>\n",
       "    </tr>\n",
       "    <tr>\n",
       "      <th>723948</th>\n",
       "      <td>40.687143</td>\n",
       "      <td>-73.974987</td>\n",
       "      <td>40.687085</td>\n",
       "      <td>-73.974976</td>\n",
       "    </tr>\n",
       "  </tbody>\n",
       "</table>\n",
       "<p>19580 rows × 4 columns</p>\n",
       "</div>"
      ],
      "text/plain": [
       "        latitude_SR  longitude_SR  latitude_I  longitude_I\n",
       "32        40.755313    -73.768930   40.755369   -73.768912\n",
       "47        40.896432    -73.874797   40.896579   -73.874746\n",
       "113       40.681485    -73.823755   40.681264   -73.823592\n",
       "149       40.728850    -73.957436   40.729028   -73.957536\n",
       "352       40.855655    -73.854902   40.855690   -73.854897\n",
       "...             ...           ...         ...          ...\n",
       "637514    40.668480    -73.961159   40.668422   -73.961123\n",
       "637515    40.668480    -73.961159   40.668386   -73.960953\n",
       "690792    40.738972    -73.716598   40.739207   -73.716853\n",
       "712200    40.556842    -74.199132   40.556782   -74.199155\n",
       "723948    40.687143    -73.974987   40.687085   -73.974976\n",
       "\n",
       "[19580 rows x 4 columns]"
      ]
     },
     "execution_count": 65,
     "metadata": {},
     "output_type": "execute_result"
    }
   ],
   "source": [
    "mergeddf[['latitude_SR', 'longitude_SR', 'latitude_I', 'longitude_I']].loc[mergeddf['latitude_SR'].notnull() & mergeddf['longitude_SR'].notnull() & mergeddf['longitude_I'].notnull() & mergeddf['latitude_I'].notnull()]\n"
   ]
  },
  {
   "cell_type": "code",
   "execution_count": 66,
   "metadata": {},
   "outputs": [
    {
     "data": {
      "text/html": [
       "<div>\n",
       "<style scoped>\n",
       "    .dataframe tbody tr th:only-of-type {\n",
       "        vertical-align: middle;\n",
       "    }\n",
       "\n",
       "    .dataframe tbody tr th {\n",
       "        vertical-align: top;\n",
       "    }\n",
       "\n",
       "    .dataframe thead th {\n",
       "        text-align: right;\n",
       "    }\n",
       "</style>\n",
       "<table border=\"1\" class=\"dataframe\">\n",
       "  <thead>\n",
       "    <tr style=\"text-align: right;\">\n",
       "      <th></th>\n",
       "      <th>geometry_SR</th>\n",
       "      <th>geometry_I</th>\n",
       "    </tr>\n",
       "  </thead>\n",
       "  <tbody>\n",
       "    <tr>\n",
       "      <th>32</th>\n",
       "      <td>POINT (-73.76893 40.75531)</td>\n",
       "      <td>POINT (-73.76891 40.75537)</td>\n",
       "    </tr>\n",
       "    <tr>\n",
       "      <th>47</th>\n",
       "      <td>POINT (-73.87480 40.89643)</td>\n",
       "      <td>POINT (-73.87475 40.89658)</td>\n",
       "    </tr>\n",
       "    <tr>\n",
       "      <th>113</th>\n",
       "      <td>POINT (-73.82376 40.68149)</td>\n",
       "      <td>POINT (-73.82359 40.68126)</td>\n",
       "    </tr>\n",
       "    <tr>\n",
       "      <th>149</th>\n",
       "      <td>POINT (-73.95744 40.72885)</td>\n",
       "      <td>POINT (-73.95754 40.72903)</td>\n",
       "    </tr>\n",
       "    <tr>\n",
       "      <th>352</th>\n",
       "      <td>POINT (-73.85490 40.85565)</td>\n",
       "      <td>POINT (-73.85490 40.85569)</td>\n",
       "    </tr>\n",
       "    <tr>\n",
       "      <th>...</th>\n",
       "      <td>...</td>\n",
       "      <td>...</td>\n",
       "    </tr>\n",
       "    <tr>\n",
       "      <th>637514</th>\n",
       "      <td>POINT (-73.96116 40.66848)</td>\n",
       "      <td>POINT (-73.96112 40.66842)</td>\n",
       "    </tr>\n",
       "    <tr>\n",
       "      <th>637515</th>\n",
       "      <td>POINT (-73.96116 40.66848)</td>\n",
       "      <td>POINT (-73.96095 40.66839)</td>\n",
       "    </tr>\n",
       "    <tr>\n",
       "      <th>690792</th>\n",
       "      <td>POINT (-73.71660 40.73897)</td>\n",
       "      <td>POINT (-73.71685 40.73921)</td>\n",
       "    </tr>\n",
       "    <tr>\n",
       "      <th>712200</th>\n",
       "      <td>POINT (-74.19913 40.55684)</td>\n",
       "      <td>POINT (-74.19916 40.55678)</td>\n",
       "    </tr>\n",
       "    <tr>\n",
       "      <th>723948</th>\n",
       "      <td>POINT (-73.97499 40.68714)</td>\n",
       "      <td>POINT (-73.97498 40.68709)</td>\n",
       "    </tr>\n",
       "  </tbody>\n",
       "</table>\n",
       "<p>19580 rows × 2 columns</p>\n",
       "</div>"
      ],
      "text/plain": [
       "                       geometry_SR                  geometry_I\n",
       "32      POINT (-73.76893 40.75531)  POINT (-73.76891 40.75537)\n",
       "47      POINT (-73.87480 40.89643)  POINT (-73.87475 40.89658)\n",
       "113     POINT (-73.82376 40.68149)  POINT (-73.82359 40.68126)\n",
       "149     POINT (-73.95744 40.72885)  POINT (-73.95754 40.72903)\n",
       "352     POINT (-73.85490 40.85565)  POINT (-73.85490 40.85569)\n",
       "...                            ...                         ...\n",
       "637514  POINT (-73.96116 40.66848)  POINT (-73.96112 40.66842)\n",
       "637515  POINT (-73.96116 40.66848)  POINT (-73.96095 40.66839)\n",
       "690792  POINT (-73.71660 40.73897)  POINT (-73.71685 40.73921)\n",
       "712200  POINT (-74.19913 40.55684)  POINT (-74.19916 40.55678)\n",
       "723948  POINT (-73.97499 40.68714)  POINT (-73.97498 40.68709)\n",
       "\n",
       "[19580 rows x 2 columns]"
      ]
     },
     "execution_count": 66,
     "metadata": {},
     "output_type": "execute_result"
    }
   ],
   "source": [
    "mergeddf[['geometry_SR', 'geometry_I']].loc[mergeddf['geometry_SR'].notnull() & mergeddf['geometry_I'].notnull()]\n",
    "# pretty close..."
   ]
  },
  {
   "cell_type": "code",
   "execution_count": 67,
   "metadata": {
    "scrolled": true
   },
   "outputs": [
    {
     "data": {
      "text/html": [
       "<div>\n",
       "<style scoped>\n",
       "    .dataframe tbody tr th:only-of-type {\n",
       "        vertical-align: middle;\n",
       "    }\n",
       "\n",
       "    .dataframe tbody tr th {\n",
       "        vertical-align: top;\n",
       "    }\n",
       "\n",
       "    .dataframe thead th {\n",
       "        text-align: right;\n",
       "    }\n",
       "</style>\n",
       "<table border=\"1\" class=\"dataframe\">\n",
       "  <thead>\n",
       "    <tr style=\"text-align: right;\">\n",
       "      <th></th>\n",
       "      <th>objectid_SR</th>\n",
       "      <th>srcategory</th>\n",
       "      <th>srtype</th>\n",
       "      <th>srpriority</th>\n",
       "      <th>srsource</th>\n",
       "      <th>srstatus</th>\n",
       "      <th>srresolution</th>\n",
       "      <th>boroughcode</th>\n",
       "      <th>communityboard</th>\n",
       "      <th>zipcode</th>\n",
       "      <th>citycouncil</th>\n",
       "      <th>statesenate</th>\n",
       "      <th>stateassembly</th>\n",
       "      <th>congressional</th>\n",
       "      <th>servicerequestparentglobalid</th>\n",
       "      <th>SRGlobalID</th>\n",
       "      <th>initiateddate</th>\n",
       "      <th>SRClosedDate</th>\n",
       "      <th>SRCreatedDate</th>\n",
       "      <th>SRUpdatedDate</th>\n",
       "      <th>descriptor1</th>\n",
       "      <th>complainttype</th>\n",
       "      <th>latitude_SR</th>\n",
       "      <th>longitude_SR</th>\n",
       "      <th>census_tract</th>\n",
       "      <th>bin</th>\n",
       "      <th>bbl</th>\n",
       "      <th>nta</th>\n",
       "      <th>complaintdetails</th>\n",
       "      <th>parkname</th>\n",
       "      <th>parkzone</th>\n",
       "      <th>GLOBAL_ID</th>\n",
       "      <th>geometry_SR</th>\n",
       "      <th>STATEFP</th>\n",
       "      <th>COUNTYFP</th>\n",
       "      <th>TRACTCE</th>\n",
       "      <th>AFFGEOID</th>\n",
       "      <th>GEOID</th>\n",
       "      <th>NAME</th>\n",
       "      <th>LSAD</th>\n",
       "      <th>ALAND</th>\n",
       "      <th>AWATER</th>\n",
       "      <th>objectid_I</th>\n",
       "      <th>inspectiontype</th>\n",
       "      <th>inspectionstatus</th>\n",
       "      <th>inspectiontpcondition</th>\n",
       "      <th>inspectiontpstructure</th>\n",
       "      <th>treepointdbh</th>\n",
       "      <th>treepointglobalid</th>\n",
       "      <th>plantingspaceglobalid</th>\n",
       "      <th>InsGlobalID</th>\n",
       "      <th>inspectiondate</th>\n",
       "      <th>InsClosedDate</th>\n",
       "      <th>InsCreatedDate</th>\n",
       "      <th>InsUpdatedDate</th>\n",
       "      <th>parentinspectionglobalid</th>\n",
       "      <th>reinspectiondate</th>\n",
       "      <th>longitude_I</th>\n",
       "      <th>latitude_I</th>\n",
       "      <th>geometry_I</th>\n",
       "    </tr>\n",
       "  </thead>\n",
       "  <tbody>\n",
       "    <tr>\n",
       "      <th>0</th>\n",
       "      <td>17579546</td>\n",
       "      <td>Remove Tree</td>\n",
       "      <td>Dead Tree Older Than 2 Years</td>\n",
       "      <td>Routine</td>\n",
       "      <td>Department of Parks and Recreation - Public We...</td>\n",
       "      <td>Closed</td>\n",
       "      <td>Inspected - Condition Not Found</td>\n",
       "      <td>Brooklyn</td>\n",
       "      <td>310</td>\n",
       "      <td>11209</td>\n",
       "      <td>43</td>\n",
       "      <td>22</td>\n",
       "      <td>64</td>\n",
       "      <td>11</td>\n",
       "      <td>20CCF930-5FD1-4B09-9AA3-8576E1744415</td>\n",
       "      <td>FFA207F8-4B0A-46E3-96F8-252A40661027</td>\n",
       "      <td>05/19/2020 14:20:45</td>\n",
       "      <td>05/21/2020 14:19:51</td>\n",
       "      <td>05/19/2020 14:20:00</td>\n",
       "      <td>05/21/2020 14:19:51</td>\n",
       "      <td>Planted More Than 2 Years Ago</td>\n",
       "      <td>Dead/Dying Tree</td>\n",
       "      <td>40.628261</td>\n",
       "      <td>-74.027653</td>\n",
       "      <td>64</td>\n",
       "      <td>3150325</td>\n",
       "      <td>3059690065</td>\n",
       "      <td>Bay Ridge</td>\n",
       "      <td>NaN</td>\n",
       "      <td>NaN</td>\n",
       "      <td>NaN</td>\n",
       "      <td>20CCF930-5FD1-4B09-9AA3-8576E1744415</td>\n",
       "      <td>POINT (-74.02765 40.62826)</td>\n",
       "      <td>36</td>\n",
       "      <td>047</td>\n",
       "      <td>006400</td>\n",
       "      <td>1400000US36047006400</td>\n",
       "      <td>36047006400</td>\n",
       "      <td>64</td>\n",
       "      <td>CT</td>\n",
       "      <td>203176.0</td>\n",
       "      <td>0.0</td>\n",
       "      <td>NaN</td>\n",
       "      <td>NaN</td>\n",
       "      <td>NaN</td>\n",
       "      <td>NaN</td>\n",
       "      <td>NaN</td>\n",
       "      <td>NaN</td>\n",
       "      <td>NaN</td>\n",
       "      <td>NaN</td>\n",
       "      <td>0</td>\n",
       "      <td>NaN</td>\n",
       "      <td>NaN</td>\n",
       "      <td>NaN</td>\n",
       "      <td>NaN</td>\n",
       "      <td>NaN</td>\n",
       "      <td>NaN</td>\n",
       "      <td>NaN</td>\n",
       "      <td>NaN</td>\n",
       "      <td>None</td>\n",
       "    </tr>\n",
       "    <tr>\n",
       "      <th>1</th>\n",
       "      <td>17616360</td>\n",
       "      <td>Hazard</td>\n",
       "      <td>Limb Down - Street</td>\n",
       "      <td>Routine</td>\n",
       "      <td>3-1-1 Call Center</td>\n",
       "      <td>Closed</td>\n",
       "      <td>Work Completed</td>\n",
       "      <td>Staten Island</td>\n",
       "      <td>501</td>\n",
       "      <td>10301</td>\n",
       "      <td>49</td>\n",
       "      <td>23</td>\n",
       "      <td>61</td>\n",
       "      <td>11</td>\n",
       "      <td>NaN</td>\n",
       "      <td>6E6381BF-3C40-4B04-AB17-3D676E71F99A</td>\n",
       "      <td>05/23/2020 20:47:06</td>\n",
       "      <td>05/26/2020 13:26:35</td>\n",
       "      <td>05/23/2020 21:12:00</td>\n",
       "      <td>05/26/2020 13:26:35</td>\n",
       "      <td>Branch or Limb Has Fallen Down</td>\n",
       "      <td>Damaged Tree</td>\n",
       "      <td>NaN</td>\n",
       "      <td>NaN</td>\n",
       "      <td>NaN</td>\n",
       "      <td>NaN</td>\n",
       "      <td>NaN</td>\n",
       "      <td>NaN</td>\n",
       "      <td>LARGE BRANCHES FROM A CITY TREE HAVE FALLEN IN...</td>\n",
       "      <td>NaN</td>\n",
       "      <td>NaN</td>\n",
       "      <td>6E6381BF-3C40-4B04-AB17-3D676E71F99A</td>\n",
       "      <td>None</td>\n",
       "      <td>NaN</td>\n",
       "      <td>NaN</td>\n",
       "      <td>NaN</td>\n",
       "      <td>NaN</td>\n",
       "      <td>NaN</td>\n",
       "      <td>NaN</td>\n",
       "      <td>NaN</td>\n",
       "      <td>NaN</td>\n",
       "      <td>NaN</td>\n",
       "      <td>NaN</td>\n",
       "      <td>NaN</td>\n",
       "      <td>NaN</td>\n",
       "      <td>NaN</td>\n",
       "      <td>NaN</td>\n",
       "      <td>NaN</td>\n",
       "      <td>NaN</td>\n",
       "      <td>NaN</td>\n",
       "      <td>0</td>\n",
       "      <td>NaN</td>\n",
       "      <td>NaN</td>\n",
       "      <td>NaN</td>\n",
       "      <td>NaN</td>\n",
       "      <td>NaN</td>\n",
       "      <td>NaN</td>\n",
       "      <td>NaN</td>\n",
       "      <td>NaN</td>\n",
       "      <td>None</td>\n",
       "    </tr>\n",
       "    <tr>\n",
       "      <th>2</th>\n",
       "      <td>17575577</td>\n",
       "      <td>Hazard</td>\n",
       "      <td>Tree Split</td>\n",
       "      <td>Routine</td>\n",
       "      <td>3-1-1 Call Center</td>\n",
       "      <td>Closed</td>\n",
       "      <td>Inspected - No Work Order</td>\n",
       "      <td>Brooklyn</td>\n",
       "      <td>302</td>\n",
       "      <td>11238</td>\n",
       "      <td>35</td>\n",
       "      <td>25</td>\n",
       "      <td>57</td>\n",
       "      <td>8</td>\n",
       "      <td>NaN</td>\n",
       "      <td>E6BB2CF4-6559-4ADD-B064-17069BC1B20F</td>\n",
       "      <td>05/18/2020 23:11:51</td>\n",
       "      <td>05/19/2020 15:26:25</td>\n",
       "      <td>05/19/2020 00:00:17</td>\n",
       "      <td>05/19/2020 15:26:25</td>\n",
       "      <td>Tree Trunk Split</td>\n",
       "      <td>Damaged Tree</td>\n",
       "      <td>40.685902</td>\n",
       "      <td>-73.963283</td>\n",
       "      <td>201</td>\n",
       "      <td>3056193</td>\n",
       "      <td>3019650016</td>\n",
       "      <td>Clinton Hill</td>\n",
       "      <td>THERE'S A TREE THAT HAS A CRACKED AROUND IT. &amp;...</td>\n",
       "      <td>NaN</td>\n",
       "      <td>NaN</td>\n",
       "      <td>E6BB2CF4-6559-4ADD-B064-17069BC1B20F</td>\n",
       "      <td>POINT (-73.96328 40.68590)</td>\n",
       "      <td>36</td>\n",
       "      <td>047</td>\n",
       "      <td>020100</td>\n",
       "      <td>1400000US36047020100</td>\n",
       "      <td>36047020100</td>\n",
       "      <td>201</td>\n",
       "      <td>CT</td>\n",
       "      <td>175379.0</td>\n",
       "      <td>0.0</td>\n",
       "      <td>NaN</td>\n",
       "      <td>NaN</td>\n",
       "      <td>NaN</td>\n",
       "      <td>NaN</td>\n",
       "      <td>NaN</td>\n",
       "      <td>NaN</td>\n",
       "      <td>NaN</td>\n",
       "      <td>NaN</td>\n",
       "      <td>0</td>\n",
       "      <td>NaN</td>\n",
       "      <td>NaN</td>\n",
       "      <td>NaN</td>\n",
       "      <td>NaN</td>\n",
       "      <td>NaN</td>\n",
       "      <td>NaN</td>\n",
       "      <td>NaN</td>\n",
       "      <td>NaN</td>\n",
       "      <td>None</td>\n",
       "    </tr>\n",
       "  </tbody>\n",
       "</table>\n",
       "</div>"
      ],
      "text/plain": [
       "  objectid_SR   srcategory                        srtype srpriority  \\\n",
       "0    17579546  Remove Tree  Dead Tree Older Than 2 Years    Routine   \n",
       "1    17616360       Hazard            Limb Down - Street    Routine   \n",
       "2    17575577       Hazard                    Tree Split    Routine   \n",
       "\n",
       "                                            srsource srstatus  \\\n",
       "0  Department of Parks and Recreation - Public We...   Closed   \n",
       "1                                  3-1-1 Call Center   Closed   \n",
       "2                                  3-1-1 Call Center   Closed   \n",
       "\n",
       "                      srresolution    boroughcode communityboard zipcode  \\\n",
       "0  Inspected - Condition Not Found       Brooklyn            310   11209   \n",
       "1                   Work Completed  Staten Island            501   10301   \n",
       "2        Inspected - No Work Order       Brooklyn            302   11238   \n",
       "\n",
       "  citycouncil statesenate stateassembly congressional  \\\n",
       "0          43          22            64            11   \n",
       "1          49          23            61            11   \n",
       "2          35          25            57             8   \n",
       "\n",
       "           servicerequestparentglobalid                            SRGlobalID  \\\n",
       "0  20CCF930-5FD1-4B09-9AA3-8576E1744415  FFA207F8-4B0A-46E3-96F8-252A40661027   \n",
       "1                                   NaN  6E6381BF-3C40-4B04-AB17-3D676E71F99A   \n",
       "2                                   NaN  E6BB2CF4-6559-4ADD-B064-17069BC1B20F   \n",
       "\n",
       "         initiateddate         SRClosedDate        SRCreatedDate  \\\n",
       "0  05/19/2020 14:20:45  05/21/2020 14:19:51  05/19/2020 14:20:00   \n",
       "1  05/23/2020 20:47:06  05/26/2020 13:26:35  05/23/2020 21:12:00   \n",
       "2  05/18/2020 23:11:51  05/19/2020 15:26:25  05/19/2020 00:00:17   \n",
       "\n",
       "         SRUpdatedDate                     descriptor1    complainttype  \\\n",
       "0  05/21/2020 14:19:51   Planted More Than 2 Years Ago  Dead/Dying Tree   \n",
       "1  05/26/2020 13:26:35  Branch or Limb Has Fallen Down     Damaged Tree   \n",
       "2  05/19/2020 15:26:25                Tree Trunk Split     Damaged Tree   \n",
       "\n",
       "   latitude_SR  longitude_SR census_tract      bin         bbl           nta  \\\n",
       "0    40.628261    -74.027653           64  3150325  3059690065     Bay Ridge   \n",
       "1          NaN           NaN          NaN      NaN         NaN           NaN   \n",
       "2    40.685902    -73.963283          201  3056193  3019650016  Clinton Hill   \n",
       "\n",
       "                                    complaintdetails parkname parkzone  \\\n",
       "0                                                NaN      NaN      NaN   \n",
       "1  LARGE BRANCHES FROM A CITY TREE HAVE FALLEN IN...      NaN      NaN   \n",
       "2  THERE'S A TREE THAT HAS A CRACKED AROUND IT. &...      NaN      NaN   \n",
       "\n",
       "                              GLOBAL_ID                 geometry_SR STATEFP  \\\n",
       "0  20CCF930-5FD1-4B09-9AA3-8576E1744415  POINT (-74.02765 40.62826)      36   \n",
       "1  6E6381BF-3C40-4B04-AB17-3D676E71F99A                        None     NaN   \n",
       "2  E6BB2CF4-6559-4ADD-B064-17069BC1B20F  POINT (-73.96328 40.68590)      36   \n",
       "\n",
       "  COUNTYFP TRACTCE              AFFGEOID        GEOID NAME LSAD     ALAND  \\\n",
       "0      047  006400  1400000US36047006400  36047006400   64   CT  203176.0   \n",
       "1      NaN     NaN                   NaN          NaN  NaN  NaN       NaN   \n",
       "2      047  020100  1400000US36047020100  36047020100  201   CT  175379.0   \n",
       "\n",
       "   AWATER objectid_I inspectiontype inspectionstatus inspectiontpcondition  \\\n",
       "0     0.0        NaN            NaN              NaN                   NaN   \n",
       "1     NaN        NaN            NaN              NaN                   NaN   \n",
       "2     0.0        NaN            NaN              NaN                   NaN   \n",
       "\n",
       "  inspectiontpstructure treepointdbh treepointglobalid plantingspaceglobalid  \\\n",
       "0                   NaN          NaN               NaN                   NaN   \n",
       "1                   NaN          NaN               NaN                   NaN   \n",
       "2                   NaN          NaN               NaN                   NaN   \n",
       "\n",
       "  InsGlobalID inspectiondate InsClosedDate InsCreatedDate InsUpdatedDate  \\\n",
       "0           0            NaN           NaN            NaN            NaN   \n",
       "1           0            NaN           NaN            NaN            NaN   \n",
       "2           0            NaN           NaN            NaN            NaN   \n",
       "\n",
       "  parentinspectionglobalid reinspectiondate  longitude_I  latitude_I  \\\n",
       "0                      NaN              NaN          NaN         NaN   \n",
       "1                      NaN              NaN          NaN         NaN   \n",
       "2                      NaN              NaN          NaN         NaN   \n",
       "\n",
       "  geometry_I  \n",
       "0       None  \n",
       "1       None  \n",
       "2       None  "
      ]
     },
     "execution_count": 67,
     "metadata": {},
     "output_type": "execute_result"
    }
   ],
   "source": [
    "mergeddf.head(3)"
   ]
  },
  {
   "cell_type": "markdown",
   "metadata": {},
   "source": [
    "## merge in Work Orders"
   ]
  },
  {
   "cell_type": "markdown",
   "metadata": {},
   "source": [
    "## fix geometry col first - unnecessary?"
   ]
  },
  {
   "cell_type": "code",
   "execution_count": 68,
   "metadata": {},
   "outputs": [
    {
     "data": {
      "text/plain": [
       "Index(['objectid', 'wotype', 'wostatus', 'boroughcode', 'communityboard',\n",
       "       'buildingnumber', 'streetname', 'locationdetails', 'wocontract',\n",
       "       'wocategory', 'wowoodremains', 'zipcode', 'citycouncil', 'statesenate',\n",
       "       'stateassembly', 'congressional', 'physicalid', 'crossstreet1',\n",
       "       'crossstreet2', 'InsGlobalID', 'WOGlobalID', 'wowireconflict',\n",
       "       'geometry', 'WOCreatedDate', 'WOUpdatedDate', 'woentity', 'woproject',\n",
       "       'recommendedspecies', 'latitude', 'longitude', 'census_tract', 'bin',\n",
       "       'bbl', 'nta', 'location', 'wopriority', 'actualfinishdate',\n",
       "       'crewglobalid', 'WOClosedDate', 'cancelreason', 'canceldate',\n",
       "       'parkname', 'woequipment', 'sidewalkdamage', 'projstartdate',\n",
       "       'parkzone', 'sanitationassigneddate'],\n",
       "      dtype='object')"
      ]
     },
     "execution_count": 68,
     "metadata": {},
     "output_type": "execute_result"
    }
   ],
   "source": [
    "FWO.columns # geom or lon/lat from location"
   ]
  },
  {
   "cell_type": "code",
   "execution_count": 69,
   "metadata": {},
   "outputs": [
    {
     "data": {
      "text/plain": [
       "'POINT (1034033.6218752265 229704.85104185343)'"
      ]
     },
     "execution_count": 69,
     "metadata": {},
     "output_type": "execute_result"
    }
   ],
   "source": [
    "FWO.geometry[0] # different crs"
   ]
  },
  {
   "cell_type": "code",
   "execution_count": 70,
   "metadata": {},
   "outputs": [
    {
     "data": {
      "text/plain": [
       "array(['1F', '2F', '2S', ...,\n",
       "       '6 Z LPA 72X72 [HOPE BALLFIELD] ACRU GLTR QUCO',\n",
       "       \"4 Z LPA 120X40 FASTIGIOUS 2' TREE [KENNEDY KING PLAYGROUND] LIST FASTIGIOUS\",\n",
       "       \"5 Z LPA 120X40 FASTIGIOUS 2' TREE [KENNEDY KING PLAYGROUND] LIST FASTIGIOUS\"],\n",
       "      dtype=object)"
      ]
     },
     "execution_count": 70,
     "metadata": {},
     "output_type": "execute_result"
    }
   ],
   "source": [
    "FWO.locationdetails.unique()"
   ]
  },
  {
   "cell_type": "code",
   "execution_count": 71,
   "metadata": {
    "scrolled": true
   },
   "outputs": [
    {
     "data": {
      "text/html": [
       "<div>\n",
       "<style scoped>\n",
       "    .dataframe tbody tr th:only-of-type {\n",
       "        vertical-align: middle;\n",
       "    }\n",
       "\n",
       "    .dataframe tbody tr th {\n",
       "        vertical-align: top;\n",
       "    }\n",
       "\n",
       "    .dataframe thead th {\n",
       "        text-align: right;\n",
       "    }\n",
       "</style>\n",
       "<table border=\"1\" class=\"dataframe\">\n",
       "  <thead>\n",
       "    <tr style=\"text-align: right;\">\n",
       "      <th></th>\n",
       "      <th>objectid</th>\n",
       "      <th>wotype</th>\n",
       "      <th>wostatus</th>\n",
       "      <th>boroughcode</th>\n",
       "      <th>communityboard</th>\n",
       "      <th>buildingnumber</th>\n",
       "      <th>streetname</th>\n",
       "      <th>locationdetails</th>\n",
       "      <th>wocontract</th>\n",
       "      <th>wocategory</th>\n",
       "      <th>wowoodremains</th>\n",
       "      <th>zipcode</th>\n",
       "      <th>citycouncil</th>\n",
       "      <th>statesenate</th>\n",
       "      <th>stateassembly</th>\n",
       "      <th>congressional</th>\n",
       "      <th>physicalid</th>\n",
       "      <th>crossstreet1</th>\n",
       "      <th>crossstreet2</th>\n",
       "      <th>InsGlobalID</th>\n",
       "      <th>WOGlobalID</th>\n",
       "      <th>wowireconflict</th>\n",
       "      <th>geometry</th>\n",
       "      <th>WOCreatedDate</th>\n",
       "      <th>WOUpdatedDate</th>\n",
       "      <th>woentity</th>\n",
       "      <th>woproject</th>\n",
       "      <th>recommendedspecies</th>\n",
       "      <th>latitude</th>\n",
       "      <th>longitude</th>\n",
       "      <th>census_tract</th>\n",
       "      <th>bin</th>\n",
       "      <th>bbl</th>\n",
       "      <th>nta</th>\n",
       "      <th>location</th>\n",
       "      <th>wopriority</th>\n",
       "      <th>actualfinishdate</th>\n",
       "      <th>crewglobalid</th>\n",
       "      <th>WOClosedDate</th>\n",
       "      <th>cancelreason</th>\n",
       "      <th>canceldate</th>\n",
       "      <th>parkname</th>\n",
       "      <th>woequipment</th>\n",
       "      <th>sidewalkdamage</th>\n",
       "      <th>projstartdate</th>\n",
       "      <th>parkzone</th>\n",
       "      <th>sanitationassigneddate</th>\n",
       "    </tr>\n",
       "  </thead>\n",
       "  <tbody>\n",
       "    <tr>\n",
       "      <th>0</th>\n",
       "      <td>16109554</td>\n",
       "      <td>Block Pruning</td>\n",
       "      <td>Open</td>\n",
       "      <td>Queens</td>\n",
       "      <td>407</td>\n",
       "      <td>148-018</td>\n",
       "      <td>3 AVENUE</td>\n",
       "      <td>1F</td>\n",
       "      <td>BP-Q22</td>\n",
       "      <td>Block Pruning</td>\n",
       "      <td>No Wood Debris</td>\n",
       "      <td>11357</td>\n",
       "      <td>19</td>\n",
       "      <td>11</td>\n",
       "      <td>27</td>\n",
       "      <td>3</td>\n",
       "      <td>4939</td>\n",
       "      <td>149 ST</td>\n",
       "      <td>3 AV</td>\n",
       "      <td>988A50F1-89C3-4352-9079-AD86403654B5</td>\n",
       "      <td>1F2F0BBE-68CE-4E42-891C-697E17492F50</td>\n",
       "      <td>Electric Utility Open</td>\n",
       "      <td>POINT (1034033.6218752265 229704.85104185343)</td>\n",
       "      <td>2022-01-02T01:23:19.000</td>\n",
       "      <td>2022-01-02T01:23:21.000</td>\n",
       "      <td>Expense</td>\n",
       "      <td>Block Pruning</td>\n",
       "      <td>Quercus palustris - pin oak</td>\n",
       "      <td>40.796925</td>\n",
       "      <td>-73.820672</td>\n",
       "      <td>973</td>\n",
       "      <td>4101797</td>\n",
       "      <td>4044720001</td>\n",
       "      <td>Whitestone</td>\n",
       "      <td>{'latitude': '40.79702253856299', 'longitude':...</td>\n",
       "      <td>NaN</td>\n",
       "      <td>NaN</td>\n",
       "      <td>NaN</td>\n",
       "      <td>NaN</td>\n",
       "      <td>NaN</td>\n",
       "      <td>NaN</td>\n",
       "      <td>NaN</td>\n",
       "      <td>NaN</td>\n",
       "      <td>NaN</td>\n",
       "      <td>NaN</td>\n",
       "      <td>NaN</td>\n",
       "      <td>NaN</td>\n",
       "    </tr>\n",
       "    <tr>\n",
       "      <th>1</th>\n",
       "      <td>16109551</td>\n",
       "      <td>Block Pruning</td>\n",
       "      <td>Open</td>\n",
       "      <td>Queens</td>\n",
       "      <td>407</td>\n",
       "      <td>148-010</td>\n",
       "      <td>3 AVENUE</td>\n",
       "      <td>1F</td>\n",
       "      <td>BP-Q22</td>\n",
       "      <td>Block Pruning</td>\n",
       "      <td>No Wood Debris</td>\n",
       "      <td>11357</td>\n",
       "      <td>19</td>\n",
       "      <td>11</td>\n",
       "      <td>27</td>\n",
       "      <td>3</td>\n",
       "      <td>4939</td>\n",
       "      <td>148 ST</td>\n",
       "      <td>3 AV</td>\n",
       "      <td>103A2CC3-9853-4E43-883A-800E64CD4517</td>\n",
       "      <td>C2A28817-FE0F-47DD-8B45-74C871686AB0</td>\n",
       "      <td>Electric Utility Open</td>\n",
       "      <td>POINT (1033956.449166894 229672.18958351016)</td>\n",
       "      <td>2022-01-02T01:28:21.000</td>\n",
       "      <td>2022-01-02T01:28:23.000</td>\n",
       "      <td>Expense</td>\n",
       "      <td>Block Pruning</td>\n",
       "      <td>Prunus serrulata 'Green leaf' - 'Green leaf' J...</td>\n",
       "      <td>40.796909</td>\n",
       "      <td>-73.820726</td>\n",
       "      <td>973</td>\n",
       "      <td>4101823</td>\n",
       "      <td>4044720055</td>\n",
       "      <td>Whitestone</td>\n",
       "      <td>{'latitude': '40.79693332636892', 'longitude':...</td>\n",
       "      <td>NaN</td>\n",
       "      <td>NaN</td>\n",
       "      <td>NaN</td>\n",
       "      <td>NaN</td>\n",
       "      <td>NaN</td>\n",
       "      <td>NaN</td>\n",
       "      <td>NaN</td>\n",
       "      <td>NaN</td>\n",
       "      <td>NaN</td>\n",
       "      <td>NaN</td>\n",
       "      <td>NaN</td>\n",
       "      <td>NaN</td>\n",
       "    </tr>\n",
       "    <tr>\n",
       "      <th>2</th>\n",
       "      <td>16109553</td>\n",
       "      <td>Block Pruning</td>\n",
       "      <td>Open</td>\n",
       "      <td>Queens</td>\n",
       "      <td>407</td>\n",
       "      <td>147-052</td>\n",
       "      <td>3 AVENUE</td>\n",
       "      <td>2F</td>\n",
       "      <td>BP-Q22</td>\n",
       "      <td>Block Pruning</td>\n",
       "      <td>No Wood Debris</td>\n",
       "      <td>11357</td>\n",
       "      <td>19</td>\n",
       "      <td>11</td>\n",
       "      <td>27</td>\n",
       "      <td>3</td>\n",
       "      <td>4940</td>\n",
       "      <td>148 ST</td>\n",
       "      <td>3 AV</td>\n",
       "      <td>2CC30002-113C-4AA4-B217-CFE8CEC9EAB9</td>\n",
       "      <td>9EE158F1-6539-4795-BFCE-9A39ED550CA0</td>\n",
       "      <td>Electric Utility Open</td>\n",
       "      <td>POINT (1033794.7654168904 229605.1795835197)</td>\n",
       "      <td>2022-01-02T01:39:42.000</td>\n",
       "      <td>2022-01-02T01:39:43.000</td>\n",
       "      <td>Expense</td>\n",
       "      <td>Block Pruning</td>\n",
       "      <td>Quercus palustris - pin oak</td>\n",
       "      <td>40.796652</td>\n",
       "      <td>-73.821539</td>\n",
       "      <td>973</td>\n",
       "      <td>4101774</td>\n",
       "      <td>4044710001</td>\n",
       "      <td>Whitestone</td>\n",
       "      <td>{'latitude': '40.796750310523684', 'longitude'...</td>\n",
       "      <td>NaN</td>\n",
       "      <td>NaN</td>\n",
       "      <td>NaN</td>\n",
       "      <td>NaN</td>\n",
       "      <td>NaN</td>\n",
       "      <td>NaN</td>\n",
       "      <td>NaN</td>\n",
       "      <td>NaN</td>\n",
       "      <td>NaN</td>\n",
       "      <td>NaN</td>\n",
       "      <td>NaN</td>\n",
       "      <td>NaN</td>\n",
       "    </tr>\n",
       "    <tr>\n",
       "      <th>3</th>\n",
       "      <td>16109552</td>\n",
       "      <td>Block Pruning</td>\n",
       "      <td>Open</td>\n",
       "      <td>Queens</td>\n",
       "      <td>407</td>\n",
       "      <td>147-052</td>\n",
       "      <td>3 AVENUE</td>\n",
       "      <td>1F</td>\n",
       "      <td>BP-Q22</td>\n",
       "      <td>Block Pruning</td>\n",
       "      <td>No Wood Debris</td>\n",
       "      <td>11357</td>\n",
       "      <td>19</td>\n",
       "      <td>11</td>\n",
       "      <td>27</td>\n",
       "      <td>3</td>\n",
       "      <td>4940</td>\n",
       "      <td>148 ST</td>\n",
       "      <td>3 AV</td>\n",
       "      <td>DE62D9F5-27C0-49A4-B8B3-89F53B48B040</td>\n",
       "      <td>F431476A-33E0-47BE-9DC1-8FCEA91DB73F</td>\n",
       "      <td>Electric Utility Open</td>\n",
       "      <td>POINT (1033747.8000002354 229585.29875017703)</td>\n",
       "      <td>2022-01-02T01:42:44.000</td>\n",
       "      <td>2022-01-02T01:42:46.000</td>\n",
       "      <td>Expense</td>\n",
       "      <td>Block Pruning</td>\n",
       "      <td>Prunus serrulata 'Green leaf' - 'Green leaf' J...</td>\n",
       "      <td>40.796652</td>\n",
       "      <td>-73.821539</td>\n",
       "      <td>973</td>\n",
       "      <td>4101774</td>\n",
       "      <td>4044710001</td>\n",
       "      <td>Whitestone</td>\n",
       "      <td>{'latitude': '40.796696006352505', 'longitude'...</td>\n",
       "      <td>NaN</td>\n",
       "      <td>NaN</td>\n",
       "      <td>NaN</td>\n",
       "      <td>NaN</td>\n",
       "      <td>NaN</td>\n",
       "      <td>NaN</td>\n",
       "      <td>NaN</td>\n",
       "      <td>NaN</td>\n",
       "      <td>NaN</td>\n",
       "      <td>NaN</td>\n",
       "      <td>NaN</td>\n",
       "      <td>NaN</td>\n",
       "    </tr>\n",
       "    <tr>\n",
       "      <th>4</th>\n",
       "      <td>16109556</td>\n",
       "      <td>Block Pruning</td>\n",
       "      <td>Open</td>\n",
       "      <td>Queens</td>\n",
       "      <td>407</td>\n",
       "      <td>147-038</td>\n",
       "      <td>3 AVENUE</td>\n",
       "      <td>1F</td>\n",
       "      <td>BP-Q22</td>\n",
       "      <td>Block Pruning</td>\n",
       "      <td>No Wood Debris</td>\n",
       "      <td>11357</td>\n",
       "      <td>19</td>\n",
       "      <td>11</td>\n",
       "      <td>27</td>\n",
       "      <td>3</td>\n",
       "      <td>4940</td>\n",
       "      <td>147 PL</td>\n",
       "      <td>3 AV</td>\n",
       "      <td>888DB768-4146-4A79-82D5-5DE43A50273D</td>\n",
       "      <td>152B5FAD-5AEC-4FCA-9C29-DC5B1C2E5F16</td>\n",
       "      <td>Electric Utility Open</td>\n",
       "      <td>POINT (1033676.5231252313 229555.12687517703)</td>\n",
       "      <td>2022-01-02T01:56:14.000</td>\n",
       "      <td>2022-01-02T01:56:16.000</td>\n",
       "      <td>Expense</td>\n",
       "      <td>Block Pruning</td>\n",
       "      <td>Prunus serrulata 'Green leaf' - 'Green leaf' J...</td>\n",
       "      <td>40.796606</td>\n",
       "      <td>-73.82168</td>\n",
       "      <td>973</td>\n",
       "      <td>4101795</td>\n",
       "      <td>4044710055</td>\n",
       "      <td>Whitestone</td>\n",
       "      <td>{'latitude': '40.796613591893276', 'longitude'...</td>\n",
       "      <td>NaN</td>\n",
       "      <td>NaN</td>\n",
       "      <td>NaN</td>\n",
       "      <td>NaN</td>\n",
       "      <td>NaN</td>\n",
       "      <td>NaN</td>\n",
       "      <td>NaN</td>\n",
       "      <td>NaN</td>\n",
       "      <td>NaN</td>\n",
       "      <td>NaN</td>\n",
       "      <td>NaN</td>\n",
       "      <td>NaN</td>\n",
       "    </tr>\n",
       "    <tr>\n",
       "      <th>...</th>\n",
       "      <td>...</td>\n",
       "      <td>...</td>\n",
       "      <td>...</td>\n",
       "      <td>...</td>\n",
       "      <td>...</td>\n",
       "      <td>...</td>\n",
       "      <td>...</td>\n",
       "      <td>...</td>\n",
       "      <td>...</td>\n",
       "      <td>...</td>\n",
       "      <td>...</td>\n",
       "      <td>...</td>\n",
       "      <td>...</td>\n",
       "      <td>...</td>\n",
       "      <td>...</td>\n",
       "      <td>...</td>\n",
       "      <td>...</td>\n",
       "      <td>...</td>\n",
       "      <td>...</td>\n",
       "      <td>...</td>\n",
       "      <td>...</td>\n",
       "      <td>...</td>\n",
       "      <td>...</td>\n",
       "      <td>...</td>\n",
       "      <td>...</td>\n",
       "      <td>...</td>\n",
       "      <td>...</td>\n",
       "      <td>...</td>\n",
       "      <td>...</td>\n",
       "      <td>...</td>\n",
       "      <td>...</td>\n",
       "      <td>...</td>\n",
       "      <td>...</td>\n",
       "      <td>...</td>\n",
       "      <td>...</td>\n",
       "      <td>...</td>\n",
       "      <td>...</td>\n",
       "      <td>...</td>\n",
       "      <td>...</td>\n",
       "      <td>...</td>\n",
       "      <td>...</td>\n",
       "      <td>...</td>\n",
       "      <td>...</td>\n",
       "      <td>...</td>\n",
       "      <td>...</td>\n",
       "      <td>...</td>\n",
       "      <td>...</td>\n",
       "    </tr>\n",
       "    <tr>\n",
       "      <th>108655</th>\n",
       "      <td>18947754</td>\n",
       "      <td>Pest &amp; Disease Treatment</td>\n",
       "      <td>Open</td>\n",
       "      <td>Brooklyn</td>\n",
       "      <td>306</td>\n",
       "      <td>NaN</td>\n",
       "      <td>NaN</td>\n",
       "      <td>NaN</td>\n",
       "      <td>EAB-TRT-B23</td>\n",
       "      <td>Misc Work</td>\n",
       "      <td>No Wood Debris</td>\n",
       "      <td>11231</td>\n",
       "      <td>38</td>\n",
       "      <td>25</td>\n",
       "      <td>51</td>\n",
       "      <td>7</td>\n",
       "      <td>NaN</td>\n",
       "      <td>BUSH ST</td>\n",
       "      <td>HENRY ST</td>\n",
       "      <td>0A2D748C-9C2F-42D9-9EDC-226A20D81AB8</td>\n",
       "      <td>101C6A3E-552C-47DA-BC88-BF3350CECF0A</td>\n",
       "      <td>No Util Conflict Present</td>\n",
       "      <td>POINT (983093.1747919023 184832.86625018716)</td>\n",
       "      <td>2022-09-01T03:22:55.000</td>\n",
       "      <td>NaN</td>\n",
       "      <td>Expense</td>\n",
       "      <td>P&amp;D - EAB</td>\n",
       "      <td>Fraxinus pennsylvanica - Green ash</td>\n",
       "      <td>NaN</td>\n",
       "      <td>NaN</td>\n",
       "      <td>NaN</td>\n",
       "      <td>NaN</td>\n",
       "      <td>NaN</td>\n",
       "      <td>NaN</td>\n",
       "      <td>{'latitude': '40.6740001973745', 'longitude': ...</td>\n",
       "      <td>NaN</td>\n",
       "      <td>NaN</td>\n",
       "      <td>NaN</td>\n",
       "      <td>NaN</td>\n",
       "      <td>NaN</td>\n",
       "      <td>NaN</td>\n",
       "      <td>Red Hook Recreation Area</td>\n",
       "      <td>NaN</td>\n",
       "      <td>NaN</td>\n",
       "      <td>NaN</td>\n",
       "      <td>NaN</td>\n",
       "      <td>NaN</td>\n",
       "    </tr>\n",
       "    <tr>\n",
       "      <th>108656</th>\n",
       "      <td>18947736</td>\n",
       "      <td>Pest &amp; Disease Treatment</td>\n",
       "      <td>Open</td>\n",
       "      <td>Brooklyn</td>\n",
       "      <td>306</td>\n",
       "      <td>NaN</td>\n",
       "      <td>NaN</td>\n",
       "      <td>NaN</td>\n",
       "      <td>EAB-TRT-B23</td>\n",
       "      <td>Misc Work</td>\n",
       "      <td>No Wood Debris</td>\n",
       "      <td>11231</td>\n",
       "      <td>38</td>\n",
       "      <td>25</td>\n",
       "      <td>51</td>\n",
       "      <td>7</td>\n",
       "      <td>NaN</td>\n",
       "      <td>HENRY ST</td>\n",
       "      <td>LORRAINE ST</td>\n",
       "      <td>9FC258EA-B514-4435-B75B-35CD14EF0396</td>\n",
       "      <td>D2FE0D2B-5467-4052-A0D3-B7777E1B9AA5</td>\n",
       "      <td>No Util Conflict Present</td>\n",
       "      <td>POINT (983086.23062522709 184804.65479184687)</td>\n",
       "      <td>2022-09-01T03:24:21.000</td>\n",
       "      <td>NaN</td>\n",
       "      <td>Expense</td>\n",
       "      <td>P&amp;D - EAB</td>\n",
       "      <td>Fraxinus pennsylvanica - Green ash</td>\n",
       "      <td>NaN</td>\n",
       "      <td>NaN</td>\n",
       "      <td>NaN</td>\n",
       "      <td>NaN</td>\n",
       "      <td>NaN</td>\n",
       "      <td>NaN</td>\n",
       "      <td>{'latitude': '40.67392276235279', 'longitude':...</td>\n",
       "      <td>NaN</td>\n",
       "      <td>NaN</td>\n",
       "      <td>NaN</td>\n",
       "      <td>NaN</td>\n",
       "      <td>NaN</td>\n",
       "      <td>NaN</td>\n",
       "      <td>Red Hook Recreation Area</td>\n",
       "      <td>NaN</td>\n",
       "      <td>NaN</td>\n",
       "      <td>NaN</td>\n",
       "      <td>NaN</td>\n",
       "      <td>NaN</td>\n",
       "    </tr>\n",
       "    <tr>\n",
       "      <th>108657</th>\n",
       "      <td>18947745</td>\n",
       "      <td>Pest &amp; Disease Treatment</td>\n",
       "      <td>Open</td>\n",
       "      <td>Brooklyn</td>\n",
       "      <td>306</td>\n",
       "      <td>NaN</td>\n",
       "      <td>NaN</td>\n",
       "      <td>NaN</td>\n",
       "      <td>EAB-TRT-B23</td>\n",
       "      <td>Misc Work</td>\n",
       "      <td>No Wood Debris</td>\n",
       "      <td>11231</td>\n",
       "      <td>38</td>\n",
       "      <td>25</td>\n",
       "      <td>51</td>\n",
       "      <td>7</td>\n",
       "      <td>NaN</td>\n",
       "      <td>HENRY ST</td>\n",
       "      <td>LORRAINE ST</td>\n",
       "      <td>319F326A-6E66-4F50-978B-C0160DBF7636</td>\n",
       "      <td>280A57F0-844E-4D28-8389-439B8A555006</td>\n",
       "      <td>No Util Conflict Present</td>\n",
       "      <td>POINT (983079.93729189038 184786.20833352208)</td>\n",
       "      <td>2022-09-01T03:31:46.000</td>\n",
       "      <td>NaN</td>\n",
       "      <td>Expense</td>\n",
       "      <td>P&amp;D - EAB</td>\n",
       "      <td>Fraxinus pennsylvanica - Green ash</td>\n",
       "      <td>NaN</td>\n",
       "      <td>NaN</td>\n",
       "      <td>NaN</td>\n",
       "      <td>NaN</td>\n",
       "      <td>NaN</td>\n",
       "      <td>NaN</td>\n",
       "      <td>{'latitude': '40.67387213014128', 'longitude':...</td>\n",
       "      <td>NaN</td>\n",
       "      <td>NaN</td>\n",
       "      <td>NaN</td>\n",
       "      <td>NaN</td>\n",
       "      <td>NaN</td>\n",
       "      <td>NaN</td>\n",
       "      <td>Red Hook Recreation Area</td>\n",
       "      <td>NaN</td>\n",
       "      <td>NaN</td>\n",
       "      <td>NaN</td>\n",
       "      <td>NaN</td>\n",
       "      <td>NaN</td>\n",
       "    </tr>\n",
       "    <tr>\n",
       "      <th>108658</th>\n",
       "      <td>18947742</td>\n",
       "      <td>Pest &amp; Disease Treatment</td>\n",
       "      <td>Open</td>\n",
       "      <td>Brooklyn</td>\n",
       "      <td>306</td>\n",
       "      <td>NaN</td>\n",
       "      <td>NaN</td>\n",
       "      <td>NaN</td>\n",
       "      <td>EAB-TRT-B23</td>\n",
       "      <td>Misc Work</td>\n",
       "      <td>No Wood Debris</td>\n",
       "      <td>11231</td>\n",
       "      <td>38</td>\n",
       "      <td>25</td>\n",
       "      <td>51</td>\n",
       "      <td>7</td>\n",
       "      <td>NaN</td>\n",
       "      <td>HENRY ST</td>\n",
       "      <td>LORRAINE ST</td>\n",
       "      <td>357C9A92-086F-4A1C-91CA-50495164A7BC</td>\n",
       "      <td>FBA41172-C6AE-4B02-AB89-17691507991D</td>\n",
       "      <td>No Util Conflict Present</td>\n",
       "      <td>POINT (983071.25666689873 184759.51562517881)</td>\n",
       "      <td>2022-09-01T03:33:06.000</td>\n",
       "      <td>NaN</td>\n",
       "      <td>Expense</td>\n",
       "      <td>P&amp;D - EAB</td>\n",
       "      <td>Fraxinus pennsylvanica - Green ash</td>\n",
       "      <td>NaN</td>\n",
       "      <td>NaN</td>\n",
       "      <td>NaN</td>\n",
       "      <td>NaN</td>\n",
       "      <td>NaN</td>\n",
       "      <td>NaN</td>\n",
       "      <td>{'latitude': '40.67379886350437', 'longitude':...</td>\n",
       "      <td>NaN</td>\n",
       "      <td>NaN</td>\n",
       "      <td>NaN</td>\n",
       "      <td>NaN</td>\n",
       "      <td>NaN</td>\n",
       "      <td>NaN</td>\n",
       "      <td>Red Hook Recreation Area</td>\n",
       "      <td>NaN</td>\n",
       "      <td>NaN</td>\n",
       "      <td>NaN</td>\n",
       "      <td>NaN</td>\n",
       "      <td>NaN</td>\n",
       "    </tr>\n",
       "    <tr>\n",
       "      <th>108659</th>\n",
       "      <td>18947751</td>\n",
       "      <td>Pest &amp; Disease Treatment</td>\n",
       "      <td>Open</td>\n",
       "      <td>Brooklyn</td>\n",
       "      <td>306</td>\n",
       "      <td>NaN</td>\n",
       "      <td>NaN</td>\n",
       "      <td>NaN</td>\n",
       "      <td>EAB-TRT-B23</td>\n",
       "      <td>Misc Work</td>\n",
       "      <td>No Wood Debris</td>\n",
       "      <td>11231</td>\n",
       "      <td>38</td>\n",
       "      <td>25</td>\n",
       "      <td>51</td>\n",
       "      <td>7</td>\n",
       "      <td>NaN</td>\n",
       "      <td>HENRY ST</td>\n",
       "      <td>LORRAINE ST</td>\n",
       "      <td>DCB1A882-94DC-4E50-AA11-BF8B453B599F</td>\n",
       "      <td>529C0343-5B2E-454C-9DE0-B7065F206406</td>\n",
       "      <td>No Util Conflict Present</td>\n",
       "      <td>POINT (983065.1802085638 184744.75875018537)</td>\n",
       "      <td>2022-09-01T03:34:20.000</td>\n",
       "      <td>NaN</td>\n",
       "      <td>Expense</td>\n",
       "      <td>P&amp;D - EAB</td>\n",
       "      <td>Fraxinus pennsylvanica - Green ash</td>\n",
       "      <td>NaN</td>\n",
       "      <td>NaN</td>\n",
       "      <td>NaN</td>\n",
       "      <td>NaN</td>\n",
       "      <td>NaN</td>\n",
       "      <td>NaN</td>\n",
       "      <td>{'latitude': '40.67375835838763', 'longitude':...</td>\n",
       "      <td>NaN</td>\n",
       "      <td>NaN</td>\n",
       "      <td>NaN</td>\n",
       "      <td>NaN</td>\n",
       "      <td>NaN</td>\n",
       "      <td>NaN</td>\n",
       "      <td>Red Hook Recreation Area</td>\n",
       "      <td>NaN</td>\n",
       "      <td>NaN</td>\n",
       "      <td>NaN</td>\n",
       "      <td>NaN</td>\n",
       "      <td>NaN</td>\n",
       "    </tr>\n",
       "  </tbody>\n",
       "</table>\n",
       "<p>108660 rows × 47 columns</p>\n",
       "</div>"
      ],
      "text/plain": [
       "        objectid                    wotype wostatus boroughcode  \\\n",
       "0       16109554             Block Pruning     Open      Queens   \n",
       "1       16109551             Block Pruning     Open      Queens   \n",
       "2       16109553             Block Pruning     Open      Queens   \n",
       "3       16109552             Block Pruning     Open      Queens   \n",
       "4       16109556             Block Pruning     Open      Queens   \n",
       "...          ...                       ...      ...         ...   \n",
       "108655  18947754  Pest & Disease Treatment     Open    Brooklyn   \n",
       "108656  18947736  Pest & Disease Treatment     Open    Brooklyn   \n",
       "108657  18947745  Pest & Disease Treatment     Open    Brooklyn   \n",
       "108658  18947742  Pest & Disease Treatment     Open    Brooklyn   \n",
       "108659  18947751  Pest & Disease Treatment     Open    Brooklyn   \n",
       "\n",
       "       communityboard buildingnumber streetname locationdetails   wocontract  \\\n",
       "0                 407        148-018   3 AVENUE              1F       BP-Q22   \n",
       "1                 407        148-010   3 AVENUE              1F       BP-Q22   \n",
       "2                 407        147-052   3 AVENUE              2F       BP-Q22   \n",
       "3                 407        147-052   3 AVENUE              1F       BP-Q22   \n",
       "4                 407        147-038   3 AVENUE              1F       BP-Q22   \n",
       "...               ...            ...        ...             ...          ...   \n",
       "108655            306            NaN        NaN             NaN  EAB-TRT-B23   \n",
       "108656            306            NaN        NaN             NaN  EAB-TRT-B23   \n",
       "108657            306            NaN        NaN             NaN  EAB-TRT-B23   \n",
       "108658            306            NaN        NaN             NaN  EAB-TRT-B23   \n",
       "108659            306            NaN        NaN             NaN  EAB-TRT-B23   \n",
       "\n",
       "           wocategory   wowoodremains zipcode citycouncil statesenate  \\\n",
       "0       Block Pruning  No Wood Debris   11357          19          11   \n",
       "1       Block Pruning  No Wood Debris   11357          19          11   \n",
       "2       Block Pruning  No Wood Debris   11357          19          11   \n",
       "3       Block Pruning  No Wood Debris   11357          19          11   \n",
       "4       Block Pruning  No Wood Debris   11357          19          11   \n",
       "...               ...             ...     ...         ...         ...   \n",
       "108655      Misc Work  No Wood Debris   11231          38          25   \n",
       "108656      Misc Work  No Wood Debris   11231          38          25   \n",
       "108657      Misc Work  No Wood Debris   11231          38          25   \n",
       "108658      Misc Work  No Wood Debris   11231          38          25   \n",
       "108659      Misc Work  No Wood Debris   11231          38          25   \n",
       "\n",
       "       stateassembly congressional physicalid crossstreet1 crossstreet2  \\\n",
       "0                 27             3       4939       149 ST         3 AV   \n",
       "1                 27             3       4939       148 ST         3 AV   \n",
       "2                 27             3       4940       148 ST         3 AV   \n",
       "3                 27             3       4940       148 ST         3 AV   \n",
       "4                 27             3       4940       147 PL         3 AV   \n",
       "...              ...           ...        ...          ...          ...   \n",
       "108655            51             7        NaN      BUSH ST     HENRY ST   \n",
       "108656            51             7        NaN     HENRY ST  LORRAINE ST   \n",
       "108657            51             7        NaN     HENRY ST  LORRAINE ST   \n",
       "108658            51             7        NaN     HENRY ST  LORRAINE ST   \n",
       "108659            51             7        NaN     HENRY ST  LORRAINE ST   \n",
       "\n",
       "                                 InsGlobalID  \\\n",
       "0       988A50F1-89C3-4352-9079-AD86403654B5   \n",
       "1       103A2CC3-9853-4E43-883A-800E64CD4517   \n",
       "2       2CC30002-113C-4AA4-B217-CFE8CEC9EAB9   \n",
       "3       DE62D9F5-27C0-49A4-B8B3-89F53B48B040   \n",
       "4       888DB768-4146-4A79-82D5-5DE43A50273D   \n",
       "...                                      ...   \n",
       "108655  0A2D748C-9C2F-42D9-9EDC-226A20D81AB8   \n",
       "108656  9FC258EA-B514-4435-B75B-35CD14EF0396   \n",
       "108657  319F326A-6E66-4F50-978B-C0160DBF7636   \n",
       "108658  357C9A92-086F-4A1C-91CA-50495164A7BC   \n",
       "108659  DCB1A882-94DC-4E50-AA11-BF8B453B599F   \n",
       "\n",
       "                                  WOGlobalID            wowireconflict  \\\n",
       "0       1F2F0BBE-68CE-4E42-891C-697E17492F50     Electric Utility Open   \n",
       "1       C2A28817-FE0F-47DD-8B45-74C871686AB0     Electric Utility Open   \n",
       "2       9EE158F1-6539-4795-BFCE-9A39ED550CA0     Electric Utility Open   \n",
       "3       F431476A-33E0-47BE-9DC1-8FCEA91DB73F     Electric Utility Open   \n",
       "4       152B5FAD-5AEC-4FCA-9C29-DC5B1C2E5F16     Electric Utility Open   \n",
       "...                                      ...                       ...   \n",
       "108655  101C6A3E-552C-47DA-BC88-BF3350CECF0A  No Util Conflict Present   \n",
       "108656  D2FE0D2B-5467-4052-A0D3-B7777E1B9AA5  No Util Conflict Present   \n",
       "108657  280A57F0-844E-4D28-8389-439B8A555006  No Util Conflict Present   \n",
       "108658  FBA41172-C6AE-4B02-AB89-17691507991D  No Util Conflict Present   \n",
       "108659  529C0343-5B2E-454C-9DE0-B7065F206406  No Util Conflict Present   \n",
       "\n",
       "                                             geometry  \\\n",
       "0       POINT (1034033.6218752265 229704.85104185343)   \n",
       "1        POINT (1033956.449166894 229672.18958351016)   \n",
       "2        POINT (1033794.7654168904 229605.1795835197)   \n",
       "3       POINT (1033747.8000002354 229585.29875017703)   \n",
       "4       POINT (1033676.5231252313 229555.12687517703)   \n",
       "...                                               ...   \n",
       "108655   POINT (983093.1747919023 184832.86625018716)   \n",
       "108656  POINT (983086.23062522709 184804.65479184687)   \n",
       "108657  POINT (983079.93729189038 184786.20833352208)   \n",
       "108658  POINT (983071.25666689873 184759.51562517881)   \n",
       "108659   POINT (983065.1802085638 184744.75875018537)   \n",
       "\n",
       "                  WOCreatedDate            WOUpdatedDate woentity  \\\n",
       "0       2022-01-02T01:23:19.000  2022-01-02T01:23:21.000  Expense   \n",
       "1       2022-01-02T01:28:21.000  2022-01-02T01:28:23.000  Expense   \n",
       "2       2022-01-02T01:39:42.000  2022-01-02T01:39:43.000  Expense   \n",
       "3       2022-01-02T01:42:44.000  2022-01-02T01:42:46.000  Expense   \n",
       "4       2022-01-02T01:56:14.000  2022-01-02T01:56:16.000  Expense   \n",
       "...                         ...                      ...      ...   \n",
       "108655  2022-09-01T03:22:55.000                      NaN  Expense   \n",
       "108656  2022-09-01T03:24:21.000                      NaN  Expense   \n",
       "108657  2022-09-01T03:31:46.000                      NaN  Expense   \n",
       "108658  2022-09-01T03:33:06.000                      NaN  Expense   \n",
       "108659  2022-09-01T03:34:20.000                      NaN  Expense   \n",
       "\n",
       "            woproject                                 recommendedspecies  \\\n",
       "0       Block Pruning                        Quercus palustris - pin oak   \n",
       "1       Block Pruning  Prunus serrulata 'Green leaf' - 'Green leaf' J...   \n",
       "2       Block Pruning                        Quercus palustris - pin oak   \n",
       "3       Block Pruning  Prunus serrulata 'Green leaf' - 'Green leaf' J...   \n",
       "4       Block Pruning  Prunus serrulata 'Green leaf' - 'Green leaf' J...   \n",
       "...               ...                                                ...   \n",
       "108655      P&D - EAB                 Fraxinus pennsylvanica - Green ash   \n",
       "108656      P&D - EAB                 Fraxinus pennsylvanica - Green ash   \n",
       "108657      P&D - EAB                 Fraxinus pennsylvanica - Green ash   \n",
       "108658      P&D - EAB                 Fraxinus pennsylvanica - Green ash   \n",
       "108659      P&D - EAB                 Fraxinus pennsylvanica - Green ash   \n",
       "\n",
       "         latitude   longitude census_tract      bin         bbl         nta  \\\n",
       "0       40.796925  -73.820672          973  4101797  4044720001  Whitestone   \n",
       "1       40.796909  -73.820726          973  4101823  4044720055  Whitestone   \n",
       "2       40.796652  -73.821539          973  4101774  4044710001  Whitestone   \n",
       "3       40.796652  -73.821539          973  4101774  4044710001  Whitestone   \n",
       "4       40.796606   -73.82168          973  4101795  4044710055  Whitestone   \n",
       "...           ...         ...          ...      ...         ...         ...   \n",
       "108655        NaN         NaN          NaN      NaN         NaN         NaN   \n",
       "108656        NaN         NaN          NaN      NaN         NaN         NaN   \n",
       "108657        NaN         NaN          NaN      NaN         NaN         NaN   \n",
       "108658        NaN         NaN          NaN      NaN         NaN         NaN   \n",
       "108659        NaN         NaN          NaN      NaN         NaN         NaN   \n",
       "\n",
       "                                                 location wopriority  \\\n",
       "0       {'latitude': '40.79702253856299', 'longitude':...        NaN   \n",
       "1       {'latitude': '40.79693332636892', 'longitude':...        NaN   \n",
       "2       {'latitude': '40.796750310523684', 'longitude'...        NaN   \n",
       "3       {'latitude': '40.796696006352505', 'longitude'...        NaN   \n",
       "4       {'latitude': '40.796613591893276', 'longitude'...        NaN   \n",
       "...                                                   ...        ...   \n",
       "108655  {'latitude': '40.6740001973745', 'longitude': ...        NaN   \n",
       "108656  {'latitude': '40.67392276235279', 'longitude':...        NaN   \n",
       "108657  {'latitude': '40.67387213014128', 'longitude':...        NaN   \n",
       "108658  {'latitude': '40.67379886350437', 'longitude':...        NaN   \n",
       "108659  {'latitude': '40.67375835838763', 'longitude':...        NaN   \n",
       "\n",
       "       actualfinishdate crewglobalid WOClosedDate cancelreason canceldate  \\\n",
       "0                   NaN          NaN          NaN          NaN        NaN   \n",
       "1                   NaN          NaN          NaN          NaN        NaN   \n",
       "2                   NaN          NaN          NaN          NaN        NaN   \n",
       "3                   NaN          NaN          NaN          NaN        NaN   \n",
       "4                   NaN          NaN          NaN          NaN        NaN   \n",
       "...                 ...          ...          ...          ...        ...   \n",
       "108655              NaN          NaN          NaN          NaN        NaN   \n",
       "108656              NaN          NaN          NaN          NaN        NaN   \n",
       "108657              NaN          NaN          NaN          NaN        NaN   \n",
       "108658              NaN          NaN          NaN          NaN        NaN   \n",
       "108659              NaN          NaN          NaN          NaN        NaN   \n",
       "\n",
       "                        parkname woequipment sidewalkdamage projstartdate  \\\n",
       "0                            NaN         NaN            NaN           NaN   \n",
       "1                            NaN         NaN            NaN           NaN   \n",
       "2                            NaN         NaN            NaN           NaN   \n",
       "3                            NaN         NaN            NaN           NaN   \n",
       "4                            NaN         NaN            NaN           NaN   \n",
       "...                          ...         ...            ...           ...   \n",
       "108655  Red Hook Recreation Area         NaN            NaN           NaN   \n",
       "108656  Red Hook Recreation Area         NaN            NaN           NaN   \n",
       "108657  Red Hook Recreation Area         NaN            NaN           NaN   \n",
       "108658  Red Hook Recreation Area         NaN            NaN           NaN   \n",
       "108659  Red Hook Recreation Area         NaN            NaN           NaN   \n",
       "\n",
       "       parkzone sanitationassigneddate  \n",
       "0           NaN                    NaN  \n",
       "1           NaN                    NaN  \n",
       "2           NaN                    NaN  \n",
       "3           NaN                    NaN  \n",
       "4           NaN                    NaN  \n",
       "...         ...                    ...  \n",
       "108655      NaN                    NaN  \n",
       "108656      NaN                    NaN  \n",
       "108657      NaN                    NaN  \n",
       "108658      NaN                    NaN  \n",
       "108659      NaN                    NaN  \n",
       "\n",
       "[108660 rows x 47 columns]"
      ]
     },
     "execution_count": 71,
     "metadata": {},
     "output_type": "execute_result"
    }
   ],
   "source": [
    "FWO"
   ]
  },
  {
   "cell_type": "code",
   "execution_count": 72,
   "metadata": {},
   "outputs": [
    {
     "data": {
      "text/plain": [
       "(108660, 47)"
      ]
     },
     "execution_count": 72,
     "metadata": {},
     "output_type": "execute_result"
    }
   ],
   "source": [
    "FWO.shape"
   ]
  },
  {
   "cell_type": "code",
   "execution_count": 73,
   "metadata": {},
   "outputs": [
    {
     "data": {
      "text/plain": [
       "(0, 0)"
      ]
     },
     "execution_count": 73,
     "metadata": {},
     "output_type": "execute_result"
    }
   ],
   "source": [
    "FWO.geometry.isna().sum(), FWO.location.isna().sum()"
   ]
  },
  {
   "cell_type": "code",
   "execution_count": 74,
   "metadata": {},
   "outputs": [
    {
     "data": {
      "text/plain": [
       "(14070, 14070)"
      ]
     },
     "execution_count": 74,
     "metadata": {},
     "output_type": "execute_result"
    }
   ],
   "source": [
    "FWO.longitude.isna().sum(), FWO.latitude.isna().sum()"
   ]
  },
  {
   "cell_type": "code",
   "execution_count": 75,
   "metadata": {
    "scrolled": true
   },
   "outputs": [],
   "source": [
    "# new lat/lon/geom\n",
    "FWO[\"longitude\"] = FWO.location.copy().apply(lambda x: float(x['longitude'])).copy()\n",
    "FWO[\"latitude\"] = FWO.location.copy().apply(lambda x: float(x['latitude'])).copy()\n",
    "\n",
    "geometry = [None if math.isnan(xy[0]) or math.isnan(xy[1]) else Point(xy) for xy in zip(FWO.longitude, FWO.latitude)]\n",
    "g_FWO = gpd.GeoDataFrame(FWO, crs=4326, geometry=geometry)"
   ]
  },
  {
   "cell_type": "code",
   "execution_count": 76,
   "metadata": {},
   "outputs": [
    {
     "data": {
      "text/plain": [
       "0        -73.820196\n",
       "1        -73.820475\n",
       "2        -73.821059\n",
       "3        -73.821229\n",
       "4        -73.821487\n",
       "            ...    \n",
       "108655   -74.004170\n",
       "108656   -74.004195\n",
       "108657   -74.004218\n",
       "108658   -74.004249\n",
       "108659   -74.004271\n",
       "Name: longitude, Length: 108660, dtype: float64"
      ]
     },
     "execution_count": 76,
     "metadata": {},
     "output_type": "execute_result"
    }
   ],
   "source": [
    "FWO.longitude"
   ]
  },
  {
   "cell_type": "code",
   "execution_count": 77,
   "metadata": {},
   "outputs": [
    {
     "data": {
      "text/plain": [
       "0"
      ]
     },
     "execution_count": 77,
     "metadata": {},
     "output_type": "execute_result"
    }
   ],
   "source": [
    "FWO.longitude.isna().sum()"
   ]
  },
  {
   "cell_type": "code",
   "execution_count": 78,
   "metadata": {},
   "outputs": [
    {
     "data": {
      "image/svg+xml": [
       "<svg xmlns=\"http://www.w3.org/2000/svg\" xmlns:xlink=\"http://www.w3.org/1999/xlink\" width=\"100.0\" height=\"100.0\" viewBox=\"-74.820196 39.797023 2.0 2.0\" preserveAspectRatio=\"xMinYMin meet\"><g transform=\"matrix(1,0,0,-1,0,81.594046)\"><circle cx=\"-73.820196\" cy=\"40.797023\" r=\"0.06\" stroke=\"#555555\" stroke-width=\"0.02\" fill=\"#66cc99\" opacity=\"0.6\" /></g></svg>"
      ],
      "text/plain": [
       "<shapely.geometry.point.Point at 0x7fa614834400>"
      ]
     },
     "execution_count": 78,
     "metadata": {},
     "output_type": "execute_result"
    }
   ],
   "source": [
    "g_FWO.geometry[0]"
   ]
  },
  {
   "cell_type": "code",
   "execution_count": 79,
   "metadata": {},
   "outputs": [
    {
     "data": {
      "text/plain": [
       "0         POINT (-73.82020 40.79702)\n",
       "1         POINT (-73.82048 40.79693)\n",
       "2         POINT (-73.82106 40.79675)\n",
       "3         POINT (-73.82123 40.79670)\n",
       "4         POINT (-73.82149 40.79661)\n",
       "                     ...            \n",
       "108655    POINT (-74.00417 40.67400)\n",
       "108656    POINT (-74.00419 40.67392)\n",
       "108657    POINT (-74.00422 40.67387)\n",
       "108658    POINT (-74.00425 40.67380)\n",
       "108659    POINT (-74.00427 40.67376)\n",
       "Name: geometry, Length: 108660, dtype: geometry"
      ]
     },
     "execution_count": 79,
     "metadata": {},
     "output_type": "execute_result"
    }
   ],
   "source": [
    "g_FWO.geometry"
   ]
  },
  {
   "cell_type": "code",
   "execution_count": 80,
   "metadata": {
    "scrolled": true
   },
   "outputs": [
    {
     "data": {
      "text/html": [
       "<div>\n",
       "<style scoped>\n",
       "    .dataframe tbody tr th:only-of-type {\n",
       "        vertical-align: middle;\n",
       "    }\n",
       "\n",
       "    .dataframe tbody tr th {\n",
       "        vertical-align: top;\n",
       "    }\n",
       "\n",
       "    .dataframe thead th {\n",
       "        text-align: right;\n",
       "    }\n",
       "</style>\n",
       "<table border=\"1\" class=\"dataframe\">\n",
       "  <thead>\n",
       "    <tr style=\"text-align: right;\">\n",
       "      <th></th>\n",
       "      <th>objectid</th>\n",
       "      <th>wotype</th>\n",
       "      <th>wostatus</th>\n",
       "      <th>boroughcode</th>\n",
       "      <th>communityboard</th>\n",
       "      <th>buildingnumber</th>\n",
       "      <th>streetname</th>\n",
       "      <th>locationdetails</th>\n",
       "      <th>wocontract</th>\n",
       "      <th>wocategory</th>\n",
       "      <th>wowoodremains</th>\n",
       "      <th>zipcode</th>\n",
       "      <th>citycouncil</th>\n",
       "      <th>statesenate</th>\n",
       "      <th>stateassembly</th>\n",
       "      <th>congressional</th>\n",
       "      <th>physicalid</th>\n",
       "      <th>crossstreet1</th>\n",
       "      <th>crossstreet2</th>\n",
       "      <th>InsGlobalID</th>\n",
       "      <th>WOGlobalID</th>\n",
       "      <th>wowireconflict</th>\n",
       "      <th>geometry</th>\n",
       "      <th>WOCreatedDate</th>\n",
       "      <th>WOUpdatedDate</th>\n",
       "      <th>woentity</th>\n",
       "      <th>woproject</th>\n",
       "      <th>recommendedspecies</th>\n",
       "      <th>latitude</th>\n",
       "      <th>longitude</th>\n",
       "      <th>census_tract</th>\n",
       "      <th>bin</th>\n",
       "      <th>bbl</th>\n",
       "      <th>nta</th>\n",
       "      <th>location</th>\n",
       "      <th>wopriority</th>\n",
       "      <th>actualfinishdate</th>\n",
       "      <th>crewglobalid</th>\n",
       "      <th>WOClosedDate</th>\n",
       "      <th>cancelreason</th>\n",
       "      <th>canceldate</th>\n",
       "      <th>parkname</th>\n",
       "      <th>woequipment</th>\n",
       "      <th>sidewalkdamage</th>\n",
       "      <th>projstartdate</th>\n",
       "      <th>parkzone</th>\n",
       "      <th>sanitationassigneddate</th>\n",
       "    </tr>\n",
       "  </thead>\n",
       "  <tbody>\n",
       "    <tr>\n",
       "      <th>6693</th>\n",
       "      <td>16217162</td>\n",
       "      <td>Block Pruning</td>\n",
       "      <td>Open</td>\n",
       "      <td>Queens</td>\n",
       "      <td>407</td>\n",
       "      <td>7-01</td>\n",
       "      <td>157 STREET</td>\n",
       "      <td>1F</td>\n",
       "      <td>BP-Q22</td>\n",
       "      <td>Block Pruning</td>\n",
       "      <td>No Wood Debris</td>\n",
       "      <td>11357</td>\n",
       "      <td>19</td>\n",
       "      <td>11</td>\n",
       "      <td>26</td>\n",
       "      <td>3</td>\n",
       "      <td>NaN</td>\n",
       "      <td>157 ST</td>\n",
       "      <td>POWELLS COVE BLVD</td>\n",
       "      <td>6A679C46-7E13-47A3-8D90-F52CB45A1410</td>\n",
       "      <td>386C0E03-BFD6-476F-970B-ED84AB504441</td>\n",
       "      <td>Electric Utility Open</td>\n",
       "      <td>POINT (-73.80410 40.79427)</td>\n",
       "      <td>2022-01-13T15:29:16.000</td>\n",
       "      <td>NaN</td>\n",
       "      <td>Expense</td>\n",
       "      <td>NaN</td>\n",
       "      <td>NaN</td>\n",
       "      <td>40.794267</td>\n",
       "      <td>-73.804098</td>\n",
       "      <td>991</td>\n",
       "      <td>4449850</td>\n",
       "      <td>4045540043</td>\n",
       "      <td>Whitestone</td>\n",
       "      <td>{'latitude': '40.79426740161889', 'longitude':...</td>\n",
       "      <td>NaN</td>\n",
       "      <td>NaN</td>\n",
       "      <td>NaN</td>\n",
       "      <td>NaN</td>\n",
       "      <td>NaN</td>\n",
       "      <td>NaN</td>\n",
       "      <td>NaN</td>\n",
       "      <td>NaN</td>\n",
       "      <td>NaN</td>\n",
       "      <td>NaN</td>\n",
       "      <td>NaN</td>\n",
       "      <td>NaN</td>\n",
       "    </tr>\n",
       "    <tr>\n",
       "      <th>84500</th>\n",
       "      <td>18149539</td>\n",
       "      <td>Pest &amp; Disease Treatment</td>\n",
       "      <td>Open</td>\n",
       "      <td>Queens</td>\n",
       "      <td>413</td>\n",
       "      <td>271-19</td>\n",
       "      <td>UNION TURNPIKE</td>\n",
       "      <td>2F</td>\n",
       "      <td>EAB-TRT-Q23</td>\n",
       "      <td>Misc Work</td>\n",
       "      <td>No Wood Debris</td>\n",
       "      <td>11040</td>\n",
       "      <td>23</td>\n",
       "      <td>11</td>\n",
       "      <td>26</td>\n",
       "      <td>3</td>\n",
       "      <td>10428</td>\n",
       "      <td>271 ST</td>\n",
       "      <td>UNION TP</td>\n",
       "      <td>B35EFF7E-647C-4515-AB15-1BBF20A82878</td>\n",
       "      <td>9923B039-79C5-4210-8962-24C6490BBA81</td>\n",
       "      <td>No Util Conflict Present</td>\n",
       "      <td>POINT (-73.70273 40.75203)</td>\n",
       "      <td>2022-06-23T15:52:48.000</td>\n",
       "      <td>NaN</td>\n",
       "      <td>Expense</td>\n",
       "      <td>P&amp;D - EAB</td>\n",
       "      <td>NaN</td>\n",
       "      <td>40.752035</td>\n",
       "      <td>-73.702725</td>\n",
       "      <td>155102</td>\n",
       "      <td>4174328</td>\n",
       "      <td>4085550072</td>\n",
       "      <td>Glen Oaks-Floral Park-New Hyde Park</td>\n",
       "      <td>{'latitude': '40.752034870597285', 'longitude'...</td>\n",
       "      <td>NaN</td>\n",
       "      <td>NaN</td>\n",
       "      <td>NaN</td>\n",
       "      <td>NaN</td>\n",
       "      <td>NaN</td>\n",
       "      <td>NaN</td>\n",
       "      <td>NaN</td>\n",
       "      <td>NaN</td>\n",
       "      <td>1</td>\n",
       "      <td>NaN</td>\n",
       "      <td>NaN</td>\n",
       "      <td>NaN</td>\n",
       "    </tr>\n",
       "    <tr>\n",
       "      <th>42228</th>\n",
       "      <td>17053650</td>\n",
       "      <td>Block Pruning</td>\n",
       "      <td>Open</td>\n",
       "      <td>Brooklyn</td>\n",
       "      <td>302</td>\n",
       "      <td>87</td>\n",
       "      <td>CARLTON AVENUE</td>\n",
       "      <td>1M</td>\n",
       "      <td>BP-B22</td>\n",
       "      <td>Block Pruning</td>\n",
       "      <td>No Wood Debris</td>\n",
       "      <td>11205</td>\n",
       "      <td>35</td>\n",
       "      <td>25</td>\n",
       "      <td>57</td>\n",
       "      <td>8</td>\n",
       "      <td>163264</td>\n",
       "      <td>ALLEY</td>\n",
       "      <td>CARLTON AV</td>\n",
       "      <td>F44BB46E-6399-41BA-8604-26CB46C3A9A0</td>\n",
       "      <td>D4A1AB7F-0E2C-45CC-9C75-665477EA72A0</td>\n",
       "      <td>No Util Conflict Present</td>\n",
       "      <td>POINT (-73.97331 40.69513)</td>\n",
       "      <td>2022-03-10T21:47:05.000</td>\n",
       "      <td>NaN</td>\n",
       "      <td>Expense</td>\n",
       "      <td>Block Pruning</td>\n",
       "      <td>NaN</td>\n",
       "      <td>40.695126</td>\n",
       "      <td>-73.973314</td>\n",
       "      <td>18501</td>\n",
       "      <td>3058048</td>\n",
       "      <td>3020440025</td>\n",
       "      <td>Fort Greene</td>\n",
       "      <td>{'latitude': '40.69512587311492', 'longitude':...</td>\n",
       "      <td>NaN</td>\n",
       "      <td>NaN</td>\n",
       "      <td>NaN</td>\n",
       "      <td>NaN</td>\n",
       "      <td>NaN</td>\n",
       "      <td>NaN</td>\n",
       "      <td>NaN</td>\n",
       "      <td>NaN</td>\n",
       "      <td>NaN</td>\n",
       "      <td>NaN</td>\n",
       "      <td>NaN</td>\n",
       "      <td>NaN</td>\n",
       "    </tr>\n",
       "  </tbody>\n",
       "</table>\n",
       "</div>"
      ],
      "text/plain": [
       "       objectid                    wotype wostatus boroughcode communityboard  \\\n",
       "6693   16217162             Block Pruning     Open      Queens            407   \n",
       "84500  18149539  Pest & Disease Treatment     Open      Queens            413   \n",
       "42228  17053650             Block Pruning     Open    Brooklyn            302   \n",
       "\n",
       "      buildingnumber      streetname locationdetails   wocontract  \\\n",
       "6693            7-01      157 STREET              1F       BP-Q22   \n",
       "84500         271-19  UNION TURNPIKE              2F  EAB-TRT-Q23   \n",
       "42228             87  CARLTON AVENUE              1M       BP-B22   \n",
       "\n",
       "          wocategory   wowoodremains zipcode citycouncil statesenate  \\\n",
       "6693   Block Pruning  No Wood Debris   11357          19          11   \n",
       "84500      Misc Work  No Wood Debris   11040          23          11   \n",
       "42228  Block Pruning  No Wood Debris   11205          35          25   \n",
       "\n",
       "      stateassembly congressional physicalid crossstreet1       crossstreet2  \\\n",
       "6693             26             3        NaN       157 ST  POWELLS COVE BLVD   \n",
       "84500            26             3      10428       271 ST           UNION TP   \n",
       "42228            57             8     163264        ALLEY         CARLTON AV   \n",
       "\n",
       "                                InsGlobalID  \\\n",
       "6693   6A679C46-7E13-47A3-8D90-F52CB45A1410   \n",
       "84500  B35EFF7E-647C-4515-AB15-1BBF20A82878   \n",
       "42228  F44BB46E-6399-41BA-8604-26CB46C3A9A0   \n",
       "\n",
       "                                 WOGlobalID            wowireconflict  \\\n",
       "6693   386C0E03-BFD6-476F-970B-ED84AB504441     Electric Utility Open   \n",
       "84500  9923B039-79C5-4210-8962-24C6490BBA81  No Util Conflict Present   \n",
       "42228  D4A1AB7F-0E2C-45CC-9C75-665477EA72A0  No Util Conflict Present   \n",
       "\n",
       "                         geometry            WOCreatedDate WOUpdatedDate  \\\n",
       "6693   POINT (-73.80410 40.79427)  2022-01-13T15:29:16.000           NaN   \n",
       "84500  POINT (-73.70273 40.75203)  2022-06-23T15:52:48.000           NaN   \n",
       "42228  POINT (-73.97331 40.69513)  2022-03-10T21:47:05.000           NaN   \n",
       "\n",
       "      woentity      woproject recommendedspecies   latitude  longitude  \\\n",
       "6693   Expense            NaN                NaN  40.794267 -73.804098   \n",
       "84500  Expense      P&D - EAB                NaN  40.752035 -73.702725   \n",
       "42228  Expense  Block Pruning                NaN  40.695126 -73.973314   \n",
       "\n",
       "      census_tract      bin         bbl                                  nta  \\\n",
       "6693           991  4449850  4045540043                           Whitestone   \n",
       "84500       155102  4174328  4085550072  Glen Oaks-Floral Park-New Hyde Park   \n",
       "42228        18501  3058048  3020440025                          Fort Greene   \n",
       "\n",
       "                                                location wopriority  \\\n",
       "6693   {'latitude': '40.79426740161889', 'longitude':...        NaN   \n",
       "84500  {'latitude': '40.752034870597285', 'longitude'...        NaN   \n",
       "42228  {'latitude': '40.69512587311492', 'longitude':...        NaN   \n",
       "\n",
       "      actualfinishdate crewglobalid WOClosedDate cancelreason canceldate  \\\n",
       "6693               NaN          NaN          NaN          NaN        NaN   \n",
       "84500              NaN          NaN          NaN          NaN        NaN   \n",
       "42228              NaN          NaN          NaN          NaN        NaN   \n",
       "\n",
       "      parkname woequipment sidewalkdamage projstartdate parkzone  \\\n",
       "6693       NaN         NaN            NaN           NaN      NaN   \n",
       "84500      NaN         NaN              1           NaN      NaN   \n",
       "42228      NaN         NaN            NaN           NaN      NaN   \n",
       "\n",
       "      sanitationassigneddate  \n",
       "6693                     NaN  \n",
       "84500                    NaN  \n",
       "42228                    NaN  "
      ]
     },
     "execution_count": 80,
     "metadata": {},
     "output_type": "execute_result"
    }
   ],
   "source": [
    "g_FWO.sample(3)"
   ]
  },
  {
   "cell_type": "code",
   "execution_count": 81,
   "metadata": {},
   "outputs": [
    {
     "data": {
      "text/plain": [
       "Index(['objectid', 'wotype', 'wostatus', 'boroughcode', 'communityboard',\n",
       "       'buildingnumber', 'streetname', 'locationdetails', 'wocontract',\n",
       "       'wocategory', 'wowoodremains', 'zipcode', 'citycouncil', 'statesenate',\n",
       "       'stateassembly', 'congressional', 'physicalid', 'crossstreet1',\n",
       "       'crossstreet2', 'InsGlobalID', 'WOGlobalID', 'wowireconflict',\n",
       "       'geometry', 'WOCreatedDate', 'WOUpdatedDate', 'woentity', 'woproject',\n",
       "       'recommendedspecies', 'latitude', 'longitude', 'census_tract', 'bin',\n",
       "       'bbl', 'nta', 'location', 'wopriority', 'actualfinishdate',\n",
       "       'crewglobalid', 'WOClosedDate', 'cancelreason', 'canceldate',\n",
       "       'parkname', 'woequipment', 'sidewalkdamage', 'projstartdate',\n",
       "       'parkzone', 'sanitationassigneddate'],\n",
       "      dtype='object')"
      ]
     },
     "execution_count": 81,
     "metadata": {},
     "output_type": "execute_result"
    }
   ],
   "source": [
    "g_FWO.columns"
   ]
  },
  {
   "cell_type": "code",
   "execution_count": 82,
   "metadata": {},
   "outputs": [],
   "source": [
    "# g_FWO.recommendedspecies.unique()"
   ]
  },
  {
   "cell_type": "code",
   "execution_count": 83,
   "metadata": {},
   "outputs": [],
   "source": [
    "# drop cols\n",
    "g_FWO = g_FWO.drop(['location', 'buildingnumber', 'streetname', 'locationdetails', \n",
    "                  'wocontract', 'wowoodremains', 'citycouncil', 'statesenate', 'stateassembly',\n",
    "                    'congressional', 'physicalid', 'crossstreet1', 'crossstreet2', 'wowireconflict',\n",
    "                   'crewglobalid', 'woequipment', 'sanitationassigneddate'],\n",
    "                axis = 1)"
   ]
  },
  {
   "cell_type": "code",
   "execution_count": 84,
   "metadata": {},
   "outputs": [],
   "source": [
    "# back to regular df\n",
    "merge_FWO = pd.DataFrame(g_FWO)"
   ]
  },
  {
   "cell_type": "code",
   "execution_count": 85,
   "metadata": {
    "id": "k0Pb5kVfUeHj"
   },
   "outputs": [
    {
     "data": {
      "text/plain": [
       "((108660, 47), (735889, 89))"
      ]
     },
     "execution_count": 85,
     "metadata": {},
     "output_type": "execute_result"
    }
   ],
   "source": [
    "# merge SRs+Insps w/ WOs\n",
    "mergeddf = pd.merge(mergeddf, merge_FWO, on='InsGlobalID', how='left', suffixes=('', '_WO'))\n",
    "FWO.shape, mergeddf.shape"
   ]
  },
  {
   "cell_type": "code",
   "execution_count": 86,
   "metadata": {},
   "outputs": [
    {
     "data": {
      "text/html": [
       "<div>\n",
       "<style scoped>\n",
       "    .dataframe tbody tr th:only-of-type {\n",
       "        vertical-align: middle;\n",
       "    }\n",
       "\n",
       "    .dataframe tbody tr th {\n",
       "        vertical-align: top;\n",
       "    }\n",
       "\n",
       "    .dataframe thead th {\n",
       "        text-align: right;\n",
       "    }\n",
       "</style>\n",
       "<table border=\"1\" class=\"dataframe\">\n",
       "  <thead>\n",
       "    <tr style=\"text-align: right;\">\n",
       "      <th></th>\n",
       "      <th>objectid_SR</th>\n",
       "      <th>srcategory</th>\n",
       "      <th>srtype</th>\n",
       "      <th>srpriority</th>\n",
       "      <th>srsource</th>\n",
       "      <th>srstatus</th>\n",
       "      <th>srresolution</th>\n",
       "      <th>boroughcode</th>\n",
       "      <th>communityboard</th>\n",
       "      <th>zipcode</th>\n",
       "      <th>citycouncil</th>\n",
       "      <th>statesenate</th>\n",
       "      <th>stateassembly</th>\n",
       "      <th>congressional</th>\n",
       "      <th>servicerequestparentglobalid</th>\n",
       "      <th>SRGlobalID</th>\n",
       "      <th>initiateddate</th>\n",
       "      <th>SRClosedDate</th>\n",
       "      <th>SRCreatedDate</th>\n",
       "      <th>SRUpdatedDate</th>\n",
       "      <th>descriptor1</th>\n",
       "      <th>complainttype</th>\n",
       "      <th>latitude_SR</th>\n",
       "      <th>longitude_SR</th>\n",
       "      <th>census_tract</th>\n",
       "      <th>bin</th>\n",
       "      <th>bbl</th>\n",
       "      <th>nta</th>\n",
       "      <th>complaintdetails</th>\n",
       "      <th>parkname</th>\n",
       "      <th>parkzone</th>\n",
       "      <th>GLOBAL_ID</th>\n",
       "      <th>geometry_SR</th>\n",
       "      <th>STATEFP</th>\n",
       "      <th>COUNTYFP</th>\n",
       "      <th>TRACTCE</th>\n",
       "      <th>AFFGEOID</th>\n",
       "      <th>GEOID</th>\n",
       "      <th>NAME</th>\n",
       "      <th>LSAD</th>\n",
       "      <th>ALAND</th>\n",
       "      <th>AWATER</th>\n",
       "      <th>objectid_I</th>\n",
       "      <th>inspectiontype</th>\n",
       "      <th>inspectionstatus</th>\n",
       "      <th>inspectiontpcondition</th>\n",
       "      <th>inspectiontpstructure</th>\n",
       "      <th>treepointdbh</th>\n",
       "      <th>treepointglobalid</th>\n",
       "      <th>plantingspaceglobalid</th>\n",
       "      <th>InsGlobalID</th>\n",
       "      <th>inspectiondate</th>\n",
       "      <th>InsClosedDate</th>\n",
       "      <th>InsCreatedDate</th>\n",
       "      <th>InsUpdatedDate</th>\n",
       "      <th>parentinspectionglobalid</th>\n",
       "      <th>reinspectiondate</th>\n",
       "      <th>longitude_I</th>\n",
       "      <th>latitude_I</th>\n",
       "      <th>geometry_I</th>\n",
       "      <th>objectid</th>\n",
       "      <th>wotype</th>\n",
       "      <th>wostatus</th>\n",
       "      <th>boroughcode_WO</th>\n",
       "      <th>communityboard_WO</th>\n",
       "      <th>wocategory</th>\n",
       "      <th>zipcode_WO</th>\n",
       "      <th>WOGlobalID</th>\n",
       "      <th>geometry</th>\n",
       "      <th>WOCreatedDate</th>\n",
       "      <th>WOUpdatedDate</th>\n",
       "      <th>woentity</th>\n",
       "      <th>woproject</th>\n",
       "      <th>recommendedspecies</th>\n",
       "      <th>latitude</th>\n",
       "      <th>longitude</th>\n",
       "      <th>census_tract_WO</th>\n",
       "      <th>bin_WO</th>\n",
       "      <th>bbl_WO</th>\n",
       "      <th>nta_WO</th>\n",
       "      <th>wopriority</th>\n",
       "      <th>actualfinishdate</th>\n",
       "      <th>WOClosedDate</th>\n",
       "      <th>cancelreason</th>\n",
       "      <th>canceldate</th>\n",
       "      <th>parkname_WO</th>\n",
       "      <th>sidewalkdamage</th>\n",
       "      <th>projstartdate</th>\n",
       "      <th>parkzone_WO</th>\n",
       "    </tr>\n",
       "  </thead>\n",
       "  <tbody>\n",
       "    <tr>\n",
       "      <th>629021</th>\n",
       "      <td>12085175</td>\n",
       "      <td>Root/Sewer/Sidewalk</td>\n",
       "      <td>Trees and Sidewalks</td>\n",
       "      <td>Routine</td>\n",
       "      <td>Department of Parks and Recreation - Public We...</td>\n",
       "      <td>Closed</td>\n",
       "      <td>T/S Inspected - Ineligible</td>\n",
       "      <td>Queens</td>\n",
       "      <td>411</td>\n",
       "      <td>11361</td>\n",
       "      <td>20</td>\n",
       "      <td>11</td>\n",
       "      <td>25</td>\n",
       "      <td>6</td>\n",
       "      <td>NaN</td>\n",
       "      <td>FCD51B7A-E35A-4ED0-9E97-43F354F5FE0B</td>\n",
       "      <td>07/17/2018 15:24:53</td>\n",
       "      <td>08/16/2018 15:29:00</td>\n",
       "      <td>07/17/2018 15:24:00</td>\n",
       "      <td>08/16/2018 15:29:00</td>\n",
       "      <td>Trees and Sidewalks Program</td>\n",
       "      <td>Root/Sewer/Sidewalk Condition</td>\n",
       "      <td>40.753388</td>\n",
       "      <td>-73.778260</td>\n",
       "      <td>145102</td>\n",
       "      <td>4451677</td>\n",
       "      <td>4073547501</td>\n",
       "      <td>Bayside-Bayside Hills</td>\n",
       "      <td>NaN</td>\n",
       "      <td>NaN</td>\n",
       "      <td>NaN</td>\n",
       "      <td>FCD51B7A-E35A-4ED0-9E97-43F354F5FE0B</td>\n",
       "      <td>POINT (-73.77826 40.75339)</td>\n",
       "      <td>36</td>\n",
       "      <td>081</td>\n",
       "      <td>145102</td>\n",
       "      <td>1400000US36081145102</td>\n",
       "      <td>36081145102</td>\n",
       "      <td>1451.02</td>\n",
       "      <td>CT</td>\n",
       "      <td>343669.0</td>\n",
       "      <td>0.0</td>\n",
       "      <td>NaN</td>\n",
       "      <td>NaN</td>\n",
       "      <td>NaN</td>\n",
       "      <td>NaN</td>\n",
       "      <td>NaN</td>\n",
       "      <td>NaN</td>\n",
       "      <td>NaN</td>\n",
       "      <td>NaN</td>\n",
       "      <td>0</td>\n",
       "      <td>NaN</td>\n",
       "      <td>NaN</td>\n",
       "      <td>NaN</td>\n",
       "      <td>NaN</td>\n",
       "      <td>NaN</td>\n",
       "      <td>NaN</td>\n",
       "      <td>NaN</td>\n",
       "      <td>NaN</td>\n",
       "      <td>None</td>\n",
       "      <td>NaN</td>\n",
       "      <td>NaN</td>\n",
       "      <td>NaN</td>\n",
       "      <td>NaN</td>\n",
       "      <td>NaN</td>\n",
       "      <td>NaN</td>\n",
       "      <td>NaN</td>\n",
       "      <td>NaN</td>\n",
       "      <td>None</td>\n",
       "      <td>NaN</td>\n",
       "      <td>NaN</td>\n",
       "      <td>NaN</td>\n",
       "      <td>NaN</td>\n",
       "      <td>NaN</td>\n",
       "      <td>NaN</td>\n",
       "      <td>NaN</td>\n",
       "      <td>NaN</td>\n",
       "      <td>NaN</td>\n",
       "      <td>NaN</td>\n",
       "      <td>NaN</td>\n",
       "      <td>NaN</td>\n",
       "      <td>NaN</td>\n",
       "      <td>NaN</td>\n",
       "      <td>NaN</td>\n",
       "      <td>NaN</td>\n",
       "      <td>NaN</td>\n",
       "      <td>NaN</td>\n",
       "      <td>NaN</td>\n",
       "      <td>NaN</td>\n",
       "    </tr>\n",
       "    <tr>\n",
       "      <th>139871</th>\n",
       "      <td>23483139</td>\n",
       "      <td>Hazard</td>\n",
       "      <td>Tree Uprooted</td>\n",
       "      <td>Routine</td>\n",
       "      <td>Department of Parks and Recreation - Public We...</td>\n",
       "      <td>Closed</td>\n",
       "      <td>No Action - Insufficient Info</td>\n",
       "      <td>Brooklyn</td>\n",
       "      <td>301</td>\n",
       "      <td>11222</td>\n",
       "      <td>33</td>\n",
       "      <td>17</td>\n",
       "      <td>50</td>\n",
       "      <td>12</td>\n",
       "      <td>NaN</td>\n",
       "      <td>4B02E600-D0DA-422A-8EDF-49BA1E0F1E2B</td>\n",
       "      <td>05/03/2022 13:18:21</td>\n",
       "      <td>05/04/2022 13:27:00</td>\n",
       "      <td>05/03/2022 13:18:00</td>\n",
       "      <td>05/04/2022 13:27:00</td>\n",
       "      <td>Tree Leaning/Uprooted</td>\n",
       "      <td>Damaged Tree</td>\n",
       "      <td>40.732072</td>\n",
       "      <td>-73.957174</td>\n",
       "      <td>565</td>\n",
       "      <td>3064408</td>\n",
       "      <td>3025400001</td>\n",
       "      <td>Greenpoint</td>\n",
       "      <td>() There is a problem with a defective tree we...</td>\n",
       "      <td>NaN</td>\n",
       "      <td>NaN</td>\n",
       "      <td>4B02E600-D0DA-422A-8EDF-49BA1E0F1E2B</td>\n",
       "      <td>POINT (-73.95717 40.73207)</td>\n",
       "      <td>36</td>\n",
       "      <td>047</td>\n",
       "      <td>056500</td>\n",
       "      <td>1400000US36047056500</td>\n",
       "      <td>36047056500</td>\n",
       "      <td>565</td>\n",
       "      <td>CT</td>\n",
       "      <td>237963.0</td>\n",
       "      <td>0.0</td>\n",
       "      <td>NaN</td>\n",
       "      <td>NaN</td>\n",
       "      <td>NaN</td>\n",
       "      <td>NaN</td>\n",
       "      <td>NaN</td>\n",
       "      <td>NaN</td>\n",
       "      <td>NaN</td>\n",
       "      <td>NaN</td>\n",
       "      <td>0</td>\n",
       "      <td>NaN</td>\n",
       "      <td>NaN</td>\n",
       "      <td>NaN</td>\n",
       "      <td>NaN</td>\n",
       "      <td>NaN</td>\n",
       "      <td>NaN</td>\n",
       "      <td>NaN</td>\n",
       "      <td>NaN</td>\n",
       "      <td>None</td>\n",
       "      <td>NaN</td>\n",
       "      <td>NaN</td>\n",
       "      <td>NaN</td>\n",
       "      <td>NaN</td>\n",
       "      <td>NaN</td>\n",
       "      <td>NaN</td>\n",
       "      <td>NaN</td>\n",
       "      <td>NaN</td>\n",
       "      <td>None</td>\n",
       "      <td>NaN</td>\n",
       "      <td>NaN</td>\n",
       "      <td>NaN</td>\n",
       "      <td>NaN</td>\n",
       "      <td>NaN</td>\n",
       "      <td>NaN</td>\n",
       "      <td>NaN</td>\n",
       "      <td>NaN</td>\n",
       "      <td>NaN</td>\n",
       "      <td>NaN</td>\n",
       "      <td>NaN</td>\n",
       "      <td>NaN</td>\n",
       "      <td>NaN</td>\n",
       "      <td>NaN</td>\n",
       "      <td>NaN</td>\n",
       "      <td>NaN</td>\n",
       "      <td>NaN</td>\n",
       "      <td>NaN</td>\n",
       "      <td>NaN</td>\n",
       "      <td>NaN</td>\n",
       "    </tr>\n",
       "    <tr>\n",
       "      <th>342555</th>\n",
       "      <td>21900560</td>\n",
       "      <td>Hazard</td>\n",
       "      <td>Hanging Limb from Wires</td>\n",
       "      <td>Routine</td>\n",
       "      <td>3-1-1 Call Center</td>\n",
       "      <td>Closed</td>\n",
       "      <td>No Action - Jurisdiction</td>\n",
       "      <td>Staten Island</td>\n",
       "      <td>502</td>\n",
       "      <td>10306</td>\n",
       "      <td>50</td>\n",
       "      <td>24</td>\n",
       "      <td>64</td>\n",
       "      <td>11</td>\n",
       "      <td>8D172BAD-57C2-4D7B-B16F-E2E1877DBFEB</td>\n",
       "      <td>99A9BAF3-ECA6-4DA8-BECD-B7117F828138</td>\n",
       "      <td>09/14/2021 17:01:26</td>\n",
       "      <td>09/24/2021 13:20:58</td>\n",
       "      <td>09/14/2021 17:02:30</td>\n",
       "      <td>09/24/2021 13:20:58</td>\n",
       "      <td>Branch Cracked and Will Fall</td>\n",
       "      <td>Damaged Tree</td>\n",
       "      <td>40.574519</td>\n",
       "      <td>-74.109412</td>\n",
       "      <td>122</td>\n",
       "      <td>5052620</td>\n",
       "      <td>5036380001</td>\n",
       "      <td>New Dorp-Midland Beach</td>\n",
       "      <td>Side of property above garage in tree branch /...</td>\n",
       "      <td>NaN</td>\n",
       "      <td>NaN</td>\n",
       "      <td>8D172BAD-57C2-4D7B-B16F-E2E1877DBFEB</td>\n",
       "      <td>POINT (-74.10941 40.57452)</td>\n",
       "      <td>36</td>\n",
       "      <td>085</td>\n",
       "      <td>012200</td>\n",
       "      <td>1400000US36085012200</td>\n",
       "      <td>36085012200</td>\n",
       "      <td>122</td>\n",
       "      <td>CT</td>\n",
       "      <td>827812.0</td>\n",
       "      <td>0.0</td>\n",
       "      <td>NaN</td>\n",
       "      <td>NaN</td>\n",
       "      <td>NaN</td>\n",
       "      <td>NaN</td>\n",
       "      <td>NaN</td>\n",
       "      <td>NaN</td>\n",
       "      <td>NaN</td>\n",
       "      <td>NaN</td>\n",
       "      <td>0</td>\n",
       "      <td>NaN</td>\n",
       "      <td>NaN</td>\n",
       "      <td>NaN</td>\n",
       "      <td>NaN</td>\n",
       "      <td>NaN</td>\n",
       "      <td>NaN</td>\n",
       "      <td>NaN</td>\n",
       "      <td>NaN</td>\n",
       "      <td>None</td>\n",
       "      <td>NaN</td>\n",
       "      <td>NaN</td>\n",
       "      <td>NaN</td>\n",
       "      <td>NaN</td>\n",
       "      <td>NaN</td>\n",
       "      <td>NaN</td>\n",
       "      <td>NaN</td>\n",
       "      <td>NaN</td>\n",
       "      <td>None</td>\n",
       "      <td>NaN</td>\n",
       "      <td>NaN</td>\n",
       "      <td>NaN</td>\n",
       "      <td>NaN</td>\n",
       "      <td>NaN</td>\n",
       "      <td>NaN</td>\n",
       "      <td>NaN</td>\n",
       "      <td>NaN</td>\n",
       "      <td>NaN</td>\n",
       "      <td>NaN</td>\n",
       "      <td>NaN</td>\n",
       "      <td>NaN</td>\n",
       "      <td>NaN</td>\n",
       "      <td>NaN</td>\n",
       "      <td>NaN</td>\n",
       "      <td>NaN</td>\n",
       "      <td>NaN</td>\n",
       "      <td>NaN</td>\n",
       "      <td>NaN</td>\n",
       "      <td>NaN</td>\n",
       "    </tr>\n",
       "  </tbody>\n",
       "</table>\n",
       "</div>"
      ],
      "text/plain": [
       "       objectid_SR           srcategory                   srtype srpriority  \\\n",
       "629021    12085175  Root/Sewer/Sidewalk      Trees and Sidewalks    Routine   \n",
       "139871    23483139               Hazard            Tree Uprooted    Routine   \n",
       "342555    21900560               Hazard  Hanging Limb from Wires    Routine   \n",
       "\n",
       "                                                 srsource srstatus  \\\n",
       "629021  Department of Parks and Recreation - Public We...   Closed   \n",
       "139871  Department of Parks and Recreation - Public We...   Closed   \n",
       "342555                                  3-1-1 Call Center   Closed   \n",
       "\n",
       "                         srresolution    boroughcode communityboard zipcode  \\\n",
       "629021     T/S Inspected - Ineligible         Queens            411   11361   \n",
       "139871  No Action - Insufficient Info       Brooklyn            301   11222   \n",
       "342555       No Action - Jurisdiction  Staten Island            502   10306   \n",
       "\n",
       "       citycouncil statesenate stateassembly congressional  \\\n",
       "629021          20          11            25             6   \n",
       "139871          33          17            50            12   \n",
       "342555          50          24            64            11   \n",
       "\n",
       "                servicerequestparentglobalid  \\\n",
       "629021                                   NaN   \n",
       "139871                                   NaN   \n",
       "342555  8D172BAD-57C2-4D7B-B16F-E2E1877DBFEB   \n",
       "\n",
       "                                  SRGlobalID        initiateddate  \\\n",
       "629021  FCD51B7A-E35A-4ED0-9E97-43F354F5FE0B  07/17/2018 15:24:53   \n",
       "139871  4B02E600-D0DA-422A-8EDF-49BA1E0F1E2B  05/03/2022 13:18:21   \n",
       "342555  99A9BAF3-ECA6-4DA8-BECD-B7117F828138  09/14/2021 17:01:26   \n",
       "\n",
       "               SRClosedDate        SRCreatedDate        SRUpdatedDate  \\\n",
       "629021  08/16/2018 15:29:00  07/17/2018 15:24:00  08/16/2018 15:29:00   \n",
       "139871  05/04/2022 13:27:00  05/03/2022 13:18:00  05/04/2022 13:27:00   \n",
       "342555  09/24/2021 13:20:58  09/14/2021 17:02:30  09/24/2021 13:20:58   \n",
       "\n",
       "                         descriptor1                  complainttype  \\\n",
       "629021   Trees and Sidewalks Program  Root/Sewer/Sidewalk Condition   \n",
       "139871         Tree Leaning/Uprooted                   Damaged Tree   \n",
       "342555  Branch Cracked and Will Fall                   Damaged Tree   \n",
       "\n",
       "        latitude_SR  longitude_SR census_tract      bin         bbl  \\\n",
       "629021    40.753388    -73.778260       145102  4451677  4073547501   \n",
       "139871    40.732072    -73.957174          565  3064408  3025400001   \n",
       "342555    40.574519    -74.109412          122  5052620  5036380001   \n",
       "\n",
       "                           nta  \\\n",
       "629021   Bayside-Bayside Hills   \n",
       "139871              Greenpoint   \n",
       "342555  New Dorp-Midland Beach   \n",
       "\n",
       "                                         complaintdetails parkname parkzone  \\\n",
       "629021                                                NaN      NaN      NaN   \n",
       "139871  () There is a problem with a defective tree we...      NaN      NaN   \n",
       "342555  Side of property above garage in tree branch /...      NaN      NaN   \n",
       "\n",
       "                                   GLOBAL_ID                 geometry_SR  \\\n",
       "629021  FCD51B7A-E35A-4ED0-9E97-43F354F5FE0B  POINT (-73.77826 40.75339)   \n",
       "139871  4B02E600-D0DA-422A-8EDF-49BA1E0F1E2B  POINT (-73.95717 40.73207)   \n",
       "342555  8D172BAD-57C2-4D7B-B16F-E2E1877DBFEB  POINT (-74.10941 40.57452)   \n",
       "\n",
       "       STATEFP COUNTYFP TRACTCE              AFFGEOID        GEOID     NAME  \\\n",
       "629021      36      081  145102  1400000US36081145102  36081145102  1451.02   \n",
       "139871      36      047  056500  1400000US36047056500  36047056500      565   \n",
       "342555      36      085  012200  1400000US36085012200  36085012200      122   \n",
       "\n",
       "       LSAD     ALAND  AWATER objectid_I inspectiontype inspectionstatus  \\\n",
       "629021   CT  343669.0     0.0        NaN            NaN              NaN   \n",
       "139871   CT  237963.0     0.0        NaN            NaN              NaN   \n",
       "342555   CT  827812.0     0.0        NaN            NaN              NaN   \n",
       "\n",
       "       inspectiontpcondition inspectiontpstructure treepointdbh  \\\n",
       "629021                   NaN                   NaN          NaN   \n",
       "139871                   NaN                   NaN          NaN   \n",
       "342555                   NaN                   NaN          NaN   \n",
       "\n",
       "       treepointglobalid plantingspaceglobalid InsGlobalID inspectiondate  \\\n",
       "629021               NaN                   NaN           0            NaN   \n",
       "139871               NaN                   NaN           0            NaN   \n",
       "342555               NaN                   NaN           0            NaN   \n",
       "\n",
       "       InsClosedDate InsCreatedDate InsUpdatedDate parentinspectionglobalid  \\\n",
       "629021           NaN            NaN            NaN                      NaN   \n",
       "139871           NaN            NaN            NaN                      NaN   \n",
       "342555           NaN            NaN            NaN                      NaN   \n",
       "\n",
       "       reinspectiondate  longitude_I  latitude_I geometry_I objectid wotype  \\\n",
       "629021              NaN          NaN         NaN       None      NaN    NaN   \n",
       "139871              NaN          NaN         NaN       None      NaN    NaN   \n",
       "342555              NaN          NaN         NaN       None      NaN    NaN   \n",
       "\n",
       "       wostatus boroughcode_WO communityboard_WO wocategory zipcode_WO  \\\n",
       "629021      NaN            NaN               NaN        NaN        NaN   \n",
       "139871      NaN            NaN               NaN        NaN        NaN   \n",
       "342555      NaN            NaN               NaN        NaN        NaN   \n",
       "\n",
       "       WOGlobalID geometry WOCreatedDate WOUpdatedDate woentity woproject  \\\n",
       "629021        NaN     None           NaN           NaN      NaN       NaN   \n",
       "139871        NaN     None           NaN           NaN      NaN       NaN   \n",
       "342555        NaN     None           NaN           NaN      NaN       NaN   \n",
       "\n",
       "       recommendedspecies  latitude  longitude census_tract_WO bin_WO bbl_WO  \\\n",
       "629021                NaN       NaN        NaN             NaN    NaN    NaN   \n",
       "139871                NaN       NaN        NaN             NaN    NaN    NaN   \n",
       "342555                NaN       NaN        NaN             NaN    NaN    NaN   \n",
       "\n",
       "       nta_WO wopriority actualfinishdate WOClosedDate cancelreason  \\\n",
       "629021    NaN        NaN              NaN          NaN          NaN   \n",
       "139871    NaN        NaN              NaN          NaN          NaN   \n",
       "342555    NaN        NaN              NaN          NaN          NaN   \n",
       "\n",
       "       canceldate parkname_WO sidewalkdamage projstartdate parkzone_WO  \n",
       "629021        NaN         NaN            NaN           NaN         NaN  \n",
       "139871        NaN         NaN            NaN           NaN         NaN  \n",
       "342555        NaN         NaN            NaN           NaN         NaN  "
      ]
     },
     "execution_count": 86,
     "metadata": {},
     "output_type": "execute_result"
    }
   ],
   "source": [
    "mergeddf.sample(3)"
   ]
  },
  {
   "cell_type": "code",
   "execution_count": 87,
   "metadata": {},
   "outputs": [
    {
     "data": {
      "text/plain": [
       "array(['objectid_SR', 'srcategory', 'srtype', 'srpriority', 'srsource',\n",
       "       'srstatus', 'srresolution', 'boroughcode', 'communityboard',\n",
       "       'zipcode', 'citycouncil', 'statesenate', 'stateassembly',\n",
       "       'congressional', 'servicerequestparentglobalid', 'SRGlobalID',\n",
       "       'initiateddate', 'SRClosedDate', 'SRCreatedDate', 'SRUpdatedDate',\n",
       "       'descriptor1', 'complainttype', 'latitude_SR', 'longitude_SR',\n",
       "       'census_tract', 'bin', 'bbl', 'nta', 'complaintdetails',\n",
       "       'parkname', 'parkzone', 'GLOBAL_ID', 'geometry_SR', 'STATEFP',\n",
       "       'COUNTYFP', 'TRACTCE', 'AFFGEOID', 'GEOID', 'NAME', 'LSAD',\n",
       "       'ALAND', 'AWATER', 'objectid_I', 'inspectiontype',\n",
       "       'inspectionstatus', 'inspectiontpcondition',\n",
       "       'inspectiontpstructure', 'treepointdbh', 'treepointglobalid',\n",
       "       'plantingspaceglobalid', 'InsGlobalID', 'inspectiondate',\n",
       "       'InsClosedDate', 'InsCreatedDate', 'InsUpdatedDate',\n",
       "       'parentinspectionglobalid', 'reinspectiondate', 'longitude_I',\n",
       "       'latitude_I', 'geometry_I', 'objectid', 'wotype', 'wostatus',\n",
       "       'boroughcode_WO', 'communityboard_WO', 'wocategory', 'zipcode_WO',\n",
       "       'WOGlobalID', 'geometry', 'WOCreatedDate', 'WOUpdatedDate',\n",
       "       'woentity', 'woproject', 'recommendedspecies', 'latitude',\n",
       "       'longitude', 'census_tract_WO', 'bin_WO', 'bbl_WO', 'nta_WO',\n",
       "       'wopriority', 'actualfinishdate', 'WOClosedDate', 'cancelreason',\n",
       "       'canceldate', 'parkname_WO', 'sidewalkdamage', 'projstartdate',\n",
       "       'parkzone_WO'], dtype=object)"
      ]
     },
     "execution_count": 87,
     "metadata": {},
     "output_type": "execute_result"
    }
   ],
   "source": [
    "mergeddf.columns.values"
   ]
  },
  {
   "cell_type": "code",
   "execution_count": 88,
   "metadata": {
    "scrolled": true
   },
   "outputs": [
    {
     "data": {
      "text/plain": [
       "(716044, 734186)"
      ]
     },
     "execution_count": 88,
     "metadata": {},
     "output_type": "execute_result"
    }
   ],
   "source": [
    "mergeddf.parkname.isna().sum(), mergeddf.parkname_WO.isna().sum()"
   ]
  },
  {
   "cell_type": "code",
   "execution_count": 89,
   "metadata": {
    "scrolled": true
   },
   "outputs": [
    {
     "data": {
      "text/plain": [
       "(234, 722995)"
      ]
     },
     "execution_count": 89,
     "metadata": {},
     "output_type": "execute_result"
    }
   ],
   "source": [
    "mergeddf.boroughcode.isna().sum(), mergeddf.boroughcode_WO.isna().sum()"
   ]
  },
  {
   "cell_type": "code",
   "execution_count": 90,
   "metadata": {},
   "outputs": [
    {
     "data": {
      "text/html": [
       "<div>\n",
       "<style scoped>\n",
       "    .dataframe tbody tr th:only-of-type {\n",
       "        vertical-align: middle;\n",
       "    }\n",
       "\n",
       "    .dataframe tbody tr th {\n",
       "        vertical-align: top;\n",
       "    }\n",
       "\n",
       "    .dataframe thead th {\n",
       "        text-align: right;\n",
       "    }\n",
       "</style>\n",
       "<table border=\"1\" class=\"dataframe\">\n",
       "  <thead>\n",
       "    <tr style=\"text-align: right;\">\n",
       "      <th></th>\n",
       "      <th>boroughcode</th>\n",
       "      <th>boroughcode_WO</th>\n",
       "    </tr>\n",
       "  </thead>\n",
       "  <tbody>\n",
       "    <tr>\n",
       "      <th>47</th>\n",
       "      <td>Bronx</td>\n",
       "      <td>Bronx</td>\n",
       "    </tr>\n",
       "    <tr>\n",
       "      <th>62</th>\n",
       "      <td>Queens</td>\n",
       "      <td>Queens</td>\n",
       "    </tr>\n",
       "    <tr>\n",
       "      <th>63</th>\n",
       "      <td>Queens</td>\n",
       "      <td>Queens</td>\n",
       "    </tr>\n",
       "    <tr>\n",
       "      <th>179</th>\n",
       "      <td>Brooklyn</td>\n",
       "      <td>Brooklyn</td>\n",
       "    </tr>\n",
       "    <tr>\n",
       "      <th>314</th>\n",
       "      <td>Queens</td>\n",
       "      <td>Queens</td>\n",
       "    </tr>\n",
       "    <tr>\n",
       "      <th>...</th>\n",
       "      <td>...</td>\n",
       "      <td>...</td>\n",
       "    </tr>\n",
       "    <tr>\n",
       "      <th>637559</th>\n",
       "      <td>Brooklyn</td>\n",
       "      <td>Brooklyn</td>\n",
       "    </tr>\n",
       "    <tr>\n",
       "      <th>678980</th>\n",
       "      <td>Brooklyn</td>\n",
       "      <td>Brooklyn</td>\n",
       "    </tr>\n",
       "    <tr>\n",
       "      <th>690836</th>\n",
       "      <td>Queens</td>\n",
       "      <td>Queens</td>\n",
       "    </tr>\n",
       "    <tr>\n",
       "      <th>712244</th>\n",
       "      <td>Staten Island</td>\n",
       "      <td>Staten Island</td>\n",
       "    </tr>\n",
       "    <tr>\n",
       "      <th>723992</th>\n",
       "      <td>Brooklyn</td>\n",
       "      <td>Brooklyn</td>\n",
       "    </tr>\n",
       "  </tbody>\n",
       "</table>\n",
       "<p>12885 rows × 2 columns</p>\n",
       "</div>"
      ],
      "text/plain": [
       "          boroughcode boroughcode_WO\n",
       "47              Bronx          Bronx\n",
       "62             Queens         Queens\n",
       "63             Queens         Queens\n",
       "179          Brooklyn       Brooklyn\n",
       "314            Queens         Queens\n",
       "...               ...            ...\n",
       "637559       Brooklyn       Brooklyn\n",
       "678980       Brooklyn       Brooklyn\n",
       "690836         Queens         Queens\n",
       "712244  Staten Island  Staten Island\n",
       "723992       Brooklyn       Brooklyn\n",
       "\n",
       "[12885 rows x 2 columns]"
      ]
     },
     "execution_count": 90,
     "metadata": {},
     "output_type": "execute_result"
    }
   ],
   "source": [
    "mergeddf[['boroughcode', 'boroughcode_WO']].loc[mergeddf['boroughcode'].notnull() & mergeddf['boroughcode_WO'].notnull()]"
   ]
  },
  {
   "cell_type": "code",
   "execution_count": 91,
   "metadata": {},
   "outputs": [
    {
     "data": {
      "text/html": [
       "<div>\n",
       "<style scoped>\n",
       "    .dataframe tbody tr th:only-of-type {\n",
       "        vertical-align: middle;\n",
       "    }\n",
       "\n",
       "    .dataframe tbody tr th {\n",
       "        vertical-align: top;\n",
       "    }\n",
       "\n",
       "    .dataframe thead th {\n",
       "        text-align: right;\n",
       "    }\n",
       "</style>\n",
       "<table border=\"1\" class=\"dataframe\">\n",
       "  <thead>\n",
       "    <tr style=\"text-align: right;\">\n",
       "      <th></th>\n",
       "      <th>communityboard</th>\n",
       "      <th>communityboard_WO</th>\n",
       "    </tr>\n",
       "  </thead>\n",
       "  <tbody>\n",
       "    <tr>\n",
       "      <th>47</th>\n",
       "      <td>212</td>\n",
       "      <td>212</td>\n",
       "    </tr>\n",
       "    <tr>\n",
       "      <th>62</th>\n",
       "      <td>405</td>\n",
       "      <td>405</td>\n",
       "    </tr>\n",
       "    <tr>\n",
       "      <th>63</th>\n",
       "      <td>405</td>\n",
       "      <td>405</td>\n",
       "    </tr>\n",
       "    <tr>\n",
       "      <th>179</th>\n",
       "      <td>310</td>\n",
       "      <td>310</td>\n",
       "    </tr>\n",
       "    <tr>\n",
       "      <th>314</th>\n",
       "      <td>405</td>\n",
       "      <td>405</td>\n",
       "    </tr>\n",
       "    <tr>\n",
       "      <th>...</th>\n",
       "      <td>...</td>\n",
       "      <td>...</td>\n",
       "    </tr>\n",
       "    <tr>\n",
       "      <th>637559</th>\n",
       "      <td>309</td>\n",
       "      <td>309</td>\n",
       "    </tr>\n",
       "    <tr>\n",
       "      <th>678980</th>\n",
       "      <td>314</td>\n",
       "      <td>314</td>\n",
       "    </tr>\n",
       "    <tr>\n",
       "      <th>690836</th>\n",
       "      <td>413</td>\n",
       "      <td>413</td>\n",
       "    </tr>\n",
       "    <tr>\n",
       "      <th>712244</th>\n",
       "      <td>503</td>\n",
       "      <td>503</td>\n",
       "    </tr>\n",
       "    <tr>\n",
       "      <th>723992</th>\n",
       "      <td>302</td>\n",
       "      <td>302</td>\n",
       "    </tr>\n",
       "  </tbody>\n",
       "</table>\n",
       "<p>12884 rows × 2 columns</p>\n",
       "</div>"
      ],
      "text/plain": [
       "       communityboard communityboard_WO\n",
       "47                212               212\n",
       "62                405               405\n",
       "63                405               405\n",
       "179               310               310\n",
       "314               405               405\n",
       "...               ...               ...\n",
       "637559            309               309\n",
       "678980            314               314\n",
       "690836            413               413\n",
       "712244            503               503\n",
       "723992            302               302\n",
       "\n",
       "[12884 rows x 2 columns]"
      ]
     },
     "execution_count": 91,
     "metadata": {},
     "output_type": "execute_result"
    }
   ],
   "source": [
    "mergeddf[['communityboard', 'communityboard_WO']].loc[mergeddf['communityboard'].notnull() & mergeddf['communityboard_WO'].notnull()]"
   ]
  },
  {
   "cell_type": "code",
   "execution_count": 92,
   "metadata": {},
   "outputs": [],
   "source": [
    "# drop cols\n",
    "mergeddf = mergeddf.drop([\"boroughcode_WO\", 'communityboard_WO', 'census_tract_WO', 'bin_WO', \n",
    "                          'bbl_WO', 'nta_WO', 'parkname_WO', 'parkzone_WO', 'inspectionstatus'], axis = 1)"
   ]
  },
  {
   "cell_type": "code",
   "execution_count": 93,
   "metadata": {},
   "outputs": [
    {
     "data": {
      "text/plain": [
       "array(['objectid_SR', 'srcategory', 'srtype', 'srpriority', 'srsource',\n",
       "       'srstatus', 'srresolution', 'boroughcode', 'communityboard',\n",
       "       'zipcode', 'citycouncil', 'statesenate', 'stateassembly',\n",
       "       'congressional', 'servicerequestparentglobalid', 'SRGlobalID',\n",
       "       'initiateddate', 'SRClosedDate', 'SRCreatedDate', 'SRUpdatedDate',\n",
       "       'descriptor1', 'complainttype', 'latitude_SR', 'longitude_SR',\n",
       "       'census_tract', 'bin', 'bbl', 'nta', 'complaintdetails',\n",
       "       'parkname', 'parkzone', 'GLOBAL_ID', 'geometry_SR', 'STATEFP',\n",
       "       'COUNTYFP', 'TRACTCE', 'AFFGEOID', 'GEOID', 'NAME', 'LSAD',\n",
       "       'ALAND', 'AWATER', 'objectid_I', 'inspectiontype',\n",
       "       'inspectiontpcondition', 'inspectiontpstructure', 'treepointdbh',\n",
       "       'treepointglobalid', 'plantingspaceglobalid', 'InsGlobalID',\n",
       "       'inspectiondate', 'InsClosedDate', 'InsCreatedDate',\n",
       "       'InsUpdatedDate', 'parentinspectionglobalid', 'reinspectiondate',\n",
       "       'longitude_I', 'latitude_I', 'geometry_I', 'objectid', 'wotype',\n",
       "       'wostatus', 'wocategory', 'zipcode_WO', 'WOGlobalID', 'geometry',\n",
       "       'WOCreatedDate', 'WOUpdatedDate', 'woentity', 'woproject',\n",
       "       'recommendedspecies', 'latitude', 'longitude', 'wopriority',\n",
       "       'actualfinishdate', 'WOClosedDate', 'cancelreason', 'canceldate',\n",
       "       'sidewalkdamage', 'projstartdate'], dtype=object)"
      ]
     },
     "execution_count": 93,
     "metadata": {},
     "output_type": "execute_result"
    }
   ],
   "source": [
    "mergeddf.columns.values"
   ]
  },
  {
   "cell_type": "markdown",
   "metadata": {},
   "source": [
    "## merge in Risk Assessments"
   ]
  },
  {
   "cell_type": "code",
   "execution_count": 94,
   "metadata": {},
   "outputs": [
    {
     "data": {
      "text/plain": [
       "Index(['objectid', 'radefect', 'radefectlocation', 'failure', 'impacttarget',\n",
       "       'consequence', 'riskrating', 'InsGlobalID', 'RAGlobalID',\n",
       "       'RACreatedDate', 'failureimpact', 'workorderglobalid'],\n",
       "      dtype='object')"
      ]
     },
     "execution_count": 94,
     "metadata": {},
     "output_type": "execute_result"
    }
   ],
   "source": [
    "FRA.columns"
   ]
  },
  {
   "cell_type": "code",
   "execution_count": 95,
   "metadata": {
    "id": "cBCi7-9uUhdx"
   },
   "outputs": [
    {
     "data": {
      "text/plain": [
       "((167475, 12), (740617, 91))"
      ]
     },
     "execution_count": 95,
     "metadata": {},
     "output_type": "execute_result"
    }
   ],
   "source": [
    "# merge SRs + Insps + WOs w/ Risk Assessmts\n",
    "mergeddf = pd.merge(mergeddf, FRA, on='InsGlobalID', how='left', suffixes=('', '_RA'))\n",
    "FRA.shape, mergeddf.shape"
   ]
  },
  {
   "cell_type": "markdown",
   "metadata": {},
   "source": [
    "## final dataset"
   ]
  },
  {
   "cell_type": "code",
   "execution_count": 96,
   "metadata": {},
   "outputs": [],
   "source": [
    "# drop cols with all null values, if any\n",
    "mergeddf = mergeddf.dropna(axis=1, how='all')"
   ]
  },
  {
   "cell_type": "code",
   "execution_count": 97,
   "metadata": {
    "id": "9tI9ZkB6XZGQ"
   },
   "outputs": [
    {
     "data": {
      "text/plain": [
       "array(['objectid_SR', 'srcategory', 'srtype', 'srpriority', 'srsource',\n",
       "       'srstatus', 'srresolution', 'boroughcode', 'communityboard',\n",
       "       'zipcode', 'citycouncil', 'statesenate', 'stateassembly',\n",
       "       'congressional', 'servicerequestparentglobalid', 'SRGlobalID',\n",
       "       'initiateddate', 'SRClosedDate', 'SRCreatedDate', 'SRUpdatedDate',\n",
       "       'descriptor1', 'complainttype', 'latitude_SR', 'longitude_SR',\n",
       "       'census_tract', 'bin', 'bbl', 'nta', 'complaintdetails',\n",
       "       'parkname', 'parkzone', 'GLOBAL_ID', 'geometry_SR', 'STATEFP',\n",
       "       'COUNTYFP', 'TRACTCE', 'AFFGEOID', 'GEOID', 'NAME', 'LSAD',\n",
       "       'ALAND', 'AWATER', 'objectid_I', 'inspectiontype',\n",
       "       'inspectiontpcondition', 'inspectiontpstructure', 'treepointdbh',\n",
       "       'treepointglobalid', 'plantingspaceglobalid', 'InsGlobalID',\n",
       "       'inspectiondate', 'InsClosedDate', 'InsCreatedDate',\n",
       "       'InsUpdatedDate', 'parentinspectionglobalid', 'reinspectiondate',\n",
       "       'longitude_I', 'latitude_I', 'geometry_I', 'objectid', 'wotype',\n",
       "       'wostatus', 'wocategory', 'zipcode_WO', 'WOGlobalID', 'geometry',\n",
       "       'WOCreatedDate', 'WOUpdatedDate', 'woentity', 'woproject',\n",
       "       'recommendedspecies', 'latitude', 'longitude', 'wopriority',\n",
       "       'actualfinishdate', 'WOClosedDate', 'cancelreason', 'canceldate',\n",
       "       'sidewalkdamage', 'projstartdate', 'objectid_RA', 'radefect',\n",
       "       'radefectlocation', 'failure', 'impacttarget', 'consequence',\n",
       "       'riskrating', 'RAGlobalID', 'RACreatedDate', 'failureimpact',\n",
       "       'workorderglobalid'], dtype=object)"
      ]
     },
     "execution_count": 97,
     "metadata": {},
     "output_type": "execute_result"
    }
   ],
   "source": [
    "mergeddf.columns.values # what we're working with"
   ]
  },
  {
   "cell_type": "code",
   "execution_count": 98,
   "metadata": {},
   "outputs": [
    {
     "data": {
      "text/plain": [
       "(740617, 91)"
      ]
     },
     "execution_count": 98,
     "metadata": {},
     "output_type": "execute_result"
    }
   ],
   "source": [
    "mergeddf.shape"
   ]
  },
  {
   "cell_type": "code",
   "execution_count": 99,
   "metadata": {},
   "outputs": [
    {
     "data": {
      "text/html": [
       "<div>\n",
       "<style scoped>\n",
       "    .dataframe tbody tr th:only-of-type {\n",
       "        vertical-align: middle;\n",
       "    }\n",
       "\n",
       "    .dataframe tbody tr th {\n",
       "        vertical-align: top;\n",
       "    }\n",
       "\n",
       "    .dataframe thead th {\n",
       "        text-align: right;\n",
       "    }\n",
       "</style>\n",
       "<table border=\"1\" class=\"dataframe\">\n",
       "  <thead>\n",
       "    <tr style=\"text-align: right;\">\n",
       "      <th></th>\n",
       "      <th>objectid_SR</th>\n",
       "      <th>srcategory</th>\n",
       "      <th>srtype</th>\n",
       "      <th>srpriority</th>\n",
       "      <th>srsource</th>\n",
       "      <th>srstatus</th>\n",
       "      <th>srresolution</th>\n",
       "      <th>boroughcode</th>\n",
       "      <th>communityboard</th>\n",
       "      <th>zipcode</th>\n",
       "      <th>citycouncil</th>\n",
       "      <th>statesenate</th>\n",
       "      <th>stateassembly</th>\n",
       "      <th>congressional</th>\n",
       "      <th>servicerequestparentglobalid</th>\n",
       "      <th>SRGlobalID</th>\n",
       "      <th>initiateddate</th>\n",
       "      <th>SRClosedDate</th>\n",
       "      <th>SRCreatedDate</th>\n",
       "      <th>SRUpdatedDate</th>\n",
       "      <th>descriptor1</th>\n",
       "      <th>complainttype</th>\n",
       "      <th>latitude_SR</th>\n",
       "      <th>longitude_SR</th>\n",
       "      <th>census_tract</th>\n",
       "      <th>bin</th>\n",
       "      <th>bbl</th>\n",
       "      <th>nta</th>\n",
       "      <th>complaintdetails</th>\n",
       "      <th>parkname</th>\n",
       "      <th>parkzone</th>\n",
       "      <th>GLOBAL_ID</th>\n",
       "      <th>geometry_SR</th>\n",
       "      <th>STATEFP</th>\n",
       "      <th>COUNTYFP</th>\n",
       "      <th>TRACTCE</th>\n",
       "      <th>AFFGEOID</th>\n",
       "      <th>GEOID</th>\n",
       "      <th>NAME</th>\n",
       "      <th>LSAD</th>\n",
       "      <th>ALAND</th>\n",
       "      <th>AWATER</th>\n",
       "      <th>objectid_I</th>\n",
       "      <th>inspectiontype</th>\n",
       "      <th>inspectiontpcondition</th>\n",
       "      <th>inspectiontpstructure</th>\n",
       "      <th>treepointdbh</th>\n",
       "      <th>treepointglobalid</th>\n",
       "      <th>plantingspaceglobalid</th>\n",
       "      <th>InsGlobalID</th>\n",
       "      <th>inspectiondate</th>\n",
       "      <th>InsClosedDate</th>\n",
       "      <th>InsCreatedDate</th>\n",
       "      <th>InsUpdatedDate</th>\n",
       "      <th>parentinspectionglobalid</th>\n",
       "      <th>reinspectiondate</th>\n",
       "      <th>longitude_I</th>\n",
       "      <th>latitude_I</th>\n",
       "      <th>geometry_I</th>\n",
       "      <th>objectid</th>\n",
       "      <th>wotype</th>\n",
       "      <th>wostatus</th>\n",
       "      <th>wocategory</th>\n",
       "      <th>zipcode_WO</th>\n",
       "      <th>WOGlobalID</th>\n",
       "      <th>geometry</th>\n",
       "      <th>WOCreatedDate</th>\n",
       "      <th>WOUpdatedDate</th>\n",
       "      <th>woentity</th>\n",
       "      <th>woproject</th>\n",
       "      <th>recommendedspecies</th>\n",
       "      <th>latitude</th>\n",
       "      <th>longitude</th>\n",
       "      <th>wopriority</th>\n",
       "      <th>actualfinishdate</th>\n",
       "      <th>WOClosedDate</th>\n",
       "      <th>cancelreason</th>\n",
       "      <th>canceldate</th>\n",
       "      <th>sidewalkdamage</th>\n",
       "      <th>projstartdate</th>\n",
       "      <th>objectid_RA</th>\n",
       "      <th>radefect</th>\n",
       "      <th>radefectlocation</th>\n",
       "      <th>failure</th>\n",
       "      <th>impacttarget</th>\n",
       "      <th>consequence</th>\n",
       "      <th>riskrating</th>\n",
       "      <th>RAGlobalID</th>\n",
       "      <th>RACreatedDate</th>\n",
       "      <th>failureimpact</th>\n",
       "      <th>workorderglobalid</th>\n",
       "    </tr>\n",
       "  </thead>\n",
       "  <tbody>\n",
       "    <tr>\n",
       "      <th>580456</th>\n",
       "      <td>13097453</td>\n",
       "      <td>Remove Tree</td>\n",
       "      <td>Dead Tree Older Than 2 Years</td>\n",
       "      <td>Routine</td>\n",
       "      <td>Department of Parks and Recreation - Public We...</td>\n",
       "      <td>Closed</td>\n",
       "      <td>Work Completed</td>\n",
       "      <td>Staten Island</td>\n",
       "      <td>501</td>\n",
       "      <td>10301</td>\n",
       "      <td>49</td>\n",
       "      <td>23</td>\n",
       "      <td>61</td>\n",
       "      <td>11</td>\n",
       "      <td>NaN</td>\n",
       "      <td>BDE5DB5B-C1C4-4A81-AB0E-8A894CEB020D</td>\n",
       "      <td>11/07/2018 20:28:20</td>\n",
       "      <td>01/10/2019 11:17:39</td>\n",
       "      <td>11/07/2018 20:28:00</td>\n",
       "      <td>01/10/2019 16:17:39</td>\n",
       "      <td>Planted More Than 2 Years Ago</td>\n",
       "      <td>Dead/Dying Tree</td>\n",
       "      <td>40.645077</td>\n",
       "      <td>-74.078934</td>\n",
       "      <td>7</td>\n",
       "      <td>5000091</td>\n",
       "      <td>5000100019</td>\n",
       "      <td>West New Brighton-New Brighton-St. George</td>\n",
       "      <td>From NYC Street Tree Map - Tree ID 588819recen...</td>\n",
       "      <td>NaN</td>\n",
       "      <td>NaN</td>\n",
       "      <td>BDE5DB5B-C1C4-4A81-AB0E-8A894CEB020D</td>\n",
       "      <td>POINT (-74.07893 40.64508)</td>\n",
       "      <td>36</td>\n",
       "      <td>085</td>\n",
       "      <td>000700</td>\n",
       "      <td>1400000US36085000700</td>\n",
       "      <td>36085000700</td>\n",
       "      <td>7</td>\n",
       "      <td>CT</td>\n",
       "      <td>528114.0</td>\n",
       "      <td>638941.0</td>\n",
       "      <td>NaN</td>\n",
       "      <td>NaN</td>\n",
       "      <td>NaN</td>\n",
       "      <td>NaN</td>\n",
       "      <td>NaN</td>\n",
       "      <td>NaN</td>\n",
       "      <td>NaN</td>\n",
       "      <td>0</td>\n",
       "      <td>NaN</td>\n",
       "      <td>NaN</td>\n",
       "      <td>NaN</td>\n",
       "      <td>NaN</td>\n",
       "      <td>NaN</td>\n",
       "      <td>NaN</td>\n",
       "      <td>NaN</td>\n",
       "      <td>NaN</td>\n",
       "      <td>None</td>\n",
       "      <td>NaN</td>\n",
       "      <td>NaN</td>\n",
       "      <td>NaN</td>\n",
       "      <td>NaN</td>\n",
       "      <td>NaN</td>\n",
       "      <td>NaN</td>\n",
       "      <td>None</td>\n",
       "      <td>NaN</td>\n",
       "      <td>NaN</td>\n",
       "      <td>NaN</td>\n",
       "      <td>NaN</td>\n",
       "      <td>NaN</td>\n",
       "      <td>NaN</td>\n",
       "      <td>NaN</td>\n",
       "      <td>NaN</td>\n",
       "      <td>NaN</td>\n",
       "      <td>NaN</td>\n",
       "      <td>NaN</td>\n",
       "      <td>NaN</td>\n",
       "      <td>NaN</td>\n",
       "      <td>NaN</td>\n",
       "      <td>NaN</td>\n",
       "      <td>NaN</td>\n",
       "      <td>NaN</td>\n",
       "      <td>NaN</td>\n",
       "      <td>NaN</td>\n",
       "      <td>NaN</td>\n",
       "      <td>NaN</td>\n",
       "      <td>NaN</td>\n",
       "      <td>NaN</td>\n",
       "      <td>NaN</td>\n",
       "      <td>NaN</td>\n",
       "    </tr>\n",
       "    <tr>\n",
       "      <th>20575</th>\n",
       "      <td>22407344</td>\n",
       "      <td>Illegal Tree Damage</td>\n",
       "      <td>Branches Damaged</td>\n",
       "      <td>Routine</td>\n",
       "      <td>3-1-1 Call Center</td>\n",
       "      <td>Closed</td>\n",
       "      <td>Inspected - No Work Order</td>\n",
       "      <td>Manhattan</td>\n",
       "      <td>106</td>\n",
       "      <td>10022</td>\n",
       "      <td>4</td>\n",
       "      <td>28</td>\n",
       "      <td>73</td>\n",
       "      <td>12</td>\n",
       "      <td>NaN</td>\n",
       "      <td>21DA1561-DD0F-478C-BB11-4E9C11F75ADE</td>\n",
       "      <td>11/14/2021 21:21:13</td>\n",
       "      <td>02/04/2022 15:44:58</td>\n",
       "      <td>11/14/2021 21:24:00</td>\n",
       "      <td>02/04/2022 15:44:58</td>\n",
       "      <td>Branches Damaged</td>\n",
       "      <td>Illegal Tree Damage</td>\n",
       "      <td>40.754308</td>\n",
       "      <td>-73.967151</td>\n",
       "      <td>98</td>\n",
       "      <td>1039612</td>\n",
       "      <td>1013430024</td>\n",
       "      <td>Turtle Bay-East Midtown</td>\n",
       "      <td>Large branch is dead and hollow on this tree. ...</td>\n",
       "      <td>NaN</td>\n",
       "      <td>NaN</td>\n",
       "      <td>21DA1561-DD0F-478C-BB11-4E9C11F75ADE</td>\n",
       "      <td>POINT (-73.96715 40.75431)</td>\n",
       "      <td>36</td>\n",
       "      <td>061</td>\n",
       "      <td>009800</td>\n",
       "      <td>1400000US36061009800</td>\n",
       "      <td>36061009800</td>\n",
       "      <td>98</td>\n",
       "      <td>CT</td>\n",
       "      <td>177068.0</td>\n",
       "      <td>0.0</td>\n",
       "      <td>NaN</td>\n",
       "      <td>NaN</td>\n",
       "      <td>NaN</td>\n",
       "      <td>NaN</td>\n",
       "      <td>NaN</td>\n",
       "      <td>NaN</td>\n",
       "      <td>NaN</td>\n",
       "      <td>0</td>\n",
       "      <td>NaN</td>\n",
       "      <td>NaN</td>\n",
       "      <td>NaN</td>\n",
       "      <td>NaN</td>\n",
       "      <td>NaN</td>\n",
       "      <td>NaN</td>\n",
       "      <td>NaN</td>\n",
       "      <td>NaN</td>\n",
       "      <td>None</td>\n",
       "      <td>NaN</td>\n",
       "      <td>NaN</td>\n",
       "      <td>NaN</td>\n",
       "      <td>NaN</td>\n",
       "      <td>NaN</td>\n",
       "      <td>NaN</td>\n",
       "      <td>None</td>\n",
       "      <td>NaN</td>\n",
       "      <td>NaN</td>\n",
       "      <td>NaN</td>\n",
       "      <td>NaN</td>\n",
       "      <td>NaN</td>\n",
       "      <td>NaN</td>\n",
       "      <td>NaN</td>\n",
       "      <td>NaN</td>\n",
       "      <td>NaN</td>\n",
       "      <td>NaN</td>\n",
       "      <td>NaN</td>\n",
       "      <td>NaN</td>\n",
       "      <td>NaN</td>\n",
       "      <td>NaN</td>\n",
       "      <td>NaN</td>\n",
       "      <td>NaN</td>\n",
       "      <td>NaN</td>\n",
       "      <td>NaN</td>\n",
       "      <td>NaN</td>\n",
       "      <td>NaN</td>\n",
       "      <td>NaN</td>\n",
       "      <td>NaN</td>\n",
       "      <td>NaN</td>\n",
       "      <td>NaN</td>\n",
       "      <td>NaN</td>\n",
       "    </tr>\n",
       "    <tr>\n",
       "      <th>249993</th>\n",
       "      <td>21625697</td>\n",
       "      <td>Hazard</td>\n",
       "      <td>Tree Down - Other</td>\n",
       "      <td>Routine</td>\n",
       "      <td>3-1-1 Call Center</td>\n",
       "      <td>Closed</td>\n",
       "      <td>Work Completed</td>\n",
       "      <td>Bronx</td>\n",
       "      <td>210</td>\n",
       "      <td>10465</td>\n",
       "      <td>13</td>\n",
       "      <td>34</td>\n",
       "      <td>82</td>\n",
       "      <td>14</td>\n",
       "      <td>51564213-BEE7-436D-8BD3-C2CA7CCBA8A8</td>\n",
       "      <td>492C0E0B-6D6D-4055-885C-6EC9CBF921EA</td>\n",
       "      <td>08/15/2021 22:12:46</td>\n",
       "      <td>08/18/2021 14:02:37</td>\n",
       "      <td>08/15/2021 22:15:03</td>\n",
       "      <td>08/18/2021 14:02:37</td>\n",
       "      <td>Entire Tree Has Fallen Down</td>\n",
       "      <td>Damaged Tree</td>\n",
       "      <td>NaN</td>\n",
       "      <td>NaN</td>\n",
       "      <td>NaN</td>\n",
       "      <td>NaN</td>\n",
       "      <td>NaN</td>\n",
       "      <td>NaN</td>\n",
       "      <td>BX FORESTRY GRP-WATERBURY AVE &amp; KEARNEY AVE-08...</td>\n",
       "      <td>NaN</td>\n",
       "      <td>NaN</td>\n",
       "      <td>51564213-BEE7-436D-8BD3-C2CA7CCBA8A8</td>\n",
       "      <td>None</td>\n",
       "      <td>NaN</td>\n",
       "      <td>NaN</td>\n",
       "      <td>NaN</td>\n",
       "      <td>NaN</td>\n",
       "      <td>NaN</td>\n",
       "      <td>NaN</td>\n",
       "      <td>NaN</td>\n",
       "      <td>NaN</td>\n",
       "      <td>NaN</td>\n",
       "      <td>NaN</td>\n",
       "      <td>NaN</td>\n",
       "      <td>NaN</td>\n",
       "      <td>NaN</td>\n",
       "      <td>NaN</td>\n",
       "      <td>NaN</td>\n",
       "      <td>NaN</td>\n",
       "      <td>0</td>\n",
       "      <td>NaN</td>\n",
       "      <td>NaN</td>\n",
       "      <td>NaN</td>\n",
       "      <td>NaN</td>\n",
       "      <td>NaN</td>\n",
       "      <td>NaN</td>\n",
       "      <td>NaN</td>\n",
       "      <td>NaN</td>\n",
       "      <td>None</td>\n",
       "      <td>NaN</td>\n",
       "      <td>NaN</td>\n",
       "      <td>NaN</td>\n",
       "      <td>NaN</td>\n",
       "      <td>NaN</td>\n",
       "      <td>NaN</td>\n",
       "      <td>None</td>\n",
       "      <td>NaN</td>\n",
       "      <td>NaN</td>\n",
       "      <td>NaN</td>\n",
       "      <td>NaN</td>\n",
       "      <td>NaN</td>\n",
       "      <td>NaN</td>\n",
       "      <td>NaN</td>\n",
       "      <td>NaN</td>\n",
       "      <td>NaN</td>\n",
       "      <td>NaN</td>\n",
       "      <td>NaN</td>\n",
       "      <td>NaN</td>\n",
       "      <td>NaN</td>\n",
       "      <td>NaN</td>\n",
       "      <td>NaN</td>\n",
       "      <td>NaN</td>\n",
       "      <td>NaN</td>\n",
       "      <td>NaN</td>\n",
       "      <td>NaN</td>\n",
       "      <td>NaN</td>\n",
       "      <td>NaN</td>\n",
       "      <td>NaN</td>\n",
       "      <td>NaN</td>\n",
       "      <td>NaN</td>\n",
       "      <td>NaN</td>\n",
       "    </tr>\n",
       "    <tr>\n",
       "      <th>215650</th>\n",
       "      <td>16758835</td>\n",
       "      <td>Plant Tree</td>\n",
       "      <td>Street Tree</td>\n",
       "      <td>Routine</td>\n",
       "      <td>3-1-1 Call Center</td>\n",
       "      <td>Closed</td>\n",
       "      <td>Inspected - Condition Not Found</td>\n",
       "      <td>Bronx</td>\n",
       "      <td>211</td>\n",
       "      <td>10461</td>\n",
       "      <td>13</td>\n",
       "      <td>34</td>\n",
       "      <td>82</td>\n",
       "      <td>14</td>\n",
       "      <td>3ACCC944-A1B6-4974-9AF9-3EF701306178</td>\n",
       "      <td>FA21AC41-BB66-4124-AF57-4E5D89D15D9B</td>\n",
       "      <td>01/15/2020 15:36:50</td>\n",
       "      <td>08/07/2020 14:18:28</td>\n",
       "      <td>01/15/2020 16:00:00</td>\n",
       "      <td>08/07/2020 14:18:28</td>\n",
       "      <td>For One Address</td>\n",
       "      <td>New Tree Request</td>\n",
       "      <td>40.850139</td>\n",
       "      <td>-73.848982</td>\n",
       "      <td>286</td>\n",
       "      <td>2045204</td>\n",
       "      <td>2041150014</td>\n",
       "      <td>Van Nest-Morris Park-Westchester Square</td>\n",
       "      <td>I WILL LIKE A NEW TREE PLANTED IN FRONT OF MY ...</td>\n",
       "      <td>NaN</td>\n",
       "      <td>NaN</td>\n",
       "      <td>3ACCC944-A1B6-4974-9AF9-3EF701306178</td>\n",
       "      <td>POINT (-73.84898 40.85014)</td>\n",
       "      <td>36</td>\n",
       "      <td>005</td>\n",
       "      <td>028600</td>\n",
       "      <td>1400000US36005028600</td>\n",
       "      <td>36005028600</td>\n",
       "      <td>286</td>\n",
       "      <td>CT</td>\n",
       "      <td>200018.0</td>\n",
       "      <td>0.0</td>\n",
       "      <td>NaN</td>\n",
       "      <td>NaN</td>\n",
       "      <td>NaN</td>\n",
       "      <td>NaN</td>\n",
       "      <td>NaN</td>\n",
       "      <td>NaN</td>\n",
       "      <td>NaN</td>\n",
       "      <td>0</td>\n",
       "      <td>NaN</td>\n",
       "      <td>NaN</td>\n",
       "      <td>NaN</td>\n",
       "      <td>NaN</td>\n",
       "      <td>NaN</td>\n",
       "      <td>NaN</td>\n",
       "      <td>NaN</td>\n",
       "      <td>NaN</td>\n",
       "      <td>None</td>\n",
       "      <td>NaN</td>\n",
       "      <td>NaN</td>\n",
       "      <td>NaN</td>\n",
       "      <td>NaN</td>\n",
       "      <td>NaN</td>\n",
       "      <td>NaN</td>\n",
       "      <td>None</td>\n",
       "      <td>NaN</td>\n",
       "      <td>NaN</td>\n",
       "      <td>NaN</td>\n",
       "      <td>NaN</td>\n",
       "      <td>NaN</td>\n",
       "      <td>NaN</td>\n",
       "      <td>NaN</td>\n",
       "      <td>NaN</td>\n",
       "      <td>NaN</td>\n",
       "      <td>NaN</td>\n",
       "      <td>NaN</td>\n",
       "      <td>NaN</td>\n",
       "      <td>NaN</td>\n",
       "      <td>NaN</td>\n",
       "      <td>NaN</td>\n",
       "      <td>NaN</td>\n",
       "      <td>NaN</td>\n",
       "      <td>NaN</td>\n",
       "      <td>NaN</td>\n",
       "      <td>NaN</td>\n",
       "      <td>NaN</td>\n",
       "      <td>NaN</td>\n",
       "      <td>NaN</td>\n",
       "      <td>NaN</td>\n",
       "      <td>NaN</td>\n",
       "    </tr>\n",
       "    <tr>\n",
       "      <th>160291</th>\n",
       "      <td>17810786</td>\n",
       "      <td>Hazard</td>\n",
       "      <td>Hanging Limb Other</td>\n",
       "      <td>Routine</td>\n",
       "      <td>3-1-1 Call Center</td>\n",
       "      <td>Closed</td>\n",
       "      <td>Work Completed</td>\n",
       "      <td>Queens</td>\n",
       "      <td>413</td>\n",
       "      <td>11428</td>\n",
       "      <td>23</td>\n",
       "      <td>14</td>\n",
       "      <td>33</td>\n",
       "      <td>5</td>\n",
       "      <td>NaN</td>\n",
       "      <td>AC9F77D6-9E01-4B5C-BD78-A18C8EB9EF94</td>\n",
       "      <td>06/15/2020 21:38:49</td>\n",
       "      <td>07/07/2020 18:21:00</td>\n",
       "      <td>06/15/2020 22:00:00</td>\n",
       "      <td>07/07/2020 18:21:00</td>\n",
       "      <td>Branch Cracked and Will Fall</td>\n",
       "      <td>Damaged Tree</td>\n",
       "      <td>40.725510</td>\n",
       "      <td>-73.742534</td>\n",
       "      <td>556</td>\n",
       "      <td>4229596</td>\n",
       "      <td>4107160028</td>\n",
       "      <td>Queens Village</td>\n",
       "      <td>LARGE CRACKED BRANCH HANGING MAY FALL ON SOMEO...</td>\n",
       "      <td>NaN</td>\n",
       "      <td>NaN</td>\n",
       "      <td>AC9F77D6-9E01-4B5C-BD78-A18C8EB9EF94</td>\n",
       "      <td>POINT (-73.74253 40.72551)</td>\n",
       "      <td>36</td>\n",
       "      <td>081</td>\n",
       "      <td>055600</td>\n",
       "      <td>1400000US36081055600</td>\n",
       "      <td>36081055600</td>\n",
       "      <td>556</td>\n",
       "      <td>CT</td>\n",
       "      <td>226903.0</td>\n",
       "      <td>0.0</td>\n",
       "      <td>NaN</td>\n",
       "      <td>NaN</td>\n",
       "      <td>NaN</td>\n",
       "      <td>NaN</td>\n",
       "      <td>NaN</td>\n",
       "      <td>NaN</td>\n",
       "      <td>NaN</td>\n",
       "      <td>0</td>\n",
       "      <td>NaN</td>\n",
       "      <td>NaN</td>\n",
       "      <td>NaN</td>\n",
       "      <td>NaN</td>\n",
       "      <td>NaN</td>\n",
       "      <td>NaN</td>\n",
       "      <td>NaN</td>\n",
       "      <td>NaN</td>\n",
       "      <td>None</td>\n",
       "      <td>NaN</td>\n",
       "      <td>NaN</td>\n",
       "      <td>NaN</td>\n",
       "      <td>NaN</td>\n",
       "      <td>NaN</td>\n",
       "      <td>NaN</td>\n",
       "      <td>None</td>\n",
       "      <td>NaN</td>\n",
       "      <td>NaN</td>\n",
       "      <td>NaN</td>\n",
       "      <td>NaN</td>\n",
       "      <td>NaN</td>\n",
       "      <td>NaN</td>\n",
       "      <td>NaN</td>\n",
       "      <td>NaN</td>\n",
       "      <td>NaN</td>\n",
       "      <td>NaN</td>\n",
       "      <td>NaN</td>\n",
       "      <td>NaN</td>\n",
       "      <td>NaN</td>\n",
       "      <td>NaN</td>\n",
       "      <td>NaN</td>\n",
       "      <td>NaN</td>\n",
       "      <td>NaN</td>\n",
       "      <td>NaN</td>\n",
       "      <td>NaN</td>\n",
       "      <td>NaN</td>\n",
       "      <td>NaN</td>\n",
       "      <td>NaN</td>\n",
       "      <td>NaN</td>\n",
       "      <td>NaN</td>\n",
       "      <td>NaN</td>\n",
       "    </tr>\n",
       "  </tbody>\n",
       "</table>\n",
       "</div>"
      ],
      "text/plain": [
       "       objectid_SR           srcategory                        srtype  \\\n",
       "580456    13097453          Remove Tree  Dead Tree Older Than 2 Years   \n",
       "20575     22407344  Illegal Tree Damage              Branches Damaged   \n",
       "249993    21625697               Hazard             Tree Down - Other   \n",
       "215650    16758835           Plant Tree                   Street Tree   \n",
       "160291    17810786               Hazard            Hanging Limb Other   \n",
       "\n",
       "       srpriority                                           srsource srstatus  \\\n",
       "580456    Routine  Department of Parks and Recreation - Public We...   Closed   \n",
       "20575     Routine                                  3-1-1 Call Center   Closed   \n",
       "249993    Routine                                  3-1-1 Call Center   Closed   \n",
       "215650    Routine                                  3-1-1 Call Center   Closed   \n",
       "160291    Routine                                  3-1-1 Call Center   Closed   \n",
       "\n",
       "                           srresolution    boroughcode communityboard zipcode  \\\n",
       "580456                   Work Completed  Staten Island            501   10301   \n",
       "20575         Inspected - No Work Order      Manhattan            106   10022   \n",
       "249993                   Work Completed          Bronx            210   10465   \n",
       "215650  Inspected - Condition Not Found          Bronx            211   10461   \n",
       "160291                   Work Completed         Queens            413   11428   \n",
       "\n",
       "       citycouncil statesenate stateassembly congressional  \\\n",
       "580456          49          23            61            11   \n",
       "20575            4          28            73            12   \n",
       "249993          13          34            82            14   \n",
       "215650          13          34            82            14   \n",
       "160291          23          14            33             5   \n",
       "\n",
       "                servicerequestparentglobalid  \\\n",
       "580456                                   NaN   \n",
       "20575                                    NaN   \n",
       "249993  51564213-BEE7-436D-8BD3-C2CA7CCBA8A8   \n",
       "215650  3ACCC944-A1B6-4974-9AF9-3EF701306178   \n",
       "160291                                   NaN   \n",
       "\n",
       "                                  SRGlobalID        initiateddate  \\\n",
       "580456  BDE5DB5B-C1C4-4A81-AB0E-8A894CEB020D  11/07/2018 20:28:20   \n",
       "20575   21DA1561-DD0F-478C-BB11-4E9C11F75ADE  11/14/2021 21:21:13   \n",
       "249993  492C0E0B-6D6D-4055-885C-6EC9CBF921EA  08/15/2021 22:12:46   \n",
       "215650  FA21AC41-BB66-4124-AF57-4E5D89D15D9B  01/15/2020 15:36:50   \n",
       "160291  AC9F77D6-9E01-4B5C-BD78-A18C8EB9EF94  06/15/2020 21:38:49   \n",
       "\n",
       "               SRClosedDate        SRCreatedDate        SRUpdatedDate  \\\n",
       "580456  01/10/2019 11:17:39  11/07/2018 20:28:00  01/10/2019 16:17:39   \n",
       "20575   02/04/2022 15:44:58  11/14/2021 21:24:00  02/04/2022 15:44:58   \n",
       "249993  08/18/2021 14:02:37  08/15/2021 22:15:03  08/18/2021 14:02:37   \n",
       "215650  08/07/2020 14:18:28  01/15/2020 16:00:00  08/07/2020 14:18:28   \n",
       "160291  07/07/2020 18:21:00  06/15/2020 22:00:00  07/07/2020 18:21:00   \n",
       "\n",
       "                          descriptor1        complainttype  latitude_SR  \\\n",
       "580456  Planted More Than 2 Years Ago      Dead/Dying Tree    40.645077   \n",
       "20575                Branches Damaged  Illegal Tree Damage    40.754308   \n",
       "249993    Entire Tree Has Fallen Down         Damaged Tree          NaN   \n",
       "215650                For One Address     New Tree Request    40.850139   \n",
       "160291   Branch Cracked and Will Fall         Damaged Tree    40.725510   \n",
       "\n",
       "        longitude_SR census_tract      bin         bbl  \\\n",
       "580456    -74.078934            7  5000091  5000100019   \n",
       "20575     -73.967151           98  1039612  1013430024   \n",
       "249993           NaN          NaN      NaN         NaN   \n",
       "215650    -73.848982          286  2045204  2041150014   \n",
       "160291    -73.742534          556  4229596  4107160028   \n",
       "\n",
       "                                              nta  \\\n",
       "580456  West New Brighton-New Brighton-St. George   \n",
       "20575                     Turtle Bay-East Midtown   \n",
       "249993                                        NaN   \n",
       "215650    Van Nest-Morris Park-Westchester Square   \n",
       "160291                             Queens Village   \n",
       "\n",
       "                                         complaintdetails parkname parkzone  \\\n",
       "580456  From NYC Street Tree Map - Tree ID 588819recen...      NaN      NaN   \n",
       "20575   Large branch is dead and hollow on this tree. ...      NaN      NaN   \n",
       "249993  BX FORESTRY GRP-WATERBURY AVE & KEARNEY AVE-08...      NaN      NaN   \n",
       "215650  I WILL LIKE A NEW TREE PLANTED IN FRONT OF MY ...      NaN      NaN   \n",
       "160291  LARGE CRACKED BRANCH HANGING MAY FALL ON SOMEO...      NaN      NaN   \n",
       "\n",
       "                                   GLOBAL_ID                 geometry_SR  \\\n",
       "580456  BDE5DB5B-C1C4-4A81-AB0E-8A894CEB020D  POINT (-74.07893 40.64508)   \n",
       "20575   21DA1561-DD0F-478C-BB11-4E9C11F75ADE  POINT (-73.96715 40.75431)   \n",
       "249993  51564213-BEE7-436D-8BD3-C2CA7CCBA8A8                        None   \n",
       "215650  3ACCC944-A1B6-4974-9AF9-3EF701306178  POINT (-73.84898 40.85014)   \n",
       "160291  AC9F77D6-9E01-4B5C-BD78-A18C8EB9EF94  POINT (-73.74253 40.72551)   \n",
       "\n",
       "       STATEFP COUNTYFP TRACTCE              AFFGEOID        GEOID NAME LSAD  \\\n",
       "580456      36      085  000700  1400000US36085000700  36085000700    7   CT   \n",
       "20575       36      061  009800  1400000US36061009800  36061009800   98   CT   \n",
       "249993     NaN      NaN     NaN                   NaN          NaN  NaN  NaN   \n",
       "215650      36      005  028600  1400000US36005028600  36005028600  286   CT   \n",
       "160291      36      081  055600  1400000US36081055600  36081055600  556   CT   \n",
       "\n",
       "           ALAND    AWATER objectid_I inspectiontype inspectiontpcondition  \\\n",
       "580456  528114.0  638941.0        NaN            NaN                   NaN   \n",
       "20575   177068.0       0.0        NaN            NaN                   NaN   \n",
       "249993       NaN       NaN        NaN            NaN                   NaN   \n",
       "215650  200018.0       0.0        NaN            NaN                   NaN   \n",
       "160291  226903.0       0.0        NaN            NaN                   NaN   \n",
       "\n",
       "       inspectiontpstructure treepointdbh treepointglobalid  \\\n",
       "580456                   NaN          NaN               NaN   \n",
       "20575                    NaN          NaN               NaN   \n",
       "249993                   NaN          NaN               NaN   \n",
       "215650                   NaN          NaN               NaN   \n",
       "160291                   NaN          NaN               NaN   \n",
       "\n",
       "       plantingspaceglobalid InsGlobalID inspectiondate InsClosedDate  \\\n",
       "580456                   NaN           0            NaN           NaN   \n",
       "20575                    NaN           0            NaN           NaN   \n",
       "249993                   NaN           0            NaN           NaN   \n",
       "215650                   NaN           0            NaN           NaN   \n",
       "160291                   NaN           0            NaN           NaN   \n",
       "\n",
       "       InsCreatedDate InsUpdatedDate parentinspectionglobalid  \\\n",
       "580456            NaN            NaN                      NaN   \n",
       "20575             NaN            NaN                      NaN   \n",
       "249993            NaN            NaN                      NaN   \n",
       "215650            NaN            NaN                      NaN   \n",
       "160291            NaN            NaN                      NaN   \n",
       "\n",
       "       reinspectiondate  longitude_I  latitude_I geometry_I objectid wotype  \\\n",
       "580456              NaN          NaN         NaN       None      NaN    NaN   \n",
       "20575               NaN          NaN         NaN       None      NaN    NaN   \n",
       "249993              NaN          NaN         NaN       None      NaN    NaN   \n",
       "215650              NaN          NaN         NaN       None      NaN    NaN   \n",
       "160291              NaN          NaN         NaN       None      NaN    NaN   \n",
       "\n",
       "       wostatus wocategory zipcode_WO WOGlobalID geometry WOCreatedDate  \\\n",
       "580456      NaN        NaN        NaN        NaN     None           NaN   \n",
       "20575       NaN        NaN        NaN        NaN     None           NaN   \n",
       "249993      NaN        NaN        NaN        NaN     None           NaN   \n",
       "215650      NaN        NaN        NaN        NaN     None           NaN   \n",
       "160291      NaN        NaN        NaN        NaN     None           NaN   \n",
       "\n",
       "       WOUpdatedDate woentity woproject recommendedspecies  latitude  \\\n",
       "580456           NaN      NaN       NaN                NaN       NaN   \n",
       "20575            NaN      NaN       NaN                NaN       NaN   \n",
       "249993           NaN      NaN       NaN                NaN       NaN   \n",
       "215650           NaN      NaN       NaN                NaN       NaN   \n",
       "160291           NaN      NaN       NaN                NaN       NaN   \n",
       "\n",
       "        longitude wopriority actualfinishdate WOClosedDate cancelreason  \\\n",
       "580456        NaN        NaN              NaN          NaN          NaN   \n",
       "20575         NaN        NaN              NaN          NaN          NaN   \n",
       "249993        NaN        NaN              NaN          NaN          NaN   \n",
       "215650        NaN        NaN              NaN          NaN          NaN   \n",
       "160291        NaN        NaN              NaN          NaN          NaN   \n",
       "\n",
       "       canceldate sidewalkdamage projstartdate objectid_RA radefect  \\\n",
       "580456        NaN            NaN           NaN         NaN      NaN   \n",
       "20575         NaN            NaN           NaN         NaN      NaN   \n",
       "249993        NaN            NaN           NaN         NaN      NaN   \n",
       "215650        NaN            NaN           NaN         NaN      NaN   \n",
       "160291        NaN            NaN           NaN         NaN      NaN   \n",
       "\n",
       "       radefectlocation failure impacttarget consequence riskrating  \\\n",
       "580456              NaN     NaN          NaN         NaN        NaN   \n",
       "20575               NaN     NaN          NaN         NaN        NaN   \n",
       "249993              NaN     NaN          NaN         NaN        NaN   \n",
       "215650              NaN     NaN          NaN         NaN        NaN   \n",
       "160291              NaN     NaN          NaN         NaN        NaN   \n",
       "\n",
       "       RAGlobalID RACreatedDate failureimpact workorderglobalid  \n",
       "580456        NaN           NaN           NaN               NaN  \n",
       "20575         NaN           NaN           NaN               NaN  \n",
       "249993        NaN           NaN           NaN               NaN  \n",
       "215650        NaN           NaN           NaN               NaN  \n",
       "160291        NaN           NaN           NaN               NaN  "
      ]
     },
     "execution_count": 99,
     "metadata": {},
     "output_type": "execute_result"
    }
   ],
   "source": [
    "mergeddf.sample(5)"
   ]
  },
  {
   "cell_type": "code",
   "execution_count": 100,
   "metadata": {},
   "outputs": [
    {
     "data": {
      "text/plain": [
       "20021"
      ]
     },
     "execution_count": 100,
     "metadata": {},
     "output_type": "execute_result"
    }
   ],
   "source": [
    "mergeddf.parkname.notna().sum()"
   ]
  },
  {
   "cell_type": "code",
   "execution_count": 101,
   "metadata": {},
   "outputs": [
    {
     "data": {
      "text/plain": [
       "8652"
      ]
     },
     "execution_count": 101,
     "metadata": {},
     "output_type": "execute_result"
    }
   ],
   "source": [
    "mergeddf.parkzone.notna().sum()"
   ]
  },
  {
   "cell_type": "markdown",
   "metadata": {},
   "source": [
    "# deal with nulls before exporting"
   ]
  },
  {
   "cell_type": "code",
   "execution_count": 102,
   "metadata": {
    "scrolled": true
   },
   "outputs": [
    {
     "data": {
      "text/plain": [
       "array(['objectid_SR', 'srcategory', 'srtype', 'srpriority', 'srsource',\n",
       "       'srstatus', 'srresolution', 'boroughcode', 'communityboard',\n",
       "       'zipcode', 'citycouncil', 'statesenate', 'stateassembly',\n",
       "       'congressional', 'servicerequestparentglobalid', 'SRGlobalID',\n",
       "       'initiateddate', 'SRClosedDate', 'SRCreatedDate', 'SRUpdatedDate',\n",
       "       'descriptor1', 'complainttype', 'latitude_SR', 'longitude_SR',\n",
       "       'census_tract', 'bin', 'bbl', 'nta', 'complaintdetails',\n",
       "       'parkname', 'parkzone', 'GLOBAL_ID', 'geometry_SR', 'STATEFP',\n",
       "       'COUNTYFP', 'TRACTCE', 'AFFGEOID', 'GEOID', 'NAME', 'LSAD',\n",
       "       'ALAND', 'AWATER', 'objectid_I', 'inspectiontype',\n",
       "       'inspectiontpcondition', 'inspectiontpstructure', 'treepointdbh',\n",
       "       'treepointglobalid', 'plantingspaceglobalid', 'InsGlobalID',\n",
       "       'inspectiondate', 'InsClosedDate', 'InsCreatedDate',\n",
       "       'InsUpdatedDate', 'parentinspectionglobalid', 'reinspectiondate',\n",
       "       'longitude_I', 'latitude_I', 'geometry_I', 'objectid', 'wotype',\n",
       "       'wostatus', 'wocategory', 'zipcode_WO', 'WOGlobalID', 'geometry',\n",
       "       'WOCreatedDate', 'WOUpdatedDate', 'woentity', 'woproject',\n",
       "       'recommendedspecies', 'latitude', 'longitude', 'wopriority',\n",
       "       'actualfinishdate', 'WOClosedDate', 'cancelreason', 'canceldate',\n",
       "       'sidewalkdamage', 'projstartdate', 'objectid_RA', 'radefect',\n",
       "       'radefectlocation', 'failure', 'impacttarget', 'consequence',\n",
       "       'riskrating', 'RAGlobalID', 'RACreatedDate', 'failureimpact',\n",
       "       'workorderglobalid'], dtype=object)"
      ]
     },
     "execution_count": 102,
     "metadata": {},
     "output_type": "execute_result"
    }
   ],
   "source": [
    "mergeddf.columns.values"
   ]
  },
  {
   "cell_type": "code",
   "execution_count": 103,
   "metadata": {},
   "outputs": [
    {
     "data": {
      "text/plain": [
       "objectid_SR                          0\n",
       "srcategory                           0\n",
       "srtype                               5\n",
       "srpriority                           0\n",
       "srsource                             0\n",
       "srstatus                             0\n",
       "srresolution                     54460\n",
       "boroughcode                        234\n",
       "communityboard                     203\n",
       "zipcode                          18379\n",
       "citycouncil                      18499\n",
       "statesenate                      18499\n",
       "stateassembly                    30322\n",
       "congressional                    18499\n",
       "servicerequestparentglobalid    557724\n",
       "SRGlobalID                           0\n",
       "initiateddate                    33877\n",
       "SRClosedDate                    111957\n",
       "SRCreatedDate                        0\n",
       "SRUpdatedDate                    32237\n",
       "descriptor1                      33826\n",
       "complainttype                    33884\n",
       "latitude_SR                      64804\n",
       "longitude_SR                     64804\n",
       "census_tract                     64804\n",
       "bin                              79534\n",
       "bbl                              79534\n",
       "nta                              64804\n",
       "complaintdetails                132977\n",
       "parkname                        720596\n",
       "parkzone                        731965\n",
       "GLOBAL_ID                            0\n",
       "geometry_SR                      64804\n",
       "STATEFP                          64845\n",
       "COUNTYFP                         64845\n",
       "TRACTCE                          64845\n",
       "AFFGEOID                         64845\n",
       "GEOID                            64845\n",
       "NAME                             64845\n",
       "LSAD                             64845\n",
       "ALAND                            64845\n",
       "AWATER                           64845\n",
       "objectid_I                      713179\n",
       "inspectiontype                  713179\n",
       "inspectiontpcondition           714050\n",
       "inspectiontpstructure           714055\n",
       "treepointdbh                    714528\n",
       "treepointglobalid               714046\n",
       "plantingspaceglobalid           713179\n",
       "InsGlobalID                          0\n",
       "inspectiondate                  713184\n",
       "InsClosedDate                   713808\n",
       "InsCreatedDate                  713179\n",
       "InsUpdatedDate                  728127\n",
       "parentinspectionglobalid        740505\n",
       "reinspectiondate                740505\n",
       "longitude_I                     713179\n",
       "latitude_I                      713179\n",
       "geometry_I                      713179\n",
       "objectid                        724765\n",
       "wotype                          724767\n",
       "wostatus                        724765\n",
       "wocategory                      724765\n",
       "zipcode_WO                      724912\n",
       "WOGlobalID                      724765\n",
       "geometry                        724765\n",
       "WOCreatedDate                   724765\n",
       "WOUpdatedDate                   730526\n",
       "woentity                        724765\n",
       "woproject                       737569\n",
       "recommendedspecies              737699\n",
       "latitude                        724765\n",
       "longitude                       724765\n",
       "wopriority                      726695\n",
       "actualfinishdate                734760\n",
       "WOClosedDate                    734390\n",
       "cancelreason                    739996\n",
       "canceldate                      740026\n",
       "sidewalkdamage                  739377\n",
       "projstartdate                   740355\n",
       "objectid_RA                     715403\n",
       "radefect                        715403\n",
       "radefectlocation                715409\n",
       "failure                         715403\n",
       "impacttarget                    715403\n",
       "consequence                     715403\n",
       "riskrating                      715403\n",
       "RAGlobalID                      715403\n",
       "RACreatedDate                   715403\n",
       "failureimpact                   715403\n",
       "workorderglobalid               730589\n",
       "dtype: int64"
      ]
     },
     "execution_count": 103,
     "metadata": {},
     "output_type": "execute_result"
    }
   ],
   "source": [
    "mergeddf.isnull().sum()"
   ]
  },
  {
   "cell_type": "code",
   "execution_count": 104,
   "metadata": {},
   "outputs": [],
   "source": [
    "mergeddf['complainttype'].fillna('None Selected', inplace=True)"
   ]
  },
  {
   "cell_type": "code",
   "execution_count": 105,
   "metadata": {},
   "outputs": [],
   "source": [
    "mergeddf['srtype'].fillna('None Selected', inplace=True)"
   ]
  },
  {
   "cell_type": "code",
   "execution_count": 106,
   "metadata": {},
   "outputs": [],
   "source": [
    "mergeddf['riskrating'].fillna(0, inplace=True)"
   ]
  },
  {
   "cell_type": "code",
   "execution_count": 107,
   "metadata": {},
   "outputs": [
    {
     "data": {
      "text/plain": [
       "(740617, 91)"
      ]
     },
     "execution_count": 107,
     "metadata": {},
     "output_type": "execute_result"
    }
   ],
   "source": [
    "mergeddf.shape"
   ]
  },
  {
   "cell_type": "code",
   "execution_count": 108,
   "metadata": {},
   "outputs": [],
   "source": [
    "mergeddf = mergeddf.drop(['ALAND', 'AWATER', 'longitude_I', 'latitude_I', 'geometry_I', 'geometry', 'latitude', 'longitude'], axis = 1)"
   ]
  },
  {
   "cell_type": "code",
   "execution_count": 109,
   "metadata": {},
   "outputs": [
    {
     "data": {
      "text/html": [
       "<div>\n",
       "<style scoped>\n",
       "    .dataframe tbody tr th:only-of-type {\n",
       "        vertical-align: middle;\n",
       "    }\n",
       "\n",
       "    .dataframe tbody tr th {\n",
       "        vertical-align: top;\n",
       "    }\n",
       "\n",
       "    .dataframe thead th {\n",
       "        text-align: right;\n",
       "    }\n",
       "</style>\n",
       "<table border=\"1\" class=\"dataframe\">\n",
       "  <thead>\n",
       "    <tr style=\"text-align: right;\">\n",
       "      <th></th>\n",
       "      <th>objectid_SR</th>\n",
       "      <th>srcategory</th>\n",
       "      <th>srtype</th>\n",
       "      <th>srpriority</th>\n",
       "      <th>srsource</th>\n",
       "      <th>srstatus</th>\n",
       "      <th>srresolution</th>\n",
       "      <th>boroughcode</th>\n",
       "      <th>communityboard</th>\n",
       "      <th>zipcode</th>\n",
       "      <th>citycouncil</th>\n",
       "      <th>statesenate</th>\n",
       "      <th>stateassembly</th>\n",
       "      <th>congressional</th>\n",
       "      <th>servicerequestparentglobalid</th>\n",
       "      <th>SRGlobalID</th>\n",
       "      <th>initiateddate</th>\n",
       "      <th>SRClosedDate</th>\n",
       "      <th>SRCreatedDate</th>\n",
       "      <th>SRUpdatedDate</th>\n",
       "      <th>descriptor1</th>\n",
       "      <th>complainttype</th>\n",
       "      <th>latitude_SR</th>\n",
       "      <th>longitude_SR</th>\n",
       "      <th>census_tract</th>\n",
       "      <th>bin</th>\n",
       "      <th>bbl</th>\n",
       "      <th>nta</th>\n",
       "      <th>complaintdetails</th>\n",
       "      <th>parkname</th>\n",
       "      <th>parkzone</th>\n",
       "      <th>GLOBAL_ID</th>\n",
       "      <th>geometry_SR</th>\n",
       "      <th>STATEFP</th>\n",
       "      <th>COUNTYFP</th>\n",
       "      <th>TRACTCE</th>\n",
       "      <th>AFFGEOID</th>\n",
       "      <th>GEOID</th>\n",
       "      <th>NAME</th>\n",
       "      <th>LSAD</th>\n",
       "      <th>objectid_I</th>\n",
       "      <th>inspectiontype</th>\n",
       "      <th>inspectiontpcondition</th>\n",
       "      <th>inspectiontpstructure</th>\n",
       "      <th>treepointdbh</th>\n",
       "      <th>treepointglobalid</th>\n",
       "      <th>plantingspaceglobalid</th>\n",
       "      <th>InsGlobalID</th>\n",
       "      <th>inspectiondate</th>\n",
       "      <th>InsClosedDate</th>\n",
       "      <th>InsCreatedDate</th>\n",
       "      <th>InsUpdatedDate</th>\n",
       "      <th>parentinspectionglobalid</th>\n",
       "      <th>reinspectiondate</th>\n",
       "      <th>objectid</th>\n",
       "      <th>wotype</th>\n",
       "      <th>wostatus</th>\n",
       "      <th>wocategory</th>\n",
       "      <th>zipcode_WO</th>\n",
       "      <th>WOGlobalID</th>\n",
       "      <th>WOCreatedDate</th>\n",
       "      <th>WOUpdatedDate</th>\n",
       "      <th>woentity</th>\n",
       "      <th>woproject</th>\n",
       "      <th>recommendedspecies</th>\n",
       "      <th>wopriority</th>\n",
       "      <th>actualfinishdate</th>\n",
       "      <th>WOClosedDate</th>\n",
       "      <th>cancelreason</th>\n",
       "      <th>canceldate</th>\n",
       "      <th>sidewalkdamage</th>\n",
       "      <th>projstartdate</th>\n",
       "      <th>objectid_RA</th>\n",
       "      <th>radefect</th>\n",
       "      <th>radefectlocation</th>\n",
       "      <th>failure</th>\n",
       "      <th>impacttarget</th>\n",
       "      <th>consequence</th>\n",
       "      <th>riskrating</th>\n",
       "      <th>RAGlobalID</th>\n",
       "      <th>RACreatedDate</th>\n",
       "      <th>failureimpact</th>\n",
       "      <th>workorderglobalid</th>\n",
       "    </tr>\n",
       "  </thead>\n",
       "  <tbody>\n",
       "    <tr>\n",
       "      <th>41589</th>\n",
       "      <td>17420295</td>\n",
       "      <td>Hazard</td>\n",
       "      <td>Tree Down - Sidewalk</td>\n",
       "      <td>Routine</td>\n",
       "      <td>3-1-1 Call Center</td>\n",
       "      <td>Closed</td>\n",
       "      <td>No Action - Jurisdiction</td>\n",
       "      <td>Brooklyn</td>\n",
       "      <td>309</td>\n",
       "      <td>11225</td>\n",
       "      <td>35</td>\n",
       "      <td>20</td>\n",
       "      <td>57</td>\n",
       "      <td>9</td>\n",
       "      <td>F37146D4-35B8-40D1-873B-E72DBDE3A251</td>\n",
       "      <td>189044CD-72F3-4EA7-991C-4AE0DB20C859</td>\n",
       "      <td>04/27/2020 23:15:42</td>\n",
       "      <td>05/05/2020 15:05:54</td>\n",
       "      <td>04/28/2020 01:16:11</td>\n",
       "      <td>05/05/2020 15:05:54</td>\n",
       "      <td>Entire Tree Has Fallen Down</td>\n",
       "      <td>Damaged Tree</td>\n",
       "      <td>40.663756</td>\n",
       "      <td>-73.960470</td>\n",
       "      <td>213</td>\n",
       "      <td>3342922</td>\n",
       "      <td>3011960011</td>\n",
       "      <td>Crown Heights South</td>\n",
       "      <td>McDonald's sidewalk side btwn Sullivan place &amp;...</td>\n",
       "      <td>NaN</td>\n",
       "      <td>NaN</td>\n",
       "      <td>F37146D4-35B8-40D1-873B-E72DBDE3A251</td>\n",
       "      <td>POINT (-73.96047 40.66376)</td>\n",
       "      <td>36</td>\n",
       "      <td>047</td>\n",
       "      <td>021300</td>\n",
       "      <td>1400000US36047021300</td>\n",
       "      <td>36047021300</td>\n",
       "      <td>213</td>\n",
       "      <td>CT</td>\n",
       "      <td>NaN</td>\n",
       "      <td>NaN</td>\n",
       "      <td>NaN</td>\n",
       "      <td>NaN</td>\n",
       "      <td>NaN</td>\n",
       "      <td>NaN</td>\n",
       "      <td>NaN</td>\n",
       "      <td>0</td>\n",
       "      <td>NaN</td>\n",
       "      <td>NaN</td>\n",
       "      <td>NaN</td>\n",
       "      <td>NaN</td>\n",
       "      <td>NaN</td>\n",
       "      <td>NaN</td>\n",
       "      <td>NaN</td>\n",
       "      <td>NaN</td>\n",
       "      <td>NaN</td>\n",
       "      <td>NaN</td>\n",
       "      <td>NaN</td>\n",
       "      <td>NaN</td>\n",
       "      <td>NaN</td>\n",
       "      <td>NaN</td>\n",
       "      <td>NaN</td>\n",
       "      <td>NaN</td>\n",
       "      <td>NaN</td>\n",
       "      <td>NaN</td>\n",
       "      <td>NaN</td>\n",
       "      <td>NaN</td>\n",
       "      <td>NaN</td>\n",
       "      <td>NaN</td>\n",
       "      <td>NaN</td>\n",
       "      <td>NaN</td>\n",
       "      <td>NaN</td>\n",
       "      <td>NaN</td>\n",
       "      <td>NaN</td>\n",
       "      <td>NaN</td>\n",
       "      <td>NaN</td>\n",
       "      <td>NaN</td>\n",
       "      <td>0</td>\n",
       "      <td>NaN</td>\n",
       "      <td>NaN</td>\n",
       "      <td>NaN</td>\n",
       "      <td>NaN</td>\n",
       "    </tr>\n",
       "    <tr>\n",
       "      <th>723989</th>\n",
       "      <td>11017168</td>\n",
       "      <td>Root/Sewer/Sidewalk</td>\n",
       "      <td>Trees and Sidewalks</td>\n",
       "      <td>Routine</td>\n",
       "      <td>Department of Parks and Recreation - Public We...</td>\n",
       "      <td>Closed</td>\n",
       "      <td>T/S Inspected - Repair Pending</td>\n",
       "      <td>Queens</td>\n",
       "      <td>407</td>\n",
       "      <td>11358</td>\n",
       "      <td>19</td>\n",
       "      <td>11</td>\n",
       "      <td>40</td>\n",
       "      <td>6</td>\n",
       "      <td>NaN</td>\n",
       "      <td>9291F5E0-1362-4811-823D-1FAE6A5E57E8</td>\n",
       "      <td>04/10/2018 17:47:38</td>\n",
       "      <td>04/23/2018 13:44:48</td>\n",
       "      <td>04/10/2018 17:47:38</td>\n",
       "      <td>04/23/2018 13:44:48</td>\n",
       "      <td>Trees and Sidewalks Program</td>\n",
       "      <td>Root/Sewer/Sidewalk Condition</td>\n",
       "      <td>40.770835</td>\n",
       "      <td>-73.804441</td>\n",
       "      <td>1147</td>\n",
       "      <td>4110706</td>\n",
       "      <td>4048910021</td>\n",
       "      <td>Murray Hill</td>\n",
       "      <td>NaN</td>\n",
       "      <td>NaN</td>\n",
       "      <td>NaN</td>\n",
       "      <td>9291F5E0-1362-4811-823D-1FAE6A5E57E8</td>\n",
       "      <td>POINT (-73.80444 40.77083)</td>\n",
       "      <td>36</td>\n",
       "      <td>081</td>\n",
       "      <td>114700</td>\n",
       "      <td>1400000US36081114700</td>\n",
       "      <td>36081114700</td>\n",
       "      <td>1147</td>\n",
       "      <td>CT</td>\n",
       "      <td>NaN</td>\n",
       "      <td>NaN</td>\n",
       "      <td>NaN</td>\n",
       "      <td>NaN</td>\n",
       "      <td>NaN</td>\n",
       "      <td>NaN</td>\n",
       "      <td>NaN</td>\n",
       "      <td>0</td>\n",
       "      <td>NaN</td>\n",
       "      <td>NaN</td>\n",
       "      <td>NaN</td>\n",
       "      <td>NaN</td>\n",
       "      <td>NaN</td>\n",
       "      <td>NaN</td>\n",
       "      <td>NaN</td>\n",
       "      <td>NaN</td>\n",
       "      <td>NaN</td>\n",
       "      <td>NaN</td>\n",
       "      <td>NaN</td>\n",
       "      <td>NaN</td>\n",
       "      <td>NaN</td>\n",
       "      <td>NaN</td>\n",
       "      <td>NaN</td>\n",
       "      <td>NaN</td>\n",
       "      <td>NaN</td>\n",
       "      <td>NaN</td>\n",
       "      <td>NaN</td>\n",
       "      <td>NaN</td>\n",
       "      <td>NaN</td>\n",
       "      <td>NaN</td>\n",
       "      <td>NaN</td>\n",
       "      <td>NaN</td>\n",
       "      <td>NaN</td>\n",
       "      <td>NaN</td>\n",
       "      <td>NaN</td>\n",
       "      <td>NaN</td>\n",
       "      <td>NaN</td>\n",
       "      <td>NaN</td>\n",
       "      <td>0</td>\n",
       "      <td>NaN</td>\n",
       "      <td>NaN</td>\n",
       "      <td>NaN</td>\n",
       "      <td>NaN</td>\n",
       "    </tr>\n",
       "    <tr>\n",
       "      <th>208868</th>\n",
       "      <td>23271485</td>\n",
       "      <td>Prune</td>\n",
       "      <td>Clear Building</td>\n",
       "      <td>Routine</td>\n",
       "      <td>3-1-1 Call Center</td>\n",
       "      <td>Open</td>\n",
       "      <td>Reviewed - Inspection Assigned</td>\n",
       "      <td>Queens</td>\n",
       "      <td>405</td>\n",
       "      <td>11385</td>\n",
       "      <td>30</td>\n",
       "      <td>15</td>\n",
       "      <td>38</td>\n",
       "      <td>6</td>\n",
       "      <td>NaN</td>\n",
       "      <td>F19D9D18-72AE-4151-8D33-66B383626F4B</td>\n",
       "      <td>03/25/2022 19:23:42</td>\n",
       "      <td>NaN</td>\n",
       "      <td>03/25/2022 19:25:00</td>\n",
       "      <td>03/28/2022 12:43:00</td>\n",
       "      <td>Hitting Building</td>\n",
       "      <td>Overgrown Tree/Branches</td>\n",
       "      <td>40.697085</td>\n",
       "      <td>-73.890682</td>\n",
       "      <td>567</td>\n",
       "      <td>4090881</td>\n",
       "      <td>4037200042</td>\n",
       "      <td>Glendale</td>\n",
       "      <td>The caller is reporting large branches hitting...</td>\n",
       "      <td>NaN</td>\n",
       "      <td>NaN</td>\n",
       "      <td>F19D9D18-72AE-4151-8D33-66B383626F4B</td>\n",
       "      <td>POINT (-73.89068 40.69709)</td>\n",
       "      <td>36</td>\n",
       "      <td>081</td>\n",
       "      <td>056700</td>\n",
       "      <td>1400000US36081056700</td>\n",
       "      <td>36081056700</td>\n",
       "      <td>567</td>\n",
       "      <td>CT</td>\n",
       "      <td>NaN</td>\n",
       "      <td>NaN</td>\n",
       "      <td>NaN</td>\n",
       "      <td>NaN</td>\n",
       "      <td>NaN</td>\n",
       "      <td>NaN</td>\n",
       "      <td>NaN</td>\n",
       "      <td>0</td>\n",
       "      <td>NaN</td>\n",
       "      <td>NaN</td>\n",
       "      <td>NaN</td>\n",
       "      <td>NaN</td>\n",
       "      <td>NaN</td>\n",
       "      <td>NaN</td>\n",
       "      <td>NaN</td>\n",
       "      <td>NaN</td>\n",
       "      <td>NaN</td>\n",
       "      <td>NaN</td>\n",
       "      <td>NaN</td>\n",
       "      <td>NaN</td>\n",
       "      <td>NaN</td>\n",
       "      <td>NaN</td>\n",
       "      <td>NaN</td>\n",
       "      <td>NaN</td>\n",
       "      <td>NaN</td>\n",
       "      <td>NaN</td>\n",
       "      <td>NaN</td>\n",
       "      <td>NaN</td>\n",
       "      <td>NaN</td>\n",
       "      <td>NaN</td>\n",
       "      <td>NaN</td>\n",
       "      <td>NaN</td>\n",
       "      <td>NaN</td>\n",
       "      <td>NaN</td>\n",
       "      <td>NaN</td>\n",
       "      <td>NaN</td>\n",
       "      <td>NaN</td>\n",
       "      <td>NaN</td>\n",
       "      <td>0</td>\n",
       "      <td>NaN</td>\n",
       "      <td>NaN</td>\n",
       "      <td>NaN</td>\n",
       "      <td>NaN</td>\n",
       "    </tr>\n",
       "  </tbody>\n",
       "</table>\n",
       "</div>"
      ],
      "text/plain": [
       "       objectid_SR           srcategory                srtype srpriority  \\\n",
       "41589     17420295               Hazard  Tree Down - Sidewalk    Routine   \n",
       "723989    11017168  Root/Sewer/Sidewalk   Trees and Sidewalks    Routine   \n",
       "208868    23271485                Prune        Clear Building    Routine   \n",
       "\n",
       "                                                 srsource srstatus  \\\n",
       "41589                                   3-1-1 Call Center   Closed   \n",
       "723989  Department of Parks and Recreation - Public We...   Closed   \n",
       "208868                                  3-1-1 Call Center     Open   \n",
       "\n",
       "                          srresolution boroughcode communityboard zipcode  \\\n",
       "41589         No Action - Jurisdiction    Brooklyn            309   11225   \n",
       "723989  T/S Inspected - Repair Pending      Queens            407   11358   \n",
       "208868  Reviewed - Inspection Assigned      Queens            405   11385   \n",
       "\n",
       "       citycouncil statesenate stateassembly congressional  \\\n",
       "41589           35          20            57             9   \n",
       "723989          19          11            40             6   \n",
       "208868          30          15            38             6   \n",
       "\n",
       "                servicerequestparentglobalid  \\\n",
       "41589   F37146D4-35B8-40D1-873B-E72DBDE3A251   \n",
       "723989                                   NaN   \n",
       "208868                                   NaN   \n",
       "\n",
       "                                  SRGlobalID        initiateddate  \\\n",
       "41589   189044CD-72F3-4EA7-991C-4AE0DB20C859  04/27/2020 23:15:42   \n",
       "723989  9291F5E0-1362-4811-823D-1FAE6A5E57E8  04/10/2018 17:47:38   \n",
       "208868  F19D9D18-72AE-4151-8D33-66B383626F4B  03/25/2022 19:23:42   \n",
       "\n",
       "               SRClosedDate        SRCreatedDate        SRUpdatedDate  \\\n",
       "41589   05/05/2020 15:05:54  04/28/2020 01:16:11  05/05/2020 15:05:54   \n",
       "723989  04/23/2018 13:44:48  04/10/2018 17:47:38  04/23/2018 13:44:48   \n",
       "208868                  NaN  03/25/2022 19:25:00  03/28/2022 12:43:00   \n",
       "\n",
       "                        descriptor1                  complainttype  \\\n",
       "41589   Entire Tree Has Fallen Down                   Damaged Tree   \n",
       "723989  Trees and Sidewalks Program  Root/Sewer/Sidewalk Condition   \n",
       "208868             Hitting Building        Overgrown Tree/Branches   \n",
       "\n",
       "        latitude_SR  longitude_SR census_tract      bin         bbl  \\\n",
       "41589     40.663756    -73.960470          213  3342922  3011960011   \n",
       "723989    40.770835    -73.804441         1147  4110706  4048910021   \n",
       "208868    40.697085    -73.890682          567  4090881  4037200042   \n",
       "\n",
       "                        nta  \\\n",
       "41589   Crown Heights South   \n",
       "723989          Murray Hill   \n",
       "208868             Glendale   \n",
       "\n",
       "                                         complaintdetails parkname parkzone  \\\n",
       "41589   McDonald's sidewalk side btwn Sullivan place &...      NaN      NaN   \n",
       "723989                                                NaN      NaN      NaN   \n",
       "208868  The caller is reporting large branches hitting...      NaN      NaN   \n",
       "\n",
       "                                   GLOBAL_ID                 geometry_SR  \\\n",
       "41589   F37146D4-35B8-40D1-873B-E72DBDE3A251  POINT (-73.96047 40.66376)   \n",
       "723989  9291F5E0-1362-4811-823D-1FAE6A5E57E8  POINT (-73.80444 40.77083)   \n",
       "208868  F19D9D18-72AE-4151-8D33-66B383626F4B  POINT (-73.89068 40.69709)   \n",
       "\n",
       "       STATEFP COUNTYFP TRACTCE              AFFGEOID        GEOID  NAME LSAD  \\\n",
       "41589       36      047  021300  1400000US36047021300  36047021300   213   CT   \n",
       "723989      36      081  114700  1400000US36081114700  36081114700  1147   CT   \n",
       "208868      36      081  056700  1400000US36081056700  36081056700   567   CT   \n",
       "\n",
       "       objectid_I inspectiontype inspectiontpcondition inspectiontpstructure  \\\n",
       "41589         NaN            NaN                   NaN                   NaN   \n",
       "723989        NaN            NaN                   NaN                   NaN   \n",
       "208868        NaN            NaN                   NaN                   NaN   \n",
       "\n",
       "       treepointdbh treepointglobalid plantingspaceglobalid InsGlobalID  \\\n",
       "41589           NaN               NaN                   NaN           0   \n",
       "723989          NaN               NaN                   NaN           0   \n",
       "208868          NaN               NaN                   NaN           0   \n",
       "\n",
       "       inspectiondate InsClosedDate InsCreatedDate InsUpdatedDate  \\\n",
       "41589             NaN           NaN            NaN            NaN   \n",
       "723989            NaN           NaN            NaN            NaN   \n",
       "208868            NaN           NaN            NaN            NaN   \n",
       "\n",
       "       parentinspectionglobalid reinspectiondate objectid wotype wostatus  \\\n",
       "41589                       NaN              NaN      NaN    NaN      NaN   \n",
       "723989                      NaN              NaN      NaN    NaN      NaN   \n",
       "208868                      NaN              NaN      NaN    NaN      NaN   \n",
       "\n",
       "       wocategory zipcode_WO WOGlobalID WOCreatedDate WOUpdatedDate woentity  \\\n",
       "41589         NaN        NaN        NaN           NaN           NaN      NaN   \n",
       "723989        NaN        NaN        NaN           NaN           NaN      NaN   \n",
       "208868        NaN        NaN        NaN           NaN           NaN      NaN   \n",
       "\n",
       "       woproject recommendedspecies wopriority actualfinishdate WOClosedDate  \\\n",
       "41589        NaN                NaN        NaN              NaN          NaN   \n",
       "723989       NaN                NaN        NaN              NaN          NaN   \n",
       "208868       NaN                NaN        NaN              NaN          NaN   \n",
       "\n",
       "       cancelreason canceldate sidewalkdamage projstartdate objectid_RA  \\\n",
       "41589           NaN        NaN            NaN           NaN         NaN   \n",
       "723989          NaN        NaN            NaN           NaN         NaN   \n",
       "208868          NaN        NaN            NaN           NaN         NaN   \n",
       "\n",
       "       radefect radefectlocation failure impacttarget consequence riskrating  \\\n",
       "41589       NaN              NaN     NaN          NaN         NaN          0   \n",
       "723989      NaN              NaN     NaN          NaN         NaN          0   \n",
       "208868      NaN              NaN     NaN          NaN         NaN          0   \n",
       "\n",
       "       RAGlobalID RACreatedDate failureimpact workorderglobalid  \n",
       "41589         NaN           NaN           NaN               NaN  \n",
       "723989        NaN           NaN           NaN               NaN  \n",
       "208868        NaN           NaN           NaN               NaN  "
      ]
     },
     "execution_count": 109,
     "metadata": {},
     "output_type": "execute_result"
    }
   ],
   "source": [
    "mergeddf.sample(3)"
   ]
  },
  {
   "cell_type": "code",
   "execution_count": 110,
   "metadata": {},
   "outputs": [
    {
     "data": {
      "text/plain": [
       "objectid_SR                          0\n",
       "srcategory                           0\n",
       "srtype                               0\n",
       "srpriority                           0\n",
       "srsource                             0\n",
       "srstatus                             0\n",
       "srresolution                     54460\n",
       "boroughcode                        234\n",
       "communityboard                     203\n",
       "zipcode                          18379\n",
       "citycouncil                      18499\n",
       "statesenate                      18499\n",
       "stateassembly                    30322\n",
       "congressional                    18499\n",
       "servicerequestparentglobalid    557724\n",
       "SRGlobalID                           0\n",
       "initiateddate                    33877\n",
       "SRClosedDate                    111957\n",
       "SRCreatedDate                        0\n",
       "SRUpdatedDate                    32237\n",
       "descriptor1                      33826\n",
       "complainttype                        0\n",
       "latitude_SR                      64804\n",
       "longitude_SR                     64804\n",
       "census_tract                     64804\n",
       "bin                              79534\n",
       "bbl                              79534\n",
       "nta                              64804\n",
       "complaintdetails                132977\n",
       "parkname                        720596\n",
       "parkzone                        731965\n",
       "GLOBAL_ID                            0\n",
       "geometry_SR                      64804\n",
       "STATEFP                          64845\n",
       "COUNTYFP                         64845\n",
       "TRACTCE                          64845\n",
       "AFFGEOID                         64845\n",
       "GEOID                            64845\n",
       "NAME                             64845\n",
       "LSAD                             64845\n",
       "objectid_I                      713179\n",
       "inspectiontype                  713179\n",
       "inspectiontpcondition           714050\n",
       "inspectiontpstructure           714055\n",
       "treepointdbh                    714528\n",
       "treepointglobalid               714046\n",
       "plantingspaceglobalid           713179\n",
       "InsGlobalID                          0\n",
       "inspectiondate                  713184\n",
       "InsClosedDate                   713808\n",
       "InsCreatedDate                  713179\n",
       "InsUpdatedDate                  728127\n",
       "parentinspectionglobalid        740505\n",
       "reinspectiondate                740505\n",
       "objectid                        724765\n",
       "wotype                          724767\n",
       "wostatus                        724765\n",
       "wocategory                      724765\n",
       "zipcode_WO                      724912\n",
       "WOGlobalID                      724765\n",
       "WOCreatedDate                   724765\n",
       "WOUpdatedDate                   730526\n",
       "woentity                        724765\n",
       "woproject                       737569\n",
       "recommendedspecies              737699\n",
       "wopriority                      726695\n",
       "actualfinishdate                734760\n",
       "WOClosedDate                    734390\n",
       "cancelreason                    739996\n",
       "canceldate                      740026\n",
       "sidewalkdamage                  739377\n",
       "projstartdate                   740355\n",
       "objectid_RA                     715403\n",
       "radefect                        715403\n",
       "radefectlocation                715409\n",
       "failure                         715403\n",
       "impacttarget                    715403\n",
       "consequence                     715403\n",
       "riskrating                           0\n",
       "RAGlobalID                      715403\n",
       "RACreatedDate                   715403\n",
       "failureimpact                   715403\n",
       "workorderglobalid               730589\n",
       "dtype: int64"
      ]
     },
     "execution_count": 110,
     "metadata": {},
     "output_type": "execute_result"
    }
   ],
   "source": [
    "mergeddf.isna().sum()"
   ]
  },
  {
   "cell_type": "code",
   "execution_count": 111,
   "metadata": {},
   "outputs": [
    {
     "data": {
      "text/plain": [
       "array(['Department of Parks and Recreation - Public Web Site',\n",
       "       '3-1-1 Call Center', 'Correspondence', 'AMPS', 'DPR', 'DOT',\n",
       "       'Park Inspection Program', 'DPR -Public Tree Map', 'FDNY', 'OEM'],\n",
       "      dtype=object)"
      ]
     },
     "execution_count": 111,
     "metadata": {},
     "output_type": "execute_result"
    }
   ],
   "source": [
    "mergeddf[mergeddf.isna().any(axis=1)].srsource.unique()"
   ]
  },
  {
   "cell_type": "code",
   "execution_count": 149,
   "metadata": {},
   "outputs": [
    {
     "data": {
      "text/plain": [
       "(740617, 83)"
      ]
     },
     "execution_count": 149,
     "metadata": {},
     "output_type": "execute_result"
    }
   ],
   "source": [
    "mergeddf.shape"
   ]
  },
  {
   "cell_type": "code",
   "execution_count": 150,
   "metadata": {},
   "outputs": [
    {
     "data": {
      "text/plain": [
       "objectid_SR                          0\n",
       "srcategory                           0\n",
       "srtype                               0\n",
       "srpriority                           0\n",
       "srsource                             0\n",
       "srstatus                             0\n",
       "srresolution                     54460\n",
       "boroughcode                        234\n",
       "communityboard                     203\n",
       "zipcode                          18379\n",
       "citycouncil                      18499\n",
       "statesenate                      18499\n",
       "stateassembly                    30322\n",
       "congressional                    18499\n",
       "servicerequestparentglobalid    557724\n",
       "SRGlobalID                           0\n",
       "initiateddate                    33877\n",
       "SRClosedDate                    111957\n",
       "SRCreatedDate                        0\n",
       "SRUpdatedDate                    32237\n",
       "descriptor1                      33826\n",
       "complainttype                        0\n",
       "latitude_SR                      64804\n",
       "longitude_SR                     64804\n",
       "census_tract                     64804\n",
       "bin                              79534\n",
       "bbl                              79534\n",
       "nta                              64804\n",
       "complaintdetails                132977\n",
       "parkname                        720596\n",
       "parkzone                        731965\n",
       "GLOBAL_ID                            0\n",
       "geometry_SR                      64804\n",
       "STATEFP                          64845\n",
       "COUNTYFP                         64845\n",
       "TRACTCE                          64845\n",
       "AFFGEOID                         64845\n",
       "GEOID                            64845\n",
       "NAME                             64845\n",
       "LSAD                             64845\n",
       "objectid_I                      713179\n",
       "inspectiontype                  713179\n",
       "inspectiontpcondition           714050\n",
       "inspectiontpstructure           714055\n",
       "treepointdbh                    714528\n",
       "treepointglobalid               714046\n",
       "plantingspaceglobalid           713179\n",
       "InsGlobalID                          0\n",
       "inspectiondate                  713184\n",
       "InsClosedDate                   713808\n",
       "InsCreatedDate                  713179\n",
       "InsUpdatedDate                  728127\n",
       "parentinspectionglobalid        740505\n",
       "reinspectiondate                740505\n",
       "objectid                        724765\n",
       "wotype                          724767\n",
       "wostatus                        724765\n",
       "wocategory                      724765\n",
       "zipcode_WO                      724912\n",
       "WOGlobalID                      724765\n",
       "WOCreatedDate                   724765\n",
       "WOUpdatedDate                   730526\n",
       "woentity                        724765\n",
       "woproject                       737569\n",
       "recommendedspecies              737699\n",
       "wopriority                      726695\n",
       "actualfinishdate                734760\n",
       "WOClosedDate                    734390\n",
       "cancelreason                    739996\n",
       "canceldate                      740026\n",
       "sidewalkdamage                  739377\n",
       "projstartdate                   740355\n",
       "objectid_RA                     715403\n",
       "radefect                        715403\n",
       "radefectlocation                715409\n",
       "failure                         715403\n",
       "impacttarget                    715403\n",
       "consequence                     715403\n",
       "riskrating                           0\n",
       "RAGlobalID                      715403\n",
       "RACreatedDate                   715403\n",
       "failureimpact                   715403\n",
       "workorderglobalid               730589\n",
       "dtype: int64"
      ]
     },
     "execution_count": 150,
     "metadata": {},
     "output_type": "execute_result"
    }
   ],
   "source": [
    "mergeddf.isna().sum()"
   ]
  },
  {
   "cell_type": "code",
   "execution_count": 159,
   "metadata": {},
   "outputs": [],
   "source": [
    "# should drop more nulls, accidentally deleted a cell, so can't run this now because drops all rows...\n",
    "df = mergeddf#.dropna()"
   ]
  },
  {
   "cell_type": "code",
   "execution_count": 160,
   "metadata": {
    "scrolled": true
   },
   "outputs": [
    {
     "data": {
      "text/plain": [
       "(740617, 83)"
      ]
     },
     "execution_count": 160,
     "metadata": {},
     "output_type": "execute_result"
    }
   ],
   "source": [
    "df.shape"
   ]
  },
  {
   "cell_type": "code",
   "execution_count": 161,
   "metadata": {},
   "outputs": [
    {
     "data": {
      "text/html": [
       "<div>\n",
       "<style scoped>\n",
       "    .dataframe tbody tr th:only-of-type {\n",
       "        vertical-align: middle;\n",
       "    }\n",
       "\n",
       "    .dataframe tbody tr th {\n",
       "        vertical-align: top;\n",
       "    }\n",
       "\n",
       "    .dataframe thead th {\n",
       "        text-align: right;\n",
       "    }\n",
       "</style>\n",
       "<table border=\"1\" class=\"dataframe\">\n",
       "  <thead>\n",
       "    <tr style=\"text-align: right;\">\n",
       "      <th></th>\n",
       "      <th>objectid_SR</th>\n",
       "      <th>srcategory</th>\n",
       "      <th>srtype</th>\n",
       "      <th>srpriority</th>\n",
       "      <th>srsource</th>\n",
       "      <th>srstatus</th>\n",
       "      <th>srresolution</th>\n",
       "      <th>boroughcode</th>\n",
       "      <th>communityboard</th>\n",
       "      <th>zipcode</th>\n",
       "      <th>citycouncil</th>\n",
       "      <th>statesenate</th>\n",
       "      <th>stateassembly</th>\n",
       "      <th>congressional</th>\n",
       "      <th>servicerequestparentglobalid</th>\n",
       "      <th>SRGlobalID</th>\n",
       "      <th>initiateddate</th>\n",
       "      <th>SRClosedDate</th>\n",
       "      <th>SRCreatedDate</th>\n",
       "      <th>SRUpdatedDate</th>\n",
       "      <th>descriptor1</th>\n",
       "      <th>complainttype</th>\n",
       "      <th>latitude_SR</th>\n",
       "      <th>longitude_SR</th>\n",
       "      <th>census_tract</th>\n",
       "      <th>bin</th>\n",
       "      <th>bbl</th>\n",
       "      <th>nta</th>\n",
       "      <th>complaintdetails</th>\n",
       "      <th>parkname</th>\n",
       "      <th>parkzone</th>\n",
       "      <th>GLOBAL_ID</th>\n",
       "      <th>geometry_SR</th>\n",
       "      <th>STATEFP</th>\n",
       "      <th>COUNTYFP</th>\n",
       "      <th>TRACTCE</th>\n",
       "      <th>AFFGEOID</th>\n",
       "      <th>GEOID</th>\n",
       "      <th>NAME</th>\n",
       "      <th>LSAD</th>\n",
       "      <th>objectid_I</th>\n",
       "      <th>inspectiontype</th>\n",
       "      <th>inspectiontpcondition</th>\n",
       "      <th>inspectiontpstructure</th>\n",
       "      <th>treepointdbh</th>\n",
       "      <th>treepointglobalid</th>\n",
       "      <th>plantingspaceglobalid</th>\n",
       "      <th>InsGlobalID</th>\n",
       "      <th>inspectiondate</th>\n",
       "      <th>InsClosedDate</th>\n",
       "      <th>InsCreatedDate</th>\n",
       "      <th>InsUpdatedDate</th>\n",
       "      <th>parentinspectionglobalid</th>\n",
       "      <th>reinspectiondate</th>\n",
       "      <th>objectid</th>\n",
       "      <th>wotype</th>\n",
       "      <th>wostatus</th>\n",
       "      <th>wocategory</th>\n",
       "      <th>zipcode_WO</th>\n",
       "      <th>WOGlobalID</th>\n",
       "      <th>WOCreatedDate</th>\n",
       "      <th>WOUpdatedDate</th>\n",
       "      <th>woentity</th>\n",
       "      <th>woproject</th>\n",
       "      <th>recommendedspecies</th>\n",
       "      <th>wopriority</th>\n",
       "      <th>actualfinishdate</th>\n",
       "      <th>WOClosedDate</th>\n",
       "      <th>cancelreason</th>\n",
       "      <th>canceldate</th>\n",
       "      <th>sidewalkdamage</th>\n",
       "      <th>projstartdate</th>\n",
       "      <th>objectid_RA</th>\n",
       "      <th>radefect</th>\n",
       "      <th>radefectlocation</th>\n",
       "      <th>failure</th>\n",
       "      <th>impacttarget</th>\n",
       "      <th>consequence</th>\n",
       "      <th>riskrating</th>\n",
       "      <th>RAGlobalID</th>\n",
       "      <th>RACreatedDate</th>\n",
       "      <th>failureimpact</th>\n",
       "      <th>workorderglobalid</th>\n",
       "    </tr>\n",
       "  </thead>\n",
       "  <tbody>\n",
       "    <tr>\n",
       "      <th>0</th>\n",
       "      <td>17579546</td>\n",
       "      <td>Remove Tree</td>\n",
       "      <td>Dead Tree Older Than 2 Years</td>\n",
       "      <td>Routine</td>\n",
       "      <td>Department of Parks and Recreation - Public We...</td>\n",
       "      <td>Closed</td>\n",
       "      <td>Inspected - Condition Not Found</td>\n",
       "      <td>Brooklyn</td>\n",
       "      <td>310</td>\n",
       "      <td>11209</td>\n",
       "      <td>43</td>\n",
       "      <td>22</td>\n",
       "      <td>64</td>\n",
       "      <td>11</td>\n",
       "      <td>20CCF930-5FD1-4B09-9AA3-8576E1744415</td>\n",
       "      <td>FFA207F8-4B0A-46E3-96F8-252A40661027</td>\n",
       "      <td>05/19/2020 14:20:45</td>\n",
       "      <td>05/21/2020 14:19:51</td>\n",
       "      <td>05/19/2020 14:20:00</td>\n",
       "      <td>05/21/2020 14:19:51</td>\n",
       "      <td>Planted More Than 2 Years Ago</td>\n",
       "      <td>Dead/Dying Tree</td>\n",
       "      <td>40.628261</td>\n",
       "      <td>-74.027653</td>\n",
       "      <td>64</td>\n",
       "      <td>3150325</td>\n",
       "      <td>3059690065</td>\n",
       "      <td>Bay Ridge</td>\n",
       "      <td>NaN</td>\n",
       "      <td>NaN</td>\n",
       "      <td>NaN</td>\n",
       "      <td>20CCF930-5FD1-4B09-9AA3-8576E1744415</td>\n",
       "      <td>POINT (-74.02765 40.62826)</td>\n",
       "      <td>36</td>\n",
       "      <td>047</td>\n",
       "      <td>006400</td>\n",
       "      <td>1400000US36047006400</td>\n",
       "      <td>36047006400</td>\n",
       "      <td>64</td>\n",
       "      <td>CT</td>\n",
       "      <td>NaN</td>\n",
       "      <td>NaN</td>\n",
       "      <td>NaN</td>\n",
       "      <td>NaN</td>\n",
       "      <td>NaN</td>\n",
       "      <td>NaN</td>\n",
       "      <td>NaN</td>\n",
       "      <td>0</td>\n",
       "      <td>NaN</td>\n",
       "      <td>NaN</td>\n",
       "      <td>NaN</td>\n",
       "      <td>NaN</td>\n",
       "      <td>NaN</td>\n",
       "      <td>NaN</td>\n",
       "      <td>NaN</td>\n",
       "      <td>NaN</td>\n",
       "      <td>NaN</td>\n",
       "      <td>NaN</td>\n",
       "      <td>NaN</td>\n",
       "      <td>NaN</td>\n",
       "      <td>NaN</td>\n",
       "      <td>NaN</td>\n",
       "      <td>NaN</td>\n",
       "      <td>NaN</td>\n",
       "      <td>NaN</td>\n",
       "      <td>NaN</td>\n",
       "      <td>NaN</td>\n",
       "      <td>NaN</td>\n",
       "      <td>NaN</td>\n",
       "      <td>NaN</td>\n",
       "      <td>NaN</td>\n",
       "      <td>NaN</td>\n",
       "      <td>NaN</td>\n",
       "      <td>NaN</td>\n",
       "      <td>NaN</td>\n",
       "      <td>NaN</td>\n",
       "      <td>NaN</td>\n",
       "      <td>NaN</td>\n",
       "      <td>0</td>\n",
       "      <td>NaN</td>\n",
       "      <td>NaN</td>\n",
       "      <td>NaN</td>\n",
       "      <td>NaN</td>\n",
       "    </tr>\n",
       "    <tr>\n",
       "      <th>1</th>\n",
       "      <td>17616360</td>\n",
       "      <td>Hazard</td>\n",
       "      <td>Limb Down - Street</td>\n",
       "      <td>Routine</td>\n",
       "      <td>3-1-1 Call Center</td>\n",
       "      <td>Closed</td>\n",
       "      <td>Work Completed</td>\n",
       "      <td>Staten Island</td>\n",
       "      <td>501</td>\n",
       "      <td>10301</td>\n",
       "      <td>49</td>\n",
       "      <td>23</td>\n",
       "      <td>61</td>\n",
       "      <td>11</td>\n",
       "      <td>NaN</td>\n",
       "      <td>6E6381BF-3C40-4B04-AB17-3D676E71F99A</td>\n",
       "      <td>05/23/2020 20:47:06</td>\n",
       "      <td>05/26/2020 13:26:35</td>\n",
       "      <td>05/23/2020 21:12:00</td>\n",
       "      <td>05/26/2020 13:26:35</td>\n",
       "      <td>Branch or Limb Has Fallen Down</td>\n",
       "      <td>Damaged Tree</td>\n",
       "      <td>NaN</td>\n",
       "      <td>NaN</td>\n",
       "      <td>NaN</td>\n",
       "      <td>NaN</td>\n",
       "      <td>NaN</td>\n",
       "      <td>NaN</td>\n",
       "      <td>LARGE BRANCHES FROM A CITY TREE HAVE FALLEN IN...</td>\n",
       "      <td>NaN</td>\n",
       "      <td>NaN</td>\n",
       "      <td>6E6381BF-3C40-4B04-AB17-3D676E71F99A</td>\n",
       "      <td>None</td>\n",
       "      <td>NaN</td>\n",
       "      <td>NaN</td>\n",
       "      <td>NaN</td>\n",
       "      <td>NaN</td>\n",
       "      <td>NaN</td>\n",
       "      <td>NaN</td>\n",
       "      <td>NaN</td>\n",
       "      <td>NaN</td>\n",
       "      <td>NaN</td>\n",
       "      <td>NaN</td>\n",
       "      <td>NaN</td>\n",
       "      <td>NaN</td>\n",
       "      <td>NaN</td>\n",
       "      <td>NaN</td>\n",
       "      <td>0</td>\n",
       "      <td>NaN</td>\n",
       "      <td>NaN</td>\n",
       "      <td>NaN</td>\n",
       "      <td>NaN</td>\n",
       "      <td>NaN</td>\n",
       "      <td>NaN</td>\n",
       "      <td>NaN</td>\n",
       "      <td>NaN</td>\n",
       "      <td>NaN</td>\n",
       "      <td>NaN</td>\n",
       "      <td>NaN</td>\n",
       "      <td>NaN</td>\n",
       "      <td>NaN</td>\n",
       "      <td>NaN</td>\n",
       "      <td>NaN</td>\n",
       "      <td>NaN</td>\n",
       "      <td>NaN</td>\n",
       "      <td>NaN</td>\n",
       "      <td>NaN</td>\n",
       "      <td>NaN</td>\n",
       "      <td>NaN</td>\n",
       "      <td>NaN</td>\n",
       "      <td>NaN</td>\n",
       "      <td>NaN</td>\n",
       "      <td>NaN</td>\n",
       "      <td>NaN</td>\n",
       "      <td>NaN</td>\n",
       "      <td>NaN</td>\n",
       "      <td>NaN</td>\n",
       "      <td>NaN</td>\n",
       "      <td>0</td>\n",
       "      <td>NaN</td>\n",
       "      <td>NaN</td>\n",
       "      <td>NaN</td>\n",
       "      <td>NaN</td>\n",
       "    </tr>\n",
       "    <tr>\n",
       "      <th>2</th>\n",
       "      <td>17575577</td>\n",
       "      <td>Hazard</td>\n",
       "      <td>Tree Split</td>\n",
       "      <td>Routine</td>\n",
       "      <td>3-1-1 Call Center</td>\n",
       "      <td>Closed</td>\n",
       "      <td>Inspected - No Work Order</td>\n",
       "      <td>Brooklyn</td>\n",
       "      <td>302</td>\n",
       "      <td>11238</td>\n",
       "      <td>35</td>\n",
       "      <td>25</td>\n",
       "      <td>57</td>\n",
       "      <td>8</td>\n",
       "      <td>NaN</td>\n",
       "      <td>E6BB2CF4-6559-4ADD-B064-17069BC1B20F</td>\n",
       "      <td>05/18/2020 23:11:51</td>\n",
       "      <td>05/19/2020 15:26:25</td>\n",
       "      <td>05/19/2020 00:00:17</td>\n",
       "      <td>05/19/2020 15:26:25</td>\n",
       "      <td>Tree Trunk Split</td>\n",
       "      <td>Damaged Tree</td>\n",
       "      <td>40.685902</td>\n",
       "      <td>-73.963283</td>\n",
       "      <td>201</td>\n",
       "      <td>3056193</td>\n",
       "      <td>3019650016</td>\n",
       "      <td>Clinton Hill</td>\n",
       "      <td>THERE'S A TREE THAT HAS A CRACKED AROUND IT. &amp;...</td>\n",
       "      <td>NaN</td>\n",
       "      <td>NaN</td>\n",
       "      <td>E6BB2CF4-6559-4ADD-B064-17069BC1B20F</td>\n",
       "      <td>POINT (-73.96328 40.68590)</td>\n",
       "      <td>36</td>\n",
       "      <td>047</td>\n",
       "      <td>020100</td>\n",
       "      <td>1400000US36047020100</td>\n",
       "      <td>36047020100</td>\n",
       "      <td>201</td>\n",
       "      <td>CT</td>\n",
       "      <td>NaN</td>\n",
       "      <td>NaN</td>\n",
       "      <td>NaN</td>\n",
       "      <td>NaN</td>\n",
       "      <td>NaN</td>\n",
       "      <td>NaN</td>\n",
       "      <td>NaN</td>\n",
       "      <td>0</td>\n",
       "      <td>NaN</td>\n",
       "      <td>NaN</td>\n",
       "      <td>NaN</td>\n",
       "      <td>NaN</td>\n",
       "      <td>NaN</td>\n",
       "      <td>NaN</td>\n",
       "      <td>NaN</td>\n",
       "      <td>NaN</td>\n",
       "      <td>NaN</td>\n",
       "      <td>NaN</td>\n",
       "      <td>NaN</td>\n",
       "      <td>NaN</td>\n",
       "      <td>NaN</td>\n",
       "      <td>NaN</td>\n",
       "      <td>NaN</td>\n",
       "      <td>NaN</td>\n",
       "      <td>NaN</td>\n",
       "      <td>NaN</td>\n",
       "      <td>NaN</td>\n",
       "      <td>NaN</td>\n",
       "      <td>NaN</td>\n",
       "      <td>NaN</td>\n",
       "      <td>NaN</td>\n",
       "      <td>NaN</td>\n",
       "      <td>NaN</td>\n",
       "      <td>NaN</td>\n",
       "      <td>NaN</td>\n",
       "      <td>NaN</td>\n",
       "      <td>NaN</td>\n",
       "      <td>NaN</td>\n",
       "      <td>0</td>\n",
       "      <td>NaN</td>\n",
       "      <td>NaN</td>\n",
       "      <td>NaN</td>\n",
       "      <td>NaN</td>\n",
       "    </tr>\n",
       "    <tr>\n",
       "      <th>3</th>\n",
       "      <td>17251858</td>\n",
       "      <td>Prune</td>\n",
       "      <td>Prune Dead Wood</td>\n",
       "      <td>Routine</td>\n",
       "      <td>Correspondence</td>\n",
       "      <td>Closed</td>\n",
       "      <td>Work Completed</td>\n",
       "      <td>Brooklyn</td>\n",
       "      <td>306</td>\n",
       "      <td>11217</td>\n",
       "      <td>33</td>\n",
       "      <td>25</td>\n",
       "      <td>52</td>\n",
       "      <td>7</td>\n",
       "      <td>NaN</td>\n",
       "      <td>5DD596B0-B9BF-4A8B-B167-1C80B96B7AC4</td>\n",
       "      <td>NaN</td>\n",
       "      <td>05/18/2020 19:12:00</td>\n",
       "      <td>04/03/2020 18:35:00</td>\n",
       "      <td>05/18/2020 19:12:00</td>\n",
       "      <td>NaN</td>\n",
       "      <td>None Selected</td>\n",
       "      <td>40.680708</td>\n",
       "      <td>-73.985308</td>\n",
       "      <td>127</td>\n",
       "      <td>3006610</td>\n",
       "      <td>3004120050</td>\n",
       "      <td>DUMBO-Vinegar Hill-Downtown Brooklyn-Boerum Hill</td>\n",
       "      <td>DIA# 114775, deadwood.</td>\n",
       "      <td>NaN</td>\n",
       "      <td>NaN</td>\n",
       "      <td>5DD596B0-B9BF-4A8B-B167-1C80B96B7AC4</td>\n",
       "      <td>POINT (-73.98531 40.68071)</td>\n",
       "      <td>36</td>\n",
       "      <td>047</td>\n",
       "      <td>012700</td>\n",
       "      <td>1400000US36047012700</td>\n",
       "      <td>36047012700</td>\n",
       "      <td>127</td>\n",
       "      <td>CT</td>\n",
       "      <td>NaN</td>\n",
       "      <td>NaN</td>\n",
       "      <td>NaN</td>\n",
       "      <td>NaN</td>\n",
       "      <td>NaN</td>\n",
       "      <td>NaN</td>\n",
       "      <td>NaN</td>\n",
       "      <td>0</td>\n",
       "      <td>NaN</td>\n",
       "      <td>NaN</td>\n",
       "      <td>NaN</td>\n",
       "      <td>NaN</td>\n",
       "      <td>NaN</td>\n",
       "      <td>NaN</td>\n",
       "      <td>NaN</td>\n",
       "      <td>NaN</td>\n",
       "      <td>NaN</td>\n",
       "      <td>NaN</td>\n",
       "      <td>NaN</td>\n",
       "      <td>NaN</td>\n",
       "      <td>NaN</td>\n",
       "      <td>NaN</td>\n",
       "      <td>NaN</td>\n",
       "      <td>NaN</td>\n",
       "      <td>NaN</td>\n",
       "      <td>NaN</td>\n",
       "      <td>NaN</td>\n",
       "      <td>NaN</td>\n",
       "      <td>NaN</td>\n",
       "      <td>NaN</td>\n",
       "      <td>NaN</td>\n",
       "      <td>NaN</td>\n",
       "      <td>NaN</td>\n",
       "      <td>NaN</td>\n",
       "      <td>NaN</td>\n",
       "      <td>NaN</td>\n",
       "      <td>NaN</td>\n",
       "      <td>NaN</td>\n",
       "      <td>0</td>\n",
       "      <td>NaN</td>\n",
       "      <td>NaN</td>\n",
       "      <td>NaN</td>\n",
       "      <td>NaN</td>\n",
       "    </tr>\n",
       "    <tr>\n",
       "      <th>4</th>\n",
       "      <td>17651915</td>\n",
       "      <td>Hazard</td>\n",
       "      <td>Hanging Limb from other Branches</td>\n",
       "      <td>Routine</td>\n",
       "      <td>3-1-1 Call Center</td>\n",
       "      <td>Closed</td>\n",
       "      <td>No Action - Jurisdiction</td>\n",
       "      <td>Brooklyn</td>\n",
       "      <td>306</td>\n",
       "      <td>11217</td>\n",
       "      <td>33</td>\n",
       "      <td>25</td>\n",
       "      <td>52</td>\n",
       "      <td>7</td>\n",
       "      <td>F9C3B1CB-C8D2-4C03-865A-70C9AF8F8D0D</td>\n",
       "      <td>6C5FFB7E-14FB-4D2C-8B2D-4FE2A4A474AE</td>\n",
       "      <td>05/28/2020 14:19:52</td>\n",
       "      <td>05/29/2020 16:29:59</td>\n",
       "      <td>05/28/2020 15:00:10</td>\n",
       "      <td>05/29/2020 16:29:59</td>\n",
       "      <td>Branch Cracked and Will Fall</td>\n",
       "      <td>Damaged Tree</td>\n",
       "      <td>40.681963</td>\n",
       "      <td>-73.986472</td>\n",
       "      <td>71</td>\n",
       "      <td>3336080</td>\n",
       "      <td>3004050051</td>\n",
       "      <td>DUMBO-Vinegar Hill-Downtown Brooklyn-Boerum Hill</td>\n",
       "      <td>Five trees being crushed by scaffolding</td>\n",
       "      <td>NaN</td>\n",
       "      <td>NaN</td>\n",
       "      <td>F9C3B1CB-C8D2-4C03-865A-70C9AF8F8D0D</td>\n",
       "      <td>POINT (-73.98647 40.68196)</td>\n",
       "      <td>36</td>\n",
       "      <td>047</td>\n",
       "      <td>007100</td>\n",
       "      <td>1400000US36047007100</td>\n",
       "      <td>36047007100</td>\n",
       "      <td>71</td>\n",
       "      <td>CT</td>\n",
       "      <td>NaN</td>\n",
       "      <td>NaN</td>\n",
       "      <td>NaN</td>\n",
       "      <td>NaN</td>\n",
       "      <td>NaN</td>\n",
       "      <td>NaN</td>\n",
       "      <td>NaN</td>\n",
       "      <td>0</td>\n",
       "      <td>NaN</td>\n",
       "      <td>NaN</td>\n",
       "      <td>NaN</td>\n",
       "      <td>NaN</td>\n",
       "      <td>NaN</td>\n",
       "      <td>NaN</td>\n",
       "      <td>NaN</td>\n",
       "      <td>NaN</td>\n",
       "      <td>NaN</td>\n",
       "      <td>NaN</td>\n",
       "      <td>NaN</td>\n",
       "      <td>NaN</td>\n",
       "      <td>NaN</td>\n",
       "      <td>NaN</td>\n",
       "      <td>NaN</td>\n",
       "      <td>NaN</td>\n",
       "      <td>NaN</td>\n",
       "      <td>NaN</td>\n",
       "      <td>NaN</td>\n",
       "      <td>NaN</td>\n",
       "      <td>NaN</td>\n",
       "      <td>NaN</td>\n",
       "      <td>NaN</td>\n",
       "      <td>NaN</td>\n",
       "      <td>NaN</td>\n",
       "      <td>NaN</td>\n",
       "      <td>NaN</td>\n",
       "      <td>NaN</td>\n",
       "      <td>NaN</td>\n",
       "      <td>NaN</td>\n",
       "      <td>0</td>\n",
       "      <td>NaN</td>\n",
       "      <td>NaN</td>\n",
       "      <td>NaN</td>\n",
       "      <td>NaN</td>\n",
       "    </tr>\n",
       "  </tbody>\n",
       "</table>\n",
       "</div>"
      ],
      "text/plain": [
       "  objectid_SR   srcategory                            srtype srpriority  \\\n",
       "0    17579546  Remove Tree      Dead Tree Older Than 2 Years    Routine   \n",
       "1    17616360       Hazard                Limb Down - Street    Routine   \n",
       "2    17575577       Hazard                        Tree Split    Routine   \n",
       "3    17251858        Prune                   Prune Dead Wood    Routine   \n",
       "4    17651915       Hazard  Hanging Limb from other Branches    Routine   \n",
       "\n",
       "                                            srsource srstatus  \\\n",
       "0  Department of Parks and Recreation - Public We...   Closed   \n",
       "1                                  3-1-1 Call Center   Closed   \n",
       "2                                  3-1-1 Call Center   Closed   \n",
       "3                                     Correspondence   Closed   \n",
       "4                                  3-1-1 Call Center   Closed   \n",
       "\n",
       "                      srresolution    boroughcode communityboard zipcode  \\\n",
       "0  Inspected - Condition Not Found       Brooklyn            310   11209   \n",
       "1                   Work Completed  Staten Island            501   10301   \n",
       "2        Inspected - No Work Order       Brooklyn            302   11238   \n",
       "3                   Work Completed       Brooklyn            306   11217   \n",
       "4         No Action - Jurisdiction       Brooklyn            306   11217   \n",
       "\n",
       "  citycouncil statesenate stateassembly congressional  \\\n",
       "0          43          22            64            11   \n",
       "1          49          23            61            11   \n",
       "2          35          25            57             8   \n",
       "3          33          25            52             7   \n",
       "4          33          25            52             7   \n",
       "\n",
       "           servicerequestparentglobalid                            SRGlobalID  \\\n",
       "0  20CCF930-5FD1-4B09-9AA3-8576E1744415  FFA207F8-4B0A-46E3-96F8-252A40661027   \n",
       "1                                   NaN  6E6381BF-3C40-4B04-AB17-3D676E71F99A   \n",
       "2                                   NaN  E6BB2CF4-6559-4ADD-B064-17069BC1B20F   \n",
       "3                                   NaN  5DD596B0-B9BF-4A8B-B167-1C80B96B7AC4   \n",
       "4  F9C3B1CB-C8D2-4C03-865A-70C9AF8F8D0D  6C5FFB7E-14FB-4D2C-8B2D-4FE2A4A474AE   \n",
       "\n",
       "         initiateddate         SRClosedDate        SRCreatedDate  \\\n",
       "0  05/19/2020 14:20:45  05/21/2020 14:19:51  05/19/2020 14:20:00   \n",
       "1  05/23/2020 20:47:06  05/26/2020 13:26:35  05/23/2020 21:12:00   \n",
       "2  05/18/2020 23:11:51  05/19/2020 15:26:25  05/19/2020 00:00:17   \n",
       "3                  NaN  05/18/2020 19:12:00  04/03/2020 18:35:00   \n",
       "4  05/28/2020 14:19:52  05/29/2020 16:29:59  05/28/2020 15:00:10   \n",
       "\n",
       "         SRUpdatedDate                     descriptor1    complainttype  \\\n",
       "0  05/21/2020 14:19:51   Planted More Than 2 Years Ago  Dead/Dying Tree   \n",
       "1  05/26/2020 13:26:35  Branch or Limb Has Fallen Down     Damaged Tree   \n",
       "2  05/19/2020 15:26:25                Tree Trunk Split     Damaged Tree   \n",
       "3  05/18/2020 19:12:00                             NaN    None Selected   \n",
       "4  05/29/2020 16:29:59    Branch Cracked and Will Fall     Damaged Tree   \n",
       "\n",
       "   latitude_SR  longitude_SR census_tract      bin         bbl  \\\n",
       "0    40.628261    -74.027653           64  3150325  3059690065   \n",
       "1          NaN           NaN          NaN      NaN         NaN   \n",
       "2    40.685902    -73.963283          201  3056193  3019650016   \n",
       "3    40.680708    -73.985308          127  3006610  3004120050   \n",
       "4    40.681963    -73.986472           71  3336080  3004050051   \n",
       "\n",
       "                                                nta  \\\n",
       "0                                         Bay Ridge   \n",
       "1                                               NaN   \n",
       "2                                      Clinton Hill   \n",
       "3  DUMBO-Vinegar Hill-Downtown Brooklyn-Boerum Hill   \n",
       "4  DUMBO-Vinegar Hill-Downtown Brooklyn-Boerum Hill   \n",
       "\n",
       "                                    complaintdetails parkname parkzone  \\\n",
       "0                                                NaN      NaN      NaN   \n",
       "1  LARGE BRANCHES FROM A CITY TREE HAVE FALLEN IN...      NaN      NaN   \n",
       "2  THERE'S A TREE THAT HAS A CRACKED AROUND IT. &...      NaN      NaN   \n",
       "3                             DIA# 114775, deadwood.      NaN      NaN   \n",
       "4            Five trees being crushed by scaffolding      NaN      NaN   \n",
       "\n",
       "                              GLOBAL_ID                 geometry_SR STATEFP  \\\n",
       "0  20CCF930-5FD1-4B09-9AA3-8576E1744415  POINT (-74.02765 40.62826)      36   \n",
       "1  6E6381BF-3C40-4B04-AB17-3D676E71F99A                        None     NaN   \n",
       "2  E6BB2CF4-6559-4ADD-B064-17069BC1B20F  POINT (-73.96328 40.68590)      36   \n",
       "3  5DD596B0-B9BF-4A8B-B167-1C80B96B7AC4  POINT (-73.98531 40.68071)      36   \n",
       "4  F9C3B1CB-C8D2-4C03-865A-70C9AF8F8D0D  POINT (-73.98647 40.68196)      36   \n",
       "\n",
       "  COUNTYFP TRACTCE              AFFGEOID        GEOID NAME LSAD objectid_I  \\\n",
       "0      047  006400  1400000US36047006400  36047006400   64   CT        NaN   \n",
       "1      NaN     NaN                   NaN          NaN  NaN  NaN        NaN   \n",
       "2      047  020100  1400000US36047020100  36047020100  201   CT        NaN   \n",
       "3      047  012700  1400000US36047012700  36047012700  127   CT        NaN   \n",
       "4      047  007100  1400000US36047007100  36047007100   71   CT        NaN   \n",
       "\n",
       "  inspectiontype inspectiontpcondition inspectiontpstructure treepointdbh  \\\n",
       "0            NaN                   NaN                   NaN          NaN   \n",
       "1            NaN                   NaN                   NaN          NaN   \n",
       "2            NaN                   NaN                   NaN          NaN   \n",
       "3            NaN                   NaN                   NaN          NaN   \n",
       "4            NaN                   NaN                   NaN          NaN   \n",
       "\n",
       "  treepointglobalid plantingspaceglobalid InsGlobalID inspectiondate  \\\n",
       "0               NaN                   NaN           0            NaN   \n",
       "1               NaN                   NaN           0            NaN   \n",
       "2               NaN                   NaN           0            NaN   \n",
       "3               NaN                   NaN           0            NaN   \n",
       "4               NaN                   NaN           0            NaN   \n",
       "\n",
       "  InsClosedDate InsCreatedDate InsUpdatedDate parentinspectionglobalid  \\\n",
       "0           NaN            NaN            NaN                      NaN   \n",
       "1           NaN            NaN            NaN                      NaN   \n",
       "2           NaN            NaN            NaN                      NaN   \n",
       "3           NaN            NaN            NaN                      NaN   \n",
       "4           NaN            NaN            NaN                      NaN   \n",
       "\n",
       "  reinspectiondate objectid wotype wostatus wocategory zipcode_WO WOGlobalID  \\\n",
       "0              NaN      NaN    NaN      NaN        NaN        NaN        NaN   \n",
       "1              NaN      NaN    NaN      NaN        NaN        NaN        NaN   \n",
       "2              NaN      NaN    NaN      NaN        NaN        NaN        NaN   \n",
       "3              NaN      NaN    NaN      NaN        NaN        NaN        NaN   \n",
       "4              NaN      NaN    NaN      NaN        NaN        NaN        NaN   \n",
       "\n",
       "  WOCreatedDate WOUpdatedDate woentity woproject recommendedspecies  \\\n",
       "0           NaN           NaN      NaN       NaN                NaN   \n",
       "1           NaN           NaN      NaN       NaN                NaN   \n",
       "2           NaN           NaN      NaN       NaN                NaN   \n",
       "3           NaN           NaN      NaN       NaN                NaN   \n",
       "4           NaN           NaN      NaN       NaN                NaN   \n",
       "\n",
       "  wopriority actualfinishdate WOClosedDate cancelreason canceldate  \\\n",
       "0        NaN              NaN          NaN          NaN        NaN   \n",
       "1        NaN              NaN          NaN          NaN        NaN   \n",
       "2        NaN              NaN          NaN          NaN        NaN   \n",
       "3        NaN              NaN          NaN          NaN        NaN   \n",
       "4        NaN              NaN          NaN          NaN        NaN   \n",
       "\n",
       "  sidewalkdamage projstartdate objectid_RA radefect radefectlocation failure  \\\n",
       "0            NaN           NaN         NaN      NaN              NaN     NaN   \n",
       "1            NaN           NaN         NaN      NaN              NaN     NaN   \n",
       "2            NaN           NaN         NaN      NaN              NaN     NaN   \n",
       "3            NaN           NaN         NaN      NaN              NaN     NaN   \n",
       "4            NaN           NaN         NaN      NaN              NaN     NaN   \n",
       "\n",
       "  impacttarget consequence riskrating RAGlobalID RACreatedDate failureimpact  \\\n",
       "0          NaN         NaN          0        NaN           NaN           NaN   \n",
       "1          NaN         NaN          0        NaN           NaN           NaN   \n",
       "2          NaN         NaN          0        NaN           NaN           NaN   \n",
       "3          NaN         NaN          0        NaN           NaN           NaN   \n",
       "4          NaN         NaN          0        NaN           NaN           NaN   \n",
       "\n",
       "  workorderglobalid  \n",
       "0               NaN  \n",
       "1               NaN  \n",
       "2               NaN  \n",
       "3               NaN  \n",
       "4               NaN  "
      ]
     },
     "execution_count": 161,
     "metadata": {},
     "output_type": "execute_result"
    }
   ],
   "source": [
    "df.head()"
   ]
  },
  {
   "cell_type": "markdown",
   "metadata": {},
   "source": [
    "# prepare to export to geojson"
   ]
  },
  {
   "cell_type": "code",
   "execution_count": 116,
   "metadata": {},
   "outputs": [],
   "source": [
    "# adapted from https://notebook.community/captainsafia/nteract/applications/desktop/example-notebooks/pandas-to-geojson\n",
    "def df_to_geojson(df, properties, lat='latitude', lon='longitude'):\n",
    "    # create a new python dict to contain our geojson data, using geojson format\n",
    "    geojson = {'features':[], 'type':'FeatureCollection'}\n",
    "\n",
    "    # loop through each row in the dataframe and convert each row to geojson format\n",
    "    for _, row in df.iterrows():\n",
    "        # create a feature template to fill in\n",
    "        feature = {'type':'Feature',\n",
    "                   'properties':{},\n",
    "                   'geometry':{'coordinates':[],\n",
    "                               'type': 'Point'}\n",
    "                  }\n",
    "\n",
    "        # fill in the coordinates\n",
    "        feature['geometry']['coordinates'] = [row[lon],row[lat]]\n",
    "\n",
    "        # for each column, get the value and add it as a new feature property\n",
    "        for prop in properties:\n",
    "            feature['properties'][prop] = row[prop]\n",
    "        \n",
    "        # add this feature (aka, converted dataframe row) to the list of features inside our dict\n",
    "        geojson['features'].append(feature)\n",
    "    \n",
    "    return geojson"
   ]
  },
  {
   "cell_type": "code",
   "execution_count": 100,
   "metadata": {},
   "outputs": [
    {
     "data": {
      "text/plain": [
       "(675813, 83)"
      ]
     },
     "execution_count": 100,
     "metadata": {},
     "output_type": "execute_result"
    }
   ],
   "source": [
    "df.shape"
   ]
  },
  {
   "cell_type": "code",
   "execution_count": 101,
   "metadata": {},
   "outputs": [
    {
     "data": {
      "text/plain": [
       "Index(['objectid_SR', 'srcategory', 'srtype', 'srpriority', 'srsource',\n",
       "       'srstatus', 'srresolution', 'boroughcode', 'communityboard', 'zipcode',\n",
       "       'citycouncil', 'statesenate', 'stateassembly', 'congressional',\n",
       "       'servicerequestparentglobalid', 'SRGlobalID', 'initiateddate',\n",
       "       'SRClosedDate', 'SRCreatedDate', 'SRUpdatedDate', 'descriptor1',\n",
       "       'complainttype', 'latitude_SR', 'longitude_SR', 'census_tract', 'bin',\n",
       "       'bbl', 'nta', 'complaintdetails', 'parkname', 'parkzone', 'GLOBAL_ID',\n",
       "       'geometry_SR', 'STATEFP', 'COUNTYFP', 'TRACTCE', 'AFFGEOID', 'GEOID',\n",
       "       'NAME', 'LSAD', 'objectid_I', 'inspectiontype', 'inspectiontpcondition',\n",
       "       'inspectiontpstructure', 'treepointdbh', 'treepointglobalid',\n",
       "       'plantingspaceglobalid', 'InsGlobalID', 'inspectiondate',\n",
       "       'InsClosedDate', 'InsCreatedDate', 'InsUpdatedDate',\n",
       "       'parentinspectionglobalid', 'reinspectiondate', 'objectid', 'wotype',\n",
       "       'wostatus', 'wocategory', 'zipcode_WO', 'WOGlobalID', 'WOCreatedDate',\n",
       "       'WOUpdatedDate', 'woentity', 'woproject', 'recommendedspecies',\n",
       "       'wopriority', 'actualfinishdate', 'WOClosedDate', 'cancelreason',\n",
       "       'canceldate', 'sidewalkdamage', 'projstartdate', 'objectid_RA',\n",
       "       'radefect', 'radefectlocation', 'failure', 'impacttarget',\n",
       "       'consequence', 'riskrating', 'RAGlobalID', 'RACreatedDate',\n",
       "       'failureimpact', 'workorderglobalid'],\n",
       "      dtype='object')"
      ]
     },
     "execution_count": 101,
     "metadata": {},
     "output_type": "execute_result"
    }
   ],
   "source": [
    "df.columns"
   ]
  },
  {
   "cell_type": "code",
   "execution_count": null,
   "metadata": {},
   "outputs": [],
   "source": [
    "# get subset of the data\n",
    "# baby_subset = df.sample(7000)"
   ]
  },
  {
   "cell_type": "markdown",
   "metadata": {},
   "source": [
    "## explore columns"
   ]
  },
  {
   "cell_type": "code",
   "execution_count": 137,
   "metadata": {},
   "outputs": [
    {
     "data": {
      "text/plain": [
       "Index(['objectid_SR', 'srcategory', 'srtype', 'srpriority', 'srsource',\n",
       "       'srstatus', 'srresolution', 'boroughcode', 'communityboard', 'zipcode',\n",
       "       'citycouncil', 'statesenate', 'stateassembly', 'congressional',\n",
       "       'servicerequestparentglobalid', 'SRGlobalID', 'initiateddate',\n",
       "       'SRClosedDate', 'SRCreatedDate', 'SRUpdatedDate', 'descriptor1',\n",
       "       'complainttype', 'latitude_SR', 'longitude_SR', 'census_tract', 'bin',\n",
       "       'bbl', 'nta', 'complaintdetails', 'parkname', 'parkzone', 'GLOBAL_ID',\n",
       "       'geometry_SR', 'STATEFP', 'COUNTYFP', 'TRACTCE', 'AFFGEOID', 'GEOID',\n",
       "       'NAME', 'LSAD', 'objectid_I', 'inspectiontype', 'inspectiontpcondition',\n",
       "       'inspectiontpstructure', 'treepointdbh', 'treepointglobalid',\n",
       "       'plantingspaceglobalid', 'InsGlobalID', 'inspectiondate',\n",
       "       'InsClosedDate', 'InsCreatedDate', 'InsUpdatedDate',\n",
       "       'parentinspectionglobalid', 'reinspectiondate', 'objectid', 'wotype',\n",
       "       'wostatus', 'wocategory', 'zipcode_WO', 'WOGlobalID', 'WOCreatedDate',\n",
       "       'WOUpdatedDate', 'woentity', 'woproject', 'recommendedspecies',\n",
       "       'wopriority', 'actualfinishdate', 'WOClosedDate', 'cancelreason',\n",
       "       'canceldate', 'sidewalkdamage', 'projstartdate', 'objectid_RA',\n",
       "       'radefect', 'radefectlocation', 'failure', 'impacttarget',\n",
       "       'consequence', 'riskrating', 'RAGlobalID', 'RACreatedDate',\n",
       "       'failureimpact', 'workorderglobalid', 'inspection_attached',\n",
       "       'wo_attached', 'initiated_year', 'initiated_month'],\n",
       "      dtype='object')"
      ]
     },
     "execution_count": 137,
     "metadata": {},
     "output_type": "execute_result"
    }
   ],
   "source": [
    "df.columns"
   ]
  },
  {
   "cell_type": "code",
   "execution_count": null,
   "metadata": {},
   "outputs": [],
   "source": [
    "df.srcategory.unique()"
   ]
  },
  {
   "cell_type": "code",
   "execution_count": null,
   "metadata": {},
   "outputs": [],
   "source": [
    "df.complainttype.unique()"
   ]
  },
  {
   "cell_type": "code",
   "execution_count": null,
   "metadata": {},
   "outputs": [],
   "source": [
    "df.srtype.unique()"
   ]
  },
  {
   "cell_type": "code",
   "execution_count": null,
   "metadata": {},
   "outputs": [],
   "source": [
    "df.srresolution.unique()"
   ]
  },
  {
   "cell_type": "code",
   "execution_count": null,
   "metadata": {},
   "outputs": [],
   "source": [
    "df.srresolution.unique()"
   ]
  },
  {
   "cell_type": "code",
   "execution_count": null,
   "metadata": {},
   "outputs": [],
   "source": [
    "df.initiateddate.unique()"
   ]
  },
  {
   "cell_type": "code",
   "execution_count": null,
   "metadata": {},
   "outputs": [],
   "source": [
    "df.inspectiontype.unique()"
   ]
  },
  {
   "cell_type": "code",
   "execution_count": null,
   "metadata": {},
   "outputs": [],
   "source": [
    "df.InsCreatedDate.unique()"
   ]
  },
  {
   "cell_type": "code",
   "execution_count": null,
   "metadata": {
    "scrolled": true
   },
   "outputs": [],
   "source": [
    "df[(df.InsCreatedDate != \"N/A\") & (df.inspectiontype == \"N/A\")][[\"InsCreatedDate\", \"inspectiontype\"]]"
   ]
  },
  {
   "cell_type": "code",
   "execution_count": null,
   "metadata": {},
   "outputs": [],
   "source": [
    "len(df[(df.InsCreatedDate != \"N/A\")])"
   ]
  },
  {
   "cell_type": "code",
   "execution_count": null,
   "metadata": {},
   "outputs": [],
   "source": [
    "len(df[(df.inspectiontype != \"N/A\")])"
   ]
  },
  {
   "cell_type": "code",
   "execution_count": null,
   "metadata": {},
   "outputs": [],
   "source": [
    "df.inspectiontpcondition.unique()"
   ]
  },
  {
   "cell_type": "code",
   "execution_count": null,
   "metadata": {},
   "outputs": [],
   "source": [
    "df.inspectiontpstructure.unique()"
   ]
  },
  {
   "cell_type": "code",
   "execution_count": 132,
   "metadata": {},
   "outputs": [
    {
     "data": {
      "text/plain": [
       "array(['N/A', 'Tree Removal', 'Pruning', 'Block Pruning', 'Misc Wood',\n",
       "       'Prune-Traffic 20 Day', 'Limb Down', 'Hanging Limb',\n",
       "       'Pest & Disease Treatment', 'Tree Plant-Street Tree Block',\n",
       "       'Tree Plant-Street Tree', 'Tree Down', 'Stump Removal',\n",
       "       'Prune-Traffic 10 Day', 'Misc Work', 'Tree and Sidewalk Repair',\n",
       "       'Canopy Reduction', 'Stump Removal for Tree Planting',\n",
       "       'Tree Removal for Tree Planting', 'Rescue/Preservation - Tree',\n",
       "       'Rescue/Preservation - Space', 'Tree Plant-Park Tree'],\n",
       "      dtype=object)"
      ]
     },
     "execution_count": 132,
     "metadata": {},
     "output_type": "execute_result"
    }
   ],
   "source": [
    "df.wotype.unique()"
   ]
  },
  {
   "cell_type": "code",
   "execution_count": 133,
   "metadata": {},
   "outputs": [
    {
     "data": {
      "text/plain": [
       "array(['N/A', 'Risk Mitigation', 'Block Pruning',\n",
       "       'Post-Failure Tree/Debris Removal', 'Traffic Prune', 'Misc Work',\n",
       "       'Tree Planting', 'Stump Removal', 'Tree and Sidewalk Repair'],\n",
       "      dtype=object)"
      ]
     },
     "execution_count": 133,
     "metadata": {},
     "output_type": "execute_result"
    }
   ],
   "source": [
    "df.wocategory.unique()"
   ]
  },
  {
   "cell_type": "code",
   "execution_count": 134,
   "metadata": {},
   "outputs": [
    {
     "data": {
      "text/plain": [
       "array(['N/A', 'In-House', 'Expense', 'Capital', 'Con-Ed', 'Permitted',\n",
       "       'Horticulture', 'DOT', 'PSE&G', 'Prospect Park Alliance (PPA)',\n",
       "       'DDC'], dtype=object)"
      ]
     },
     "execution_count": 134,
     "metadata": {},
     "output_type": "execute_result"
    }
   ],
   "source": [
    "df.woentity.unique()"
   ]
  },
  {
   "cell_type": "code",
   "execution_count": 135,
   "metadata": {},
   "outputs": [
    {
     "data": {
      "text/plain": [
       "array(['N/A', 'SubStatus 5', 'SubStatus 7', 'Survey Central', 'P&D - EAB',\n",
       "       'SubStatus 4', 'Substatus 9', 'SubStatus 6', 'SubStatus 3',\n",
       "       'Commitment', 'SubStatus 8', 'Storm', 'Substatus 10',\n",
       "       'Block Pruning', 'ASAP', 'SubStatus 1', 'Substatus 11',\n",
       "       'Late Leaf Out - 2015', 'SubStatus 2', 'P&D - DED',\n",
       "       'Removal Central', 'Large Park Zone', 'DNP'], dtype=object)"
      ]
     },
     "execution_count": 135,
     "metadata": {},
     "output_type": "execute_result"
    }
   ],
   "source": [
    "df.woproject.unique()"
   ]
  },
  {
   "cell_type": "code",
   "execution_count": 136,
   "metadata": {},
   "outputs": [
    {
     "data": {
      "text/plain": [
       "array(['N/A', '9', '6', '8', '10', '12', '7', '4', '5', '11', '3'],\n",
       "      dtype=object)"
      ]
     },
     "execution_count": 136,
     "metadata": {},
     "output_type": "execute_result"
    }
   ],
   "source": [
    "df.wopriority.unique()"
   ]
  },
  {
   "cell_type": "code",
   "execution_count": 138,
   "metadata": {},
   "outputs": [
    {
     "data": {
      "text/plain": [
       "array(['N/A', 'Open', 'Closed', 'Pending', 'Cancel', 'Alternate',\n",
       "       'In Process'], dtype=object)"
      ]
     },
     "execution_count": 138,
     "metadata": {},
     "output_type": "execute_result"
    }
   ],
   "source": [
    "df.wostatus.unique()"
   ]
  },
  {
   "cell_type": "markdown",
   "metadata": {},
   "source": [
    "## create new dummy columns for map/graphs"
   ]
  },
  {
   "cell_type": "code",
   "execution_count": 162,
   "metadata": {},
   "outputs": [
    {
     "data": {
      "text/html": [
       "<div>\n",
       "<style scoped>\n",
       "    .dataframe tbody tr th:only-of-type {\n",
       "        vertical-align: middle;\n",
       "    }\n",
       "\n",
       "    .dataframe tbody tr th {\n",
       "        vertical-align: top;\n",
       "    }\n",
       "\n",
       "    .dataframe thead th {\n",
       "        text-align: right;\n",
       "    }\n",
       "</style>\n",
       "<table border=\"1\" class=\"dataframe\">\n",
       "  <thead>\n",
       "    <tr style=\"text-align: right;\">\n",
       "      <th></th>\n",
       "      <th>objectid_SR</th>\n",
       "      <th>srcategory</th>\n",
       "      <th>srtype</th>\n",
       "      <th>srpriority</th>\n",
       "      <th>srsource</th>\n",
       "      <th>srstatus</th>\n",
       "      <th>srresolution</th>\n",
       "      <th>boroughcode</th>\n",
       "      <th>communityboard</th>\n",
       "      <th>zipcode</th>\n",
       "      <th>citycouncil</th>\n",
       "      <th>statesenate</th>\n",
       "      <th>stateassembly</th>\n",
       "      <th>congressional</th>\n",
       "      <th>servicerequestparentglobalid</th>\n",
       "      <th>SRGlobalID</th>\n",
       "      <th>initiateddate</th>\n",
       "      <th>SRClosedDate</th>\n",
       "      <th>SRCreatedDate</th>\n",
       "      <th>SRUpdatedDate</th>\n",
       "      <th>descriptor1</th>\n",
       "      <th>complainttype</th>\n",
       "      <th>latitude_SR</th>\n",
       "      <th>longitude_SR</th>\n",
       "      <th>census_tract</th>\n",
       "      <th>bin</th>\n",
       "      <th>bbl</th>\n",
       "      <th>nta</th>\n",
       "      <th>complaintdetails</th>\n",
       "      <th>parkname</th>\n",
       "      <th>parkzone</th>\n",
       "      <th>GLOBAL_ID</th>\n",
       "      <th>geometry_SR</th>\n",
       "      <th>STATEFP</th>\n",
       "      <th>COUNTYFP</th>\n",
       "      <th>TRACTCE</th>\n",
       "      <th>AFFGEOID</th>\n",
       "      <th>GEOID</th>\n",
       "      <th>NAME</th>\n",
       "      <th>LSAD</th>\n",
       "      <th>objectid_I</th>\n",
       "      <th>inspectiontype</th>\n",
       "      <th>inspectiontpcondition</th>\n",
       "      <th>inspectiontpstructure</th>\n",
       "      <th>treepointdbh</th>\n",
       "      <th>treepointglobalid</th>\n",
       "      <th>plantingspaceglobalid</th>\n",
       "      <th>InsGlobalID</th>\n",
       "      <th>inspectiondate</th>\n",
       "      <th>InsClosedDate</th>\n",
       "      <th>InsCreatedDate</th>\n",
       "      <th>InsUpdatedDate</th>\n",
       "      <th>parentinspectionglobalid</th>\n",
       "      <th>reinspectiondate</th>\n",
       "      <th>objectid</th>\n",
       "      <th>wotype</th>\n",
       "      <th>wostatus</th>\n",
       "      <th>wocategory</th>\n",
       "      <th>zipcode_WO</th>\n",
       "      <th>WOGlobalID</th>\n",
       "      <th>WOCreatedDate</th>\n",
       "      <th>WOUpdatedDate</th>\n",
       "      <th>woentity</th>\n",
       "      <th>woproject</th>\n",
       "      <th>recommendedspecies</th>\n",
       "      <th>wopriority</th>\n",
       "      <th>actualfinishdate</th>\n",
       "      <th>WOClosedDate</th>\n",
       "      <th>cancelreason</th>\n",
       "      <th>canceldate</th>\n",
       "      <th>sidewalkdamage</th>\n",
       "      <th>projstartdate</th>\n",
       "      <th>objectid_RA</th>\n",
       "      <th>radefect</th>\n",
       "      <th>radefectlocation</th>\n",
       "      <th>failure</th>\n",
       "      <th>impacttarget</th>\n",
       "      <th>consequence</th>\n",
       "      <th>riskrating</th>\n",
       "      <th>RAGlobalID</th>\n",
       "      <th>RACreatedDate</th>\n",
       "      <th>failureimpact</th>\n",
       "      <th>workorderglobalid</th>\n",
       "    </tr>\n",
       "  </thead>\n",
       "  <tbody>\n",
       "    <tr>\n",
       "      <th>0</th>\n",
       "      <td>17579546</td>\n",
       "      <td>Remove Tree</td>\n",
       "      <td>Dead Tree Older Than 2 Years</td>\n",
       "      <td>Routine</td>\n",
       "      <td>Department of Parks and Recreation - Public We...</td>\n",
       "      <td>Closed</td>\n",
       "      <td>Inspected - Condition Not Found</td>\n",
       "      <td>Brooklyn</td>\n",
       "      <td>310</td>\n",
       "      <td>11209</td>\n",
       "      <td>43</td>\n",
       "      <td>22</td>\n",
       "      <td>64</td>\n",
       "      <td>11</td>\n",
       "      <td>20CCF930-5FD1-4B09-9AA3-8576E1744415</td>\n",
       "      <td>FFA207F8-4B0A-46E3-96F8-252A40661027</td>\n",
       "      <td>05/19/2020 14:20:45</td>\n",
       "      <td>05/21/2020 14:19:51</td>\n",
       "      <td>05/19/2020 14:20:00</td>\n",
       "      <td>05/21/2020 14:19:51</td>\n",
       "      <td>Planted More Than 2 Years Ago</td>\n",
       "      <td>Dead/Dying Tree</td>\n",
       "      <td>40.628261</td>\n",
       "      <td>-74.027653</td>\n",
       "      <td>64</td>\n",
       "      <td>3150325</td>\n",
       "      <td>3059690065</td>\n",
       "      <td>Bay Ridge</td>\n",
       "      <td>NaN</td>\n",
       "      <td>NaN</td>\n",
       "      <td>NaN</td>\n",
       "      <td>20CCF930-5FD1-4B09-9AA3-8576E1744415</td>\n",
       "      <td>POINT (-74.02765 40.62826)</td>\n",
       "      <td>36</td>\n",
       "      <td>047</td>\n",
       "      <td>006400</td>\n",
       "      <td>1400000US36047006400</td>\n",
       "      <td>36047006400</td>\n",
       "      <td>64</td>\n",
       "      <td>CT</td>\n",
       "      <td>NaN</td>\n",
       "      <td>NaN</td>\n",
       "      <td>NaN</td>\n",
       "      <td>NaN</td>\n",
       "      <td>NaN</td>\n",
       "      <td>NaN</td>\n",
       "      <td>NaN</td>\n",
       "      <td>0</td>\n",
       "      <td>NaN</td>\n",
       "      <td>NaN</td>\n",
       "      <td>NaN</td>\n",
       "      <td>NaN</td>\n",
       "      <td>NaN</td>\n",
       "      <td>NaN</td>\n",
       "      <td>NaN</td>\n",
       "      <td>NaN</td>\n",
       "      <td>NaN</td>\n",
       "      <td>NaN</td>\n",
       "      <td>NaN</td>\n",
       "      <td>NaN</td>\n",
       "      <td>NaN</td>\n",
       "      <td>NaN</td>\n",
       "      <td>NaN</td>\n",
       "      <td>NaN</td>\n",
       "      <td>NaN</td>\n",
       "      <td>NaN</td>\n",
       "      <td>NaN</td>\n",
       "      <td>NaN</td>\n",
       "      <td>NaN</td>\n",
       "      <td>NaN</td>\n",
       "      <td>NaN</td>\n",
       "      <td>NaN</td>\n",
       "      <td>NaN</td>\n",
       "      <td>NaN</td>\n",
       "      <td>NaN</td>\n",
       "      <td>NaN</td>\n",
       "      <td>NaN</td>\n",
       "      <td>NaN</td>\n",
       "      <td>0</td>\n",
       "      <td>NaN</td>\n",
       "      <td>NaN</td>\n",
       "      <td>NaN</td>\n",
       "      <td>NaN</td>\n",
       "    </tr>\n",
       "    <tr>\n",
       "      <th>1</th>\n",
       "      <td>17616360</td>\n",
       "      <td>Hazard</td>\n",
       "      <td>Limb Down - Street</td>\n",
       "      <td>Routine</td>\n",
       "      <td>3-1-1 Call Center</td>\n",
       "      <td>Closed</td>\n",
       "      <td>Work Completed</td>\n",
       "      <td>Staten Island</td>\n",
       "      <td>501</td>\n",
       "      <td>10301</td>\n",
       "      <td>49</td>\n",
       "      <td>23</td>\n",
       "      <td>61</td>\n",
       "      <td>11</td>\n",
       "      <td>NaN</td>\n",
       "      <td>6E6381BF-3C40-4B04-AB17-3D676E71F99A</td>\n",
       "      <td>05/23/2020 20:47:06</td>\n",
       "      <td>05/26/2020 13:26:35</td>\n",
       "      <td>05/23/2020 21:12:00</td>\n",
       "      <td>05/26/2020 13:26:35</td>\n",
       "      <td>Branch or Limb Has Fallen Down</td>\n",
       "      <td>Damaged Tree</td>\n",
       "      <td>NaN</td>\n",
       "      <td>NaN</td>\n",
       "      <td>NaN</td>\n",
       "      <td>NaN</td>\n",
       "      <td>NaN</td>\n",
       "      <td>NaN</td>\n",
       "      <td>LARGE BRANCHES FROM A CITY TREE HAVE FALLEN IN...</td>\n",
       "      <td>NaN</td>\n",
       "      <td>NaN</td>\n",
       "      <td>6E6381BF-3C40-4B04-AB17-3D676E71F99A</td>\n",
       "      <td>None</td>\n",
       "      <td>NaN</td>\n",
       "      <td>NaN</td>\n",
       "      <td>NaN</td>\n",
       "      <td>NaN</td>\n",
       "      <td>NaN</td>\n",
       "      <td>NaN</td>\n",
       "      <td>NaN</td>\n",
       "      <td>NaN</td>\n",
       "      <td>NaN</td>\n",
       "      <td>NaN</td>\n",
       "      <td>NaN</td>\n",
       "      <td>NaN</td>\n",
       "      <td>NaN</td>\n",
       "      <td>NaN</td>\n",
       "      <td>0</td>\n",
       "      <td>NaN</td>\n",
       "      <td>NaN</td>\n",
       "      <td>NaN</td>\n",
       "      <td>NaN</td>\n",
       "      <td>NaN</td>\n",
       "      <td>NaN</td>\n",
       "      <td>NaN</td>\n",
       "      <td>NaN</td>\n",
       "      <td>NaN</td>\n",
       "      <td>NaN</td>\n",
       "      <td>NaN</td>\n",
       "      <td>NaN</td>\n",
       "      <td>NaN</td>\n",
       "      <td>NaN</td>\n",
       "      <td>NaN</td>\n",
       "      <td>NaN</td>\n",
       "      <td>NaN</td>\n",
       "      <td>NaN</td>\n",
       "      <td>NaN</td>\n",
       "      <td>NaN</td>\n",
       "      <td>NaN</td>\n",
       "      <td>NaN</td>\n",
       "      <td>NaN</td>\n",
       "      <td>NaN</td>\n",
       "      <td>NaN</td>\n",
       "      <td>NaN</td>\n",
       "      <td>NaN</td>\n",
       "      <td>NaN</td>\n",
       "      <td>NaN</td>\n",
       "      <td>NaN</td>\n",
       "      <td>0</td>\n",
       "      <td>NaN</td>\n",
       "      <td>NaN</td>\n",
       "      <td>NaN</td>\n",
       "      <td>NaN</td>\n",
       "    </tr>\n",
       "    <tr>\n",
       "      <th>2</th>\n",
       "      <td>17575577</td>\n",
       "      <td>Hazard</td>\n",
       "      <td>Tree Split</td>\n",
       "      <td>Routine</td>\n",
       "      <td>3-1-1 Call Center</td>\n",
       "      <td>Closed</td>\n",
       "      <td>Inspected - No Work Order</td>\n",
       "      <td>Brooklyn</td>\n",
       "      <td>302</td>\n",
       "      <td>11238</td>\n",
       "      <td>35</td>\n",
       "      <td>25</td>\n",
       "      <td>57</td>\n",
       "      <td>8</td>\n",
       "      <td>NaN</td>\n",
       "      <td>E6BB2CF4-6559-4ADD-B064-17069BC1B20F</td>\n",
       "      <td>05/18/2020 23:11:51</td>\n",
       "      <td>05/19/2020 15:26:25</td>\n",
       "      <td>05/19/2020 00:00:17</td>\n",
       "      <td>05/19/2020 15:26:25</td>\n",
       "      <td>Tree Trunk Split</td>\n",
       "      <td>Damaged Tree</td>\n",
       "      <td>40.685902</td>\n",
       "      <td>-73.963283</td>\n",
       "      <td>201</td>\n",
       "      <td>3056193</td>\n",
       "      <td>3019650016</td>\n",
       "      <td>Clinton Hill</td>\n",
       "      <td>THERE'S A TREE THAT HAS A CRACKED AROUND IT. &amp;...</td>\n",
       "      <td>NaN</td>\n",
       "      <td>NaN</td>\n",
       "      <td>E6BB2CF4-6559-4ADD-B064-17069BC1B20F</td>\n",
       "      <td>POINT (-73.96328 40.68590)</td>\n",
       "      <td>36</td>\n",
       "      <td>047</td>\n",
       "      <td>020100</td>\n",
       "      <td>1400000US36047020100</td>\n",
       "      <td>36047020100</td>\n",
       "      <td>201</td>\n",
       "      <td>CT</td>\n",
       "      <td>NaN</td>\n",
       "      <td>NaN</td>\n",
       "      <td>NaN</td>\n",
       "      <td>NaN</td>\n",
       "      <td>NaN</td>\n",
       "      <td>NaN</td>\n",
       "      <td>NaN</td>\n",
       "      <td>0</td>\n",
       "      <td>NaN</td>\n",
       "      <td>NaN</td>\n",
       "      <td>NaN</td>\n",
       "      <td>NaN</td>\n",
       "      <td>NaN</td>\n",
       "      <td>NaN</td>\n",
       "      <td>NaN</td>\n",
       "      <td>NaN</td>\n",
       "      <td>NaN</td>\n",
       "      <td>NaN</td>\n",
       "      <td>NaN</td>\n",
       "      <td>NaN</td>\n",
       "      <td>NaN</td>\n",
       "      <td>NaN</td>\n",
       "      <td>NaN</td>\n",
       "      <td>NaN</td>\n",
       "      <td>NaN</td>\n",
       "      <td>NaN</td>\n",
       "      <td>NaN</td>\n",
       "      <td>NaN</td>\n",
       "      <td>NaN</td>\n",
       "      <td>NaN</td>\n",
       "      <td>NaN</td>\n",
       "      <td>NaN</td>\n",
       "      <td>NaN</td>\n",
       "      <td>NaN</td>\n",
       "      <td>NaN</td>\n",
       "      <td>NaN</td>\n",
       "      <td>NaN</td>\n",
       "      <td>NaN</td>\n",
       "      <td>0</td>\n",
       "      <td>NaN</td>\n",
       "      <td>NaN</td>\n",
       "      <td>NaN</td>\n",
       "      <td>NaN</td>\n",
       "    </tr>\n",
       "    <tr>\n",
       "      <th>3</th>\n",
       "      <td>17251858</td>\n",
       "      <td>Prune</td>\n",
       "      <td>Prune Dead Wood</td>\n",
       "      <td>Routine</td>\n",
       "      <td>Correspondence</td>\n",
       "      <td>Closed</td>\n",
       "      <td>Work Completed</td>\n",
       "      <td>Brooklyn</td>\n",
       "      <td>306</td>\n",
       "      <td>11217</td>\n",
       "      <td>33</td>\n",
       "      <td>25</td>\n",
       "      <td>52</td>\n",
       "      <td>7</td>\n",
       "      <td>NaN</td>\n",
       "      <td>5DD596B0-B9BF-4A8B-B167-1C80B96B7AC4</td>\n",
       "      <td>NaN</td>\n",
       "      <td>05/18/2020 19:12:00</td>\n",
       "      <td>04/03/2020 18:35:00</td>\n",
       "      <td>05/18/2020 19:12:00</td>\n",
       "      <td>NaN</td>\n",
       "      <td>None Selected</td>\n",
       "      <td>40.680708</td>\n",
       "      <td>-73.985308</td>\n",
       "      <td>127</td>\n",
       "      <td>3006610</td>\n",
       "      <td>3004120050</td>\n",
       "      <td>DUMBO-Vinegar Hill-Downtown Brooklyn-Boerum Hill</td>\n",
       "      <td>DIA# 114775, deadwood.</td>\n",
       "      <td>NaN</td>\n",
       "      <td>NaN</td>\n",
       "      <td>5DD596B0-B9BF-4A8B-B167-1C80B96B7AC4</td>\n",
       "      <td>POINT (-73.98531 40.68071)</td>\n",
       "      <td>36</td>\n",
       "      <td>047</td>\n",
       "      <td>012700</td>\n",
       "      <td>1400000US36047012700</td>\n",
       "      <td>36047012700</td>\n",
       "      <td>127</td>\n",
       "      <td>CT</td>\n",
       "      <td>NaN</td>\n",
       "      <td>NaN</td>\n",
       "      <td>NaN</td>\n",
       "      <td>NaN</td>\n",
       "      <td>NaN</td>\n",
       "      <td>NaN</td>\n",
       "      <td>NaN</td>\n",
       "      <td>0</td>\n",
       "      <td>NaN</td>\n",
       "      <td>NaN</td>\n",
       "      <td>NaN</td>\n",
       "      <td>NaN</td>\n",
       "      <td>NaN</td>\n",
       "      <td>NaN</td>\n",
       "      <td>NaN</td>\n",
       "      <td>NaN</td>\n",
       "      <td>NaN</td>\n",
       "      <td>NaN</td>\n",
       "      <td>NaN</td>\n",
       "      <td>NaN</td>\n",
       "      <td>NaN</td>\n",
       "      <td>NaN</td>\n",
       "      <td>NaN</td>\n",
       "      <td>NaN</td>\n",
       "      <td>NaN</td>\n",
       "      <td>NaN</td>\n",
       "      <td>NaN</td>\n",
       "      <td>NaN</td>\n",
       "      <td>NaN</td>\n",
       "      <td>NaN</td>\n",
       "      <td>NaN</td>\n",
       "      <td>NaN</td>\n",
       "      <td>NaN</td>\n",
       "      <td>NaN</td>\n",
       "      <td>NaN</td>\n",
       "      <td>NaN</td>\n",
       "      <td>NaN</td>\n",
       "      <td>NaN</td>\n",
       "      <td>0</td>\n",
       "      <td>NaN</td>\n",
       "      <td>NaN</td>\n",
       "      <td>NaN</td>\n",
       "      <td>NaN</td>\n",
       "    </tr>\n",
       "    <tr>\n",
       "      <th>4</th>\n",
       "      <td>17651915</td>\n",
       "      <td>Hazard</td>\n",
       "      <td>Hanging Limb from other Branches</td>\n",
       "      <td>Routine</td>\n",
       "      <td>3-1-1 Call Center</td>\n",
       "      <td>Closed</td>\n",
       "      <td>No Action - Jurisdiction</td>\n",
       "      <td>Brooklyn</td>\n",
       "      <td>306</td>\n",
       "      <td>11217</td>\n",
       "      <td>33</td>\n",
       "      <td>25</td>\n",
       "      <td>52</td>\n",
       "      <td>7</td>\n",
       "      <td>F9C3B1CB-C8D2-4C03-865A-70C9AF8F8D0D</td>\n",
       "      <td>6C5FFB7E-14FB-4D2C-8B2D-4FE2A4A474AE</td>\n",
       "      <td>05/28/2020 14:19:52</td>\n",
       "      <td>05/29/2020 16:29:59</td>\n",
       "      <td>05/28/2020 15:00:10</td>\n",
       "      <td>05/29/2020 16:29:59</td>\n",
       "      <td>Branch Cracked and Will Fall</td>\n",
       "      <td>Damaged Tree</td>\n",
       "      <td>40.681963</td>\n",
       "      <td>-73.986472</td>\n",
       "      <td>71</td>\n",
       "      <td>3336080</td>\n",
       "      <td>3004050051</td>\n",
       "      <td>DUMBO-Vinegar Hill-Downtown Brooklyn-Boerum Hill</td>\n",
       "      <td>Five trees being crushed by scaffolding</td>\n",
       "      <td>NaN</td>\n",
       "      <td>NaN</td>\n",
       "      <td>F9C3B1CB-C8D2-4C03-865A-70C9AF8F8D0D</td>\n",
       "      <td>POINT (-73.98647 40.68196)</td>\n",
       "      <td>36</td>\n",
       "      <td>047</td>\n",
       "      <td>007100</td>\n",
       "      <td>1400000US36047007100</td>\n",
       "      <td>36047007100</td>\n",
       "      <td>71</td>\n",
       "      <td>CT</td>\n",
       "      <td>NaN</td>\n",
       "      <td>NaN</td>\n",
       "      <td>NaN</td>\n",
       "      <td>NaN</td>\n",
       "      <td>NaN</td>\n",
       "      <td>NaN</td>\n",
       "      <td>NaN</td>\n",
       "      <td>0</td>\n",
       "      <td>NaN</td>\n",
       "      <td>NaN</td>\n",
       "      <td>NaN</td>\n",
       "      <td>NaN</td>\n",
       "      <td>NaN</td>\n",
       "      <td>NaN</td>\n",
       "      <td>NaN</td>\n",
       "      <td>NaN</td>\n",
       "      <td>NaN</td>\n",
       "      <td>NaN</td>\n",
       "      <td>NaN</td>\n",
       "      <td>NaN</td>\n",
       "      <td>NaN</td>\n",
       "      <td>NaN</td>\n",
       "      <td>NaN</td>\n",
       "      <td>NaN</td>\n",
       "      <td>NaN</td>\n",
       "      <td>NaN</td>\n",
       "      <td>NaN</td>\n",
       "      <td>NaN</td>\n",
       "      <td>NaN</td>\n",
       "      <td>NaN</td>\n",
       "      <td>NaN</td>\n",
       "      <td>NaN</td>\n",
       "      <td>NaN</td>\n",
       "      <td>NaN</td>\n",
       "      <td>NaN</td>\n",
       "      <td>NaN</td>\n",
       "      <td>NaN</td>\n",
       "      <td>NaN</td>\n",
       "      <td>0</td>\n",
       "      <td>NaN</td>\n",
       "      <td>NaN</td>\n",
       "      <td>NaN</td>\n",
       "      <td>NaN</td>\n",
       "    </tr>\n",
       "  </tbody>\n",
       "</table>\n",
       "</div>"
      ],
      "text/plain": [
       "  objectid_SR   srcategory                            srtype srpriority  \\\n",
       "0    17579546  Remove Tree      Dead Tree Older Than 2 Years    Routine   \n",
       "1    17616360       Hazard                Limb Down - Street    Routine   \n",
       "2    17575577       Hazard                        Tree Split    Routine   \n",
       "3    17251858        Prune                   Prune Dead Wood    Routine   \n",
       "4    17651915       Hazard  Hanging Limb from other Branches    Routine   \n",
       "\n",
       "                                            srsource srstatus  \\\n",
       "0  Department of Parks and Recreation - Public We...   Closed   \n",
       "1                                  3-1-1 Call Center   Closed   \n",
       "2                                  3-1-1 Call Center   Closed   \n",
       "3                                     Correspondence   Closed   \n",
       "4                                  3-1-1 Call Center   Closed   \n",
       "\n",
       "                      srresolution    boroughcode communityboard zipcode  \\\n",
       "0  Inspected - Condition Not Found       Brooklyn            310   11209   \n",
       "1                   Work Completed  Staten Island            501   10301   \n",
       "2        Inspected - No Work Order       Brooklyn            302   11238   \n",
       "3                   Work Completed       Brooklyn            306   11217   \n",
       "4         No Action - Jurisdiction       Brooklyn            306   11217   \n",
       "\n",
       "  citycouncil statesenate stateassembly congressional  \\\n",
       "0          43          22            64            11   \n",
       "1          49          23            61            11   \n",
       "2          35          25            57             8   \n",
       "3          33          25            52             7   \n",
       "4          33          25            52             7   \n",
       "\n",
       "           servicerequestparentglobalid                            SRGlobalID  \\\n",
       "0  20CCF930-5FD1-4B09-9AA3-8576E1744415  FFA207F8-4B0A-46E3-96F8-252A40661027   \n",
       "1                                   NaN  6E6381BF-3C40-4B04-AB17-3D676E71F99A   \n",
       "2                                   NaN  E6BB2CF4-6559-4ADD-B064-17069BC1B20F   \n",
       "3                                   NaN  5DD596B0-B9BF-4A8B-B167-1C80B96B7AC4   \n",
       "4  F9C3B1CB-C8D2-4C03-865A-70C9AF8F8D0D  6C5FFB7E-14FB-4D2C-8B2D-4FE2A4A474AE   \n",
       "\n",
       "         initiateddate         SRClosedDate        SRCreatedDate  \\\n",
       "0  05/19/2020 14:20:45  05/21/2020 14:19:51  05/19/2020 14:20:00   \n",
       "1  05/23/2020 20:47:06  05/26/2020 13:26:35  05/23/2020 21:12:00   \n",
       "2  05/18/2020 23:11:51  05/19/2020 15:26:25  05/19/2020 00:00:17   \n",
       "3                  NaN  05/18/2020 19:12:00  04/03/2020 18:35:00   \n",
       "4  05/28/2020 14:19:52  05/29/2020 16:29:59  05/28/2020 15:00:10   \n",
       "\n",
       "         SRUpdatedDate                     descriptor1    complainttype  \\\n",
       "0  05/21/2020 14:19:51   Planted More Than 2 Years Ago  Dead/Dying Tree   \n",
       "1  05/26/2020 13:26:35  Branch or Limb Has Fallen Down     Damaged Tree   \n",
       "2  05/19/2020 15:26:25                Tree Trunk Split     Damaged Tree   \n",
       "3  05/18/2020 19:12:00                             NaN    None Selected   \n",
       "4  05/29/2020 16:29:59    Branch Cracked and Will Fall     Damaged Tree   \n",
       "\n",
       "   latitude_SR  longitude_SR census_tract      bin         bbl  \\\n",
       "0    40.628261    -74.027653           64  3150325  3059690065   \n",
       "1          NaN           NaN          NaN      NaN         NaN   \n",
       "2    40.685902    -73.963283          201  3056193  3019650016   \n",
       "3    40.680708    -73.985308          127  3006610  3004120050   \n",
       "4    40.681963    -73.986472           71  3336080  3004050051   \n",
       "\n",
       "                                                nta  \\\n",
       "0                                         Bay Ridge   \n",
       "1                                               NaN   \n",
       "2                                      Clinton Hill   \n",
       "3  DUMBO-Vinegar Hill-Downtown Brooklyn-Boerum Hill   \n",
       "4  DUMBO-Vinegar Hill-Downtown Brooklyn-Boerum Hill   \n",
       "\n",
       "                                    complaintdetails parkname parkzone  \\\n",
       "0                                                NaN      NaN      NaN   \n",
       "1  LARGE BRANCHES FROM A CITY TREE HAVE FALLEN IN...      NaN      NaN   \n",
       "2  THERE'S A TREE THAT HAS A CRACKED AROUND IT. &...      NaN      NaN   \n",
       "3                             DIA# 114775, deadwood.      NaN      NaN   \n",
       "4            Five trees being crushed by scaffolding      NaN      NaN   \n",
       "\n",
       "                              GLOBAL_ID                 geometry_SR STATEFP  \\\n",
       "0  20CCF930-5FD1-4B09-9AA3-8576E1744415  POINT (-74.02765 40.62826)      36   \n",
       "1  6E6381BF-3C40-4B04-AB17-3D676E71F99A                        None     NaN   \n",
       "2  E6BB2CF4-6559-4ADD-B064-17069BC1B20F  POINT (-73.96328 40.68590)      36   \n",
       "3  5DD596B0-B9BF-4A8B-B167-1C80B96B7AC4  POINT (-73.98531 40.68071)      36   \n",
       "4  F9C3B1CB-C8D2-4C03-865A-70C9AF8F8D0D  POINT (-73.98647 40.68196)      36   \n",
       "\n",
       "  COUNTYFP TRACTCE              AFFGEOID        GEOID NAME LSAD objectid_I  \\\n",
       "0      047  006400  1400000US36047006400  36047006400   64   CT        NaN   \n",
       "1      NaN     NaN                   NaN          NaN  NaN  NaN        NaN   \n",
       "2      047  020100  1400000US36047020100  36047020100  201   CT        NaN   \n",
       "3      047  012700  1400000US36047012700  36047012700  127   CT        NaN   \n",
       "4      047  007100  1400000US36047007100  36047007100   71   CT        NaN   \n",
       "\n",
       "  inspectiontype inspectiontpcondition inspectiontpstructure treepointdbh  \\\n",
       "0            NaN                   NaN                   NaN          NaN   \n",
       "1            NaN                   NaN                   NaN          NaN   \n",
       "2            NaN                   NaN                   NaN          NaN   \n",
       "3            NaN                   NaN                   NaN          NaN   \n",
       "4            NaN                   NaN                   NaN          NaN   \n",
       "\n",
       "  treepointglobalid plantingspaceglobalid InsGlobalID inspectiondate  \\\n",
       "0               NaN                   NaN           0            NaN   \n",
       "1               NaN                   NaN           0            NaN   \n",
       "2               NaN                   NaN           0            NaN   \n",
       "3               NaN                   NaN           0            NaN   \n",
       "4               NaN                   NaN           0            NaN   \n",
       "\n",
       "  InsClosedDate InsCreatedDate InsUpdatedDate parentinspectionglobalid  \\\n",
       "0           NaN            NaN            NaN                      NaN   \n",
       "1           NaN            NaN            NaN                      NaN   \n",
       "2           NaN            NaN            NaN                      NaN   \n",
       "3           NaN            NaN            NaN                      NaN   \n",
       "4           NaN            NaN            NaN                      NaN   \n",
       "\n",
       "  reinspectiondate objectid wotype wostatus wocategory zipcode_WO WOGlobalID  \\\n",
       "0              NaN      NaN    NaN      NaN        NaN        NaN        NaN   \n",
       "1              NaN      NaN    NaN      NaN        NaN        NaN        NaN   \n",
       "2              NaN      NaN    NaN      NaN        NaN        NaN        NaN   \n",
       "3              NaN      NaN    NaN      NaN        NaN        NaN        NaN   \n",
       "4              NaN      NaN    NaN      NaN        NaN        NaN        NaN   \n",
       "\n",
       "  WOCreatedDate WOUpdatedDate woentity woproject recommendedspecies  \\\n",
       "0           NaN           NaN      NaN       NaN                NaN   \n",
       "1           NaN           NaN      NaN       NaN                NaN   \n",
       "2           NaN           NaN      NaN       NaN                NaN   \n",
       "3           NaN           NaN      NaN       NaN                NaN   \n",
       "4           NaN           NaN      NaN       NaN                NaN   \n",
       "\n",
       "  wopriority actualfinishdate WOClosedDate cancelreason canceldate  \\\n",
       "0        NaN              NaN          NaN          NaN        NaN   \n",
       "1        NaN              NaN          NaN          NaN        NaN   \n",
       "2        NaN              NaN          NaN          NaN        NaN   \n",
       "3        NaN              NaN          NaN          NaN        NaN   \n",
       "4        NaN              NaN          NaN          NaN        NaN   \n",
       "\n",
       "  sidewalkdamage projstartdate objectid_RA radefect radefectlocation failure  \\\n",
       "0            NaN           NaN         NaN      NaN              NaN     NaN   \n",
       "1            NaN           NaN         NaN      NaN              NaN     NaN   \n",
       "2            NaN           NaN         NaN      NaN              NaN     NaN   \n",
       "3            NaN           NaN         NaN      NaN              NaN     NaN   \n",
       "4            NaN           NaN         NaN      NaN              NaN     NaN   \n",
       "\n",
       "  impacttarget consequence riskrating RAGlobalID RACreatedDate failureimpact  \\\n",
       "0          NaN         NaN          0        NaN           NaN           NaN   \n",
       "1          NaN         NaN          0        NaN           NaN           NaN   \n",
       "2          NaN         NaN          0        NaN           NaN           NaN   \n",
       "3          NaN         NaN          0        NaN           NaN           NaN   \n",
       "4          NaN         NaN          0        NaN           NaN           NaN   \n",
       "\n",
       "  workorderglobalid  \n",
       "0               NaN  \n",
       "1               NaN  \n",
       "2               NaN  \n",
       "3               NaN  \n",
       "4               NaN  "
      ]
     },
     "execution_count": 162,
     "metadata": {},
     "output_type": "execute_result"
    }
   ],
   "source": [
    "df.head()"
   ]
  },
  {
   "cell_type": "code",
   "execution_count": 163,
   "metadata": {},
   "outputs": [
    {
     "data": {
      "text/plain": [
       "Index(['objectid_SR', 'srcategory', 'srtype', 'srpriority', 'srsource',\n",
       "       'srstatus', 'srresolution', 'boroughcode', 'communityboard', 'zipcode',\n",
       "       'citycouncil', 'statesenate', 'stateassembly', 'congressional',\n",
       "       'servicerequestparentglobalid', 'SRGlobalID', 'initiateddate',\n",
       "       'SRClosedDate', 'SRCreatedDate', 'SRUpdatedDate', 'descriptor1',\n",
       "       'complainttype', 'latitude_SR', 'longitude_SR', 'census_tract', 'bin',\n",
       "       'bbl', 'nta', 'complaintdetails', 'parkname', 'parkzone', 'GLOBAL_ID',\n",
       "       'geometry_SR', 'STATEFP', 'COUNTYFP', 'TRACTCE', 'AFFGEOID', 'GEOID',\n",
       "       'NAME', 'LSAD', 'objectid_I', 'inspectiontype', 'inspectiontpcondition',\n",
       "       'inspectiontpstructure', 'treepointdbh', 'treepointglobalid',\n",
       "       'plantingspaceglobalid', 'InsGlobalID', 'inspectiondate',\n",
       "       'InsClosedDate', 'InsCreatedDate', 'InsUpdatedDate',\n",
       "       'parentinspectionglobalid', 'reinspectiondate', 'objectid', 'wotype',\n",
       "       'wostatus', 'wocategory', 'zipcode_WO', 'WOGlobalID', 'WOCreatedDate',\n",
       "       'WOUpdatedDate', 'woentity', 'woproject', 'recommendedspecies',\n",
       "       'wopriority', 'actualfinishdate', 'WOClosedDate', 'cancelreason',\n",
       "       'canceldate', 'sidewalkdamage', 'projstartdate', 'objectid_RA',\n",
       "       'radefect', 'radefectlocation', 'failure', 'impacttarget',\n",
       "       'consequence', 'riskrating', 'RAGlobalID', 'RACreatedDate',\n",
       "       'failureimpact', 'workorderglobalid'],\n",
       "      dtype='object')"
      ]
     },
     "execution_count": 163,
     "metadata": {},
     "output_type": "execute_result"
    }
   ],
   "source": [
    "df.columns"
   ]
  },
  {
   "cell_type": "code",
   "execution_count": 164,
   "metadata": {},
   "outputs": [
    {
     "data": {
      "text/plain": [
       "array(['0', '24A6FA7D-A1CF-41F8-800A-C758F06D905A',\n",
       "       'D54B5122-729A-484A-B96D-11235CA79231', ...,\n",
       "       '29E9626C-42E0-47B9-BC16-5732E99B5148',\n",
       "       '23401C87-3276-4AF7-ADB0-04797A0EF609',\n",
       "       'AD3B0117-60AB-4404-81D6-8F0403CA8F1F'], dtype=object)"
      ]
     },
     "execution_count": 164,
     "metadata": {},
     "output_type": "execute_result"
    }
   ],
   "source": [
    "df.InsGlobalID.unique()"
   ]
  },
  {
   "cell_type": "code",
   "execution_count": 165,
   "metadata": {},
   "outputs": [],
   "source": [
    "df['inspection_attached'] = np.where(df['InsGlobalID']!= '0', True, False)"
   ]
  },
  {
   "cell_type": "code",
   "execution_count": 166,
   "metadata": {
    "scrolled": true
   },
   "outputs": [
    {
     "data": {
      "text/plain": [
       "array([False,  True])"
      ]
     },
     "execution_count": 166,
     "metadata": {},
     "output_type": "execute_result"
    }
   ],
   "source": [
    "df.inspection_attached.unique()"
   ]
  },
  {
   "cell_type": "code",
   "execution_count": 167,
   "metadata": {},
   "outputs": [
    {
     "data": {
      "text/plain": [
       "27438"
      ]
     },
     "execution_count": 167,
     "metadata": {},
     "output_type": "execute_result"
    }
   ],
   "source": [
    "len(df[df.inspection_attached == True])"
   ]
  },
  {
   "cell_type": "code",
   "execution_count": 168,
   "metadata": {},
   "outputs": [
    {
     "data": {
      "text/plain": [
       "12895"
      ]
     },
     "execution_count": 168,
     "metadata": {},
     "output_type": "execute_result"
    }
   ],
   "source": [
    "len(df.WOGlobalID.unique())"
   ]
  },
  {
   "cell_type": "code",
   "execution_count": 169,
   "metadata": {},
   "outputs": [
    {
     "data": {
      "text/plain": [
       "array([nan, '97F0D627-C81D-4156-9EBD-639C1AA709B4',\n",
       "       '00763A2D-014F-4C34-99E0-3422A44F55E1', ...,\n",
       "       'F1F8570D-6B07-4D15-BEC1-2136EACBC8EE',\n",
       "       'CDD8BF0B-F559-41AC-8FEB-56CB4DBF8C71',\n",
       "       '66657667-6438-4BF6-AA3B-D46BA093F5A7'], dtype=object)"
      ]
     },
     "execution_count": 169,
     "metadata": {},
     "output_type": "execute_result"
    }
   ],
   "source": [
    "df.WOGlobalID.unique()"
   ]
  },
  {
   "cell_type": "code",
   "execution_count": 170,
   "metadata": {},
   "outputs": [],
   "source": [
    "df['wo_attached'] = np.where(df['WOGlobalID'] != 'N/A', True, False)\n",
    "# OVERKILL                             \n",
    "#        'wostatus', 'wocategory', 'zipcode_WO', 'WOGlobalID', 'WOCreatedDate',\n",
    "#        'WOUpdatedDate', 'woentity', 'woproject', 'recommendedspecies',\n",
    "#        'wopriority', 'actualfinishdate', 'WOClosedDate', "
   ]
  },
  {
   "cell_type": "code",
   "execution_count": 171,
   "metadata": {
    "scrolled": true
   },
   "outputs": [
    {
     "data": {
      "text/plain": [
       "array([ True])"
      ]
     },
     "execution_count": 171,
     "metadata": {},
     "output_type": "execute_result"
    }
   ],
   "source": [
    "df.wo_attached.unique()"
   ]
  },
  {
   "cell_type": "code",
   "execution_count": 172,
   "metadata": {},
   "outputs": [
    {
     "data": {
      "text/plain": [
       "740617"
      ]
     },
     "execution_count": 172,
     "metadata": {},
     "output_type": "execute_result"
    }
   ],
   "source": [
    "len(df[df.wo_attached == True])"
   ]
  },
  {
   "cell_type": "markdown",
   "metadata": {},
   "source": [
    "# get dynamic numbers"
   ]
  },
  {
   "cell_type": "code",
   "execution_count": 173,
   "metadata": {},
   "outputs": [],
   "source": [
    "# df['initiateddate'] = pd.to_datetime(df['initiateddate'],errors='coerce')\n",
    "# df['initiated_year'] = pd.DatetimeIndex(df['initiateddate']).year\n",
    "# df['initiated_month'] = pd.DatetimeIndex(df['initiateddate']).month"
   ]
  },
  {
   "cell_type": "code",
   "execution_count": 174,
   "metadata": {},
   "outputs": [],
   "source": [
    "df['SRCreatedDate_datetime'] = pd.to_datetime(df['SRCreatedDate'],errors='coerce')"
   ]
  },
  {
   "cell_type": "markdown",
   "metadata": {},
   "source": [
    "### NUMBER: SRs created in past month"
   ]
  },
  {
   "cell_type": "code",
   "execution_count": 138,
   "metadata": {},
   "outputs": [],
   "source": [
    "# number of requests submitted LAST month (the month prior)\n",
    "today = datetime.date.today()"
   ]
  },
  {
   "cell_type": "code",
   "execution_count": 132,
   "metadata": {},
   "outputs": [
    {
     "data": {
      "text/plain": [
       "(datetime.date(2022, 12, 6), datetime.date(2022, 12, 1))"
      ]
     },
     "execution_count": 132,
     "metadata": {},
     "output_type": "execute_result"
    }
   ],
   "source": [
    "today, first"
   ]
  },
  {
   "cell_type": "code",
   "execution_count": 178,
   "metadata": {},
   "outputs": [
    {
     "data": {
      "text/plain": [
       "12"
      ]
     },
     "execution_count": 178,
     "metadata": {},
     "output_type": "execute_result"
    }
   ],
   "source": [
    "today.month"
   ]
  },
  {
   "cell_type": "code",
   "execution_count": 145,
   "metadata": {},
   "outputs": [
    {
     "data": {
      "text/plain": [
       "array([], dtype='datetime64[ns]')"
      ]
     },
     "execution_count": 145,
     "metadata": {},
     "output_type": "execute_result"
    }
   ],
   "source": [
    "df['SRCreatedDate'].unique()"
   ]
  },
  {
   "cell_type": "code",
   "execution_count": 177,
   "metadata": {},
   "outputs": [
    {
     "data": {
      "text/plain": [
       "23152"
      ]
     },
     "execution_count": 177,
     "metadata": {},
     "output_type": "execute_result"
    }
   ],
   "source": [
    "len(df[df['SRCreatedDate_datetime'].apply(lambda row: row.month == today.month)])"
   ]
  },
  {
   "cell_type": "markdown",
   "metadata": {},
   "source": [
    "### NUMBER: SRs created this year"
   ]
  },
  {
   "cell_type": "code",
   "execution_count": 152,
   "metadata": {},
   "outputs": [
    {
     "data": {
      "text/plain": [
       "61093"
      ]
     },
     "execution_count": 152,
     "metadata": {},
     "output_type": "execute_result"
    }
   ],
   "source": [
    "len(df[df['initiated_year'] == today.year])"
   ]
  },
  {
   "cell_type": "code",
   "execution_count": 194,
   "metadata": {},
   "outputs": [
    {
     "data": {
      "text/plain": [
       "Closed    572297\n",
       "Open      103516\n",
       "Name: srstatus, dtype: int64"
      ]
     },
     "execution_count": 194,
     "metadata": {},
     "output_type": "execute_result"
    }
   ],
   "source": [
    "df.srstatus.value_counts()"
   ]
  },
  {
   "cell_type": "markdown",
   "metadata": {},
   "source": [
    "### NUMBER: inspections opened within the last year???"
   ]
  },
  {
   "cell_type": "code",
   "execution_count": 179,
   "metadata": {},
   "outputs": [
    {
     "data": {
      "text/plain": [
       "Index(['objectid_SR', 'srcategory', 'srtype', 'srpriority', 'srsource',\n",
       "       'srstatus', 'srresolution', 'boroughcode', 'communityboard', 'zipcode',\n",
       "       'citycouncil', 'statesenate', 'stateassembly', 'congressional',\n",
       "       'servicerequestparentglobalid', 'SRGlobalID', 'initiateddate',\n",
       "       'SRClosedDate', 'SRCreatedDate', 'SRUpdatedDate', 'descriptor1',\n",
       "       'complainttype', 'latitude_SR', 'longitude_SR', 'census_tract', 'bin',\n",
       "       'bbl', 'nta', 'complaintdetails', 'parkname', 'parkzone', 'GLOBAL_ID',\n",
       "       'geometry_SR', 'STATEFP', 'COUNTYFP', 'TRACTCE', 'AFFGEOID', 'GEOID',\n",
       "       'NAME', 'LSAD', 'objectid_I', 'inspectiontype', 'inspectiontpcondition',\n",
       "       'inspectiontpstructure', 'treepointdbh', 'treepointglobalid',\n",
       "       'plantingspaceglobalid', 'InsGlobalID', 'inspectiondate',\n",
       "       'InsClosedDate', 'InsCreatedDate', 'InsUpdatedDate',\n",
       "       'parentinspectionglobalid', 'reinspectiondate', 'objectid', 'wotype',\n",
       "       'wostatus', 'wocategory', 'zipcode_WO', 'WOGlobalID', 'WOCreatedDate',\n",
       "       'WOUpdatedDate', 'woentity', 'woproject', 'recommendedspecies',\n",
       "       'wopriority', 'actualfinishdate', 'WOClosedDate', 'cancelreason',\n",
       "       'canceldate', 'sidewalkdamage', 'projstartdate', 'objectid_RA',\n",
       "       'radefect', 'radefectlocation', 'failure', 'impacttarget',\n",
       "       'consequence', 'riskrating', 'RAGlobalID', 'RACreatedDate',\n",
       "       'failureimpact', 'workorderglobalid', 'inspection_attached',\n",
       "       'wo_attached', 'SRCreatedDate_datetime'],\n",
       "      dtype='object')"
      ]
     },
     "execution_count": 179,
     "metadata": {},
     "output_type": "execute_result"
    }
   ],
   "source": [
    "df.columns"
   ]
  },
  {
   "cell_type": "code",
   "execution_count": 180,
   "metadata": {},
   "outputs": [],
   "source": [
    "df['InsClosedDate'] = pd.to_datetime(df['InsClosedDate'],errors='coerce')"
   ]
  },
  {
   "cell_type": "code",
   "execution_count": 181,
   "metadata": {},
   "outputs": [],
   "source": [
    "df['InsCreatedDate'] = pd.to_datetime(df['InsCreatedDate'],errors='coerce')"
   ]
  },
  {
   "cell_type": "code",
   "execution_count": 182,
   "metadata": {},
   "outputs": [
    {
     "data": {
      "text/plain": [
       "26809"
      ]
     },
     "execution_count": 182,
     "metadata": {},
     "output_type": "execute_result"
    }
   ],
   "source": [
    "# inspections completed within the last year??? since there are no monthly updates rn\n",
    "\n",
    "# len(df.loc[df['InsClosedDate'].month == last_month.month])\n",
    "len(df[df['InsClosedDate'].apply(lambda row: row.year == today.year)])"
   ]
  },
  {
   "cell_type": "code",
   "execution_count": 183,
   "metadata": {},
   "outputs": [
    {
     "data": {
      "text/plain": [
       "0"
      ]
     },
     "execution_count": 183,
     "metadata": {},
     "output_type": "execute_result"
    }
   ],
   "source": [
    "# inspections completed within the last month???\n",
    "\n",
    "# len(df.loc[df['InsClosedDate'].month == last_month.month])\n",
    "len(df[df['InsCreatedDate'].apply(lambda row: row.month == today.month)])"
   ]
  },
  {
   "cell_type": "markdown",
   "metadata": {},
   "source": [
    "### NUMBER: Work Orders completed in the last month / YEAR for now"
   ]
  },
  {
   "cell_type": "code",
   "execution_count": 143,
   "metadata": {},
   "outputs": [
    {
     "name": "stderr",
     "output_type": "stream",
     "text": [
      "<ipython-input-143-8d2024825363>:1: SettingWithCopyWarning: \n",
      "A value is trying to be set on a copy of a slice from a DataFrame.\n",
      "Try using .loc[row_indexer,col_indexer] = value instead\n",
      "\n",
      "See the caveats in the documentation: https://pandas.pydata.org/pandas-docs/stable/user_guide/indexing.html#returning-a-view-versus-a-copy\n",
      "  df['WOClosedDate'] = pd.to_datetime(df['WOClosedDate'],errors='coerce')\n"
     ]
    }
   ],
   "source": [
    "# df['WOClosedDate'] = pd.to_datetime(df['WOClosedDate'],errors='coerce')"
   ]
  },
  {
   "cell_type": "code",
   "execution_count": 184,
   "metadata": {},
   "outputs": [],
   "source": [
    "df['actualfinishdate'] = pd.to_datetime(df['actualfinishdate'],errors='coerce')"
   ]
  },
  {
   "cell_type": "code",
   "execution_count": 185,
   "metadata": {},
   "outputs": [],
   "source": [
    "# len(df[(df['WOClosedDate'].apply(lambda row: row.month == today.month)) | (df['actualfinishdate'].apply(lambda row: row.month == today.month)) ])\n",
    "# len(df[(df['WOClosedDate'].apply(lambda row: row.year == today.year)) | (df['actualfinishdate'].apply(lambda row: row.year == today.year)) ])"
   ]
  },
  {
   "cell_type": "code",
   "execution_count": 186,
   "metadata": {},
   "outputs": [],
   "source": [
    "# len(df[(df['WOClosedDate'].apply(lambda row: row.year == today.year)) ])"
   ]
  },
  {
   "cell_type": "code",
   "execution_count": 187,
   "metadata": {},
   "outputs": [
    {
     "data": {
      "text/plain": [
       "5857"
      ]
     },
     "execution_count": 187,
     "metadata": {},
     "output_type": "execute_result"
    }
   ],
   "source": [
    "len(df[(df['actualfinishdate'].apply(lambda row: row.year == today.year)) ])"
   ]
  },
  {
   "cell_type": "markdown",
   "metadata": {},
   "source": [
    "## graph 1: pending WOs by type (IGNORE)"
   ]
  },
  {
   "cell_type": "markdown",
   "metadata": {},
   "source": [
    "'wotype', 'wostatus',\n",
    "       'actualfinishdate', 'wocategory', 'zipcode_WO', 'WOGlobalID',\n",
    "       'WOClosedDate', 'WOCreatedDate', 'WOUpdatedDate', 'woentity',\n",
    "       'wopriority', 'woproject', 'recommendedspecies', 'sidewalkdamage',\n",
    "       'cancelreason', 'canceldate', 'projstartdate',"
   ]
  },
  {
   "cell_type": "code",
   "execution_count": 156,
   "metadata": {},
   "outputs": [
    {
     "data": {
      "text/plain": [
       "array(['N/A', 'Open', 'Closed', 'Pending', 'Cancel', 'Alternate',\n",
       "       'In Process'], dtype=object)"
      ]
     },
     "execution_count": 156,
     "metadata": {},
     "output_type": "execute_result"
    }
   ],
   "source": [
    "df.wostatus.unique()"
   ]
  },
  {
   "cell_type": "code",
   "execution_count": 157,
   "metadata": {},
   "outputs": [
    {
     "data": {
      "text/plain": [
       "array(['N/A', 'Tree Removal', 'Pruning', 'Block Pruning', 'Misc Wood',\n",
       "       'Prune-Traffic 20 Day', 'Limb Down', 'Hanging Limb',\n",
       "       'Pest & Disease Treatment', 'Tree Plant-Street Tree Block',\n",
       "       'Tree Plant-Street Tree', 'Tree Down', 'Stump Removal',\n",
       "       'Prune-Traffic 10 Day', 'Misc Work', 'Tree and Sidewalk Repair',\n",
       "       'Canopy Reduction', 'Stump Removal for Tree Planting',\n",
       "       'Tree Removal for Tree Planting', 'Rescue/Preservation - Tree',\n",
       "       'Rescue/Preservation - Space', 'Tree Plant-Park Tree'],\n",
       "      dtype=object)"
      ]
     },
     "execution_count": 157,
     "metadata": {},
     "output_type": "execute_result"
    }
   ],
   "source": [
    "df.wotype.unique()"
   ]
  },
  {
   "cell_type": "code",
   "execution_count": 158,
   "metadata": {},
   "outputs": [
    {
     "data": {
      "text/plain": [
       "array(['N/A', 'SubStatus 5', 'SubStatus 7', 'Survey Central', 'P&D - EAB',\n",
       "       'SubStatus 4', 'Substatus 9', 'SubStatus 6', 'SubStatus 3',\n",
       "       'Commitment', 'SubStatus 8', 'Storm', 'Substatus 10',\n",
       "       'Block Pruning', 'ASAP', 'SubStatus 1', 'Substatus 11',\n",
       "       'Late Leaf Out - 2015', 'SubStatus 2', 'P&D - DED',\n",
       "       'Removal Central', 'Large Park Zone', 'DNP'], dtype=object)"
      ]
     },
     "execution_count": 158,
     "metadata": {},
     "output_type": "execute_result"
    }
   ],
   "source": [
    "df.woproject.unique()"
   ]
  },
  {
   "cell_type": "code",
   "execution_count": 159,
   "metadata": {},
   "outputs": [
    {
     "data": {
      "text/plain": [
       "array(['N/A', 'Risk Mitigation', 'Block Pruning',\n",
       "       'Post-Failure Tree/Debris Removal', 'Traffic Prune', 'Misc Work',\n",
       "       'Tree Planting', 'Stump Removal', 'Tree and Sidewalk Repair'],\n",
       "      dtype=object)"
      ]
     },
     "execution_count": 159,
     "metadata": {},
     "output_type": "execute_result"
    }
   ],
   "source": [
    "df.wocategory.unique()"
   ]
  },
  {
   "cell_type": "code",
   "execution_count": 160,
   "metadata": {
    "scrolled": true
   },
   "outputs": [
    {
     "data": {
      "text/plain": [
       "array(['N/A', 'In-House', 'Expense', 'Capital', 'Con-Ed', 'Permitted',\n",
       "       'Horticulture', 'DOT', 'PSE&G', 'Prospect Park Alliance (PPA)',\n",
       "       'DDC'], dtype=object)"
      ]
     },
     "execution_count": 160,
     "metadata": {},
     "output_type": "execute_result"
    }
   ],
   "source": [
    "df.woentity.unique()"
   ]
  },
  {
   "cell_type": "code",
   "execution_count": 161,
   "metadata": {
    "scrolled": true
   },
   "outputs": [
    {
     "data": {
      "text/plain": [
       "array(['N/A', '9', '6', '8', '10', '12', '7', '4', '5', '11', '3'],\n",
       "      dtype=object)"
      ]
     },
     "execution_count": 161,
     "metadata": {},
     "output_type": "execute_result"
    }
   ],
   "source": [
    "df.wopriority.unique()"
   ]
  },
  {
   "cell_type": "code",
   "execution_count": 162,
   "metadata": {
    "scrolled": true
   },
   "outputs": [
    {
     "data": {
      "text/plain": [
       "array(['N/A', '2022-05-03T15:20:12.000', '2022-08-10T12:50:23.000', ...,\n",
       "       '2022-06-16T14:34:00.000', '2022-04-25T17:31:00.000',\n",
       "       '2022-02-09T14:27:00.000'], dtype=object)"
      ]
     },
     "execution_count": 162,
     "metadata": {},
     "output_type": "execute_result"
    }
   ],
   "source": [
    "df.WOCreatedDate.unique()"
   ]
  },
  {
   "cell_type": "code",
   "execution_count": 163,
   "metadata": {},
   "outputs": [
    {
     "data": {
      "text/plain": [
       "1670      Tree Plant-Street Tree Block\n",
       "2114            Tree Plant-Street Tree\n",
       "2231      Tree Plant-Street Tree Block\n",
       "4403                           Pruning\n",
       "4404                           Pruning\n",
       "                      ...             \n",
       "474195          Tree Plant-Street Tree\n",
       "474261    Tree Plant-Street Tree Block\n",
       "642286          Tree Plant-Street Tree\n",
       "642287          Tree Plant-Street Tree\n",
       "716972                    Tree Removal\n",
       "Name: wotype, Length: 1264, dtype: object"
      ]
     },
     "execution_count": 163,
     "metadata": {},
     "output_type": "execute_result"
    }
   ],
   "source": [
    "df.wotype[df.wostatus == \"Pending\"]"
   ]
  },
  {
   "cell_type": "code",
   "execution_count": 164,
   "metadata": {},
   "outputs": [],
   "source": [
    "pending = df[df.wostatus == \"Pending\"]"
   ]
  },
  {
   "cell_type": "markdown",
   "metadata": {},
   "source": [
    "## graph 2: % SRs yielding inspections & WOs (by type?) – bar chart"
   ]
  },
  {
   "cell_type": "code",
   "execution_count": 166,
   "metadata": {
    "scrolled": true
   },
   "outputs": [
    {
     "data": {
      "text/plain": [
       "['objectid_SR',\n",
       " 'srcategory',\n",
       " 'srtype',\n",
       " 'srpriority',\n",
       " 'srsource',\n",
       " 'srstatus',\n",
       " 'srresolution',\n",
       " 'boroughcode',\n",
       " 'communityboard',\n",
       " 'zipcode',\n",
       " 'citycouncil',\n",
       " 'statesenate',\n",
       " 'stateassembly',\n",
       " 'congressional',\n",
       " 'servicerequestparentglobalid',\n",
       " 'SRGlobalID',\n",
       " 'initiateddate',\n",
       " 'SRClosedDate',\n",
       " 'SRCreatedDate',\n",
       " 'SRUpdatedDate',\n",
       " 'descriptor1',\n",
       " 'complainttype',\n",
       " 'latitude_SR',\n",
       " 'longitude_SR',\n",
       " 'census_tract',\n",
       " 'bin',\n",
       " 'bbl',\n",
       " 'nta',\n",
       " 'complaintdetails',\n",
       " 'parkname',\n",
       " 'parkzone',\n",
       " 'GLOBAL_ID',\n",
       " 'geometry_SR',\n",
       " 'STATEFP',\n",
       " 'COUNTYFP',\n",
       " 'TRACTCE',\n",
       " 'AFFGEOID',\n",
       " 'GEOID',\n",
       " 'NAME',\n",
       " 'LSAD',\n",
       " 'objectid_I',\n",
       " 'inspectiontype',\n",
       " 'inspectiontpcondition',\n",
       " 'inspectiontpstructure',\n",
       " 'treepointdbh',\n",
       " 'treepointglobalid',\n",
       " 'plantingspaceglobalid',\n",
       " 'InsGlobalID',\n",
       " 'inspectiondate',\n",
       " 'InsClosedDate',\n",
       " 'InsCreatedDate',\n",
       " 'InsUpdatedDate',\n",
       " 'parentinspectionglobalid',\n",
       " 'reinspectiondate',\n",
       " 'objectid',\n",
       " 'wotype',\n",
       " 'wostatus',\n",
       " 'wocategory',\n",
       " 'zipcode_WO',\n",
       " 'WOGlobalID',\n",
       " 'WOCreatedDate',\n",
       " 'WOUpdatedDate',\n",
       " 'woentity',\n",
       " 'woproject',\n",
       " 'recommendedspecies',\n",
       " 'wopriority',\n",
       " 'actualfinishdate',\n",
       " 'WOClosedDate',\n",
       " 'cancelreason',\n",
       " 'canceldate',\n",
       " 'sidewalkdamage',\n",
       " 'projstartdate',\n",
       " 'objectid_RA',\n",
       " 'radefect',\n",
       " 'radefectlocation',\n",
       " 'failure',\n",
       " 'impacttarget',\n",
       " 'consequence',\n",
       " 'riskrating',\n",
       " 'RAGlobalID',\n",
       " 'RACreatedDate',\n",
       " 'failureimpact',\n",
       " 'workorderglobalid',\n",
       " 'inspection_attached',\n",
       " 'wo_attached',\n",
       " 'initiated_year',\n",
       " 'initiated_month']"
      ]
     },
     "execution_count": 166,
     "metadata": {},
     "output_type": "execute_result"
    }
   ],
   "source": [
    "df.columns.to_list()"
   ]
  },
  {
   "cell_type": "code",
   "execution_count": 169,
   "metadata": {},
   "outputs": [
    {
     "data": {
      "text/plain": [
       "array(['Remove Tree', 'Hazard', 'Prune', 'Root/Sewer/Sidewalk',\n",
       "       'Plant Tree', 'Illegal Tree Damage', 'Remove Debris',\n",
       "       'Remove Stump', 'Rescue/Preservation', 'Claims', 'Pest/Disease',\n",
       "       'Planting Space'], dtype=object)"
      ]
     },
     "execution_count": 169,
     "metadata": {},
     "output_type": "execute_result"
    }
   ],
   "source": [
    "df.srcategory.unique()"
   ]
  },
  {
   "cell_type": "code",
   "execution_count": 392,
   "metadata": {},
   "outputs": [],
   "source": [
    "insp_or_wo = df[(df.inspection_attached == True) | (df.wo_attached == True)]"
   ]
  },
  {
   "cell_type": "code",
   "execution_count": 393,
   "metadata": {},
   "outputs": [
    {
     "data": {
      "text/plain": [
       "24036"
      ]
     },
     "execution_count": 393,
     "metadata": {},
     "output_type": "execute_result"
    }
   ],
   "source": [
    "len(insp_or_wo) # len of inspection_attached == True because no WO without inspection?"
   ]
  },
  {
   "cell_type": "code",
   "execution_count": 365,
   "metadata": {},
   "outputs": [
    {
     "data": {
      "text/plain": [
       "675813"
      ]
     },
     "execution_count": 365,
     "metadata": {},
     "output_type": "execute_result"
    }
   ],
   "source": [
    "len(df)"
   ]
  },
  {
   "cell_type": "code",
   "execution_count": 172,
   "metadata": {
    "scrolled": true
   },
   "outputs": [
    {
     "data": {
      "text/plain": [
       "srcategory\n",
       "Claims                    115\n",
       "Hazard                 215576\n",
       "Illegal Tree Damage     25875\n",
       "Pest/Disease              148\n",
       "Plant Tree             134555\n",
       "Planting Space             56\n",
       "Prune                  117124\n",
       "Remove Debris             896\n",
       "Remove Stump             1358\n",
       "Remove Tree            104053\n",
       "Rescue/Preservation       274\n",
       "Root/Sewer/Sidewalk     75783\n",
       "dtype: int64"
      ]
     },
     "execution_count": 172,
     "metadata": {},
     "output_type": "execute_result"
    }
   ],
   "source": [
    "df.groupby(\"srcategory\").size()"
   ]
  },
  {
   "cell_type": "code",
   "execution_count": 394,
   "metadata": {},
   "outputs": [
    {
     "data": {
      "text/plain": [
       "(['Claims',\n",
       "  'Hazard',\n",
       "  'Illegal Tree Damage',\n",
       "  'Pest/Disease',\n",
       "  'Plant Tree',\n",
       "  'Planting Space',\n",
       "  'Prune',\n",
       "  'Remove Debris',\n",
       "  'Remove Stump',\n",
       "  'Remove Tree',\n",
       "  'Rescue/Preservation',\n",
       "  'Root/Sewer/Sidewalk'],\n",
       " array([   115, 215576,  25875,    148, 134555,     56, 117124,    896,\n",
       "          1358, 104053,    274,  75783]),\n",
       " ['Hazard',\n",
       "  'Illegal Tree Damage',\n",
       "  'Pest/Disease',\n",
       "  'Plant Tree',\n",
       "  'Planting Space',\n",
       "  'Prune',\n",
       "  'Remove Debris',\n",
       "  'Remove Stump',\n",
       "  'Remove Tree',\n",
       "  'Rescue/Preservation',\n",
       "  'Root/Sewer/Sidewalk'])"
      ]
     },
     "execution_count": 394,
     "metadata": {},
     "output_type": "execute_result"
    }
   ],
   "source": [
    "df_cats = df.groupby(\"srcategory\").size().keys().to_list()\n",
    "df_cat_counts = df.groupby(\"srcategory\").size().values\n",
    "\n",
    "iw_cats = insp_or_wo.groupby(\"srcategory\").size().keys().to_list()\n",
    "\n",
    "df_cats, df_cat_counts, iw_cats"
   ]
  },
  {
   "cell_type": "code",
   "execution_count": 395,
   "metadata": {},
   "outputs": [
    {
     "data": {
      "text/plain": [
       "(True, True)"
      ]
     },
     "execution_count": 395,
     "metadata": {},
     "output_type": "execute_result"
    }
   ],
   "source": [
    "# remove any categories that don't have SRs in the last month\n",
    "for i, cat in enumerate(df_cats):\n",
    "    if cat not in iw_cats:\n",
    "        df_cats.remove(cat)\n",
    "        df_cat_counts = np.delete(df_cat_counts, i)\n",
    "        \n",
    "df_cats == iw_cats, len(df_cat_counts) == len(df_cats)"
   ]
  },
  {
   "cell_type": "code",
   "execution_count": 396,
   "metadata": {},
   "outputs": [],
   "source": [
    "iw_cat_counts = insp_or_wo.groupby(\"srcategory\").size().values"
   ]
  },
  {
   "cell_type": "code",
   "execution_count": 397,
   "metadata": {},
   "outputs": [],
   "source": [
    "# to get the %, divide num of each category in new df with num in full df\n",
    "perc = iw_cat_counts/df_cat_counts * 100"
   ]
  },
  {
   "cell_type": "code",
   "execution_count": 399,
   "metadata": {},
   "outputs": [
    {
     "data": {
      "image/png": "[encoded data removed]",
      "text/plain": [
       "<Figure size 720x720 with 1 Axes>"
      ]
     },
     "metadata": {},
     "output_type": "display_data"
    }
   ],
   "source": [
    "fig, ax = plt.subplots(figsize=(10, 10))\n",
    "plt.title('% Service Requests in 2022 Yielding an Inspection or a Work Order')\n",
    "plt.xlabel('Service Request Category')\n",
    "plt.ylabel('% of Service Requests')\n",
    "plt.xticks(rotation = 45)\n",
    "plt.bar(iw_cats, perc);"
   ]
  },
  {
   "cell_type": "code",
   "execution_count": 342,
   "metadata": {},
   "outputs": [],
   "source": [
    "sr_i_wo = pd.DataFrame()"
   ]
  },
  {
   "cell_type": "code",
   "execution_count": 343,
   "metadata": {},
   "outputs": [],
   "source": [
    "sr_i_wo['insp_wo_cats'] = iw_cats"
   ]
  },
  {
   "cell_type": "code",
   "execution_count": 344,
   "metadata": {},
   "outputs": [],
   "source": [
    "sr_i_wo['percentages'] = perc"
   ]
  },
  {
   "cell_type": "code",
   "execution_count": 345,
   "metadata": {},
   "outputs": [
    {
     "data": {
      "text/html": [
       "<div>\n",
       "<style scoped>\n",
       "    .dataframe tbody tr th:only-of-type {\n",
       "        vertical-align: middle;\n",
       "    }\n",
       "\n",
       "    .dataframe tbody tr th {\n",
       "        vertical-align: top;\n",
       "    }\n",
       "\n",
       "    .dataframe thead th {\n",
       "        text-align: right;\n",
       "    }\n",
       "</style>\n",
       "<table border=\"1\" class=\"dataframe\">\n",
       "  <thead>\n",
       "    <tr style=\"text-align: right;\">\n",
       "      <th></th>\n",
       "      <th>insp_wo_cats</th>\n",
       "      <th>percentages</th>\n",
       "    </tr>\n",
       "  </thead>\n",
       "  <tbody>\n",
       "    <tr>\n",
       "      <th>0</th>\n",
       "      <td>Hazard</td>\n",
       "      <td>4.629922</td>\n",
       "    </tr>\n",
       "    <tr>\n",
       "      <th>1</th>\n",
       "      <td>Illegal Tree Damage</td>\n",
       "      <td>3.949758</td>\n",
       "    </tr>\n",
       "    <tr>\n",
       "      <th>2</th>\n",
       "      <td>Pest/Disease</td>\n",
       "      <td>4.054054</td>\n",
       "    </tr>\n",
       "    <tr>\n",
       "      <th>3</th>\n",
       "      <td>Plant Tree</td>\n",
       "      <td>0.697856</td>\n",
       "    </tr>\n",
       "    <tr>\n",
       "      <th>4</th>\n",
       "      <td>Planting Space</td>\n",
       "      <td>1.785714</td>\n",
       "    </tr>\n",
       "    <tr>\n",
       "      <th>5</th>\n",
       "      <td>Prune</td>\n",
       "      <td>2.712510</td>\n",
       "    </tr>\n",
       "    <tr>\n",
       "      <th>6</th>\n",
       "      <td>Remove Debris</td>\n",
       "      <td>2.455357</td>\n",
       "    </tr>\n",
       "    <tr>\n",
       "      <th>7</th>\n",
       "      <td>Remove Stump</td>\n",
       "      <td>8.394698</td>\n",
       "    </tr>\n",
       "    <tr>\n",
       "      <th>8</th>\n",
       "      <td>Remove Tree</td>\n",
       "      <td>6.693704</td>\n",
       "    </tr>\n",
       "    <tr>\n",
       "      <th>9</th>\n",
       "      <td>Rescue/Preservation</td>\n",
       "      <td>2.554745</td>\n",
       "    </tr>\n",
       "    <tr>\n",
       "      <th>10</th>\n",
       "      <td>Root/Sewer/Sidewalk</td>\n",
       "      <td>2.377842</td>\n",
       "    </tr>\n",
       "  </tbody>\n",
       "</table>\n",
       "</div>"
      ],
      "text/plain": [
       "           insp_wo_cats  percentages\n",
       "0                Hazard     4.629922\n",
       "1   Illegal Tree Damage     3.949758\n",
       "2          Pest/Disease     4.054054\n",
       "3            Plant Tree     0.697856\n",
       "4        Planting Space     1.785714\n",
       "5                 Prune     2.712510\n",
       "6         Remove Debris     2.455357\n",
       "7          Remove Stump     8.394698\n",
       "8           Remove Tree     6.693704\n",
       "9   Rescue/Preservation     2.554745\n",
       "10  Root/Sewer/Sidewalk     2.377842"
      ]
     },
     "execution_count": 345,
     "metadata": {},
     "output_type": "execute_result"
    }
   ],
   "source": [
    "sr_i_wo"
   ]
  },
  {
   "cell_type": "code",
   "execution_count": 346,
   "metadata": {},
   "outputs": [],
   "source": [
    "# to json\n",
    "sr_i_wo.to_json(r'sr_to_insp_or_wo.json')"
   ]
  },
  {
   "cell_type": "markdown",
   "metadata": {},
   "source": [
    "### Liz graph: pending work orders by type\n"
   ]
  },
  {
   "cell_type": "code",
   "execution_count": 348,
   "metadata": {},
   "outputs": [
    {
     "name": "stderr",
     "output_type": "stream",
     "text": [
      "<ipython-input-348-828e3db0d83c>:1: SettingWithCopyWarning: \n",
      "A value is trying to be set on a copy of a slice from a DataFrame.\n",
      "Try using .loc[row_indexer,col_indexer] = value instead\n",
      "\n",
      "See the caveats in the documentation: https://pandas.pydata.org/pandas-docs/stable/user_guide/indexing.html#returning-a-view-versus-a-copy\n",
      "  df['wotype_parent'] = df['wotype']\n"
     ]
    }
   ],
   "source": [
    "df['wotype_parent'] = df['wotype']"
   ]
  },
  {
   "cell_type": "code",
   "execution_count": 351,
   "metadata": {},
   "outputs": [
    {
     "data": {
      "text/plain": [
       "(675813, 88)"
      ]
     },
     "execution_count": 351,
     "metadata": {},
     "output_type": "execute_result"
    }
   ],
   "source": [
    "df.shape"
   ]
  },
  {
   "cell_type": "code",
   "execution_count": 356,
   "metadata": {},
   "outputs": [
    {
     "name": "stderr",
     "output_type": "stream",
     "text": [
      "/opt/anaconda3/lib/python3.8/site-packages/pandas/core/generic.py:8870: SettingWithCopyWarning: \n",
      "A value is trying to be set on a copy of a slice from a DataFrame\n",
      "\n",
      "See the caveats in the documentation: https://pandas.pydata.org/pandas-docs/stable/user_guide/indexing.html#returning-a-view-versus-a-copy\n",
      "  return self._update_inplace(result)\n"
     ]
    }
   ],
   "source": [
    "df[\"wotype_parent\"].mask((df[\"wotype\"] == \"Tree Plant-Street Tree Block\") | (df[\"wotype\"] == \"Tree Plant-Street Tree\") | \n",
    "                               (df[\"wotype\"] == \"Tree Plant-Park Tree\"), 'Tree Plant', inplace=True)"
   ]
  },
  {
   "cell_type": "code",
   "execution_count": 357,
   "metadata": {},
   "outputs": [],
   "source": [
    "df[\"wotype_parent\"].mask((df[\"wotype\"] == \"Rescue/Preservation - Tree\") | (df[\"wotype\"] == \"Rescue/Preservation - Space\"), 'Preservation', inplace=True)"
   ]
  },
  {
   "cell_type": "code",
   "execution_count": 358,
   "metadata": {},
   "outputs": [],
   "source": [
    "df[\"wotype_parent\"].mask((df[\"wotype\"] == \"Prune-Traffic 20 Day\") | (df[\"wotype\"] == \"Prune-Traffic 10 Day\"), 'Pruning', inplace=True)"
   ]
  },
  {
   "cell_type": "code",
   "execution_count": 360,
   "metadata": {},
   "outputs": [],
   "source": [
    "df[\"wotype_parent\"].mask((df[\"wotype\"] == \"Tree Removal\") | (df[\"wotype\"] == \"Stump Removal\") | (df['wotype'] == \"Stump Removal for Tree Planting\"), 'Tree / Stump Removal', inplace=True)"
   ]
  },
  {
   "cell_type": "code",
   "execution_count": 361,
   "metadata": {},
   "outputs": [],
   "source": [
    "df[\"wotype_parent\"].mask((df[\"wotype\"] == \"Limb Down\") | (df[\"wotype\"] == \"Hanging Limb\"), 'Limb Down / Hanging', inplace=True)"
   ]
  },
  {
   "cell_type": "code",
   "execution_count": 362,
   "metadata": {},
   "outputs": [],
   "source": [
    "plot_df = df[(df['initiated_year']==today.year) & (df['wostatus']=='Pending')].groupby(by=['initiated_month','wotype_parent']).size().reset_index()"
   ]
  },
  {
   "cell_type": "code",
   "execution_count": 364,
   "metadata": {},
   "outputs": [],
   "source": [
    "# to json\n",
    "plot_df.to_json(r'pending_wo_by_type.json')"
   ]
  },
  {
   "cell_type": "code",
   "execution_count": null,
   "metadata": {},
   "outputs": [],
   "source": []
  },
  {
   "cell_type": "markdown",
   "metadata": {},
   "source": [
    "### SRs by source"
   ]
  },
  {
   "cell_type": "code",
   "execution_count": 189,
   "metadata": {},
   "outputs": [
    {
     "data": {
      "text/plain": [
       "Index(['objectid_SR', 'srcategory', 'srtype', 'srpriority', 'srsource',\n",
       "       'srstatus', 'srresolution', 'boroughcode', 'communityboard', 'zipcode',\n",
       "       'citycouncil', 'statesenate', 'stateassembly', 'congressional',\n",
       "       'servicerequestparentglobalid', 'SRGlobalID', 'initiateddate',\n",
       "       'SRClosedDate', 'SRCreatedDate', 'SRUpdatedDate', 'descriptor1',\n",
       "       'complainttype', 'latitude_SR', 'longitude_SR', 'census_tract', 'bin',\n",
       "       'bbl', 'nta', 'complaintdetails', 'parkname', 'parkzone', 'GLOBAL_ID',\n",
       "       'geometry_SR', 'STATEFP', 'COUNTYFP', 'TRACTCE', 'AFFGEOID', 'GEOID',\n",
       "       'NAME', 'LSAD', 'objectid_I', 'inspectiontype', 'inspectiontpcondition',\n",
       "       'inspectiontpstructure', 'treepointdbh', 'treepointglobalid',\n",
       "       'plantingspaceglobalid', 'InsGlobalID', 'inspectiondate',\n",
       "       'InsClosedDate', 'InsCreatedDate', 'InsUpdatedDate',\n",
       "       'parentinspectionglobalid', 'reinspectiondate', 'objectid', 'wotype',\n",
       "       'wostatus', 'wocategory', 'zipcode_WO', 'WOGlobalID', 'WOCreatedDate',\n",
       "       'WOUpdatedDate', 'woentity', 'woproject', 'recommendedspecies',\n",
       "       'wopriority', 'actualfinishdate', 'WOClosedDate', 'cancelreason',\n",
       "       'canceldate', 'sidewalkdamage', 'projstartdate', 'objectid_RA',\n",
       "       'radefect', 'radefectlocation', 'failure', 'impacttarget',\n",
       "       'consequence', 'riskrating', 'RAGlobalID', 'RACreatedDate',\n",
       "       'failureimpact', 'workorderglobalid', 'inspection_attached',\n",
       "       'wo_attached', 'initiated_year', 'initiated_month'],\n",
       "      dtype='object')"
      ]
     },
     "execution_count": 189,
     "metadata": {},
     "output_type": "execute_result"
    }
   ],
   "source": [
    "df.columns"
   ]
  },
  {
   "cell_type": "code",
   "execution_count": 191,
   "metadata": {},
   "outputs": [
    {
     "name": "stderr",
     "output_type": "stream",
     "text": [
      "<ipython-input-191-e67cba8dce66>:1: SettingWithCopyWarning: \n",
      "A value is trying to be set on a copy of a slice from a DataFrame.\n",
      "Try using .loc[row_indexer,col_indexer] = value instead\n",
      "\n",
      "See the caveats in the documentation: https://pandas.pydata.org/pandas-docs/stable/user_guide/indexing.html#returning-a-view-versus-a-copy\n",
      "  df['SRCreatedDate'] = pd.to_datetime(df['SRCreatedDate'],errors='coerce')\n"
     ]
    }
   ],
   "source": [
    "df['SRCreatedDate'] = pd.to_datetime(df['SRCreatedDate'],errors='coerce')"
   ]
  },
  {
   "cell_type": "code",
   "execution_count": 200,
   "metadata": {},
   "outputs": [],
   "source": [
    "subset = df[df['SRCreatedDate'].apply(lambda row: row.year == today.year)][['srsource', 'initiated_month']]"
   ]
  },
  {
   "cell_type": "code",
   "execution_count": 203,
   "metadata": {},
   "outputs": [
    {
     "data": {
      "text/plain": [
       "array(['3-1-1 Call Center',\n",
       "       'Department of Parks and Recreation - Public Web Site', 'DOT',\n",
       "       'Park Inspection Program', 'Correspondence', 'AMPS', 'DPR',\n",
       "       'DPR -Public Tree Map', 'FDNY'], dtype=object)"
      ]
     },
     "execution_count": 203,
     "metadata": {},
     "output_type": "execute_result"
    }
   ],
   "source": [
    "subset.srsource.unique()"
   ]
  },
  {
   "cell_type": "code",
   "execution_count": 238,
   "metadata": {},
   "outputs": [
    {
     "data": {
      "text/html": [
       "<div>\n",
       "<style scoped>\n",
       "    .dataframe tbody tr th:only-of-type {\n",
       "        vertical-align: middle;\n",
       "    }\n",
       "\n",
       "    .dataframe tbody tr th {\n",
       "        vertical-align: top;\n",
       "    }\n",
       "\n",
       "    .dataframe thead th {\n",
       "        text-align: right;\n",
       "    }\n",
       "</style>\n",
       "<table border=\"1\" class=\"dataframe\">\n",
       "  <thead>\n",
       "    <tr style=\"text-align: right;\">\n",
       "      <th></th>\n",
       "      <th>srsource</th>\n",
       "      <th>initiated_month</th>\n",
       "    </tr>\n",
       "  </thead>\n",
       "  <tbody>\n",
       "    <tr>\n",
       "      <th>32</th>\n",
       "      <td>3-1-1 Call Center</td>\n",
       "      <td>2.0</td>\n",
       "    </tr>\n",
       "    <tr>\n",
       "      <th>33</th>\n",
       "      <td>3-1-1 Call Center</td>\n",
       "      <td>2.0</td>\n",
       "    </tr>\n",
       "    <tr>\n",
       "      <th>37</th>\n",
       "      <td>3-1-1 Call Center</td>\n",
       "      <td>8.0</td>\n",
       "    </tr>\n",
       "    <tr>\n",
       "      <th>42</th>\n",
       "      <td>3-1-1 Call Center</td>\n",
       "      <td>8.0</td>\n",
       "    </tr>\n",
       "    <tr>\n",
       "      <th>48</th>\n",
       "      <td>3-1-1 Call Center</td>\n",
       "      <td>5.0</td>\n",
       "    </tr>\n",
       "    <tr>\n",
       "      <th>...</th>\n",
       "      <td>...</td>\n",
       "      <td>...</td>\n",
       "    </tr>\n",
       "    <tr>\n",
       "      <th>474587</th>\n",
       "      <td>3-1-1 Call Center</td>\n",
       "      <td>7.0</td>\n",
       "    </tr>\n",
       "    <tr>\n",
       "      <th>474588</th>\n",
       "      <td>Correspondence</td>\n",
       "      <td>NaN</td>\n",
       "    </tr>\n",
       "    <tr>\n",
       "      <th>474591</th>\n",
       "      <td>3-1-1 Call Center</td>\n",
       "      <td>6.0</td>\n",
       "    </tr>\n",
       "    <tr>\n",
       "      <th>474592</th>\n",
       "      <td>3-1-1 Call Center</td>\n",
       "      <td>6.0</td>\n",
       "    </tr>\n",
       "    <tr>\n",
       "      <th>474593</th>\n",
       "      <td>3-1-1 Call Center</td>\n",
       "      <td>6.0</td>\n",
       "    </tr>\n",
       "  </tbody>\n",
       "</table>\n",
       "<p>61978 rows × 2 columns</p>\n",
       "</div>"
      ],
      "text/plain": [
       "                 srsource  initiated_month\n",
       "32      3-1-1 Call Center              2.0\n",
       "33      3-1-1 Call Center              2.0\n",
       "37      3-1-1 Call Center              8.0\n",
       "42      3-1-1 Call Center              8.0\n",
       "48      3-1-1 Call Center              5.0\n",
       "...                   ...              ...\n",
       "474587  3-1-1 Call Center              7.0\n",
       "474588     Correspondence              NaN\n",
       "474591  3-1-1 Call Center              6.0\n",
       "474592  3-1-1 Call Center              6.0\n",
       "474593  3-1-1 Call Center              6.0\n",
       "\n",
       "[61978 rows x 2 columns]"
      ]
     },
     "execution_count": 238,
     "metadata": {},
     "output_type": "execute_result"
    }
   ],
   "source": [
    "subset"
   ]
  },
  {
   "cell_type": "code",
   "execution_count": 288,
   "metadata": {},
   "outputs": [
    {
     "data": {
      "text/plain": [
       "array([ 2.,  8.,  5.,  4.,  7.,  3.,  1.,  6., nan,  9., 10., 11.])"
      ]
     },
     "execution_count": 288,
     "metadata": {},
     "output_type": "execute_result"
    }
   ],
   "source": [
    "subset.initiated_month.unique()"
   ]
  },
  {
   "cell_type": "code",
   "execution_count": 290,
   "metadata": {},
   "outputs": [],
   "source": [
    "# subset['month'] = subset['initiated_month'].replace([1.0, 2.0,3.0,4.0,5.0,6.0,7.0,8.0,9.0,10.0,11.0,12.0], ['Jan',\"Feb\", \"Mar\", \"Apr\", \"May\", 'Jun', \"Jul\", \"Aug\", \"Sep\", \"Oct\", \"Nov\", \"Dec\"])\n"
   ]
  },
  {
   "cell_type": "code",
   "execution_count": 291,
   "metadata": {},
   "outputs": [
    {
     "data": {
      "text/html": [
       "<div>\n",
       "<style scoped>\n",
       "    .dataframe tbody tr th:only-of-type {\n",
       "        vertical-align: middle;\n",
       "    }\n",
       "\n",
       "    .dataframe tbody tr th {\n",
       "        vertical-align: top;\n",
       "    }\n",
       "\n",
       "    .dataframe thead th {\n",
       "        text-align: right;\n",
       "    }\n",
       "</style>\n",
       "<table border=\"1\" class=\"dataframe\">\n",
       "  <thead>\n",
       "    <tr style=\"text-align: right;\">\n",
       "      <th></th>\n",
       "      <th>srsource</th>\n",
       "      <th>initiated_month</th>\n",
       "      <th>month</th>\n",
       "    </tr>\n",
       "  </thead>\n",
       "  <tbody>\n",
       "    <tr>\n",
       "      <th>32</th>\n",
       "      <td>3-1-1 Call Center</td>\n",
       "      <td>2.0</td>\n",
       "      <td>Feb</td>\n",
       "    </tr>\n",
       "    <tr>\n",
       "      <th>33</th>\n",
       "      <td>3-1-1 Call Center</td>\n",
       "      <td>2.0</td>\n",
       "      <td>Feb</td>\n",
       "    </tr>\n",
       "    <tr>\n",
       "      <th>37</th>\n",
       "      <td>3-1-1 Call Center</td>\n",
       "      <td>8.0</td>\n",
       "      <td>Aug</td>\n",
       "    </tr>\n",
       "    <tr>\n",
       "      <th>42</th>\n",
       "      <td>3-1-1 Call Center</td>\n",
       "      <td>8.0</td>\n",
       "      <td>Aug</td>\n",
       "    </tr>\n",
       "    <tr>\n",
       "      <th>48</th>\n",
       "      <td>3-1-1 Call Center</td>\n",
       "      <td>5.0</td>\n",
       "      <td>May</td>\n",
       "    </tr>\n",
       "    <tr>\n",
       "      <th>...</th>\n",
       "      <td>...</td>\n",
       "      <td>...</td>\n",
       "      <td>...</td>\n",
       "    </tr>\n",
       "    <tr>\n",
       "      <th>474587</th>\n",
       "      <td>3-1-1 Call Center</td>\n",
       "      <td>7.0</td>\n",
       "      <td>Jul</td>\n",
       "    </tr>\n",
       "    <tr>\n",
       "      <th>474588</th>\n",
       "      <td>Correspondence</td>\n",
       "      <td>NaN</td>\n",
       "      <td>NaN</td>\n",
       "    </tr>\n",
       "    <tr>\n",
       "      <th>474591</th>\n",
       "      <td>3-1-1 Call Center</td>\n",
       "      <td>6.0</td>\n",
       "      <td>Jun</td>\n",
       "    </tr>\n",
       "    <tr>\n",
       "      <th>474592</th>\n",
       "      <td>3-1-1 Call Center</td>\n",
       "      <td>6.0</td>\n",
       "      <td>Jun</td>\n",
       "    </tr>\n",
       "    <tr>\n",
       "      <th>474593</th>\n",
       "      <td>3-1-1 Call Center</td>\n",
       "      <td>6.0</td>\n",
       "      <td>Jun</td>\n",
       "    </tr>\n",
       "  </tbody>\n",
       "</table>\n",
       "<p>61978 rows × 3 columns</p>\n",
       "</div>"
      ],
      "text/plain": [
       "                 srsource  initiated_month month\n",
       "32      3-1-1 Call Center              2.0   Feb\n",
       "33      3-1-1 Call Center              2.0   Feb\n",
       "37      3-1-1 Call Center              8.0   Aug\n",
       "42      3-1-1 Call Center              8.0   Aug\n",
       "48      3-1-1 Call Center              5.0   May\n",
       "...                   ...              ...   ...\n",
       "474587  3-1-1 Call Center              7.0   Jul\n",
       "474588     Correspondence              NaN   NaN\n",
       "474591  3-1-1 Call Center              6.0   Jun\n",
       "474592  3-1-1 Call Center              6.0   Jun\n",
       "474593  3-1-1 Call Center              6.0   Jun\n",
       "\n",
       "[61978 rows x 3 columns]"
      ]
     },
     "execution_count": 291,
     "metadata": {},
     "output_type": "execute_result"
    }
   ],
   "source": [
    "subset"
   ]
  },
  {
   "cell_type": "code",
   "execution_count": 297,
   "metadata": {},
   "outputs": [
    {
     "data": {
      "text/plain": [
       "initiated_month  srsource                                            \n",
       "1.0              3-1-1 Call Center                                       2424\n",
       "                 DPR -Public Tree Map                                      42\n",
       "                 Department of Parks and Recreation - Public Web Site     664\n",
       "2.0              3-1-1 Call Center                                       2721\n",
       "                 DPR -Public Tree Map                                      55\n",
       "                 Department of Parks and Recreation - Public Web Site     734\n",
       "3.0              3-1-1 Call Center                                       4537\n",
       "                 DOT                                                       26\n",
       "                 DPR -Public Tree Map                                      50\n",
       "                 Department of Parks and Recreation - Public Web Site    1413\n",
       "4.0              3-1-1 Call Center                                       4892\n",
       "                 DOT                                                      234\n",
       "                 DPR -Public Tree Map                                     103\n",
       "                 Department of Parks and Recreation - Public Web Site    1645\n",
       "5.0              3-1-1 Call Center                                       6948\n",
       "                 DPR -Public Tree Map                                     103\n",
       "                 Department of Parks and Recreation - Public Web Site    2206\n",
       "6.0              3-1-1 Call Center                                       9278\n",
       "                 DPR -Public Tree Map                                     129\n",
       "                 Department of Parks and Recreation - Public Web Site    2697\n",
       "7.0              3-1-1 Call Center                                       7877\n",
       "                 DPR -Public Tree Map                                     198\n",
       "                 Department of Parks and Recreation - Public Web Site    2277\n",
       "8.0              3-1-1 Call Center                                       7948\n",
       "                 DPR -Public Tree Map                                     187\n",
       "                 Department of Parks and Recreation - Public Web Site    1687\n",
       "9.0              3-1-1 Call Center                                         17\n",
       "                 Department of Parks and Recreation - Public Web Site       4\n",
       "10.0             3-1-1 Call Center                                          6\n",
       "11.0             3-1-1 Call Center                                          1\n",
       "dtype: int64"
      ]
     },
     "execution_count": 297,
     "metadata": {},
     "output_type": "execute_result"
    }
   ],
   "source": [
    "# get number per month per source\n",
    "groups = subset.groupby([\"initiated_month\", \"srsource\"]).size()\n",
    "groups"
   ]
  },
  {
   "cell_type": "code",
   "execution_count": 298,
   "metadata": {},
   "outputs": [],
   "source": [
    "# df with columns as SR source, rows as months, values as counts\n",
    "g = groups.to_frame().reset_index().pivot('initiated_month', 'srsource').fillna(0)"
   ]
  },
  {
   "cell_type": "code",
   "execution_count": 299,
   "metadata": {},
   "outputs": [
    {
     "data": {
      "text/html": [
       "<div>\n",
       "<style scoped>\n",
       "    .dataframe tbody tr th:only-of-type {\n",
       "        vertical-align: middle;\n",
       "    }\n",
       "\n",
       "    .dataframe tbody tr th {\n",
       "        vertical-align: top;\n",
       "    }\n",
       "\n",
       "    .dataframe thead tr th {\n",
       "        text-align: left;\n",
       "    }\n",
       "\n",
       "    .dataframe thead tr:last-of-type th {\n",
       "        text-align: right;\n",
       "    }\n",
       "</style>\n",
       "<table border=\"1\" class=\"dataframe\">\n",
       "  <thead>\n",
       "    <tr>\n",
       "      <th></th>\n",
       "      <th colspan=\"4\" halign=\"left\">0</th>\n",
       "    </tr>\n",
       "    <tr>\n",
       "      <th>srsource</th>\n",
       "      <th>3-1-1 Call Center</th>\n",
       "      <th>DOT</th>\n",
       "      <th>DPR -Public Tree Map</th>\n",
       "      <th>Department of Parks and Recreation - Public Web Site</th>\n",
       "    </tr>\n",
       "    <tr>\n",
       "      <th>initiated_month</th>\n",
       "      <th></th>\n",
       "      <th></th>\n",
       "      <th></th>\n",
       "      <th></th>\n",
       "    </tr>\n",
       "  </thead>\n",
       "  <tbody>\n",
       "    <tr>\n",
       "      <th>1.0</th>\n",
       "      <td>2424.0</td>\n",
       "      <td>0.0</td>\n",
       "      <td>42.0</td>\n",
       "      <td>664.0</td>\n",
       "    </tr>\n",
       "    <tr>\n",
       "      <th>2.0</th>\n",
       "      <td>2721.0</td>\n",
       "      <td>0.0</td>\n",
       "      <td>55.0</td>\n",
       "      <td>734.0</td>\n",
       "    </tr>\n",
       "    <tr>\n",
       "      <th>3.0</th>\n",
       "      <td>4537.0</td>\n",
       "      <td>26.0</td>\n",
       "      <td>50.0</td>\n",
       "      <td>1413.0</td>\n",
       "    </tr>\n",
       "    <tr>\n",
       "      <th>4.0</th>\n",
       "      <td>4892.0</td>\n",
       "      <td>234.0</td>\n",
       "      <td>103.0</td>\n",
       "      <td>1645.0</td>\n",
       "    </tr>\n",
       "    <tr>\n",
       "      <th>5.0</th>\n",
       "      <td>6948.0</td>\n",
       "      <td>0.0</td>\n",
       "      <td>103.0</td>\n",
       "      <td>2206.0</td>\n",
       "    </tr>\n",
       "    <tr>\n",
       "      <th>6.0</th>\n",
       "      <td>9278.0</td>\n",
       "      <td>0.0</td>\n",
       "      <td>129.0</td>\n",
       "      <td>2697.0</td>\n",
       "    </tr>\n",
       "    <tr>\n",
       "      <th>7.0</th>\n",
       "      <td>7877.0</td>\n",
       "      <td>0.0</td>\n",
       "      <td>198.0</td>\n",
       "      <td>2277.0</td>\n",
       "    </tr>\n",
       "    <tr>\n",
       "      <th>8.0</th>\n",
       "      <td>7948.0</td>\n",
       "      <td>0.0</td>\n",
       "      <td>187.0</td>\n",
       "      <td>1687.0</td>\n",
       "    </tr>\n",
       "    <tr>\n",
       "      <th>9.0</th>\n",
       "      <td>17.0</td>\n",
       "      <td>0.0</td>\n",
       "      <td>0.0</td>\n",
       "      <td>4.0</td>\n",
       "    </tr>\n",
       "    <tr>\n",
       "      <th>10.0</th>\n",
       "      <td>6.0</td>\n",
       "      <td>0.0</td>\n",
       "      <td>0.0</td>\n",
       "      <td>0.0</td>\n",
       "    </tr>\n",
       "    <tr>\n",
       "      <th>11.0</th>\n",
       "      <td>1.0</td>\n",
       "      <td>0.0</td>\n",
       "      <td>0.0</td>\n",
       "      <td>0.0</td>\n",
       "    </tr>\n",
       "  </tbody>\n",
       "</table>\n",
       "</div>"
      ],
      "text/plain": [
       "                                0                              \\\n",
       "srsource        3-1-1 Call Center    DOT DPR -Public Tree Map   \n",
       "initiated_month                                                 \n",
       "1.0                        2424.0    0.0                 42.0   \n",
       "2.0                        2721.0    0.0                 55.0   \n",
       "3.0                        4537.0   26.0                 50.0   \n",
       "4.0                        4892.0  234.0                103.0   \n",
       "5.0                        6948.0    0.0                103.0   \n",
       "6.0                        9278.0    0.0                129.0   \n",
       "7.0                        7877.0    0.0                198.0   \n",
       "8.0                        7948.0    0.0                187.0   \n",
       "9.0                          17.0    0.0                  0.0   \n",
       "10.0                          6.0    0.0                  0.0   \n",
       "11.0                          1.0    0.0                  0.0   \n",
       "\n",
       "                                                                      \n",
       "srsource        Department of Parks and Recreation - Public Web Site  \n",
       "initiated_month                                                       \n",
       "1.0                                                          664.0    \n",
       "2.0                                                          734.0    \n",
       "3.0                                                         1413.0    \n",
       "4.0                                                         1645.0    \n",
       "5.0                                                         2206.0    \n",
       "6.0                                                         2697.0    \n",
       "7.0                                                         2277.0    \n",
       "8.0                                                         1687.0    \n",
       "9.0                                                            4.0    \n",
       "10.0                                                           0.0    \n",
       "11.0                                                           0.0    "
      ]
     },
     "execution_count": 299,
     "metadata": {},
     "output_type": "execute_result"
    }
   ],
   "source": [
    "g"
   ]
  },
  {
   "cell_type": "code",
   "execution_count": 287,
   "metadata": {},
   "outputs": [
    {
     "data": {
      "text/html": [
       "<div>\n",
       "<style scoped>\n",
       "    .dataframe tbody tr th:only-of-type {\n",
       "        vertical-align: middle;\n",
       "    }\n",
       "\n",
       "    .dataframe tbody tr th {\n",
       "        vertical-align: top;\n",
       "    }\n",
       "\n",
       "    .dataframe thead tr th {\n",
       "        text-align: left;\n",
       "    }\n",
       "</style>\n",
       "<table border=\"1\" class=\"dataframe\">\n",
       "  <thead>\n",
       "    <tr>\n",
       "      <th></th>\n",
       "      <th>initiated_month</th>\n",
       "      <th colspan=\"4\" halign=\"left\">0</th>\n",
       "    </tr>\n",
       "    <tr>\n",
       "      <th>srsource</th>\n",
       "      <th></th>\n",
       "      <th>3-1-1 Call Center</th>\n",
       "      <th>DOT</th>\n",
       "      <th>DPR -Public Tree Map</th>\n",
       "      <th>Department of Parks and Recreation - Public Web Site</th>\n",
       "    </tr>\n",
       "  </thead>\n",
       "  <tbody>\n",
       "    <tr>\n",
       "      <th>0</th>\n",
       "      <td>1.0</td>\n",
       "      <td>2424.0</td>\n",
       "      <td>0.0</td>\n",
       "      <td>42.0</td>\n",
       "      <td>664.0</td>\n",
       "    </tr>\n",
       "    <tr>\n",
       "      <th>1</th>\n",
       "      <td>2.0</td>\n",
       "      <td>2721.0</td>\n",
       "      <td>0.0</td>\n",
       "      <td>55.0</td>\n",
       "      <td>734.0</td>\n",
       "    </tr>\n",
       "    <tr>\n",
       "      <th>2</th>\n",
       "      <td>3.0</td>\n",
       "      <td>4537.0</td>\n",
       "      <td>26.0</td>\n",
       "      <td>50.0</td>\n",
       "      <td>1413.0</td>\n",
       "    </tr>\n",
       "    <tr>\n",
       "      <th>3</th>\n",
       "      <td>4.0</td>\n",
       "      <td>4892.0</td>\n",
       "      <td>234.0</td>\n",
       "      <td>103.0</td>\n",
       "      <td>1645.0</td>\n",
       "    </tr>\n",
       "    <tr>\n",
       "      <th>4</th>\n",
       "      <td>5.0</td>\n",
       "      <td>6948.0</td>\n",
       "      <td>0.0</td>\n",
       "      <td>103.0</td>\n",
       "      <td>2206.0</td>\n",
       "    </tr>\n",
       "    <tr>\n",
       "      <th>5</th>\n",
       "      <td>6.0</td>\n",
       "      <td>9278.0</td>\n",
       "      <td>0.0</td>\n",
       "      <td>129.0</td>\n",
       "      <td>2697.0</td>\n",
       "    </tr>\n",
       "    <tr>\n",
       "      <th>6</th>\n",
       "      <td>7.0</td>\n",
       "      <td>7877.0</td>\n",
       "      <td>0.0</td>\n",
       "      <td>198.0</td>\n",
       "      <td>2277.0</td>\n",
       "    </tr>\n",
       "    <tr>\n",
       "      <th>7</th>\n",
       "      <td>8.0</td>\n",
       "      <td>7948.0</td>\n",
       "      <td>0.0</td>\n",
       "      <td>187.0</td>\n",
       "      <td>1687.0</td>\n",
       "    </tr>\n",
       "    <tr>\n",
       "      <th>8</th>\n",
       "      <td>9.0</td>\n",
       "      <td>17.0</td>\n",
       "      <td>0.0</td>\n",
       "      <td>0.0</td>\n",
       "      <td>4.0</td>\n",
       "    </tr>\n",
       "    <tr>\n",
       "      <th>9</th>\n",
       "      <td>10.0</td>\n",
       "      <td>6.0</td>\n",
       "      <td>0.0</td>\n",
       "      <td>0.0</td>\n",
       "      <td>0.0</td>\n",
       "    </tr>\n",
       "    <tr>\n",
       "      <th>10</th>\n",
       "      <td>11.0</td>\n",
       "      <td>1.0</td>\n",
       "      <td>0.0</td>\n",
       "      <td>0.0</td>\n",
       "      <td>0.0</td>\n",
       "    </tr>\n",
       "  </tbody>\n",
       "</table>\n",
       "</div>"
      ],
      "text/plain": [
       "         initiated_month                 0                              \\\n",
       "srsource                 3-1-1 Call Center    DOT DPR -Public Tree Map   \n",
       "0                    1.0            2424.0    0.0                 42.0   \n",
       "1                    2.0            2721.0    0.0                 55.0   \n",
       "2                    3.0            4537.0   26.0                 50.0   \n",
       "3                    4.0            4892.0  234.0                103.0   \n",
       "4                    5.0            6948.0    0.0                103.0   \n",
       "5                    6.0            9278.0    0.0                129.0   \n",
       "6                    7.0            7877.0    0.0                198.0   \n",
       "7                    8.0            7948.0    0.0                187.0   \n",
       "8                    9.0              17.0    0.0                  0.0   \n",
       "9                   10.0               6.0    0.0                  0.0   \n",
       "10                  11.0               1.0    0.0                  0.0   \n",
       "\n",
       "                                                               \n",
       "srsource Department of Parks and Recreation - Public Web Site  \n",
       "0                                                     664.0    \n",
       "1                                                     734.0    \n",
       "2                                                    1413.0    \n",
       "3                                                    1645.0    \n",
       "4                                                    2206.0    \n",
       "5                                                    2697.0    \n",
       "6                                                    2277.0    \n",
       "7                                                    1687.0    \n",
       "8                                                       4.0    \n",
       "9                                                       0.0    \n",
       "10                                                      0.0    "
      ]
     },
     "execution_count": 287,
     "metadata": {},
     "output_type": "execute_result"
    }
   ],
   "source": [
    "f=g.reset_index()\n",
    "f"
   ]
  },
  {
   "cell_type": "code",
   "execution_count": 266,
   "metadata": {},
   "outputs": [],
   "source": [
    "import seaborn as sns"
   ]
  },
  {
   "cell_type": "code",
   "execution_count": 330,
   "metadata": {},
   "outputs": [
    {
     "data": {
      "image/png": "[encoded data removed]",
      "text/plain": [
       "<Figure size 1440x720 with 1 Axes>"
      ]
     },
     "metadata": {},
     "output_type": "display_data"
    }
   ],
   "source": [
    "g.plot(kind='bar', stacked=True, color=[\"gold\", \"darkorange\", \"deepskyblue\", \"lightgreen\"])\n",
    "sns.set(rc={'figure.figsize':(20,10)})\n",
    "\n",
    "plt.xlabel('Months')\n",
    "plt.ylabel('Number of Service Requests')\n",
    "# plt.xticks(['Jan',\"Feb\", \"Mar\", \"Apr\", \"May\", 'Jun', \"Jul\", \"Aug\", \"Sep\", \"Oct\", \"Nov\", \"Dec\"])\n",
    "\n",
    "plt.legend(title=\"Source\", labels = [\"3-1-1 Call Center\", \"DOT\", \"DPR Public Tree Map\", \"DPR Public Website\"])\n",
    " \n",
    "plt.title('Monthly Service Requests in 2022 by Source');"
   ]
  },
  {
   "cell_type": "code",
   "execution_count": 332,
   "metadata": {},
   "outputs": [
    {
     "name": "stderr",
     "output_type": "stream",
     "text": [
      "<ipython-input-332-d7cadc6ac3be>:1: SettingWithCopyWarning: \n",
      "A value is trying to be set on a copy of a slice from a DataFrame.\n",
      "Try using .loc[row_indexer,col_indexer] = value instead\n",
      "\n",
      "See the caveats in the documentation: https://pandas.pydata.org/pandas-docs/stable/user_guide/indexing.html#returning-a-view-versus-a-copy\n",
      "  df['SRCreatedDate'] = df['SRCreatedDate'].fillna(0)\n"
     ]
    }
   ],
   "source": [
    "df['SRCreatedDate'] = df['SRCreatedDate'].fillna(0)"
   ]
  },
  {
   "cell_type": "code",
   "execution_count": 337,
   "metadata": {},
   "outputs": [
    {
     "data": {
      "text/html": [
       "<div>\n",
       "<style scoped>\n",
       "    .dataframe tbody tr th:only-of-type {\n",
       "        vertical-align: middle;\n",
       "    }\n",
       "\n",
       "    .dataframe tbody tr th {\n",
       "        vertical-align: top;\n",
       "    }\n",
       "\n",
       "    .dataframe thead tr th {\n",
       "        text-align: left;\n",
       "    }\n",
       "\n",
       "    .dataframe thead tr:last-of-type th {\n",
       "        text-align: right;\n",
       "    }\n",
       "</style>\n",
       "<table border=\"1\" class=\"dataframe\">\n",
       "  <thead>\n",
       "    <tr>\n",
       "      <th></th>\n",
       "      <th colspan=\"4\" halign=\"left\">0</th>\n",
       "    </tr>\n",
       "    <tr>\n",
       "      <th>srsource</th>\n",
       "      <th>3-1-1 Call Center</th>\n",
       "      <th>DOT</th>\n",
       "      <th>DPR -Public Tree Map</th>\n",
       "      <th>Department of Parks and Recreation - Public Web Site</th>\n",
       "    </tr>\n",
       "    <tr>\n",
       "      <th>initiated_month</th>\n",
       "      <th></th>\n",
       "      <th></th>\n",
       "      <th></th>\n",
       "      <th></th>\n",
       "    </tr>\n",
       "  </thead>\n",
       "  <tbody>\n",
       "    <tr>\n",
       "      <th>1.0</th>\n",
       "      <td>2424.0</td>\n",
       "      <td>0.0</td>\n",
       "      <td>42.0</td>\n",
       "      <td>664.0</td>\n",
       "    </tr>\n",
       "    <tr>\n",
       "      <th>2.0</th>\n",
       "      <td>2721.0</td>\n",
       "      <td>0.0</td>\n",
       "      <td>55.0</td>\n",
       "      <td>734.0</td>\n",
       "    </tr>\n",
       "    <tr>\n",
       "      <th>3.0</th>\n",
       "      <td>4537.0</td>\n",
       "      <td>26.0</td>\n",
       "      <td>50.0</td>\n",
       "      <td>1413.0</td>\n",
       "    </tr>\n",
       "    <tr>\n",
       "      <th>4.0</th>\n",
       "      <td>4892.0</td>\n",
       "      <td>234.0</td>\n",
       "      <td>103.0</td>\n",
       "      <td>1645.0</td>\n",
       "    </tr>\n",
       "    <tr>\n",
       "      <th>5.0</th>\n",
       "      <td>6948.0</td>\n",
       "      <td>0.0</td>\n",
       "      <td>103.0</td>\n",
       "      <td>2206.0</td>\n",
       "    </tr>\n",
       "    <tr>\n",
       "      <th>6.0</th>\n",
       "      <td>9278.0</td>\n",
       "      <td>0.0</td>\n",
       "      <td>129.0</td>\n",
       "      <td>2697.0</td>\n",
       "    </tr>\n",
       "    <tr>\n",
       "      <th>7.0</th>\n",
       "      <td>7877.0</td>\n",
       "      <td>0.0</td>\n",
       "      <td>198.0</td>\n",
       "      <td>2277.0</td>\n",
       "    </tr>\n",
       "    <tr>\n",
       "      <th>8.0</th>\n",
       "      <td>7948.0</td>\n",
       "      <td>0.0</td>\n",
       "      <td>187.0</td>\n",
       "      <td>1687.0</td>\n",
       "    </tr>\n",
       "    <tr>\n",
       "      <th>9.0</th>\n",
       "      <td>17.0</td>\n",
       "      <td>0.0</td>\n",
       "      <td>0.0</td>\n",
       "      <td>4.0</td>\n",
       "    </tr>\n",
       "    <tr>\n",
       "      <th>10.0</th>\n",
       "      <td>6.0</td>\n",
       "      <td>0.0</td>\n",
       "      <td>0.0</td>\n",
       "      <td>0.0</td>\n",
       "    </tr>\n",
       "    <tr>\n",
       "      <th>11.0</th>\n",
       "      <td>1.0</td>\n",
       "      <td>0.0</td>\n",
       "      <td>0.0</td>\n",
       "      <td>0.0</td>\n",
       "    </tr>\n",
       "  </tbody>\n",
       "</table>\n",
       "</div>"
      ],
      "text/plain": [
       "                                0                              \\\n",
       "srsource        3-1-1 Call Center    DOT DPR -Public Tree Map   \n",
       "initiated_month                                                 \n",
       "1.0                        2424.0    0.0                 42.0   \n",
       "2.0                        2721.0    0.0                 55.0   \n",
       "3.0                        4537.0   26.0                 50.0   \n",
       "4.0                        4892.0  234.0                103.0   \n",
       "5.0                        6948.0    0.0                103.0   \n",
       "6.0                        9278.0    0.0                129.0   \n",
       "7.0                        7877.0    0.0                198.0   \n",
       "8.0                        7948.0    0.0                187.0   \n",
       "9.0                          17.0    0.0                  0.0   \n",
       "10.0                          6.0    0.0                  0.0   \n",
       "11.0                          1.0    0.0                  0.0   \n",
       "\n",
       "                                                                      \n",
       "srsource        Department of Parks and Recreation - Public Web Site  \n",
       "initiated_month                                                       \n",
       "1.0                                                          664.0    \n",
       "2.0                                                          734.0    \n",
       "3.0                                                         1413.0    \n",
       "4.0                                                         1645.0    \n",
       "5.0                                                         2206.0    \n",
       "6.0                                                         2697.0    \n",
       "7.0                                                         2277.0    \n",
       "8.0                                                         1687.0    \n",
       "9.0                                                            4.0    \n",
       "10.0                                                           0.0    \n",
       "11.0                                                           0.0    "
      ]
     },
     "execution_count": 337,
     "metadata": {},
     "output_type": "execute_result"
    }
   ],
   "source": [
    "g"
   ]
  },
  {
   "cell_type": "code",
   "execution_count": 334,
   "metadata": {},
   "outputs": [
    {
     "data": {
      "text/plain": [
       "MultiIndex([(0,                                    '3-1-1 Call Center'),\n",
       "            (0,                                                  'DOT'),\n",
       "            (0,                                 'DPR -Public Tree Map'),\n",
       "            (0, 'Department of Parks and Recreation - Public Web Site')],\n",
       "           names=[None, 'srsource'])"
      ]
     },
     "execution_count": 334,
     "metadata": {},
     "output_type": "execute_result"
    }
   ],
   "source": [
    "g.columns"
   ]
  },
  {
   "cell_type": "code",
   "execution_count": 338,
   "metadata": {},
   "outputs": [],
   "source": [
    "# to csv\n",
    "compression_opts = dict(method='zip', archive_name='sr_by_source.csv')  \n",
    "g.to_csv('sr_by_source.zip', index=False, compression=compression_opts) "
   ]
  },
  {
   "cell_type": "code",
   "execution_count": 339,
   "metadata": {},
   "outputs": [],
   "source": [
    "# to json\n",
    "g.to_json(r'sr_by_source.json')"
   ]
  },
  {
   "cell_type": "markdown",
   "metadata": {},
   "source": [
    "## select columns and export files"
   ]
  },
  {
   "cell_type": "code",
   "execution_count": 153,
   "metadata": {},
   "outputs": [],
   "source": [
    "def export(df, title, cols):\n",
    "    geojson = df_to_geojson(df, cols, lat='latitude_SR', lon='longitude_SR')\n",
    "    with open(f'{title}-tree11.geojson', 'w') as outfile:\n",
    "        dump(geojson, outfile)"
   ]
  },
  {
   "cell_type": "code",
   "execution_count": null,
   "metadata": {},
   "outputs": [],
   "source": [
    "# 'complainttype', 'descriptor1', 'srpriority', 'inspectiontpcondition', 'inspectiontpstructure', \n",
    "# 'inspectiondate', 'InsCreatedDate', 'InsUpdatedDate',  'InsClosedDate', 'reinspectiondate', 'parentinspectionglobalid',\n",
    "map_cols = ['srcategory', 'srtype', 'srstatus', 'srresolution', 'inspection_attached', 'riskrating', 'wo_attached',\n",
    "            'wotype', 'communityboard', 'zipcode', 'latitude_SR', 'longitude_SR', 'geometry_SR']\n",
    "            \n",
    "         # 'wostatus', 'wocategory', 'woentity', 'woproject', 'wopriority',\n",
    "        # 'WOCreatedDate', 'WOUpdatedDate', 'actualfinishdate', 'WOClosedDate', 'cancelreason', 'canceldate', 'projstartdate',\n",
    "        # 'radefect', 'radefectlocation', 'failure', 'failureimpact', 'impacttarget', 'consequence', 'riskrating', \n",
    "        #'RACreatedDate',\n",
    "        #'nta', 'boroughcode', 'communityboard', 'zipcode', 'census_tract', 'latitude_SR', 'longitude_SR', 'geometry_SR']"
   ]
  },
  {
   "cell_type": "code",
   "execution_count": null,
   "metadata": {},
   "outputs": [],
   "source": [
    "# export as geojson\n",
    "export(df, \"map\", map_cols)"
   ]
  },
  {
   "cell_type": "code",
   "execution_count": 183,
   "metadata": {},
   "outputs": [],
   "source": [
    "num_cols = ['initiated_year', 'InsClosedDate', 'actualfinishdate',  'latitude_SR', 'longitude_SR']"
   ]
  },
  {
   "cell_type": "code",
   "execution_count": 186,
   "metadata": {},
   "outputs": [
    {
     "name": "stderr",
     "output_type": "stream",
     "text": [
      "<ipython-input-186-6f847525c798>:1: SettingWithCopyWarning: \n",
      "A value is trying to be set on a copy of a slice from a DataFrame.\n",
      "Try using .loc[row_indexer,col_indexer] = value instead\n",
      "\n",
      "See the caveats in the documentation: https://pandas.pydata.org/pandas-docs/stable/user_guide/indexing.html#returning-a-view-versus-a-copy\n",
      "  df['initiated_year'] = df['initiated_year'].fillna(0)\n",
      "<ipython-input-186-6f847525c798>:2: SettingWithCopyWarning: \n",
      "A value is trying to be set on a copy of a slice from a DataFrame.\n",
      "Try using .loc[row_indexer,col_indexer] = value instead\n",
      "\n",
      "See the caveats in the documentation: https://pandas.pydata.org/pandas-docs/stable/user_guide/indexing.html#returning-a-view-versus-a-copy\n",
      "  df['InsClosedDate'] = df['initiated_year'].fillna(0)\n",
      "<ipython-input-186-6f847525c798>:3: SettingWithCopyWarning: \n",
      "A value is trying to be set on a copy of a slice from a DataFrame.\n",
      "Try using .loc[row_indexer,col_indexer] = value instead\n",
      "\n",
      "See the caveats in the documentation: https://pandas.pydata.org/pandas-docs/stable/user_guide/indexing.html#returning-a-view-versus-a-copy\n",
      "  df['actualfinishdate'] = df['initiated_year'].fillna(0)\n"
     ]
    }
   ],
   "source": [
    "df['initiated_year'] = df['initiated_year'].fillna(0)\n",
    "df['InsClosedDate'] = df['initiated_year'].fillna(0)\n",
    "df['actualfinishdate'] = df['initiated_year'].fillna(0)"
   ]
  },
  {
   "cell_type": "code",
   "execution_count": 187,
   "metadata": {},
   "outputs": [],
   "source": [
    "# export as geojson\n",
    "export(df, \"num\", num_cols)"
   ]
  },
  {
   "cell_type": "code",
   "execution_count": null,
   "metadata": {},
   "outputs": [],
   "source": [
    "# export to csv to play with in other notebooks\n",
    "compression_opts = dict(method='zip', archive_name='tree11.csv')  \n",
    "df.to_csv('tree11.zip', index=False, compression=compression_opts) "
   ]
  },
  {
   "cell_type": "markdown",
   "metadata": {},
   "source": [
    "# misc"
   ]
  },
  {
   "cell_type": "code",
   "execution_count": 401,
   "metadata": {},
   "outputs": [
    {
     "data": {
      "text/plain": [
       "Index(['objectid_SR', 'srcategory', 'srtype', 'srpriority', 'srsource',\n",
       "       'srstatus', 'srresolution', 'boroughcode', 'communityboard', 'zipcode',\n",
       "       'citycouncil', 'statesenate', 'stateassembly', 'congressional',\n",
       "       'servicerequestparentglobalid', 'SRGlobalID', 'initiateddate',\n",
       "       'SRClosedDate', 'SRCreatedDate', 'SRUpdatedDate', 'descriptor1',\n",
       "       'complainttype', 'latitude_SR', 'longitude_SR', 'census_tract', 'bin',\n",
       "       'bbl', 'nta', 'complaintdetails', 'parkname', 'parkzone', 'GLOBAL_ID',\n",
       "       'geometry_SR', 'STATEFP', 'COUNTYFP', 'TRACTCE', 'AFFGEOID', 'GEOID',\n",
       "       'NAME', 'LSAD', 'objectid_I', 'inspectiontype', 'inspectiontpcondition',\n",
       "       'inspectiontpstructure', 'treepointdbh', 'treepointglobalid',\n",
       "       'plantingspaceglobalid', 'InsGlobalID', 'inspectiondate',\n",
       "       'InsClosedDate', 'InsCreatedDate', 'InsUpdatedDate',\n",
       "       'parentinspectionglobalid', 'reinspectiondate', 'objectid', 'wotype',\n",
       "       'wostatus', 'wocategory', 'zipcode_WO', 'WOGlobalID', 'WOCreatedDate',\n",
       "       'WOUpdatedDate', 'woentity', 'woproject', 'recommendedspecies',\n",
       "       'wopriority', 'actualfinishdate', 'WOClosedDate', 'cancelreason',\n",
       "       'canceldate', 'sidewalkdamage', 'projstartdate', 'objectid_RA',\n",
       "       'radefect', 'radefectlocation', 'failure', 'impacttarget',\n",
       "       'consequence', 'riskrating', 'RAGlobalID', 'RACreatedDate',\n",
       "       'failureimpact', 'workorderglobalid', 'inspection_attached',\n",
       "       'wo_attached', 'initiated_year', 'initiated_month', 'wotype_parent'],\n",
       "      dtype='object')"
      ]
     },
     "execution_count": 401,
     "metadata": {},
     "output_type": "execute_result"
    }
   ],
   "source": [
    "df.columns"
   ]
  },
  {
   "cell_type": "code",
   "execution_count": 400,
   "metadata": {},
   "outputs": [
    {
     "data": {
      "text/plain": [
       "array(['Closed', 'Open'], dtype=object)"
      ]
     },
     "execution_count": 400,
     "metadata": {},
     "output_type": "execute_result"
    }
   ],
   "source": [
    "df.srstatus.unique()"
   ]
  },
  {
   "cell_type": "code",
   "execution_count": 402,
   "metadata": {},
   "outputs": [
    {
     "data": {
      "text/plain": [
       "array(['Inspected - Condition Not Found', 'Inspected - No Work Order',\n",
       "       'Work Completed', 'No Action - Jurisdiction',\n",
       "       'Reviewed - Block Pruning', 'T/S Inspected - Ineligible',\n",
       "       'Reviewed - Inspection Assigned', 'N/A',\n",
       "       'Planting Declined - Unplantable', 'No Action - Insufficient Info',\n",
       "       'Work Priority Category - C', 'T/S Inspected - Repair Pending',\n",
       "       'Inspected - Location Not Found', 'Conflicting Jurisdiction',\n",
       "       'Work Priority Category - B', 'Storm Debris Removal Pending',\n",
       "       'Work Priority Category - D',\n",
       "       'SW Consultation Pending - Owner To Schedule',\n",
       "       'T/S No Action - Ineligible',\n",
       "       'Inspected - Tentatively Approved for Planting',\n",
       "       'Work Order Created', 'T/S Inspected - No Repair', 'Refer to NYPD',\n",
       "       'Refer to FDNY', 'Inspected - Utility Wk Reqd', 'Refer to NYCHA',\n",
       "       'Refer to DOT', 'Refer to DEP', 'SW Consultation Provided',\n",
       "       'Refer to DOB', 'Planting Declined - Temp', 'Refer to MTA',\n",
       "       'Work Priority Category - A', 'T/S Inspected - Site Waitlisted',\n",
       "       'Refer to DDC', 'Refer to DOHMH', 'Refer to DCAS', 'Refer to EDC',\n",
       "       'Inspected - Utility Work Assigned',\n",
       "       'Work Order Created - Work Priority Category B'], dtype=object)"
      ]
     },
     "execution_count": 402,
     "metadata": {},
     "output_type": "execute_result"
    }
   ],
   "source": [
    "df.srresolution.unique()"
   ]
  },
  {
   "cell_type": "code",
   "execution_count": null,
   "metadata": {},
   "outputs": [],
   "source": []
  }
 ],
 "metadata": {
  "colab": {
   "collapsed_sections": [],
   "provenance": []
  },
  "kernelspec": {
   "display_name": "Python 3",
   "language": "python",
   "name": "python3"
  },
  "language_info": {
   "codemirror_mode": {
    "name": "ipython",
    "version": 3
   },
   "file_extension": ".py",
   "mimetype": "text/x-python",
   "name": "python",
   "nbconvert_exporter": "python",
   "pygments_lexer": "ipython3",
   "version": "3.8.5"
  },
  "vscode": {
   "interpreter": {
    "hash": "dc4567cdde2f26222a4d257fd7c12c74a291fc7c311992e7754b95982bd63dc3"
   }
  }
 },
 "nbformat": 4,
 "nbformat_minor": 4
}
